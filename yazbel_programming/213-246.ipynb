{
 "cells": [
  {
   "cell_type": "code",
   "execution_count": 1,
   "id": "93eeaa11",
   "metadata": {},
   "outputs": [
    {
     "name": "stdout",
     "output_type": "stream",
     "text": [
      "2\n",
      "3\n",
      "4\n",
      "5\n",
      "6\n",
      "7\n",
      "8\n",
      "9\n",
      "10\n"
     ]
    }
   ],
   "source": [
    "b = 1 \n",
    "\n",
    "\n",
    "while b < 10: \n",
    "    b += 1\n",
    "    print(b)"
   ]
  },
  {
   "cell_type": "code",
   "execution_count": 2,
   "id": "146109e8",
   "metadata": {},
   "outputs": [
    {
     "name": "stdout",
     "output_type": "stream",
     "text": [
      "1\n",
      "2\n",
      "3\n",
      "4\n",
      "5\n",
      "6\n",
      "7\n",
      "8\n",
      "9\n"
     ]
    }
   ],
   "source": [
    "b = 1 \n",
    "\n",
    "\n",
    "while b < 10:\n",
    "    print(b)\n",
    "    b += 1\n",
    "\n",
    "\n",
    "#arada bir fark var babacımm "
   ]
  },
  {
   "cell_type": "code",
   "execution_count": 4,
   "id": "0b8ae9a5",
   "metadata": {},
   "outputs": [],
   "source": [
    "giriş = \"\"\"\n",
    "(1) topla\n",
    "(2) çıkar\n",
    "(3) çarp\n",
    "(4) böl\n",
    "(5) karesini hesapla\n",
    "(6) karekök hesapla \n",
    "\"\"\"\n"
   ]
  },
  {
   "cell_type": "code",
   "execution_count": 6,
   "id": "75adb76d",
   "metadata": {},
   "outputs": [
    {
     "name": "stdout",
     "output_type": "stream",
     "text": [
      "\n",
      "(1) topla\n",
      "(2) çıkar\n",
      "(3) çarp\n",
      "(4) böl\n",
      "(5) karesini hesapla\n",
      "(6) karekök hesapla \n",
      "\n",
      "yapmak istediğiniz işlemin numarası nedir, çıkmak için q3\n",
      "yanlış değer seçimi, lütfen tekrar deneyiniz.\n",
      "yapmak istediğiniz işlemin numarası nedir, çıkmak için q3\n",
      "yanlış değer seçimi, lütfen tekrar deneyiniz.\n",
      "yapmak istediğiniz işlemin numarası nedir, çıkmak için q4\n",
      "yanlış değer seçimi, lütfen tekrar deneyiniz.\n",
      "yapmak istediğiniz işlemin numarası nedir, çıkmak için q5\n",
      "yanlış değer seçimi, lütfen tekrar deneyiniz.\n",
      "yapmak istediğiniz işlemin numarası nedir, çıkmak için q1\n",
      "lütfen birinci değeri girin.1\n",
      "lütfen ikinci değeri girin.2\n",
      "1 + 2 = 3\n",
      "yapmak istediğiniz işlemin numarası nedir, çıkmak için qq\n",
      "çıkılıyor..\n"
     ]
    }
   ],
   "source": [
    "print(giriş)\n",
    "\n",
    "anahtar = 1 \n",
    "\n",
    "while anahtar == 1:\n",
    "    \n",
    "    soru = input(\"yapmak istediğiniz işlemin numarası nedir, çıkmak için q\") \n",
    "    \n",
    "    if soru == \"q\":\n",
    "        \n",
    "        print(\"çıkılıyor..\")\n",
    "        \n",
    "        anahtar = 0    \n",
    "    \n",
    "    elif soru == \"1\":\n",
    "        \n",
    "        sayı1 = int(input(\"lütfen birinci değeri girin.\"))\n",
    "        sayı2 = int(input(\"lütfen ikinci değeri girin.\"))\n",
    "        \n",
    "        print(sayı1, \"+\", sayı2, \"=\", sayı1 + sayı2 )\n",
    "    \n",
    "    \n",
    "    elif soru == \"2\":\n",
    "        \n",
    "        sayı3 = int(input(\"lütfen birinci değeri girin.\"))\n",
    "        sayı4 = int(input(\"lütfen birinci değeri girin.\"))\n",
    "        \n",
    "        print(sayı3, \"-\", sayı4, \"=\", sayı3 - sayı4 )\n",
    "        \n",
    "    else:\n",
    "        print(\"yanlış değer seçimi, lütfen tekrar deneyiniz.\")\n",
    "\n"
   ]
  },
  {
   "cell_type": "code",
   "execution_count": null,
   "id": "0e3e3ae5",
   "metadata": {},
   "outputs": [],
   "source": [
    "print(giriş)\n",
    "\n",
    "while True:\n",
    "    \n",
    "    soru = input(\"yapmak istediğiniz işlemin numarası nedir, çıkmak için q\") \n",
    "    \n",
    "    if soru == \"q\":\n",
    "        \n",
    "        print(\"çıkılıyor..\")\n",
    "        break    \n",
    "    \n",
    "\n",
    "    elif soru == \"1\":\n",
    "        \n",
    "        sayı1 = int(input(\"lütfen birinci değeri girin.\"))\n",
    "        sayı2 = int(input(\"lütfen ikinci değeri girin.\"))\n",
    "        \n",
    "        print(sayı1, \"+\", sayı2, \"=\", sayı1 + sayı2 )\n",
    "    \n",
    "    \n",
    "    elif soru == \"2\":\n",
    "        \n",
    "        sayı3 = int(input(\"lütfen birinci değeri girin.\"))\n",
    "        sayı4 = int(input(\"lütfen birinci değeri girin.\"))\n",
    "        \n",
    "        print(sayı3, \"-\", sayı4, \"=\", sayı3 - sayı4 )\n",
    "        \n",
    "    else:\n",
    "        print(\"yanlış değer seçimi, lütfen tekrar deneyiniz.\")\n",
    "\n"
   ]
  },
  {
   "cell_type": "markdown",
   "id": "3a53a4a8",
   "metadata": {},
   "source": [
    "True   =   Aksi belirtilmediği sürece çalışmaya devam et\n",
    "\n",
    "break     =     Dikkat ederseniz burada break adlı yeni bir araç görüyoruz. Bu aracın tam olarak ne işe\n",
    "yaradığını ilerleyen sayfalarda inceleyeceğiz. Şimdilik yalnızca şunu bilelim: break kelimesi\n",
    "İngilizce’de ‘kırmak, koparmak, bozmak’ gibi anlamlara gelir. Bu aracın yukarıdaki görevi\n",
    "döngüyü ‘kırmak’tır. Dolayısıyla kullanıcı klavyede q tuşuna bastığında, while True ifadesi ile\n",
    "çalışmaya başlayan döngü kırılacak ve programımız sona erecektir."
   ]
  },
  {
   "cell_type": "code",
   "execution_count": 7,
   "id": "98a9b496",
   "metadata": {},
   "outputs": [
    {
     "name": "stdout",
     "output_type": "stream",
     "text": [
      "Nasılsınız, iyi misiniz?a\n",
      "Nasılsınız, iyi misiniz?e\n",
      "Nasılsınız, iyi misiniz?d\n",
      "Nasılsınız, iyi misiniz?c\n",
      "Nasılsınız, iyi misiniz?v\n",
      "Nasılsınız, iyi misiniz?f\n",
      "Nasılsınız, iyi misiniz?g\n",
      "Nasılsınız, iyi misiniz?h\n",
      "Nasılsınız, iyi misiniz?j\n",
      "Nasılsınız, iyi misiniz?k\n",
      "Nasılsınız, iyi misiniz?u\n",
      "Nasılsınız, iyi misiniz?t\n",
      "Nasılsınız, iyi misiniz?g\n",
      "Nasılsınız, iyi misiniz?f\n",
      "Nasılsınız, iyi misiniz?fd\n",
      "Nasılsınız, iyi misiniz?q\n"
     ]
    }
   ],
   "source": [
    "while True:\n",
    "    soru = input(\"Nasılsınız, iyi misiniz?\")\n",
    "    \n",
    "    if soru == \"q\":\n",
    "        break"
   ]
  },
  {
   "cell_type": "code",
   "execution_count": 8,
   "id": "099a5a5e",
   "metadata": {},
   "outputs": [
    {
     "name": "stdout",
     "output_type": "stream",
     "text": [
      "nasılsınız iyi misiniz 1 . sayı\n",
      "nasılsınız iyi misiniz 2 . sayı\n",
      "nasılsınız iyi misiniz 3 . sayı\n",
      "nasılsınız iyi misiniz 4 . sayı\n"
     ]
    }
   ],
   "source": [
    "sayı = 1 \n",
    "\n",
    "\n",
    "\n",
    "while sayı <= 4:\n",
    "    \n",
    "    print(\"nasılsınız iyi misiniz\", sayı,\". sayı\")\n",
    "    sayı += 1\n",
    "    \n",
    "    \n",
    "    \n",
    "    "
   ]
  },
  {
   "cell_type": "code",
   "execution_count": 9,
   "id": "37331367",
   "metadata": {},
   "outputs": [
    {
     "name": "stdout",
     "output_type": "stream",
     "text": [
      "nasılsınız iyi misiniz 2 . sayı\n",
      "nasılsınız iyi misiniz 3 . sayı\n",
      "nasılsınız iyi misiniz 4 . sayı\n",
      "nasılsınız iyi misiniz 5 . sayı\n"
     ]
    }
   ],
   "source": [
    "sayı = 1 \n",
    "\n",
    "\n",
    "\n",
    "while sayı <= 4:\n",
    "    sayı += 1\n",
    "    print(\"nasılsınız iyi misiniz\", sayı,\". sayı\")\n",
    "    \n",
    "    \n",
    "    \n",
    "    \n",
    "    "
   ]
  },
  {
   "cell_type": "code",
   "execution_count": 12,
   "id": "9a94e116",
   "metadata": {},
   "outputs": [
    {
     "name": "stdout",
     "output_type": "stream",
     "text": [
      "tekrar:  1\n",
      "Nasılsınız, iyi misiniz?1\n",
      "bool değeri:  True\n",
      "tekrar:  2\n",
      "Nasılsınız, iyi misiniz?2\n",
      "bool değeri:  True\n",
      "tekrar:  3\n",
      "Nasılsınız, iyi misiniz?3\n",
      "bool değeri:  False\n"
     ]
    }
   ],
   "source": [
    "tekrar = 1\n",
    "while tekrar <= 3:\n",
    "    print(\"tekrar: \", tekrar)\n",
    "    tekrar += 1\n",
    "    input(\"Nasılsınız, iyi misiniz?\")\n",
    "    print(\"bool değeri: \", bool(tekrar <= 3))\n",
    "\n",
    "\n",
    "    \n",
    "\n",
    "# buradaki en önemli şey, while döngüsü dönüyor evet, ama sırayla dönüyor. bunu unutma"
   ]
  },
  {
   "cell_type": "code",
   "execution_count": 13,
   "id": "21b2c922",
   "metadata": {},
   "outputs": [
    {
     "name": "stdout",
     "output_type": "stream",
     "text": [
      "0\n",
      "2\n",
      "4\n",
      "6\n",
      "8\n",
      "10\n",
      "12\n",
      "14\n",
      "16\n",
      "18\n",
      "20\n",
      "22\n",
      "24\n",
      "26\n",
      "28\n",
      "30\n",
      "32\n",
      "34\n",
      "36\n",
      "38\n",
      "40\n",
      "42\n",
      "44\n",
      "46\n",
      "48\n",
      "50\n",
      "52\n",
      "54\n",
      "56\n",
      "58\n",
      "60\n",
      "62\n",
      "64\n",
      "66\n",
      "68\n",
      "70\n",
      "72\n",
      "74\n",
      "76\n",
      "78\n",
      "80\n",
      "82\n",
      "84\n",
      "86\n",
      "88\n",
      "90\n",
      "92\n",
      "94\n",
      "96\n",
      "98\n",
      "100\n"
     ]
    }
   ],
   "source": [
    "a = 0 \n",
    "\n",
    "while a <= 100:\n",
    "    \n",
    "    if a % 2 == 0:\n",
    "        print(a)\n",
    "        a += 1 \n",
    "    else:\n",
    "        a += 1 \n",
    "    "
   ]
  },
  {
   "cell_type": "markdown",
   "id": "be4e5a63",
   "metadata": {},
   "source": [
    "for döngüsü \n",
    "\n",
    "\n",
    "for değişken_adı in değişken:\n",
    "    yapılacak_işlem(burda gördüğümüz print)\n",
    "\n",
    "\n",
    "\n",
    "\n",
    "değişken içindeki her bir öğeyi değişken_adı olarak adlandır:\n",
    "ve bu öğelerle bir işlem yap."
   ]
  },
  {
   "cell_type": "code",
   "execution_count": 15,
   "id": "ff3de839",
   "metadata": {},
   "outputs": [
    {
     "name": "stdout",
     "output_type": "stream",
     "text": [
      "ş\n",
      "ç\n",
      "ö\n",
      "ğ\n",
      "ü\n",
      "İ\n",
      "ı\n"
     ]
    }
   ],
   "source": [
    "tr_harfler = \"şçöğüİı\"\n",
    "for harf in tr_harfler:\n",
    "    print(harf)                 # tr_harfler in içindeki her bir öğeye sen harf de, ve onları tek tek sıralayarak printle "
   ]
  },
  {
   "cell_type": "markdown",
   "id": "6b1fb8c8",
   "metadata": {},
   "source": [
    "Bu arada, biraz önce ‘üzerinde döngü kurulabilecek veri tipleri’ diye bir kavramdan söz ettik.\n",
    "Örneğin karakter dizileri, üzerinde döngü kurulabilecek bir veri tipidir. Ama sayılar öyle\n",
    "değildir. Yani sayılar üzerinde döngü kuramayız. Mesela:\n"
   ]
  },
  {
   "cell_type": "code",
   "execution_count": 16,
   "id": "df5c9234",
   "metadata": {},
   "outputs": [
    {
     "ename": "TypeError",
     "evalue": "'int' object is not iterable",
     "output_type": "error",
     "traceback": [
      "\u001b[1;31m---------------------------------------------------------------------------\u001b[0m",
      "\u001b[1;31mTypeError\u001b[0m                                 Traceback (most recent call last)",
      "\u001b[1;32m<ipython-input-16-c75d1124c35b>\u001b[0m in \u001b[0;36m<module>\u001b[1;34m\u001b[0m\n\u001b[0;32m      1\u001b[0m \u001b[0msayılar\u001b[0m \u001b[1;33m=\u001b[0m \u001b[1;36m123456789\u001b[0m\u001b[1;33m\u001b[0m\u001b[1;33m\u001b[0m\u001b[0m\n\u001b[0;32m      2\u001b[0m \u001b[1;33m\u001b[0m\u001b[0m\n\u001b[1;32m----> 3\u001b[1;33m \u001b[1;32mfor\u001b[0m \u001b[0msayı\u001b[0m \u001b[1;32min\u001b[0m \u001b[0msayılar\u001b[0m\u001b[1;33m:\u001b[0m\u001b[1;33m\u001b[0m\u001b[1;33m\u001b[0m\u001b[0m\n\u001b[0m\u001b[0;32m      4\u001b[0m     \u001b[0mprint\u001b[0m\u001b[1;33m(\u001b[0m\u001b[0msayı\u001b[0m\u001b[1;33m)\u001b[0m\u001b[1;33m\u001b[0m\u001b[1;33m\u001b[0m\u001b[0m\n",
      "\u001b[1;31mTypeError\u001b[0m: 'int' object is not iterable"
     ]
    }
   ],
   "source": [
    "sayılar = 123456789\n",
    "\n",
    "for sayı in sayılar:\n",
    "    print(sayı)\n",
    "    \n",
    "    \n",
    "    # not iterable: üzerinde döngü kurulamaz \n",
    "    \n"
   ]
  },
  {
   "cell_type": "code",
   "execution_count": 17,
   "id": "2621aca8",
   "metadata": {},
   "outputs": [
    {
     "name": "stdout",
     "output_type": "stream",
     "text": [
      "2\n",
      "4\n",
      "6\n",
      "8\n",
      "10\n",
      "12\n",
      "14\n",
      "16\n",
      "18\n"
     ]
    }
   ],
   "source": [
    "sayılar = \"123456789\"\n",
    "\n",
    "\n",
    "for sayı in sayılar:\n",
    "    print(int(sayı) * 2 )\n",
    "\n",
    "#for için sayı değil karakter dizisi kullanmamız gerektiğinin bir kanıtı\n"
   ]
  },
  {
   "cell_type": "code",
   "execution_count": 19,
   "id": "b8973266",
   "metadata": {},
   "outputs": [
    {
     "name": "stdout",
     "output_type": "stream",
     "text": [
      "4\n",
      "5\n",
      "6\n",
      "7\n",
      "8\n",
      "9\n"
     ]
    }
   ],
   "source": [
    "sayılar = \"123456789\"\n",
    "\n",
    "for i in sayılar:\n",
    "    if int(i) > 3:\n",
    "        print(i)\n",
    "        "
   ]
  },
  {
   "cell_type": "code",
   "execution_count": 23,
   "id": "343cbfb7",
   "metadata": {},
   "outputs": [
    {
     "name": "stdout",
     "output_type": "stream",
     "text": [
      "parola giriniz:aa\n",
      "teşekkür ederiz\n",
      "teşekkür ederiz\n"
     ]
    }
   ],
   "source": [
    "tr_harfler = \"şçöğüİı\"\n",
    "\n",
    "parola = input(\"parola giriniz:\")\n",
    "\n",
    "for karakter in parola:\n",
    "    \n",
    "    if karakter in tr_harfler:\n",
    "        print(\"parolada türkçe harf olamaz\")\n",
    "    \n",
    "        #parola değişkeni içinde karakter adını verdiğimiz her bir öğe için:\n",
    "        #eğer karakter değişkeni tr_harfler adlı değişken içinde geçiyorsa:\n",
    "    \n",
    "    else:\n",
    "        print(\"teşekkür ederiz\")\n",
    "        "
   ]
  },
  {
   "cell_type": "markdown",
   "id": "6a469f62",
   "metadata": {},
   "source": [
    "Örneğin kullanıcıya bir parola belirletirken, belirlenecek parolanın 8 karakterden uzun, 3\n",
    "karakterden kısa olmamasını sağlayalım:"
   ]
  },
  {
   "cell_type": "code",
   "execution_count": 27,
   "id": "2405f0fd",
   "metadata": {},
   "outputs": [
    {
     "name": "stdout",
     "output_type": "stream",
     "text": [
      "parola girin:\n",
      "parolamız 3 karakterden kısa olamaz.\n",
      "parola girin:1234\n",
      "teşekkür ederiz\n"
     ]
    }
   ],
   "source": [
    "while True:\n",
    "    \n",
    "    parola = input(\"parola girin:\")\n",
    "    \n",
    "    if len(parola) > 8:\n",
    "        print(\"parolamız 8 karakterden uzun olamaz.\")\n",
    "        \n",
    "    elif len(parola) < 3:\n",
    "        \n",
    "        print(\"parolamız 3 karakterden kısa olamaz.\")\n",
    "    \n",
    "    elif not parola:\n",
    "        print(\"boş parola olmaz\")\n",
    "        \n",
    "        \n",
    "    else: \n",
    "        print(\"teşekkür ederiz\")\n",
    "        break\n",
    "        \n",
    "        \n",
    "    # not parola kısmını elife koyarsam, 3 karakter aşağısı olduğunda başka şekilde karşılık verecek \n"
   ]
  },
  {
   "cell_type": "code",
   "execution_count": 29,
   "id": "0d18c422",
   "metadata": {},
   "outputs": [
    {
     "name": "stdout",
     "output_type": "stream",
     "text": [
      "parola girin:12344567890\n",
      "parolamız 8 karakterden uzun olamaz.\n",
      "parola girin:1234\n",
      "teşekkür ederiz\n"
     ]
    }
   ],
   "source": [
    "while True:\n",
    "    \n",
    "    parola = input(\"parola girin:\")\n",
    "    \n",
    "    \n",
    "    if not parola:\n",
    "        print(\"boş parola olmaz\")\n",
    "        \n",
    "        \n",
    "    elif len(parola) > 8:\n",
    "        print(\"parolamız 8 karakterden uzun olamaz.\")\n",
    "      \n",
    "    \n",
    "    elif len(parola) < 3:\n",
    "        \n",
    "        print(\"parolamız 3 karakterden kısa olamaz.\")\n",
    "    \n",
    "\n",
    "    else: \n",
    "        print(\"teşekkür ederiz\")\n",
    "        break\n",
    "        "
   ]
  },
  {
   "cell_type": "markdown",
   "id": "afd62671",
   "metadata": {},
   "source": [
    "Bu programdaki eksiklikleri ve riskleri biliyorsunuz. Böyle bir program yazdığınızda, eval()\n",
    "fonksiyonunu kontrolsüz bir şekilde kullandığınız için önemli bir güvenlik açığına sebep olmuş\n",
    "oluyorsunuz. Gelin isterseniz bu derste öğrendiğimiz bilgileri de kullanarak yukarıdaki eval()\n",
    "fonksiyonu için basit bir kontrol mekanizması kuralım:"
   ]
  },
  {
   "cell_type": "markdown",
   "id": "4474767f",
   "metadata": {},
   "source": [
    "izinli_karakterler = \"0123456789+-/*= \"\n",
    "\n",
    "print(\"\"\"\n",
    "Basit bir hesap makinesi uygulaması.\n",
    "İşleçler:\n",
    "+ toplama\n",
    "- çıkarma\n",
    "* çarpma\n",
    "/ bölme\n",
    "Yapmak istediğiniz işlemi yazıp ENTER\n",
    "tuşuna basın. (Örneğin 23 ve 46 sayılarını\n",
    "çarpmak için 23 * 46 yazdıktan sonra\n",
    "ENTER tuşuna basın.)\n",
    "\"\"\")\n",
    "\n",
    "\n",
    "while True: \n",
    "    yapılan_işlem = input(\"lütfen yapmak istediğiniz işlemi yapın, q çıkıştır. \")\n",
    "    \n",
    "    if yapılan_işlem == \"q\":\n",
    "        print(\"çıkışşş...\")\n",
    "        break\n",
    "        \n",
    "    for karakter in yapılan_işlem:\n",
    "        \n",
    "        if karakter in izinli_karakterler:\n",
    "            print(eval(yapılan_işlem))\n",
    "            \n",
    "        else:\n",
    "            \n",
    "            print(\"belirlediğimiz sınırın dışına çıkamazsınız.\")      \n",
    "            quit()"
   ]
  },
  {
   "cell_type": "code",
   "execution_count": 1,
   "id": "0cb88062",
   "metadata": {},
   "outputs": [
    {
     "name": "stdout",
     "output_type": "stream",
     "text": [
      "İşleminiz: 1+1\n",
      "2\n",
      "İşleminiz: q\n",
      "çıkılıyor...\n"
     ]
    }
   ],
   "source": [
    "izinli_karakterler = \"0123456789+-/*= \"\n",
    "\n",
    "while True:\n",
    "    veri = input(\"İşleminiz: \")\n",
    "    \n",
    "    \n",
    "    if veri == \"q\":\n",
    "        print(\"çıkılıyor...\")\n",
    "        break\n",
    "    for s in veri:\n",
    "        if s not in izinli_karakterler:\n",
    "            print(\"Neyin peşindesin?!\")\n",
    "            quit()\n",
    "    hesap = eval(veri)\n",
    "    print(hesap)\n"
   ]
  },
  {
   "cell_type": "markdown",
   "id": "9abcf571",
   "metadata": {},
   "source": [
    "# range() fonksiyonu "
   ]
  },
  {
   "cell_type": "code",
   "execution_count": 4,
   "id": "b8cb9515",
   "metadata": {},
   "outputs": [
    {
     "name": "stdout",
     "output_type": "stream",
     "text": [
      "0\n",
      "1\n",
      "2\n",
      "3\n",
      "4\n",
      "5\n",
      "6\n",
      "7\n",
      "8\n",
      "9\n"
     ]
    }
   ],
   "source": [
    "for i in range(0,10):\n",
    "    print(i)   #10 u yazdırmadı !\n",
    "    "
   ]
  },
  {
   "cell_type": "code",
   "execution_count": 6,
   "id": "604b7dcc",
   "metadata": {},
   "outputs": [
    {
     "name": "stdout",
     "output_type": "stream",
     "text": [
      "0\n",
      "1\n",
      "2\n",
      "3\n",
      "4\n",
      "5\n",
      "6\n",
      "7\n",
      "8\n",
      "9\n"
     ]
    }
   ],
   "source": [
    "for i in range(10):\n",
    "    print(i)  #first parametre 0 ise "
   ]
  },
  {
   "cell_type": "code",
   "execution_count": 9,
   "id": "ffaf4461",
   "metadata": {},
   "outputs": [
    {
     "name": "stdout",
     "output_type": "stream",
     "text": [
      "3\n",
      "4\n",
      "5\n",
      "6\n",
      "7\n",
      "8\n",
      "9\n",
      "10\n",
      "11\n",
      "12\n",
      "13\n",
      "14\n",
      "15\n",
      "16\n",
      "17\n",
      "18\n",
      "19\n"
     ]
    }
   ],
   "source": [
    "for i in range(3, 20):\n",
    "        print(i)\n"
   ]
  },
  {
   "cell_type": "markdown",
   "id": "3d5057a1",
   "metadata": {},
   "source": [
    "Hatırlarsanız, biraz önce, kullanıcının 3 karakterden kısa, 8 karakterden uzun parola\n",
    "belirlemesini engelleyen bir uygulama yazmıştık. O uygulamayı range() fonksiyonunu\n",
    "kullanarak da yazabiliriz"
   ]
  },
  {
   "cell_type": "code",
   "execution_count": 13,
   "id": "435d61b7",
   "metadata": {},
   "outputs": [
    {
     "name": "stdout",
     "output_type": "stream",
     "text": [
      "parolanı gir canım:12345678\n",
      "parolanın uzunluğu en az 3 en çok 7 olmalıdır. \n",
      "parolanı gir canım:1234567\n",
      "yeni parolan ho. \n"
     ]
    }
   ],
   "source": [
    "while True: \n",
    "    \n",
    "    parola = input(\"parolanı gir canım:\")\n",
    "    \n",
    "    if not parola: \n",
    "        \n",
    "        print(\"parola sıfır karakterden oluşamaz.\")\n",
    "        \n",
    "    elif len(parola) in range(3,8): # len(parola == 3-4-5-6-7) aslında   # şuradaki range 3 den 7 ye kadarki olan kısım \n",
    "        \n",
    "        print(\"yeni parolan ho. \")\n",
    "        break \n",
    "        \n",
    "    \n",
    "    else:\n",
    "        print(\"parolanın uzunluğu en az 3 en çok 7 olmalıdır. \")\n",
    "    \n",
    "    \n",
    "    \n",
    "    "
   ]
  },
  {
   "cell_type": "code",
   "execution_count": 24,
   "id": "08cf3799",
   "metadata": {},
   "outputs": [
    {
     "name": "stdout",
     "output_type": "stream",
     "text": [
      "parola belirleyin:123\n",
      "parolan ho.\n",
      "parola belirleyin:123\n",
      "parolan ho.\n",
      "parola belirleyin:123\n",
      "parolan ho.\n"
     ]
    }
   ],
   "source": [
    "for i in range(3):\n",
    "    \n",
    "    parola = input(\"parola belirleyin:\")\n",
    "    if not parola:\n",
    "        \n",
    "        print(\"sıfır karakterli parola mı olur.\")\n",
    "    \n",
    "    elif len(parola) in range(3 , 8):\n",
    "        \n",
    "        print(\"parolan ho.\")\n",
    "        #break                                       # break ı kaldırınca üç kere şifre belirlemiş olduk :) döngüden dolayı \n",
    "        \n",
    "    elif i == 2:\n",
    "        \n",
    "        print(\"3 kez yanlış girdiniz. Bloke oldunuz.\")    \n",
    "        \n",
    "    else: \n",
    "        \n",
    "        print(\"parola 8 karakterden uzun 3 karakterden kısa olmamalı.\")\n",
    "    \n",
    "        "
   ]
  },
  {
   "cell_type": "markdown",
   "id": "cc6c1323",
   "metadata": {},
   "source": [
    "# range(ilk_sayı, son_sayı, atlama_değeri)"
   ]
  },
  {
   "cell_type": "code",
   "execution_count": 27,
   "id": "aeb7c954",
   "metadata": {},
   "outputs": [
    {
     "name": "stdout",
     "output_type": "stream",
     "text": [
      "0\n",
      "4\n",
      "8\n",
      "12\n",
      "16\n"
     ]
    }
   ],
   "source": [
    "for i in range(0,20,4):\n",
    "    print(i)\n",
    "    "
   ]
  },
  {
   "cell_type": "code",
   "execution_count": 28,
   "id": "504dca52",
   "metadata": {},
   "outputs": [
    {
     "name": "stdout",
     "output_type": "stream",
     "text": [
      "10\n",
      "9\n",
      "8\n",
      "7\n",
      "6\n",
      "5\n",
      "4\n",
      "3\n"
     ]
    }
   ],
   "source": [
    "for a in range(10,2,-1):\n",
    "    \n",
    "    print(a)"
   ]
  },
  {
   "cell_type": "code",
   "execution_count": 32,
   "id": "a9b1df6b",
   "metadata": {},
   "outputs": [
    {
     "name": "stdout",
     "output_type": "stream",
     "text": [
      "30\n",
      "23\n",
      "16\n",
      "9\n",
      "2\n",
      "-5\n"
     ]
    }
   ],
   "source": [
    "for i in range(30,-8,-7):\n",
    "    \n",
    "    print(i)"
   ]
  },
  {
   "cell_type": "code",
   "execution_count": 33,
   "id": "353d6c5c",
   "metadata": {},
   "outputs": [
    {
     "data": {
      "text/plain": [
       "range(3, 10)"
      ]
     },
     "execution_count": 33,
     "metadata": {},
     "output_type": "execute_result"
    }
   ],
   "source": [
    "range(3,10) # for döngüsünün ne etkisinin olduğunun tam bir göstergesi "
   ]
  },
  {
   "cell_type": "code",
   "execution_count": 38,
   "id": "1a94994a",
   "metadata": {},
   "outputs": [
    {
     "name": "stdout",
     "output_type": "stream",
     "text": [
      "0 1 2 3 4 5 6 7 8 9\n"
     ]
    }
   ],
   "source": [
    "print(*range(10)) #yıldız parametresi ???"
   ]
  },
  {
   "cell_type": "markdown",
   "id": "5df4e2ee",
   "metadata": {},
   "source": [
    "# pass deyimi \n",
    "pass kelimesi İngilizcede ‘geçmek, pas geçmek’ gibi anlamlara gelir. Python’daki kullanımı\n",
    "da bu anlama oldukça yakındır. Biz bu deyimi Pyhon’da ‘görmezden gel, hiçbir şey yapma’\n",
    "anlamında kullanacağız."
   ]
  },
  {
   "cell_type": "code",
   "execution_count": 4,
   "id": "fb9eab6b",
   "metadata": {},
   "outputs": [
    {
     "name": "stdout",
     "output_type": "stream",
     "text": [
      "parola belirleyin: \n",
      "parola belirleyin: \n",
      "parola belirleyin: \n",
      "parola belirleyin: 12\n",
      "parola 8 karakterden uzun 3 karakterden kısa olmamalı\n",
      "parola belirleyin: 123\n",
      "Yeni parolanız 123\n"
     ]
    }
   ],
   "source": [
    "while True:\n",
    "    parola = input(\"parola belirleyin: \")\n",
    "    if not parola:\n",
    "        pass\n",
    "         \n",
    "    \n",
    "    elif len(parola) in range(3, 8):\n",
    "        print(\"Yeni parolanız\", parola)\n",
    "        break\n",
    "    else:\n",
    "        print(\"parola 8 karakterden uzun 3 karakterden kısa olmamalı\")\n"
   ]
  },
  {
   "cell_type": "code",
   "execution_count": 1,
   "id": "8aab9a06",
   "metadata": {},
   "outputs": [
    {
     "name": "stdout",
     "output_type": "stream",
     "text": [
      "bir sayı girin1\n",
      "1\n",
      "bir sayı girin2\n",
      "2\n",
      "bir sayı girin3\n",
      "3\n",
      "bir sayı girin4\n",
      "4\n",
      "bir sayı girin5\n",
      "5\n",
      "bir sayı girin-1\n",
      "bir sayı girin0\n"
     ]
    }
   ],
   "source": [
    "while True:\n",
    "    \n",
    "    sayı = int(input(\"bir sayı girin\"))\n",
    "    \n",
    "    if sayı == 0:\n",
    "        break \n",
    "        \n",
    "    elif sayı < 0:\n",
    "        pass \n",
    "    \n",
    "    else:\n",
    "        \n",
    "        print(sayı)\n",
    "        \n",
    "    \n",
    "    # pass uygulaması, olayımızın yokmuş gibi davranmasını sağlıyor.\n",
    "    "
   ]
  },
  {
   "cell_type": "markdown",
   "id": "1b0c2a25",
   "metadata": {},
   "source": [
    "Eğer kullanıcı 0’dan küçük bir sayı girerse, yani kullanıcının girdiği sayı eksi değerli ise, pass deyimininin etkisiyle programımız hiçbir şey yapmadan yoluna devameder.\n",
    "\n",
    "\n",
    "\n",
    "Yukarıda anlatılan durumların dışında, pass deyimini kodlarınız henüz taslak aşamasında\n",
    "olduğu zaman da kullanabilirsiniz. Örneğin, diyelim ki bir kod yazıyorsunuz. Programın\n",
    "gidişatına göre, bir noktada yapmanız gereken bir işlem var, ama henüz ne yapacağınıza\n",
    "karar vermediniz. Böyle bir durumda pass deyiminden yararlanabilirsiniz.\n",
    "\n",
    "\n"
   ]
  },
  {
   "cell_type": "code",
   "execution_count": 3,
   "id": "231ba390",
   "metadata": {},
   "outputs": [
    {
     "name": "stdout",
     "output_type": "stream",
     "text": [
      "bir sayı girin:1\n",
      "bir sayı girin:2\n",
      "bir sayı girin:3\n",
      "bir sayı girin:4\n",
      "bir sayı girin:12\n",
      "bir sayı girin:123\n",
      "En fazla üç haneli bir sayı girebilirsiniz.\n",
      "bir sayı girin:iptal\n"
     ]
    }
   ],
   "source": [
    "while True:\n",
    "    s = input(\"bir sayı girin:\")\n",
    "    \n",
    "    if s == \"iptal\":\n",
    "        break\n",
    "    \n",
    "    elif len(s) < 3: \n",
    "        continue    #continue sayesinde ' print(\"En fazla üç haneli bir sayı girebilirsiniz.\")  ' es geçildi ve döngü yeniden başladı \n",
    "        \n",
    "    print(\"En fazla üç haneli bir sayı girebilirsiniz.\")\n",
    "        \n",
    "        "
   ]
  },
  {
   "cell_type": "code",
   "execution_count": 6,
   "id": "3c99d223",
   "metadata": {},
   "outputs": [
    {
     "name": "stdout",
     "output_type": "stream",
     "text": [
      "0\n",
      "1\n",
      "2\n",
      "3\n",
      "4\n"
     ]
    }
   ],
   "source": [
    "for i in range(5):\n",
    "    print(i)"
   ]
  },
  {
   "cell_type": "markdown",
   "id": "9a44aa93",
   "metadata": {},
   "source": [
    "Peki şimdi else ifadesi ne işe yaradı? Aslında pek de işe yaramadı, else ifadesini yazmadan\n",
    "da aynı çıktıları alabilirdik. \n",
    "\n",
    "\n",
    "Dediğimiz gibi Python’da else ifadesi döngüler ile birlikte\n",
    "kullanılacaksa break ifadesi ile birlikte bir anlam kazanır. Eğer döngü break ifadesi kullanılarak\n",
    "sonlandırıldı ise else çalışmaz, döngü break ifadesi ile sonlandırılmadı ise else bölümü\n",
    "çalışır. Yukarıdaki örneğimizde zaten break deyimi bulunmadığı için else bölümü çalıştı.\n"
   ]
  },
  {
   "cell_type": "code",
   "execution_count": 7,
   "id": "65dda49e",
   "metadata": {},
   "outputs": [
    {
     "name": "stdout",
     "output_type": "stream",
     "text": [
      "a harfi bulundu.\n",
      "a harfi bulundu.\n",
      "a harfi bulundu.\n"
     ]
    }
   ],
   "source": [
    "karater_dizisi = \"Merhaba Dünya\"\n",
    "\n",
    "for harf in karater_dizisi:\n",
    "    \n",
    "    if harf == \"a\":\n",
    "        \n",
    "        print(\"a harfi bulundu.\")\n",
    "        \n",
    "        "
   ]
  },
  {
   "cell_type": "code",
   "execution_count": 8,
   "id": "7b8afc50",
   "metadata": {},
   "outputs": [
    {
     "name": "stdout",
     "output_type": "stream",
     "text": [
      "a harfi bulunamadı.\n",
      "a harfi bulunamadı.\n",
      "a harfi bulunamadı.\n",
      "a harfi bulunamadı.\n",
      "a harfi bulundu.\n"
     ]
    }
   ],
   "source": [
    "karater_dizisi = \"Merhaba Dünya\"\n",
    "\n",
    "for harf in karater_dizisi:\n",
    "    \n",
    "    if harf == \"a\":\n",
    "        \n",
    "        print(\"a harfi bulundu.\")\n",
    "        break \n",
    "    else:\n",
    "        \n",
    "        print(\"a harfi bulunamadı.\")     # else, if in altında olduğu için her a yı bulmadığı zaman bulamadığını yazdırıyor. \n",
    "        \n",
    "        "
   ]
  },
  {
   "cell_type": "code",
   "execution_count": 9,
   "id": "114e027b",
   "metadata": {},
   "outputs": [
    {
     "ename": "IndentationError",
     "evalue": "expected an indented block (<ipython-input-9-8f4f099ccde4>, line 9)",
     "output_type": "error",
     "traceback": [
      "\u001b[1;36m  File \u001b[1;32m\"<ipython-input-9-8f4f099ccde4>\"\u001b[1;36m, line \u001b[1;32m9\u001b[0m\n\u001b[1;33m    else:\u001b[0m\n\u001b[1;37m    ^\u001b[0m\n\u001b[1;31mIndentationError\u001b[0m\u001b[1;31m:\u001b[0m expected an indented block\n"
     ]
    }
   ],
   "source": [
    "karater_dizisi = \"Merhaba Dünya\"\n",
    "\n",
    "for harf in karater_dizisi:\n",
    "    \n",
    "   # if harf == \"a\":\n",
    "        \n",
    "   #     print(\"a harfi bulundu.\")\n",
    "    #    break \n",
    "else:\n",
    "    \n",
    "    print(\"a harfi bulunamadı.\")   \n",
    "        \n",
    "    # buradaki else ise for a bağlı olarak a harfini bulamazsa yazdırılacak olan else ! \n",
    "    \n",
    "    \n",
    "    \n",
    "    "
   ]
  },
  {
   "cell_type": "code",
   "execution_count": 10,
   "id": "efda49c3",
   "metadata": {},
   "outputs": [
    {
     "name": "stdout",
     "output_type": "stream",
     "text": [
      "a harfi bulundu.\n"
     ]
    }
   ],
   "source": [
    "karater_dizisi = \"Merhaba Dünya\"\n",
    "\n",
    "for harf in karater_dizisi:\n",
    "    \n",
    "    if harf == \"a\":\n",
    "        \n",
    "        print(\"a harfi bulundu.\")\n",
    "        break \n",
    "else:\n",
    "    \n",
    "    print(\"a harfi bulunamadı.\")   \n",
    "        \n",
    "   \n",
    "    \n",
    "    \n",
    "    \n",
    "    "
   ]
  },
  {
   "cell_type": "code",
   "execution_count": 11,
   "id": "5e6fe8f1",
   "metadata": {},
   "outputs": [
    {
     "name": "stdout",
     "output_type": "stream",
     "text": [
      "a harfi bulunamadı.\n"
     ]
    }
   ],
   "source": [
    "karater_dizisi = \"Merhb Düny\"\n",
    "\n",
    "for harf in karater_dizisi:\n",
    "    \n",
    "    if harf == \"a\":\n",
    "        \n",
    "        print(\"a harfi bulundu.\")\n",
    "        break \n",
    "else:\n",
    "    \n",
    "    print(\"a harfi bulunamadı.\")   \n",
    "        \n",
    "   \n",
    "    \n",
    "    \n",
    "    \n",
    "    "
   ]
  },
  {
   "cell_type": "markdown",
   "id": "b62d536e",
   "metadata": {},
   "source": [
    "Siz burada, ilk_metin adlı değişken içinde bulunan, ama ikinci_metin adlı değişken içinde\n",
    "bulunmayan öğeleri ayıklamak istiyorsunuz. Yani bu iki metnin içeriğini karşılaştırıp, farklı\n",
    "öğeleri bulmayı amaçlıyorsunuz."
   ]
  },
  {
   "cell_type": "code",
   "execution_count": 12,
   "id": "96c4eb28",
   "metadata": {},
   "outputs": [],
   "source": [
    "ilk_metin = \"asdasfddgdhfjfdgdşfkgjdfklgşjdfklgjdfkghdfjghjklsdhajlsdhjkjhkhjjh\"\n",
    "ikinci_metin = \"sdfsuıdoryeuıfsjkdfhdjklghjdfklruseldhfjlkdshfljskeeuf\""
   ]
  },
  {
   "cell_type": "code",
   "execution_count": 13,
   "id": "5f3dfeab",
   "metadata": {},
   "outputs": [
    {
     "name": "stdout",
     "output_type": "stream",
     "text": [
      "a\n",
      "a\n",
      "ş\n",
      "ş\n",
      "a\n"
     ]
    }
   ],
   "source": [
    "for s in ilk_metin:\n",
    "    if not s in ikinci_metin:\n",
    "        print(s)"
   ]
  },
  {
   "cell_type": "code",
   "execution_count": 17,
   "id": "3a58c46f",
   "metadata": {},
   "outputs": [
    {
     "name": "stdout",
     "output_type": "stream",
     "text": [
      "u\n",
      "uı\n",
      "uıo\n",
      "uıor\n",
      "uıory\n",
      "uıorye\n"
     ]
    }
   ],
   "source": [
    "depo = \"\"\n",
    "for s in ikinci_metin:\n",
    "    if not s in ilk_metin:\n",
    "        \n",
    "        if not s in depo:\n",
    "            depo += s \n",
    "            print(depo)\n",
    "                                # print i koyduğumuz yer önemli "
   ]
  },
  {
   "cell_type": "code",
   "execution_count": 18,
   "id": "851bba51",
   "metadata": {},
   "outputs": [
    {
     "name": "stdout",
     "output_type": "stream",
     "text": [
      "uıorye\n"
     ]
    }
   ],
   "source": [
    "depo = \"\"\n",
    "for s in ikinci_metin:\n",
    "    if not s in ilk_metin:\n",
    "        \n",
    "        if not s in depo:\n",
    "            depo += s \n",
    "            \n",
    "print(depo)                      # print i koyduğumuz yer önemli "
   ]
  },
  {
   "cell_type": "code",
   "execution_count": 22,
   "id": "0991d2bc",
   "metadata": {},
   "outputs": [
    {
     "name": "stdout",
     "output_type": "stream",
     "text": [
      "u\n",
      "ı\n",
      "o\n",
      "r\n",
      "y\n",
      "e\n",
      "uıorye\n"
     ]
    }
   ],
   "source": [
    "depo = \"\"\n",
    "for s in ikinci_metin:\n",
    "    if not s in ilk_metin:\n",
    "        \n",
    "        if not s in depo:\n",
    "            depo += s\n",
    "for deponundeposu in depo:\n",
    "    print(deponundeposu)\n",
    "            \n",
    "            \n",
    "print(depo)"
   ]
  },
  {
   "cell_type": "code",
   "execution_count": 24,
   "id": "726d9126",
   "metadata": {},
   "outputs": [
    {
     "name": "stdout",
     "output_type": "stream",
     "text": [
      "u\n",
      "u\n",
      "ı\n",
      "u\n",
      "ı\n",
      "o\n",
      "u\n",
      "ı\n",
      "o\n",
      "r\n",
      "u\n",
      "ı\n",
      "o\n",
      "r\n",
      "y\n",
      "u\n",
      "ı\n",
      "o\n",
      "r\n",
      "y\n",
      "e\n",
      "uıorye\n"
     ]
    }
   ],
   "source": [
    "depo = \"\"\n",
    "for s in ikinci_metin:\n",
    "    if not s in ilk_metin:\n",
    "        \n",
    "        if not s in depo:\n",
    "            depo += s\n",
    "            for deponundeposu in depo:\n",
    "                print(deponundeposu)        # burada, her bir eklenen harf için döngü yenilenmiş \n",
    "            \n",
    "           \n",
    "print(depo)"
   ]
  },
  {
   "cell_type": "code",
   "execution_count": 1,
   "id": "8042acca",
   "metadata": {},
   "outputs": [],
   "source": [
    "a = 'istihza'"
   ]
  },
  {
   "cell_type": "code",
   "execution_count": 2,
   "id": "06208a0a",
   "metadata": {},
   "outputs": [
    {
     "data": {
      "text/plain": [
       "'istihza.com'"
      ]
     },
     "execution_count": 2,
     "metadata": {},
     "output_type": "execute_result"
    }
   ],
   "source": [
    "a + '.com'\n"
   ]
  },
  {
   "cell_type": "code",
   "execution_count": 3,
   "id": "f1e8384a",
   "metadata": {},
   "outputs": [
    {
     "data": {
      "text/plain": [
       "'istihza.com'"
      ]
     },
     "execution_count": 3,
     "metadata": {},
     "output_type": "execute_result"
    }
   ],
   "source": [
    "a = a + '.com'\n",
    "a"
   ]
  },
  {
   "cell_type": "code",
   "execution_count": 4,
   "id": "26fd9125",
   "metadata": {},
   "outputs": [
    {
     "data": {
      "text/plain": [
       "'istihza.com'"
      ]
     },
     "execution_count": 4,
     "metadata": {},
     "output_type": "execute_result"
    }
   ],
   "source": [
    "a"
   ]
  },
  {
   "cell_type": "markdown",
   "id": "afc0c041",
   "metadata": {},
   "source": [
    "artık eski a ile yeni a nın id numaraları farklı oldu  id(a) "
   ]
  },
  {
   "cell_type": "markdown",
   "id": "5d8cb9a4",
   "metadata": {},
   "source": [
    "for s in ikinci_metin:\n",
    "    if not s in ilk_metin and not s in fark:\n",
    "        fark += s\n",
    "\n",
    "\n",
    "kodu kısa olarak böyle de yazabiliriz.\n"
   ]
  },
  {
   "cell_type": "code",
   "execution_count": null,
   "id": "3a966962",
   "metadata": {},
   "outputs": [],
   "source": [
    "# yeni bir örnek daha "
   ]
  },
  {
   "cell_type": "markdown",
   "id": "fa156950",
   "metadata": {},
   "source": [
    "d1 = open(\"resimler1.txt\")\n",
    "d1_satırları = d1.readlines()\n",
    "\n",
    "\n",
    "\n",
    "d2 = open(\"resimler2.txt\")\n",
    "d2_satırları = d2.readlines()\n",
    "\n",
    "\n",
    "\n",
    "for i in d2:\n",
    "    if not i in d1_satırları:\n",
    "        print(i)\n",
    "        \n",
    "\n",
    "d1.close()\n",
    "d2.close()"
   ]
  },
  {
   "cell_type": "code",
   "execution_count": 20,
   "id": "ce68121a",
   "metadata": {},
   "outputs": [
    {
     "name": "stdout",
     "output_type": "stream",
     "text": [
      "merak ettiğiniz harf:a\n",
      "aaaaaaaaaaaaaaaaaaaaaaaaaaaaaaaaaaaaaaaaaaaaaaaaaaaaaaaaaa\n",
      "58\n"
     ]
    }
   ],
   "source": [
    "#Yapmamız gereken bir istatistik çalışması gereğince bu metinde her harfin kaç kez geçtiğini\n",
    "#hesaplamanız gerekiyor\n",
    "\n",
    "\n",
    "metin = \"\"\"Bu programlama dili Guido Van Rossum adlı Hollandalı bir programcı\n",
    "tarafından 90’lı yılların başında geliştirilmeye başlanmıştır. Çoğu insan,\n",
    "isminin Python olmasına aldanarak, bu programlama dilinin, adını piton\n",
    "yılanından aldığını düşünür. Ancak zannedildiğinin aksine bu programlama dilinin\n",
    "adı piton yılanından gelmez. Guido Van Rossum bu programlama dilini, The Monty\n",
    "Python adlı bir İngiliz komedi grubunun, Monty Python’s Flying Circus adlı\n",
    "gösterisinden esinlenerek adlandırmıştır. Ancak her ne kadar gerçek böyle olsa\n",
    "da, Python programlama dilinin pek çok yerde bir yılan figürü ile temsil\n",
    "edilmesi neredeyse bir gelenek halini almıştır.\"\"\"\n",
    "\n",
    "\n",
    "merak_edilen_harf = input(\"merak ettiğiniz harf:\")\n",
    "sayı =''\n",
    "for i in metin:\n",
    "    \n",
    "    if merak_edilen_harf == i:\n",
    "        sayı += merak_edilen_harf\n",
    "        \n",
    "print(sayı)\n",
    "print(len(sayı))\n"
   ]
  },
  {
   "cell_type": "markdown",
   "id": "6f20d094",
   "metadata": {},
   "source": [
    "merak_edilen_harf = input(\"merak ettiğiniz harf:\")\n",
    "sayı = 0 \n",
    "for i in metin:\n",
    "    \n",
    "    if merak_edilen_harf == i:\n",
    "        sayı += 1 \n",
    "        \n",
    "print(sayı)\n",
    "print(len(sayı))\n",
    "\n",
    "\n",
    "\n",
    "bir önceki örneğin sayısal versiyonu \n"
   ]
  },
  {
   "cell_type": "code",
   "execution_count": null,
   "id": "c6fffc93",
   "metadata": {},
   "outputs": [],
   "source": []
  }
 ],
 "metadata": {
  "kernelspec": {
   "display_name": "Python 3",
   "language": "python",
   "name": "python3"
  },
  "language_info": {
   "codemirror_mode": {
    "name": "ipython",
    "version": 3
   },
   "file_extension": ".py",
   "mimetype": "text/x-python",
   "name": "python",
   "nbconvert_exporter": "python",
   "pygments_lexer": "ipython3",
   "version": "3.8.8"
  }
 },
 "nbformat": 4,
 "nbformat_minor": 5
}
