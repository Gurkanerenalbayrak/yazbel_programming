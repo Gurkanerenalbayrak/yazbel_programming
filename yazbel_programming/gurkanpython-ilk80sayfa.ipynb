{
 "cells": [
  {
   "cell_type": "code",
   "execution_count": 7,
   "id": "ec45d8a7",
   "metadata": {},
   "outputs": [
    {
     "data": {
      "text/plain": [
       "'Merhaba Zalim Dünya!'"
      ]
     },
     "execution_count": 7,
     "metadata": {},
     "output_type": "execute_result"
    }
   ],
   "source": [
    ">>> \"Merhaba Zalim Dünya!\""
   ]
  },
  {
   "cell_type": "code",
   "execution_count": 15,
   "id": "525b0b1b",
   "metadata": {},
   "outputs": [
    {
     "data": {
      "text/plain": [
       "'Merhaba Zalim Dünya!'"
      ]
     },
     "execution_count": 15,
     "metadata": {},
     "output_type": "execute_result"
    }
   ],
   "source": [
    "\"Merhaba Zalim Dünya!\"\n"
   ]
  },
  {
   "cell_type": "code",
   "execution_count": 1,
   "id": "076aa2bc",
   "metadata": {},
   "outputs": [
    {
     "ename": "SyntaxError",
     "evalue": "invalid syntax (<ipython-input-1-dcb6fe14915d>, line 1)",
     "output_type": "error",
     "traceback": [
      "\u001b[1;36m  File \u001b[1;32m\"<ipython-input-1-dcb6fe14915d>\"\u001b[1;36m, line \u001b[1;32m1\u001b[0m\n\u001b[1;33m    merhaba zalim dünya\u001b[0m\n\u001b[1;37m            ^\u001b[0m\n\u001b[1;31mSyntaxError\u001b[0m\u001b[1;31m:\u001b[0m invalid syntax\n"
     ]
    }
   ],
   "source": [
    "merhaba zalim dünya"
   ]
  },
  {
   "cell_type": "code",
   "execution_count": 2,
   "id": "02f0f037",
   "metadata": {},
   "outputs": [
    {
     "data": {
      "text/plain": [
       "str"
      ]
     },
     "execution_count": 2,
     "metadata": {},
     "output_type": "execute_result"
    }
   ],
   "source": [
    "type(\"elma\")"
   ]
  },
  {
   "cell_type": "code",
   "execution_count": 5,
   "id": "b918161d",
   "metadata": {},
   "outputs": [
    {
     "data": {
      "text/plain": [
       "'yazbel.comboşluk yok dikkat et '"
      ]
     },
     "execution_count": 5,
     "metadata": {},
     "output_type": "execute_result"
    }
   ],
   "source": [
    "\"yazbel\" + \".com\" '''boşluk yok dikkat et ''' "
   ]
  },
  {
   "cell_type": "code",
   "execution_count": 6,
   "id": "4981e63a",
   "metadata": {},
   "outputs": [
    {
     "data": {
      "text/plain": [
       "'www'"
      ]
     },
     "execution_count": 6,
     "metadata": {},
     "output_type": "execute_result"
    }
   ],
   "source": [
    "\"w\" * 3"
   ]
  },
  {
   "cell_type": "code",
   "execution_count": 7,
   "id": "d550e02c",
   "metadata": {},
   "outputs": [
    {
     "data": {
      "text/plain": [
       "'uzak     çok uzak...'"
      ]
     },
     "execution_count": 7,
     "metadata": {},
     "output_type": "execute_result"
    }
   ],
   "source": [
    "\"uzak\" + \" \" * 5 + \"çok uzak...\""
   ]
  },
  {
   "cell_type": "code",
   "execution_count": 8,
   "id": "96d7baba",
   "metadata": {},
   "outputs": [
    {
     "data": {
      "text/plain": [
       "625"
      ]
     },
     "execution_count": 8,
     "metadata": {},
     "output_type": "execute_result"
    }
   ],
   "source": [
    "25 * 25"
   ]
  },
  {
   "cell_type": "code",
   "execution_count": 10,
   "id": "a0441e03",
   "metadata": {},
   "outputs": [
    {
     "data": {
      "text/plain": [
       "630808081075"
      ]
     },
     "execution_count": 10,
     "metadata": {},
     "output_type": "execute_result"
    }
   ],
   "source": [
    "25 * 25232323243"
   ]
  },
  {
   "cell_type": "code",
   "execution_count": 11,
   "id": "5490a715",
   "metadata": {},
   "outputs": [
    {
     "data": {
      "text/plain": [
       "'34657'"
      ]
     },
     "execution_count": 11,
     "metadata": {},
     "output_type": "execute_result"
    }
   ],
   "source": [
    "\"34657\""
   ]
  },
  {
   "cell_type": "code",
   "execution_count": 12,
   "id": "7f342ed8",
   "metadata": {},
   "outputs": [
    {
     "data": {
      "text/plain": [
       "34657"
      ]
     },
     "execution_count": 12,
     "metadata": {},
     "output_type": "execute_result"
    }
   ],
   "source": [
    "34657"
   ]
  },
  {
   "cell_type": "code",
   "execution_count": 16,
   "id": "700465e4",
   "metadata": {},
   "outputs": [
    {
     "data": {
      "text/plain": [
       "int"
      ]
     },
     "execution_count": 16,
     "metadata": {},
     "output_type": "execute_result"
    }
   ],
   "source": [
    "type(34657)"
   ]
  },
  {
   "cell_type": "code",
   "execution_count": 17,
   "id": "a4dfd403",
   "metadata": {},
   "outputs": [
    {
     "data": {
      "text/plain": [
       "'2365'"
      ]
     },
     "execution_count": 17,
     "metadata": {},
     "output_type": "execute_result"
    }
   ],
   "source": [
    "\"23\" + \"65\""
   ]
  },
  {
   "cell_type": "code",
   "execution_count": 18,
   "id": "007bbf3a",
   "metadata": {},
   "outputs": [
    {
     "data": {
      "text/plain": [
       "16"
      ]
     },
     "execution_count": 18,
     "metadata": {},
     "output_type": "execute_result"
    }
   ],
   "source": [
    "len(\"firat_ozgul_1980\")"
   ]
  },
  {
   "cell_type": "code",
   "execution_count": 19,
   "id": "262662a2",
   "metadata": {},
   "outputs": [
    {
     "data": {
      "text/plain": [
       "int"
      ]
     },
     "execution_count": 19,
     "metadata": {},
     "output_type": "execute_result"
    }
   ],
   "source": [
    "type(len(\"firat_ozgul_1980\"))"
   ]
  },
  {
   "cell_type": "code",
   "execution_count": 20,
   "id": "4752f990",
   "metadata": {},
   "outputs": [
    {
     "data": {
      "text/plain": [
       "33"
      ]
     },
     "execution_count": 20,
     "metadata": {},
     "output_type": "execute_result"
    }
   ],
   "source": [
    " len(\"firat_ozgul_1980\") + len(\"rT%65#$hGfUY56123\") "
   ]
  },
  {
   "cell_type": "code",
   "execution_count": 21,
   "id": "b6c1ee75",
   "metadata": {},
   "outputs": [],
   "source": [
    "n = 5 "
   ]
  },
  {
   "cell_type": "code",
   "execution_count": 22,
   "id": "aab9cc40",
   "metadata": {},
   "outputs": [
    {
     "data": {
      "text/plain": [
       "5"
      ]
     },
     "execution_count": 22,
     "metadata": {},
     "output_type": "execute_result"
    }
   ],
   "source": [
    "n"
   ]
  },
  {
   "cell_type": "code",
   "execution_count": 23,
   "id": "754a9878",
   "metadata": {},
   "outputs": [],
   "source": [
    "kullanıcı_adı = \"firat_ozgul_1980\"\n",
    "parola = \"rT%65#$hGfUY56123\""
   ]
  },
  {
   "cell_type": "code",
   "execution_count": 24,
   "id": "1b1fbcb4",
   "metadata": {},
   "outputs": [
    {
     "data": {
      "text/plain": [
       "int"
      ]
     },
     "execution_count": 24,
     "metadata": {},
     "output_type": "execute_result"
    }
   ],
   "source": [
    "k_adı_uzunluğu = len(kullanıcı_adı)\n",
    "type(k_adı_uzunluğu)\n"
   ]
  },
  {
   "cell_type": "code",
   "execution_count": 25,
   "id": "05495846",
   "metadata": {},
   "outputs": [
    {
     "data": {
      "text/plain": [
       "['False',\n",
       " 'None',\n",
       " 'True',\n",
       " 'and',\n",
       " 'as',\n",
       " 'assert',\n",
       " 'async',\n",
       " 'await',\n",
       " 'break',\n",
       " 'class',\n",
       " 'continue',\n",
       " 'def',\n",
       " 'del',\n",
       " 'elif',\n",
       " 'else',\n",
       " 'except',\n",
       " 'finally',\n",
       " 'for',\n",
       " 'from',\n",
       " 'global',\n",
       " 'if',\n",
       " 'import',\n",
       " 'in',\n",
       " 'is',\n",
       " 'lambda',\n",
       " 'nonlocal',\n",
       " 'not',\n",
       " 'or',\n",
       " 'pass',\n",
       " 'raise',\n",
       " 'return',\n",
       " 'try',\n",
       " 'while',\n",
       " 'with',\n",
       " 'yield']"
      ]
     },
     "execution_count": 25,
     "metadata": {},
     "output_type": "execute_result"
    }
   ],
   "source": [
    "import keyword\n",
    "keyword.kwlist"
   ]
  },
  {
   "cell_type": "code",
   "execution_count": 26,
   "id": "b38f1578",
   "metadata": {},
   "outputs": [
    {
     "data": {
      "text/plain": [
       "35"
      ]
     },
     "execution_count": 26,
     "metadata": {},
     "output_type": "execute_result"
    }
   ],
   "source": [
    "len(keyword.kwlist) #karakter dizileri içinde toplam kaç adet karakter bulunduğunu"
   ]
  },
  {
   "cell_type": "code",
   "execution_count": 28,
   "id": "0a463ad5",
   "metadata": {},
   "outputs": [],
   "source": [
    "yasaklı_kelimeler = keyword.kwlist "
   ]
  },
  {
   "cell_type": "code",
   "execution_count": 29,
   "id": "b8fdc804",
   "metadata": {},
   "outputs": [
    {
     "data": {
      "text/plain": [
       "35"
      ]
     },
     "execution_count": 29,
     "metadata": {},
     "output_type": "execute_result"
    }
   ],
   "source": [
    "len(yasaklı_kelimeler)"
   ]
  },
  {
   "cell_type": "code",
   "execution_count": 30,
   "id": "711bac4f",
   "metadata": {},
   "outputs": [],
   "source": [
    "type = 3456 "
   ]
  },
  {
   "cell_type": "code",
   "execution_count": 31,
   "id": "df686322",
   "metadata": {},
   "outputs": [
    {
     "ename": "TypeError",
     "evalue": "'int' object is not callable",
     "output_type": "error",
     "traceback": [
      "\u001b[1;31m---------------------------------------------------------------------------\u001b[0m",
      "\u001b[1;31mTypeError\u001b[0m                                 Traceback (most recent call last)",
      "\u001b[1;32m<ipython-input-31-4cfbf307abac>\u001b[0m in \u001b[0;36m<module>\u001b[1;34m\u001b[0m\n\u001b[1;32m----> 1\u001b[1;33m \u001b[0mtype\u001b[0m\u001b[1;33m(\u001b[0m\u001b[1;34m\"elma\"\u001b[0m\u001b[1;33m)\u001b[0m\u001b[1;33m\u001b[0m\u001b[1;33m\u001b[0m\u001b[0m\n\u001b[0m",
      "\u001b[1;31mTypeError\u001b[0m: 'int' object is not callable"
     ]
    }
   ],
   "source": [
    "type(\"elma\")"
   ]
  },
  {
   "cell_type": "code",
   "execution_count": 32,
   "id": "5cb0f66d",
   "metadata": {},
   "outputs": [],
   "source": [
    "del type "
   ]
  },
  {
   "cell_type": "code",
   "execution_count": 33,
   "id": "7fc4537d",
   "metadata": {},
   "outputs": [
    {
     "data": {
      "text/plain": [
       "str"
      ]
     },
     "execution_count": 33,
     "metadata": {},
     "output_type": "execute_result"
    }
   ],
   "source": [
    "type(\"elma\")"
   ]
  },
  {
   "cell_type": "code",
   "execution_count": 3,
   "id": "0296938a",
   "metadata": {},
   "outputs": [],
   "source": [
    "#dsdsdhdflkjsajfaşsnotdefteri "
   ]
  },
  {
   "cell_type": "code",
   "execution_count": 5,
   "id": "d453aaa2",
   "metadata": {},
   "outputs": [
    {
     "data": {
      "text/plain": [
       "125"
      ]
     },
     "execution_count": 5,
     "metadata": {},
     "output_type": "execute_result"
    }
   ],
   "source": [
    "5**3 #üzeri 3"
   ]
  },
  {
   "cell_type": "code",
   "execution_count": 9,
   "id": "90ef6141",
   "metadata": {},
   "outputs": [
    {
     "data": {
      "text/plain": [
       "125"
      ]
     },
     "execution_count": 9,
     "metadata": {},
     "output_type": "execute_result"
    }
   ],
   "source": [
    "pow(5,3) # genelde 3 parametreli kullanılır"
   ]
  },
  {
   "cell_type": "code",
   "execution_count": 12,
   "id": "5c3d994c",
   "metadata": {},
   "outputs": [
    {
     "data": {
      "text/plain": [
       "0"
      ]
     },
     "execution_count": 12,
     "metadata": {},
     "output_type": "execute_result"
    }
   ],
   "source": [
    "pow(16,2,2) #16 sayısının 2’nci kuvvetini hesapla ve çıkan sayıyı 2’ye bölüp, bölme işleminden\n",
    "#kalan sayıyı göster!"
   ]
  },
  {
   "cell_type": "code",
   "execution_count": 13,
   "id": "c3a42c6e",
   "metadata": {},
   "outputs": [],
   "source": [
    "a=4\n",
    "b=4\n",
    "a=b=4"
   ]
  },
  {
   "cell_type": "code",
   "execution_count": 14,
   "id": "30e2bed4",
   "metadata": {},
   "outputs": [],
   "source": [
    "ocak = mart = mayıs = temmuz = ağustos = ekim = aralık = 31\n",
    "nisan = haziran = eylül = kasım = 30\n",
    "şubat = 28"
   ]
  },
  {
   "cell_type": "code",
   "execution_count": 15,
   "id": "d7aef8fa",
   "metadata": {},
   "outputs": [],
   "source": [
    "aylik_sarfiyat = 346\n",
    "fatura_tutari = 273.87"
   ]
  },
  {
   "cell_type": "code",
   "execution_count": 16,
   "id": "b7f1fa03",
   "metadata": {},
   "outputs": [],
   "source": [
    "birim_fiyat = fatura_tutari / aylik_sarfiyat "
   ]
  },
  {
   "cell_type": "code",
   "execution_count": 21,
   "id": "378bb560",
   "metadata": {},
   "outputs": [
    {
     "data": {
      "text/plain": [
       "0.7915317919075144"
      ]
     },
     "execution_count": 21,
     "metadata": {},
     "output_type": "execute_result"
    }
   ],
   "source": [
    "birim_fiyat"
   ]
  },
  {
   "cell_type": "code",
   "execution_count": 50,
   "id": "edabbf94",
   "metadata": {},
   "outputs": [],
   "source": [
    "şuanki_ay = mart"
   ]
  },
  {
   "cell_type": "code",
   "execution_count": 51,
   "id": "254a5a9c",
   "metadata": {},
   "outputs": [],
   "source": [
    "günlük_sarfiyat = aylik_sarfiyat / şuanki_ay"
   ]
  },
  {
   "cell_type": "code",
   "execution_count": 52,
   "id": "601fad95",
   "metadata": {},
   "outputs": [
    {
     "data": {
      "text/plain": [
       "11.161290322580646"
      ]
     },
     "execution_count": 52,
     "metadata": {},
     "output_type": "execute_result"
    }
   ],
   "source": [
    "günlük_sarfiyat"
   ]
  },
  {
   "cell_type": "code",
   "execution_count": 53,
   "id": "d028893f",
   "metadata": {},
   "outputs": [],
   "source": [
    "nisan_faturası_tltahmini = (günlük_sarfiyat * nisan * birim_fiyat)"
   ]
  },
  {
   "cell_type": "code",
   "execution_count": 56,
   "id": "11a39095",
   "metadata": {},
   "outputs": [
    {
     "data": {
      "text/plain": [
       "265.03548387096777"
      ]
     },
     "execution_count": 56,
     "metadata": {},
     "output_type": "execute_result"
    }
   ],
   "source": [
    "nisan_faturası_tltahmini"
   ]
  },
  {
   "cell_type": "code",
   "execution_count": 58,
   "id": "0fc51a17",
   "metadata": {},
   "outputs": [],
   "source": [
    "osman = \"Araştırma Geliştirme Müdürü\"\n",
    "mehmet = \"Proje Sorumlusu\""
   ]
  },
  {
   "cell_type": "code",
   "execution_count": 73,
   "id": "d7ea4192",
   "metadata": {},
   "outputs": [],
   "source": [
    "osman , mehmet = mehmet , osman #tanım değişimi meydana geldi ve ben ln[65] i yeniden çalıştırdığımda, yeniden değişiyor"
   ]
  },
  {
   "cell_type": "code",
   "execution_count": 74,
   "id": "b01ed176",
   "metadata": {},
   "outputs": [
    {
     "data": {
      "text/plain": [
       "'Proje Sorumlusu'"
      ]
     },
     "execution_count": 74,
     "metadata": {},
     "output_type": "execute_result"
    }
   ],
   "source": [
    "osman"
   ]
  },
  {
   "cell_type": "code",
   "execution_count": 75,
   "id": "af9bae98",
   "metadata": {},
   "outputs": [
    {
     "data": {
      "text/plain": [
       "'Araştırma Geliştirme Müdürü'"
      ]
     },
     "execution_count": 75,
     "metadata": {},
     "output_type": "execute_result"
    }
   ],
   "source": [
    "mehmet"
   ]
  },
  {
   "cell_type": "code",
   "execution_count": 76,
   "id": "dfd4fefd",
   "metadata": {},
   "outputs": [
    {
     "data": {
      "text/plain": [
       "56700"
      ]
     },
     "execution_count": 76,
     "metadata": {},
     "output_type": "execute_result"
    }
   ],
   "source": [
    "#Etkileşimli kabukta _ adlı işaret (alt çizgi işareti), yapılan son işlemin veya girilen son öğenin\n",
    "#değerini tutma işlevi görür. Yani:\n",
    "2345+54355\n"
   ]
  },
  {
   "cell_type": "code",
   "execution_count": 77,
   "id": "3fa3ec95",
   "metadata": {},
   "outputs": [
    {
     "data": {
      "text/plain": [
       "56700"
      ]
     },
     "execution_count": 77,
     "metadata": {},
     "output_type": "execute_result"
    }
   ],
   "source": [
    "_"
   ]
  },
  {
   "cell_type": "code",
   "execution_count": 78,
   "id": "129daafc",
   "metadata": {},
   "outputs": [
    {
     "data": {
      "text/plain": [
       "56715"
      ]
     },
     "execution_count": 78,
     "metadata": {},
     "output_type": "execute_result"
    }
   ],
   "source": [
    "_+15"
   ]
  },
  {
   "cell_type": "code",
   "execution_count": 83,
   "id": "b6eac2fb",
   "metadata": {},
   "outputs": [
    {
     "data": {
      "text/plain": [
       "'www'"
      ]
     },
     "execution_count": 83,
     "metadata": {},
     "output_type": "execute_result"
    }
   ],
   "source": [
    "\"www\""
   ]
  },
  {
   "cell_type": "code",
   "execution_count": 84,
   "id": "528a7aeb",
   "metadata": {},
   "outputs": [
    {
     "data": {
      "text/plain": [
       "'www.yazbel.com'"
      ]
     },
     "execution_count": 84,
     "metadata": {},
     "output_type": "execute_result"
    }
   ],
   "source": [
    "_ + \".yazbel.com\""
   ]
  },
  {
   "cell_type": "code",
   "execution_count": 8,
   "id": "0fdf0921",
   "metadata": {},
   "outputs": [
    {
     "name": "stdout",
     "output_type": "stream",
     "text": [
      "python\n",
      "adlı\n",
      "bir \n"
     ]
    }
   ],
   "source": [
    "print('''python\n",
    "adlı\n",
    "bir ''') # yazı dizileri alt alta sıralı diziliyor "
   ]
  },
  {
   "cell_type": "code",
   "execution_count": 10,
   "id": "fff3985e",
   "metadata": {},
   "outputs": [
    {
     "name": "stdout",
     "output_type": "stream",
     "text": [
      "Fırat Özgül Adana 1980\n"
     ]
    }
   ],
   "source": [
    "print('Fırat', 'Özgül', 'Adana', 1980) #1980!"
   ]
  },
  {
   "cell_type": "code",
   "execution_count": 12,
   "id": "f61c4e60",
   "metadata": {},
   "outputs": [
    {
     "name": "stdout",
     "output_type": "stream",
     "text": [
      "Python PHP C++ C Erlang\n"
     ]
    }
   ],
   "source": [
    "print(\"Python\", \"PHP\", \"C++\", \"C\", \"Erlang\") # Burada print() fonksiyonunu iki farklı parametre ile birlikte kullandık. Bu fonksiyon,\n",
    "#kendisine verdiğimiz bu parametreleri belli bir düzene göre birbiriyle birleştirdi. Bu düzen\n",
    "#gereğince print(), kendisine verilen parametreleri birleştirirken, parametreler arasına bir\n",
    "#boşluk yerleştiriyor."
   ]
  },
  {
   "cell_type": "code",
   "execution_count": 13,
   "id": "351d292a",
   "metadata": {},
   "outputs": [
    {
     "name": "stdout",
     "output_type": "stream",
     "text": [
      "http:// www. google. com\n"
     ]
    }
   ],
   "source": [
    "print(\"http://\", \"www.\", \"google.\", \"com\", sep=\" \") # printin daima görünmese de bulunan parametresi: sep=\" \""
   ]
  },
  {
   "cell_type": "code",
   "execution_count": 14,
   "id": "83a44635",
   "metadata": {},
   "outputs": [
    {
     "name": "stdout",
     "output_type": "stream",
     "text": [
      "http://www.google.com\n"
     ]
    }
   ],
   "source": [
    "print(\"http://\", \"www.\", \"google.\", \"com\", sep=\"\")"
   ]
  },
  {
   "cell_type": "code",
   "execution_count": 15,
   "id": "ed7a0fcc",
   "metadata": {},
   "outputs": [
    {
     "name": "stdout",
     "output_type": "stream",
     "text": [
      "\n"
     ]
    }
   ],
   "source": [
    "print() #shift ile taba aynı anda basarsam, parametreleri görürüm."
   ]
  },
  {
   "cell_type": "code",
   "execution_count": 16,
   "id": "3f98822c",
   "metadata": {},
   "outputs": [
    {
     "name": "stdout",
     "output_type": "stream",
     "text": [
      "birmumdurikimumdurüçmumdurdörtmumduron dört\n"
     ]
    }
   ],
   "source": [
    "print(\"bir\", \"iki\", \"üç\", \"dört\", \"on dört\", sep=\"mumdur\")"
   ]
  },
  {
   "cell_type": "code",
   "execution_count": 18,
   "id": "ca9d130d",
   "metadata": {},
   "outputs": [
    {
     "name": "stdout",
     "output_type": "stream",
     "text": [
      "bir mumdur iki mumdur üç mumdur dört mumdur on dört\n"
     ]
    }
   ],
   "source": [
    "print(\"bir\", \"iki\", \"üç\", \"dört\", \"on dört\", sep=\" mumdur \")\n"
   ]
  },
  {
   "cell_type": "code",
   "execution_count": 19,
   "id": "3f4bd542",
   "metadata": {},
   "outputs": [
    {
     "name": "stdout",
     "output_type": "stream",
     "text": [
      "bir mumdur iki mumdur üç mumdur dört mumdur on dört\n"
     ]
    }
   ],
   "source": [
    "print(\"bir\", \"iki\", \"üç\", \"dört\", \"on dört\", sep=\" \" \"mumdur\" \" \")\n"
   ]
  },
  {
   "cell_type": "code",
   "execution_count": 23,
   "id": "cd319106",
   "metadata": {},
   "outputs": [
    {
     "name": "stdout",
     "output_type": "stream",
     "text": [
      "bir mumdur iki mumdur üç mumdur dört mumdur on dört\n"
     ]
    }
   ],
   "source": [
    ">>> print(\"bir\", \"iki\", \"üç\", \"dört\", \"on dört\", sep=\" \"+\"mumdur\"+\" \")\n"
   ]
  },
  {
   "cell_type": "code",
   "execution_count": 24,
   "id": "42d47712",
   "metadata": {},
   "outputs": [
    {
     "name": "stdout",
     "output_type": "stream",
     "text": [
      "a b\n"
     ]
    }
   ],
   "source": [
    ">>> print('a', 'b', sep=None)"
   ]
  },
  {
   "cell_type": "code",
   "execution_count": 26,
   "id": "6ee922bd",
   "metadata": {},
   "outputs": [
    {
     "ename": "TypeError",
     "evalue": "sep must be None or a string, not int",
     "output_type": "error",
     "traceback": [
      "\u001b[1;31m---------------------------------------------------------------------------\u001b[0m",
      "\u001b[1;31mTypeError\u001b[0m                                 Traceback (most recent call last)",
      "\u001b[1;32m<ipython-input-26-d3584f1e82bb>\u001b[0m in \u001b[0;36m<module>\u001b[1;34m\u001b[0m\n\u001b[1;32m----> 1\u001b[1;33m \u001b[0mprint\u001b[0m\u001b[1;33m(\u001b[0m\u001b[1;34m'a'\u001b[0m\u001b[1;33m,\u001b[0m \u001b[1;34m'b'\u001b[0m\u001b[1;33m,\u001b[0m \u001b[0msep\u001b[0m\u001b[1;33m=\u001b[0m\u001b[1;36m0\u001b[0m\u001b[1;33m)\u001b[0m\u001b[1;33m\u001b[0m\u001b[1;33m\u001b[0m\u001b[0m\n\u001b[0m\u001b[0;32m      2\u001b[0m \u001b[1;31m# 0 veremezsin , \"0\" bu olur ama\u001b[0m\u001b[1;33m\u001b[0m\u001b[1;33m\u001b[0m\u001b[1;33m\u001b[0m\u001b[0m\n",
      "\u001b[1;31mTypeError\u001b[0m: sep must be None or a string, not int"
     ]
    }
   ],
   "source": [
    ">>> print('a', 'b', sep=0)\n",
    "# 0 veremezsin , \"0\" bu olur ama "
   ]
  },
  {
   "cell_type": "code",
   "execution_count": 27,
   "id": "943defe5",
   "metadata": {},
   "outputs": [
    {
     "name": "stdout",
     "output_type": "stream",
     "text": [
      "a0b\n"
     ]
    }
   ],
   "source": [
    ">>> print('a', 'b', sep=\"0\")\n"
   ]
  },
  {
   "cell_type": "code",
   "execution_count": 30,
   "id": "ed6214f9",
   "metadata": {},
   "outputs": [
    {
     "name": "stdout",
     "output_type": "stream",
     "text": [
      "ab\n"
     ]
    }
   ],
   "source": [
    ">>> print('a', 'b', sep='')\n",
    "#sepin arasında boşluk yok "
   ]
  },
  {
   "cell_type": "code",
   "execution_count": 31,
   "id": "5006afe7",
   "metadata": {},
   "outputs": [
    {
     "name": "stdout",
     "output_type": "stream",
     "text": [
      "a   b\n"
     ]
    }
   ],
   "source": [
    ">>> print('a', 'b', sep='   ')"
   ]
  },
  {
   "cell_type": "code",
   "execution_count": 33,
   "id": "5b97701e",
   "metadata": {},
   "outputs": [
    {
     "name": "stdout",
     "output_type": "stream",
     "text": [
      "birinci satır\n",
      "ikinci satır\n",
      "üçüncü satır\n"
     ]
    }
   ],
   "source": [
    ">>> print(\"birinci satır\\nikinci satır\\nüçüncü satır\") # \\n new line anlamına gelir "
   ]
  },
  {
   "cell_type": "code",
   "execution_count": 34,
   "id": "a8a48e43",
   "metadata": {},
   "outputs": [
    {
     "name": "stdout",
     "output_type": "stream",
     "text": [
      "birinci satır\n",
      "ikinci satır\n",
      "üçüncü satır\n"
     ]
    }
   ],
   "source": [
    "print(\"birinci satır\", \"ikinci satır\", \"üçüncü satır\", sep=\"\\n\")"
   ]
  },
  {
   "cell_type": "code",
   "execution_count": 36,
   "id": "bb61acf9",
   "metadata": {},
   "outputs": [
    {
     "name": "stdout",
     "output_type": "stream",
     "text": [
      "Bugün günlerden Salı\n"
     ]
    }
   ],
   "source": [
    "print(\"Bugün günlerden Salı\", end=\"\\n\") #Burada herhangi bir end parametresi görmüyoruz. ancak var orda o. ve end=\"\\n\"\n",
    "# parametresinin değerini değiştirirsen "
   ]
  },
  {
   "cell_type": "code",
   "execution_count": 37,
   "id": "c0109c82",
   "metadata": {},
   "outputs": [
    {
     "name": "stdout",
     "output_type": "stream",
     "text": [
      "Bugün günlerden Salı."
     ]
    }
   ],
   "source": [
    "print(\"Bugün günlerden Salı\", end=\".\")"
   ]
  },
  {
   "cell_type": "code",
   "execution_count": 38,
   "id": "3c642f7f",
   "metadata": {},
   "outputs": [
    {
     "name": "stdout",
     "output_type": "stream",
     "text": [
      "Bugün günlerden Salı\n",
      "\n"
     ]
    }
   ],
   "source": [
    "print(\"Bugün günlerden Salı\", end=\"\\n\\n\")"
   ]
  },
  {
   "cell_type": "code",
   "execution_count": 39,
   "id": "18675aea",
   "metadata": {},
   "outputs": [
    {
     "name": "stdout",
     "output_type": "stream",
     "text": [
      "Bugün günlerden Salı\n",
      "\n",
      "\n"
     ]
    }
   ],
   "source": [
    "print(\"Bugün günlerden Salı\", end=\"\\n\\n\\n\")"
   ]
  },
  {
   "cell_type": "code",
   "execution_count": 46,
   "id": "ea1b4768",
   "metadata": {},
   "outputs": [
    {
     "name": "stdout",
     "output_type": "stream",
     "text": [
      "bir mumdur iki mumdur üç mumdur dört mumdur on dört mumdur\n"
     ]
    }
   ],
   "source": [
    "print(\"bir\", \"iki\", \"üç\", \"dört\", \"on dört\",\n",
    "      sep=\" mumdur \", end=\" mumdur\\n\")#\"on dört\", den sonra(ki virgül var dikkat ederim) otomatik tablı bir şekilde beni şekillendirdi"
   ]
  },
  {
   "cell_type": "code",
   "execution_count": 48,
   "id": "84effc69",
   "metadata": {},
   "outputs": [],
   "source": [
    "dosya = open(\"deneme.txt\", \"w\")\n",
    ">>> print(\"Ben Python, Monty Python!\", file=dosya)\n",
    ">>> dosya.close() #print() fonksiyonumuzu çalıştırdık. Ama gördüğünüz gibi\n",
    "#print() fonksiyonu bize herhangi bir çıktı vermedi. Çünkü, daha önce de söylediğimiz gibi,\n",
    "#print() fonksiyonunu biz ekrana değil, dosyaya çıktı verecek şekilde ayarladık. Bu işlemi, file\n",
    "#adlı bir parametreye, biraz önce tanımladığımız dosya değişkenini yazarak yaptık."
   ]
  },
  {
   "cell_type": "code",
   "execution_count": 50,
   "id": "600746a4",
   "metadata": {},
   "outputs": [
    {
     "data": {
      "text/plain": [
       "'C:\\\\Users\\\\Lenovo\\\\Desktop\\\\my all python lectures'"
      ]
     },
     "execution_count": 50,
     "metadata": {},
     "output_type": "execute_result"
    }
   ],
   "source": [
    "import os\n",
    "os.getcwd()"
   ]
  },
  {
   "cell_type": "code",
   "execution_count": 51,
   "id": "9a14dcd9",
   "metadata": {},
   "outputs": [],
   "source": [
    "#Böylece print() fonksiyonunun standart çıktı konumunu değiştirmiş olduk. \n",
    "#Yani print()fonksiyonunun file adlı parametresine farklı bir değer vererek, print() fonksiyonununetkileşimli kabuğa değil \n",
    "#dosyaya yazmasını sağladık."
   ]
  },
  {
   "cell_type": "code",
   "execution_count": null,
   "id": "f4fbda91",
   "metadata": {},
   "outputs": [],
   "source": [
    "# 3. Bu çıktıyı standart çıktı konumuna gönderir (file=sys.stdout)."
   ]
  },
  {
   "cell_type": "code",
   "execution_count": 52,
   "id": "e7ec774b",
   "metadata": {},
   "outputs": [],
   "source": [
    "f = open(\"kişisel_bilgiler.txt\", \"w\")"
   ]
  },
  {
   "cell_type": "code",
   "execution_count": 53,
   "id": "ad808fcd",
   "metadata": {},
   "outputs": [],
   "source": [
    "print(\"Fırat Özgül\", file=f)\n",
    "print(\"Adana\", file=f)\n",
    "print(\"Ubuntu\", file=f)"
   ]
  },
  {
   "cell_type": "code",
   "execution_count": 54,
   "id": "47e5c637",
   "metadata": {},
   "outputs": [],
   "source": [
    "f.close()"
   ]
  },
  {
   "cell_type": "code",
   "execution_count": 55,
   "id": "e639dcc4",
   "metadata": {},
   "outputs": [],
   "source": [
    "g = open(\"deneme123.txt\", \"w\")"
   ]
  },
  {
   "cell_type": "code",
   "execution_count": 56,
   "id": "f6e4c432",
   "metadata": {},
   "outputs": [],
   "source": [
    "print(\"bu bir denemedir.\", file= g )"
   ]
  },
  {
   "cell_type": "code",
   "execution_count": 57,
   "id": "250a7915",
   "metadata": {},
   "outputs": [],
   "source": [
    "g.close()"
   ]
  },
  {
   "cell_type": "code",
   "execution_count": 58,
   "id": "9232e67e",
   "metadata": {},
   "outputs": [],
   "source": [
    "import os "
   ]
  },
  {
   "cell_type": "code",
   "execution_count": 61,
   "id": "693b1dba",
   "metadata": {},
   "outputs": [
    {
     "data": {
      "text/plain": [
       "'C:\\\\Users\\\\Lenovo\\\\Desktop\\\\my all python lectures'"
      ]
     },
     "execution_count": 61,
     "metadata": {},
     "output_type": "execute_result"
    }
   ],
   "source": [
    "os.getcwd()"
   ]
  },
  {
   "cell_type": "code",
   "execution_count": null,
   "id": "d307184f",
   "metadata": {},
   "outputs": [],
   "source": []
  },
  {
   "cell_type": "code",
   "execution_count": null,
   "id": "8616e5c8",
   "metadata": {},
   "outputs": [],
   "source": []
  },
  {
   "cell_type": "code",
   "execution_count": null,
   "id": "a656d646",
   "metadata": {},
   "outputs": [],
   "source": []
  },
  {
   "cell_type": "code",
   "execution_count": null,
   "id": "d308d95c",
   "metadata": {},
   "outputs": [],
   "source": []
  },
  {
   "cell_type": "code",
   "execution_count": null,
   "id": "c71ae547",
   "metadata": {},
   "outputs": [],
   "source": []
  },
  {
   "cell_type": "code",
   "execution_count": null,
   "id": "b0f5c9e1",
   "metadata": {},
   "outputs": [],
   "source": []
  }
 ],
 "metadata": {
  "kernelspec": {
   "display_name": "Python 3",
   "language": "python",
   "name": "python3"
  },
  "language_info": {
   "codemirror_mode": {
    "name": "ipython",
    "version": 3
   },
   "file_extension": ".py",
   "mimetype": "text/x-python",
   "name": "python",
   "nbconvert_exporter": "python",
   "pygments_lexer": "ipython3",
   "version": "3.8.8"
  }
 },
 "nbformat": 4,
 "nbformat_minor": 5
}
