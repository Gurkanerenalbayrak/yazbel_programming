{
 "cells": [
  {
   "cell_type": "markdown",
   "id": "4c1893bc",
   "metadata": {},
   "source": [
    "Karakter Dizilerinin Metotları\n",
    "\n",
    "replace()\n",
    "split(), rsplit(), splitlines()\n",
    "lower()"
   ]
  },
  {
   "cell_type": "code",
   "execution_count": null,
   "id": "5b2a68d2",
   "metadata": {},
   "outputs": [],
   "source": [
    "upper() "
   ]
  },
  {
   "cell_type": "code",
   "execution_count": 1,
   "id": "30a3ea97",
   "metadata": {},
   "outputs": [],
   "source": [
    "iller = \"istanbul, izmir, siirt, mersin\"\n",
    "\n",
    "\n",
    "iller = iller.replace(\"i\", \"İ\").upper()    # bir anda iki tane methodu kullandık \n",
    "# replace methodu i nin I ye dönüşmesini engellemeye yaradı."
   ]
  },
  {
   "cell_type": "code",
   "execution_count": 2,
   "id": "21624cdd",
   "metadata": {},
   "outputs": [
    {
     "data": {
      "text/plain": [
       "'İSTANBUL, İZMİR, SİİRT, MERSİN'"
      ]
     },
     "execution_count": 2,
     "metadata": {},
     "output_type": "execute_result"
    }
   ],
   "source": [
    "iller"
   ]
  },
  {
   "cell_type": "markdown",
   "id": "1218ac61",
   "metadata": {},
   "source": [
    "‘değiştirici metotlar değişiklik yapmamızı sağlar\n",
    "sorgulayıcı meotolar sorgular, bu aşağıdakiler sorgulayıcı "
   ]
  },
  {
   "cell_type": "code",
   "execution_count": 3,
   "id": "b970567d",
   "metadata": {},
   "outputs": [
    {
     "data": {
      "text/plain": [
       "True"
      ]
     },
     "execution_count": 3,
     "metadata": {},
     "output_type": "execute_result"
    }
   ],
   "source": [
    "kardiz = \"istihza\"\n",
    "\n",
    "kardiz.islower()"
   ]
  },
  {
   "cell_type": "code",
   "execution_count": 4,
   "id": "ca7cf080",
   "metadata": {},
   "outputs": [
    {
     "data": {
      "text/plain": [
       "False"
      ]
     },
     "execution_count": 4,
     "metadata": {},
     "output_type": "execute_result"
    }
   ],
   "source": [
    "kardiz.isupper()"
   ]
  },
  {
   "cell_type": "code",
   "execution_count": 7,
   "id": "4acd3c95",
   "metadata": {},
   "outputs": [
    {
     "name": "stdout",
     "output_type": "stream",
     "text": [
      "adınız:a\n"
     ]
    }
   ],
   "source": [
    "veri = input(\"adınız:\")\n",
    "\n",
    "if not veri.islower() == True:      # == True # \n",
    "    \n",
    "    print(\"please just use tiny words.\")\n",
    "    \n",
    "\n",
    "    "
   ]
  },
  {
   "cell_type": "code",
   "execution_count": 8,
   "id": "1bc72a04",
   "metadata": {},
   "outputs": [
    {
     "name": "stdout",
     "output_type": "stream",
     "text": [
      "mesajınızASDF\n",
      "lütfen tamamı büyük olan kelime yazmayın.\n"
     ]
    }
   ],
   "source": [
    "veri = input(\"mesajınız\")\n",
    "\n",
    "böl = veri.split()\n",
    "\n",
    "for i in böl:\n",
    "    \n",
    "    if i.isupper() == True:\n",
    "        print(\"lütfen tamamı büyük olan kelime yazmayın.\")\n",
    "        \n",
    "        "
   ]
  },
  {
   "cell_type": "markdown",
   "id": "eee11f0b",
   "metadata": {},
   "source": [
    "endswith()\n",
    "\n",
    "Bu metot yardımıyla bir karakter dizisinin HANGİ karakter dizisi ile bittiğini sorgulayabiliyoruz.\n",
    "Yani örneğin: BU KARAKTER DİZİSİ İLE Mİ BİTTİİİİİ! \n"
   ]
  },
  {
   "cell_type": "code",
   "execution_count": 10,
   "id": "472eb343",
   "metadata": {},
   "outputs": [
    {
     "data": {
      "text/plain": [
       "False"
      ]
     },
     "execution_count": 10,
     "metadata": {},
     "output_type": "execute_result"
    }
   ],
   "source": [
    "kardiz= \"istihza\" \n",
    "\n",
    "kardiz.endswith(\"A\")"
   ]
  },
  {
   "cell_type": "code",
   "execution_count": 11,
   "id": "91c122d6",
   "metadata": {},
   "outputs": [
    {
     "data": {
      "text/plain": [
       "True"
      ]
     },
     "execution_count": 11,
     "metadata": {},
     "output_type": "execute_result"
    }
   ],
   "source": [
    "kardiz= \"istihza\" \n",
    "\n",
    "kardiz.endswith(\"a\")   # true false değerini veriyor \n"
   ]
  },
  {
   "cell_type": "code",
   "execution_count": 1,
   "id": "462ae3d6",
   "metadata": {},
   "outputs": [
    {
     "name": "stdout",
     "output_type": "stream",
     "text": [
      "tkinter.mp3\n",
      "sarki.mp3\n",
      "falanca.mp3\n",
      "c++.mp3\n"
     ]
    }
   ],
   "source": [
    "d1 = \"python.ogg\"\n",
    "d2 = \"tkinter.mp3\"\n",
    "d3 = \"pygtk.ogg\"\n",
    "d4 = \"movie.avi\"\n",
    "d5 = \"sarki.mp3\"\n",
    "d6 = \"filanca.ogg\"\n",
    "d7 = \"falanca.mp3\"\n",
    "d8 = \"dosya.avi\"\n",
    "d9 = \"perl.ogg\"\n",
    "d10 = \"c.avi\"\n",
    "d11 = \"c++.mp3\"\n",
    "for i in d1, d2, d3, d4, d5, d6, d7, d8, d9, d10, d11:\n",
    "    \n",
    "    if i.endswith(\".mp3\"):\n",
    "        \n",
    "        print(i)\n",
    "#Yukarıdaki örnekte de gördüğünüz gibi, endswith() metodu özellikle dosya uzantılarına göre\n",
    "#dosya türlerini tespit etmede oldukça işe yarar bir metottur"
   ]
  },
  {
   "cell_type": "markdown",
   "id": "fed3819b",
   "metadata": {},
   "source": [
    "# startswith()\n",
    "Bu metot, biraz önce gördüğümüz endswith() metodunun yaptığı işin tam tersini yapar.\n",
    "Hatırlarsanız endswith() metodu bir karakter dizisinin hangi karakter veya karakterlerle\n",
    "bittiğini denetliyordu. startswith() metodu ise bir karakter dizisinin hangi karakter veya\n",
    "karakterlerle başladığını denetler:"
   ]
  },
  {
   "cell_type": "code",
   "execution_count": 3,
   "id": "19857280",
   "metadata": {},
   "outputs": [
    {
     "data": {
      "text/plain": [
       "True"
      ]
     },
     "execution_count": 3,
     "metadata": {},
     "output_type": "execute_result"
    }
   ],
   "source": [
    "kardiz = \"python\"\n",
    "\n",
    "kardiz.startswith(\"p\") # içerideki parametreyi unutma "
   ]
  },
  {
   "cell_type": "markdown",
   "id": "a8683653",
   "metadata": {},
   "source": [
    "Burada ‘p’ harfiyle başlayan bütün dosyaları listeledik. Elbette aynı etkiyi şu şekilde de elde\n",
    "edebilirsiniz:\n",
    "\n",
    "for i in d1, d2, d3, d4, d5, d6, d7, d8, d9, d10, d11:\n",
    "    if i[0] == \"p\":\n",
    "        print(i)\n",
    "\n",
    "\n",
    "Sadece tek bir harfi sorguluyorsanız yukarıdaki yöntem de en az startswith() metodunu\n",
    "kullanmak kadar pratiktir. Ama birden fazla karakteri sorguladığınız durumlarda elbette\n",
    "startswith() çok daha mantıklı bir tercih olacaktır:\n"
   ]
  },
  {
   "cell_type": "markdown",
   "id": "d08acc6f",
   "metadata": {},
   "source": [
    "for i in d1,d2,d3,d4:\n",
    "    \n",
    "    if i.startswith(\"pypypyypyp\"):                  #if i[:2] == \"py\": ilk 2 harfi merak ediyorsam bu da tercih edilebilir. \n",
    "        \n",
    "        print(i)                         "
   ]
  },
  {
   "cell_type": "code",
   "execution_count": null,
   "id": "36975768",
   "metadata": {},
   "outputs": [],
   "source": [
    "# Capitelize() metodunun görevi karakter dizilerinin yalnızca ilk harfini büyütmektir. \n",
    "\n"
   ]
  },
  {
   "cell_type": "markdown",
   "id": "945b1372",
   "metadata": {},
   "source": [
    "“python programlama dili” üç kelimeden oluşan bir karakter dizisidir. Bu karakter dizisi\n",
    "üzerine capitalize() metodunu uyguladığımızda bu üç kelimenin tamamının ilk harfleri\n",
    "büyümüyor. Yalnızca ilk ‘python’ kelimesinin ilk harfi bu metottan etkileniyor."
   ]
  },
  {
   "cell_type": "code",
   "execution_count": 15,
   "id": "544f8ce4",
   "metadata": {},
   "outputs": [],
   "source": [
    "kardiz = \"istanbul büyükşehir belediyesi\"\n",
    "\n",
    "\n",
    "if kardiz.startswith(\"i\"):\n",
    "    \n",
    "    new_kardiz = kardiz.replace(\"i\" , \"İ\", 1)\n",
    "    \n",
    "    \n",
    "else:\n",
    "    kardiz.capitalize()\n",
    "    \n"
   ]
  },
  {
   "cell_type": "code",
   "execution_count": 14,
   "id": "70369ee5",
   "metadata": {},
   "outputs": [
    {
     "data": {
      "text/plain": [
       "'İstanbul büyükşehir belediyesi'"
      ]
     },
     "execution_count": 14,
     "metadata": {},
     "output_type": "execute_result"
    }
   ],
   "source": [
    "new_kardiz"
   ]
  },
  {
   "cell_type": "markdown",
   "id": "47ec68a6",
   "metadata": {},
   "source": [
    "# title()\n",
    "Bu metot biraz önce öğrendiğimiz capitalize() metoduna benzer. Bildiğiniz gibi\n",
    "capitalize() metodu bir karakter dizisinin yalnızca ilk harfini büyütüyordu. title() metodu\n",
    "da karakter dizilerinin ilk harfini büyütür."
   ]
  },
  {
   "cell_type": "code",
   "execution_count": 12,
   "id": "9752ea4c",
   "metadata": {},
   "outputs": [
    {
     "name": "stdout",
     "output_type": "stream",
     "text": [
      "İstanbul Büyük Şehir Belediyesi\n"
     ]
    }
   ],
   "source": [
    "kardiz = \"istanbul büyük şehir belediyesi\"\n",
    "\n",
    "if kardiz.startswith(\"i\"):\n",
    "    kardiz = \"İ\" + kardiz[1:]\n",
    "    kardiz = kardiz.title()\n",
    "else:\n",
    "    kardiz = kardiz.title()\n",
    "print(kardiz)\n"
   ]
  },
  {
   "cell_type": "code",
   "execution_count": 31,
   "id": "17d07231",
   "metadata": {},
   "outputs": [
    {
     "name": "stdout",
     "output_type": "stream",
     "text": [
      "on İki ada "
     ]
    }
   ],
   "source": [
    "kardiz = \"on iki ada\"\n",
    "\n",
    "for kelime in kardiz.split():\n",
    "    \n",
    "    if kelime.startswith(\"i\"):\n",
    "        kelime = \"İ\" + kelime[1:]\n",
    "        \n",
    "        kelime = kelime.capitalize()\n",
    "        \n",
    "    print(kelime , end = \" \")        # sep = \"1       2 \" işe yaramıyor.         \n",
    "    \n",
    "    \n",
    "    "
   ]
  },
  {
   "cell_type": "code",
   "execution_count": 32,
   "id": "e62d9c6c",
   "metadata": {},
   "outputs": [
    {
     "data": {
      "text/plain": [
       "['on', 'iki', 'ada']"
      ]
     },
     "execution_count": 32,
     "metadata": {},
     "output_type": "execute_result"
    }
   ],
   "source": [
    "kardiz = \"on iki ada\"\n",
    "\n",
    "kardiz.split()"
   ]
  },
  {
   "cell_type": "markdown",
   "id": "8bca531b",
   "metadata": {},
   "source": [
    "# swapcase() \n",
    "metodu da büyük-küçük harfle ilgili bir metottur. Bu metot bir karakter dizisi\n",
    "içindeki büyük harfleri küçük harfe; küçük harfleri de büyük harfe dönüştürür"
   ]
  },
  {
   "cell_type": "code",
   "execution_count": 48,
   "id": "2224fcae",
   "metadata": {},
   "outputs": [],
   "source": [
    "kardiz = \"pythonNN\""
   ]
  },
  {
   "cell_type": "code",
   "execution_count": 49,
   "id": "0620592a",
   "metadata": {},
   "outputs": [
    {
     "data": {
      "text/plain": [
       "'PYTHONnn'"
      ]
     },
     "execution_count": 49,
     "metadata": {},
     "output_type": "execute_result"
    }
   ],
   "source": [
    "kardiz.swapcase()"
   ]
  },
  {
   "cell_type": "code",
   "execution_count": 54,
   "id": "8428bd9e",
   "metadata": {},
   "outputs": [
    {
     "name": "stdout",
     "output_type": "stream",
     "text": [
      "astanbul\n"
     ]
    }
   ],
   "source": [
    "kardiz = \"astanbul\"\n",
    "\n",
    "for i in kardiz:\n",
    "    \n",
    "    if i == 'İ':\n",
    "        kardiz = kardiz.replace('İ', 'i')\n",
    "    \n",
    "    elif i == 'i':\n",
    "        kardiz = kardiz.replace('i', 'İ')\n",
    "    \n",
    "    else:\n",
    "        kardiz = kardiz.swapcase()\n",
    "print(kardiz)"
   ]
  },
  {
   "cell_type": "code",
   "execution_count": 53,
   "id": "8afb1d58",
   "metadata": {},
   "outputs": [
    {
     "data": {
      "text/plain": [
       "'ISTANBUL'"
      ]
     },
     "execution_count": 53,
     "metadata": {},
     "output_type": "execute_result"
    }
   ],
   "source": [
    "kardiz = \"istanbul\"\n",
    "kardiz = kardiz.swapcase()\n",
    "kardiz"
   ]
  },
  {
   "cell_type": "code",
   "execution_count": 60,
   "id": "22f1f152",
   "metadata": {},
   "outputs": [
    {
     "name": "stdout",
     "output_type": "stream",
     "text": [
      "İSTANBUL\n"
     ]
    }
   ],
   "source": [
    "kardiz = \"istanbul\"\n",
    "\n",
    "for i in kardiz:\n",
    "    \n",
    "    if i == 'İ':\n",
    "        kardiz = kardiz.replace('İ', 'i')\n",
    "    \n",
    "    elif i == 'i':\n",
    "        kardiz = kardiz.replace('i', 'İ')\n",
    "    \n",
    "    else:\n",
    "        kardiz = kardiz.replace(i , i.swapcase())\n",
    "        \n",
    "        \n",
    "print(kardiz)"
   ]
  },
  {
   "cell_type": "markdown",
   "id": "3980ee90",
   "metadata": {},
   "source": [
    "strip() methodu \n",
    "\n",
    "\n",
    "Burada değeri ” istihza “ olan kardiz adlı bir karakter dizisi tanımladık. Dikkat ederseniz\n",
    "bu karakter dizisinin sağında ve solunda birer boşluk karakteri var. Bazı durumlarda\n",
    "kullanıcıdan ya da başka kaynaktan gelen karakter dizilerinde bu tür istenmeyen boşluklar\n",
    "olabilir. Ama sizin kullanıcıdan veya başka bir kaynaktan gelen o karakter dizisini düzgün\n",
    "kullanabilmeniz için öncelikle o karakter dizisinin sağında ve solunda bulunan boşluk\n",
    "karakterlerinden kurtulmanız gerekebilir. İşte böyle anlarda strip() metodu yardımınıza\n",
    "yetişecektir."
   ]
  },
  {
   "cell_type": "code",
   "execution_count": 61,
   "id": "70547496",
   "metadata": {},
   "outputs": [
    {
     "data": {
      "text/plain": [
       "'istihza'"
      ]
     },
     "execution_count": 61,
     "metadata": {},
     "output_type": "execute_result"
    }
   ],
   "source": [
    "kardiz = \"   istihza  \"\n",
    "\n",
    "kardiz.strip()\n",
    "\n"
   ]
  },
  {
   "cell_type": "code",
   "execution_count": null,
   "id": "f82ecc94",
   "metadata": {},
   "outputs": [],
   "source": [
    "# kendi kendimize parametre ataya da biliyoruz.\n"
   ]
  },
  {
   "cell_type": "code",
   "execution_count": 68,
   "id": "0e5c40cd",
   "metadata": {},
   "outputs": [
    {
     "data": {
      "text/plain": [
       "' python'"
      ]
     },
     "execution_count": 68,
     "metadata": {},
     "output_type": "execute_result"
    }
   ],
   "source": [
    "kardiz = \" python\" \n",
    "\n",
    "kardiz.strip(\"p\")      # kenardakileri alma üstüne tasarlanmış bir kod, boşluk varken p yi almıyor "
   ]
  },
  {
   "cell_type": "code",
   "execution_count": 69,
   "id": "82c88dc8",
   "metadata": {},
   "outputs": [],
   "source": [
    "metin = \"\"\"\n",
    "> Python programlama dili Guido Van Rossum adlı Hollandalı bir programcı␣\n",
    "˓→tarafından\n",
    "> 90'lı yılların başında geliştirilmeye başlanmıştır. Çoğu insan, isminin Python \n",
    " olmasına bakarak, bu programlama dilinin, adını piton yılanından aldığını␣\n",
    "˓→düşünür.\n",
    "> Ancak zannedildiğinin aksine bu programlama dilinin adı piton yılanından␣\n",
    "˓→gelmez.\n",
    "> Guido Van Rossum bu programlama dilini, The Monty Python adlı bir İngiliz␣\n",
    "˓→komedi\n",
    "> grubunun, Monty Python's Flying Circus adlı gösterisinden esinlenerek␣\n",
    "˓→adlandırmıştır.\n",
    "> Ancak her ne kadar gerçek böyle olsa da, Python programlama dilinin pek çok␣\n",
    "˓→yerde\n",
    "> bir yılan figürü ile temsil edilmesi neredeyse bir gelenek halini almıştır␣\n",
    "˓→diyebiliriz.\n",
    "\n",
    "\"\"\"\n"
   ]
  },
  {
   "cell_type": "code",
   "execution_count": 71,
   "id": "450490d1",
   "metadata": {},
   "outputs": [],
   "source": [
    "metini_böldüm = metin.split()\n",
    "\n",
    "    \n",
    "    "
   ]
  },
  {
   "cell_type": "code",
   "execution_count": 74,
   "id": "33f5e567",
   "metadata": {},
   "outputs": [
    {
     "name": "stdout",
     "output_type": "stream",
     "text": [
      " Python programlama dili Guido Van Rossum adlı Hollandalı bir programcı␣ ˓→tarafından  90'lı yılların başında geliştirilmeye başlanmıştır. Çoğu insan, isminin Python olmasına bakarak, bu programlama dilinin, adını piton yılanından aldığını␣ ˓→düşünür.  Ancak zannedildiğinin aksine bu programlama dilinin adı piton yılanından␣ ˓→gelmez.  Guido Van Rossum bu programlama dilini, The Monty Python adlı bir İngiliz␣ ˓→komedi  grubunun, Monty Python's Flying Circus adlı gösterisinden esinlenerek␣ ˓→adlandırmıştır.  Ancak her ne kadar gerçek böyle olsa da, Python programlama dilinin pek çok␣ ˓→yerde  bir yılan figürü ile temsil edilmesi neredeyse bir gelenek halini almıştır␣ ˓→diyebiliriz. "
     ]
    }
   ],
   "source": [
    "for i in metini_böldüm:\n",
    "    \n",
    "    print(i.strip(\"> \"), end = \" \")"
   ]
  },
  {
   "cell_type": "code",
   "execution_count": 70,
   "id": "7b03742e",
   "metadata": {
    "scrolled": true
   },
   "outputs": [
    {
     "data": {
      "text/plain": [
       "['>',\n",
       " 'Python',\n",
       " 'programlama',\n",
       " 'dili',\n",
       " 'Guido',\n",
       " 'Van',\n",
       " 'Rossum',\n",
       " 'adlı',\n",
       " 'Hollandalı',\n",
       " 'bir',\n",
       " 'programcı␣',\n",
       " '˓→tarafından',\n",
       " '>',\n",
       " \"90'lı\",\n",
       " 'yılların',\n",
       " 'başında',\n",
       " 'geliştirilmeye',\n",
       " 'başlanmıştır.',\n",
       " 'Çoğu',\n",
       " 'insan,',\n",
       " 'isminin',\n",
       " 'Python',\n",
       " 'olmasına',\n",
       " 'bakarak,',\n",
       " 'bu',\n",
       " 'programlama',\n",
       " 'dilinin,',\n",
       " 'adını',\n",
       " 'piton',\n",
       " 'yılanından',\n",
       " 'aldığını␣',\n",
       " '˓→düşünür.',\n",
       " '>',\n",
       " 'Ancak',\n",
       " 'zannedildiğinin',\n",
       " 'aksine',\n",
       " 'bu',\n",
       " 'programlama',\n",
       " 'dilinin',\n",
       " 'adı',\n",
       " 'piton',\n",
       " 'yılanından␣',\n",
       " '˓→gelmez.',\n",
       " '>',\n",
       " 'Guido',\n",
       " 'Van',\n",
       " 'Rossum',\n",
       " 'bu',\n",
       " 'programlama',\n",
       " 'dilini,',\n",
       " 'The',\n",
       " 'Monty',\n",
       " 'Python',\n",
       " 'adlı',\n",
       " 'bir',\n",
       " 'İngiliz␣',\n",
       " '˓→komedi',\n",
       " '>',\n",
       " 'grubunun,',\n",
       " 'Monty',\n",
       " \"Python's\",\n",
       " 'Flying',\n",
       " 'Circus',\n",
       " 'adlı',\n",
       " 'gösterisinden',\n",
       " 'esinlenerek␣',\n",
       " '˓→adlandırmıştır.',\n",
       " '>',\n",
       " 'Ancak',\n",
       " 'her',\n",
       " 'ne',\n",
       " 'kadar',\n",
       " 'gerçek',\n",
       " 'böyle',\n",
       " 'olsa',\n",
       " 'da,',\n",
       " 'Python',\n",
       " 'programlama',\n",
       " 'dilinin',\n",
       " 'pek',\n",
       " 'çok␣',\n",
       " '˓→yerde',\n",
       " '>',\n",
       " 'bir',\n",
       " 'yılan',\n",
       " 'figürü',\n",
       " 'ile',\n",
       " 'temsil',\n",
       " 'edilmesi',\n",
       " 'neredeyse',\n",
       " 'bir',\n",
       " 'gelenek',\n",
       " 'halini',\n",
       " 'almıştır␣',\n",
       " '˓→diyebiliriz.']"
      ]
     },
     "execution_count": 70,
     "metadata": {},
     "output_type": "execute_result"
    }
   ],
   "source": [
    "metin.split()"
   ]
  },
  {
   "cell_type": "markdown",
   "id": "c36d8116",
   "metadata": {},
   "source": [
    "lstrip() > kelimenin solundaki arkadaşları \n",
    "rstrip() de kelimenin sağındaki arkadaşları siliyor "
   ]
  },
  {
   "cell_type": "code",
   "execution_count": 75,
   "id": "8547226b",
   "metadata": {},
   "outputs": [],
   "source": [
    "kardiz = \"beşiktaş jimnastik kulübü\"\n"
   ]
  },
  {
   "cell_type": "code",
   "execution_count": 77,
   "id": "f3ea2802",
   "metadata": {},
   "outputs": [],
   "source": [
    "bölünmüş_kardiz = kardiz.split()"
   ]
  },
  {
   "cell_type": "code",
   "execution_count": 78,
   "id": "e15d387d",
   "metadata": {},
   "outputs": [],
   "source": [
    "joinlenmiş_kardiz = \" \".join(bölünmüş_kardiz)"
   ]
  },
  {
   "cell_type": "code",
   "execution_count": 79,
   "id": "0ea89920",
   "metadata": {},
   "outputs": [
    {
     "data": {
      "text/plain": [
       "'beşiktaş jimnastik kulübü'"
      ]
     },
     "execution_count": 79,
     "metadata": {},
     "output_type": "execute_result"
    }
   ],
   "source": [
    "joinlenmiş_kardiz"
   ]
  },
  {
   "cell_type": "code",
   "execution_count": 81,
   "id": "2bb0acea",
   "metadata": {},
   "outputs": [
    {
     "name": "stdout",
     "output_type": "stream",
     "text": [
      "parolanızı oluşturunuz:abcd\n",
      "okeyy :)\n",
      "okeyy :)\n",
      "okeyy :)\n",
      "okeyy :)\n"
     ]
    }
   ],
   "source": [
    "parola = input(\"parolanızı oluşturunuz:\")\n",
    "\n",
    "\n",
    "kontrol = True\n",
    "\n",
    "\n",
    "for i in parola:\n",
    "    \n",
    "    if parola.count(i) > 1:\n",
    "        \n",
    "        print(\"aynı harfi 1 den fazla girme\")\n",
    "        kontrol = False\n",
    "        \n",
    "    else:\n",
    "        \n",
    "        print(\"okeyy :)\")"
   ]
  },
  {
   "cell_type": "markdown",
   "id": "9371dc57",
   "metadata": {},
   "source": [
    "Peki bu metodu gerçek programlarda ne amaçla kullanabilirsiniz? Bu metodu kullanarak,\n",
    "örneğin, kullanıcıyı aynı karakterden yalnızca bir adet girmeye zorlayabilirsiniz. Bunun için\n",
    "mesela şöyle bir yapı kullanabilirsiniz:"
   ]
  },
  {
   "cell_type": "code",
   "execution_count": 10,
   "id": "41cad19f",
   "metadata": {},
   "outputs": [
    {
     "name": "stdout",
     "output_type": "stream",
     "text": [
      "parolanızı oluşturunuz:1234ü\n",
      "hayırlı olsun\n"
     ]
    }
   ],
   "source": [
    "parola = input(\"parolanızı oluşturunuz:\")  # gurkan1234g\n",
    "kontrol = True \n",
    "for i in parola:\n",
    "    \n",
    "    if parola.count(i) > 1:\n",
    "        \n",
    "        kontrol = False\n",
    "        \n",
    "if kontrol == True:\n",
    "    \n",
    "    print( \"hayırlı olsun\")\n",
    "    \n",
    "else:\n",
    "    \n",
    "    print(\"yalnızca bir kelimeyi 1 kere girebilirsin. \")"
   ]
  },
  {
   "cell_type": "code",
   "execution_count": 11,
   "id": "07b6370d",
   "metadata": {},
   "outputs": [],
   "source": [
    "count_için = \"arabacılar sanayi hangi araba istersiniz.\""
   ]
  },
  {
   "cell_type": "code",
   "execution_count": 14,
   "id": "d989fd37",
   "metadata": {},
   "outputs": [
    {
     "data": {
      "text/plain": [
       "10"
      ]
     },
     "execution_count": 14,
     "metadata": {},
     "output_type": "execute_result"
    }
   ],
   "source": [
    "count_için.count(\"a\")"
   ]
  },
  {
   "cell_type": "code",
   "execution_count": 24,
   "id": "3a55c5b2",
   "metadata": {},
   "outputs": [
    {
     "name": "stdout",
     "output_type": "stream",
     "text": [
      "Herhangi bir kelime: \n"
     ]
    }
   ],
   "source": [
    "kelime = input(\"Herhangi bir kelime: \")\n",
    "sayaç = \"\"\n",
    "\n",
    "for harf in kelime:\n",
    "    if harf in sayaç:\n",
    "        \n",
    "        sayaç += harf\n",
    "    \n",
    "for harf in sayaç:\n",
    "    \n",
    "    print(\"{} harfi, {} kelimesinde {} kere kullanılıyor.\".format(harf, sayaç, sayaç.count(harf)))"
   ]
  },
  {
   "cell_type": "code",
   "execution_count": null,
   "id": "db8956a2",
   "metadata": {},
   "outputs": [],
   "source": []
  },
  {
   "cell_type": "code",
   "execution_count": null,
   "id": "40f7c429",
   "metadata": {},
   "outputs": [],
   "source": []
  },
  {
   "cell_type": "code",
   "execution_count": null,
   "id": "d0156758",
   "metadata": {},
   "outputs": [],
   "source": []
  },
  {
   "cell_type": "code",
   "execution_count": null,
   "id": "468cafc5",
   "metadata": {},
   "outputs": [],
   "source": []
  },
  {
   "cell_type": "code",
   "execution_count": null,
   "id": "42e1da7e",
   "metadata": {},
   "outputs": [],
   "source": []
  },
  {
   "cell_type": "code",
   "execution_count": null,
   "id": "87149782",
   "metadata": {},
   "outputs": [],
   "source": []
  },
  {
   "cell_type": "code",
   "execution_count": null,
   "id": "24ed567b",
   "metadata": {},
   "outputs": [],
   "source": []
  },
  {
   "cell_type": "code",
   "execution_count": null,
   "id": "47baf2a4",
   "metadata": {},
   "outputs": [],
   "source": []
  },
  {
   "cell_type": "code",
   "execution_count": null,
   "id": "32e73b0e",
   "metadata": {},
   "outputs": [],
   "source": []
  },
  {
   "cell_type": "code",
   "execution_count": null,
   "id": "68f6f151",
   "metadata": {},
   "outputs": [],
   "source": []
  },
  {
   "cell_type": "code",
   "execution_count": 28,
   "id": "268667cb",
   "metadata": {},
   "outputs": [
    {
     "name": "stdout",
     "output_type": "stream",
     "text": [
      "Herhangi bir kelime: araba\n",
      "a harfi araba kelimesinde 3 kez geçiyor!\n",
      "r harfi araba kelimesinde 1 kez geçiyor!\n",
      "b harfi araba kelimesinde 1 kez geçiyor!\n"
     ]
    }
   ],
   "source": [
    "kelime = input(\"Herhangi bir kelime: \")\n",
    "sayaç = \"\"\n",
    "\n",
    "for harf in kelime:\n",
    "    \n",
    "    if not harf in sayaç:\n",
    "        \n",
    "        sayaç += harf\n",
    "        \n",
    "for harf in sayaç:\n",
    "    \n",
    "    print((\"{} harfi {} kelimesinde {} kez geçiyor!\".format(harf,kelime,kelime.count(harf))))\n",
    "        \n",
    "    \n",
    "        \n",
    "        \n"
   ]
  },
  {
   "cell_type": "markdown",
   "id": "8c13c660",
   "metadata": {},
   "source": [
    ">>> kardiz.count(\"a\", 15, 17)\n",
    "1\n",
    "Burada, 15. karakter ile 17. karakter arasında kalan ‘a’ harflerini saymış olduk. 15. karakter\n",
    "ile 17. karakter arasında toplam 1 adet ‘a’ harfi olduğu için de Python bize 1 sonucunu verdi."
   ]
  },
  {
   "cell_type": "markdown",
   "id": "8231bb3d",
   "metadata": {},
   "source": [
    "# index()     \n",
    "Örneğin “python” adlı karakter dizisinde\n",
    "‘p’ harfinin sırası 0’dır. Aynı şekilde ‘n’ harfinin sırası ise 5’tir. Karakterlerin, bir karakter dizisi\n",
    "içinde hangi sırada bulunduğunu öğrenmek için index() adlı bir metottan yararlanabiliriz"
   ]
  },
  {
   "cell_type": "code",
   "execution_count": 29,
   "id": "ba04f1a4",
   "metadata": {},
   "outputs": [
    {
     "name": "stdout",
     "output_type": "stream",
     "text": [
      "0\n",
      "2\n",
      "2\n",
      "4\n",
      "4\n"
     ]
    }
   ],
   "source": [
    "kardiz = \"adana\"\n",
    "print(kardiz.index(\"a\", 0))\n",
    "print(kardiz.index(\"a\", 1))\n",
    "print(kardiz.index(\"a\", 2))\n",
    "print(kardiz.index(\"a\", 3))\n",
    "print(kardiz.index(\"a\", 4))\n"
   ]
  },
  {
   "cell_type": "code",
   "execution_count": 57,
   "id": "e2892132",
   "metadata": {},
   "outputs": [
    {
     "name": "stdout",
     "output_type": "stream",
     "text": [
      "kelimenizi giriniz:a\n",
      "merak ettiğiniz harfa\n",
      "0\n"
     ]
    }
   ],
   "source": [
    "karakterdizisi = input(\"kelimenizi giriniz:\")\n",
    "\n",
    "aranacak = input(\"merak ettiğiniz harf\")\n",
    "\n",
    "for i in range(len(karakterdizisi)):\n",
    "    \n",
    "    print(karakterdizisi.index(aranacak, i))\n",
    "\n",
    "# index için ikinci parametreyi girmez isem ben sonuç bu oluyor.\n",
    "\n",
    "# index(aranacak, i) -> i: buradaki bizim kelimemizin index sayılarını otomatik saydarıcak.\n",
    "\n"
   ]
  },
  {
   "cell_type": "code",
   "execution_count": 58,
   "id": "f70a5be5",
   "metadata": {},
   "outputs": [
    {
     "name": "stdout",
     "output_type": "stream",
     "text": [
      "kelimenizi giriniz:adana\n",
      "merak ettiğiniz harfa\n",
      "0\n",
      "2\n",
      "4\n"
     ]
    }
   ],
   "source": [
    "karakterdizisi = input(\"kelimenizi giriniz:\")\n",
    "aranacak = input(\"merak ettiğiniz harf\")\n",
    "\n",
    "\n",
    "for i in range(len(karakterdizisi)):\n",
    "    \n",
    "    if i == karakterdizisi.index(aranacak,i):\n",
    "        print(i)"
   ]
  },
  {
   "cell_type": "markdown",
   "id": "07a590cc",
   "metadata": {},
   "source": [
    "# center() \n",
    "\n",
    "Center kelimesi İngilizce’de ‘orta, merkez, ortalamak’ gibi anlamlara gelir. Bu anlama uygun\n",
    "olarak, center() metodunu karakter dizilerini ortalamak için kullanabilirsiniz. Örneğin:"
   ]
  },
  {
   "cell_type": "code",
   "execution_count": 66,
   "id": "9c995a65",
   "metadata": {
    "scrolled": true
   },
   "outputs": [
    {
     "name": "stdout",
     "output_type": "stream",
     "text": [
      "__add__\n",
      "__class__\n",
      "__contains__\n",
      "__delattr__\n",
      "__dir__\n",
      "__doc__\n",
      "__eq__\n",
      "__format__\n",
      "__ge__\n",
      "__getattribute__\n",
      "__getitem__\n",
      "__getnewargs__\n",
      "__gt__\n",
      "__hash__\n",
      "__init__\n",
      "__init_subclass__\n",
      "__iter__\n",
      "__le__\n",
      "__len__\n",
      "__lt__\n",
      "__mod__\n",
      "__mul__\n",
      "__ne__\n",
      "__new__\n",
      "__reduce__\n",
      "__reduce_ex__\n",
      "__repr__\n",
      "__rmod__\n",
      "__rmul__\n",
      "__setattr__\n",
      "__sizeof__\n",
      "__str__\n",
      "__subclasshook__\n",
      "capitalize\n",
      "casefold\n",
      "center\n",
      "count \n",
      "encode\n",
      "endswith\n",
      "expandtabs\n",
      " find \n",
      "format\n",
      "format_map\n",
      "index \n",
      "isalnum\n",
      "isalpha\n",
      "isascii\n",
      "isdecimal\n",
      "isdigit\n",
      "isidentifier\n",
      "islower\n",
      "isnumeric\n",
      "isprintable\n",
      "isspace\n",
      "istitle\n",
      "isupper\n",
      " join \n",
      "ljust \n",
      "lower \n",
      "lstrip\n",
      "maketrans\n",
      "partition\n",
      "replace\n",
      "rfind \n",
      "rindex\n",
      "rjust \n",
      "rpartition\n",
      "rsplit\n",
      "rstrip\n",
      "split \n",
      "splitlines\n",
      "startswith\n",
      "strip \n",
      "swapcase\n",
      "title \n",
      "translate\n",
      "upper \n",
      "zfill \n"
     ]
    }
   ],
   "source": [
    "for metot in dir(\"\"):\n",
    "    print(metot.center(6))\n",
    "# bakıcaz buna "
   ]
  },
  {
   "cell_type": "code",
   "execution_count": 67,
   "id": "33ac2f90",
   "metadata": {},
   "outputs": [],
   "source": [
    "kardiz = \"python\"\n"
   ]
  },
  {
   "cell_type": "code",
   "execution_count": 69,
   "id": "cde176d8",
   "metadata": {},
   "outputs": [
    {
     "data": {
      "text/plain": [
       "'  python  '"
      ]
     },
     "execution_count": 69,
     "metadata": {},
     "output_type": "execute_result"
    }
   ],
   "source": [
    "kardiz.center(10) # boşluklar ile beraber toplam uzunluk 10 olucak ve ortalama olucak yazılarımız. \n"
   ]
  },
  {
   "cell_type": "code",
   "execution_count": 80,
   "id": "6f66631f",
   "metadata": {
    "scrolled": true
   },
   "outputs": [
    {
     "name": "stdout",
     "output_type": "stream",
     "text": [
      "python\n",
      "python\n",
      "python\n",
      "python\n",
      "python\n",
      "python\n",
      " python\n",
      " python \n",
      "  python \n",
      "  python  \n",
      "   python  \n",
      "   python   \n",
      "    python   \n",
      "    python    \n",
      "     python    \n",
      "     python     \n",
      "      python     \n",
      "      python      \n",
      "       python      \n",
      "       python       \n",
      "        python       \n",
      "        python        \n",
      "         python        \n",
      "         python         \n",
      "          python         \n",
      "          python          \n",
      "           python          \n",
      "           python           \n",
      "            python           \n",
      "            python            \n",
      "             python            \n",
      "             python             \n",
      "              python             \n",
      "              python              \n",
      "               python              \n",
      "               python               \n",
      "                python               \n",
      "                python                \n",
      "                 python                \n",
      "                 python                 \n",
      "                  python                 \n",
      "                  python                  \n",
      "                   python                  \n",
      "                   python                   \n",
      "                    python                   \n",
      "                    python                    \n",
      "                     python                    \n",
      "                     python                     \n",
      "                      python                     \n"
     ]
    }
   ],
   "source": [
    "kardiz = \"python\"\n",
    "\n",
    "\n",
    "for i in range(1,50):\n",
    "    \n",
    "    print(kardiz.center(i))"
   ]
  },
  {
   "cell_type": "code",
   "execution_count": 81,
   "id": "9d61af58",
   "metadata": {},
   "outputs": [
    {
     "data": {
      "text/plain": [
       "'------elma-----'"
      ]
     },
     "execution_count": 81,
     "metadata": {},
     "output_type": "execute_result"
    }
   ],
   "source": [
    "kardiz = \"elma\"\n",
    "\n",
    "\n",
    "kardiz.center(15,\"-\")"
   ]
  },
  {
   "cell_type": "code",
   "execution_count": null,
   "id": "56f451c0",
   "metadata": {},
   "outputs": [],
   "source": []
  },
  {
   "cell_type": "code",
   "execution_count": null,
   "id": "57cae0ac",
   "metadata": {},
   "outputs": [],
   "source": []
  },
  {
   "cell_type": "code",
   "execution_count": null,
   "id": "62ef3b31",
   "metadata": {},
   "outputs": [],
   "source": []
  }
 ],
 "metadata": {
  "kernelspec": {
   "display_name": "Python 3",
   "language": "python",
   "name": "python3"
  },
  "language_info": {
   "codemirror_mode": {
    "name": "ipython",
    "version": 3
   },
   "file_extension": ".py",
   "mimetype": "text/x-python",
   "name": "python",
   "nbconvert_exporter": "python",
   "pygments_lexer": "ipython3",
   "version": "3.8.8"
  }
 },
 "nbformat": 4,
 "nbformat_minor": 5
}
