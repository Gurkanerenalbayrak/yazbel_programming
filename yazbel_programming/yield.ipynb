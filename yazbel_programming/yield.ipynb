{
 "cells": [
  {
   "cell_type": "code",
   "execution_count": 1,
   "id": "3959c582",
   "metadata": {},
   "outputs": [
    {
     "name": "stdout",
     "output_type": "stream",
     "text": [
      "Merhaba Dünyaaaaaaaaaaaaaa\n",
      "None\n",
      "Merhaba Dünyaaaaaaaaaaaaaa\n",
      "None\n",
      "Merhaba Dünyaaaaaaaaaaaaaa\n",
      "None\n",
      "Merhaba Dünyaaaaaaaaaaaaaa\n",
      "None\n",
      "Merhaba Dünyaaaaaaaaaaaaaa\n",
      "None\n"
     ]
    }
   ],
   "source": [
    "def yaz(sayı):\n",
    "    \n",
    "    for i in range(sayı):\n",
    "        \n",
    "        print(\"Merhaba Dünyaaaaaaaaaaaaaa\")\n",
    "        yield#sonrasındakini de yazdırıyor çünkü \n",
    "        \n",
    "        \n",
    "        \n",
    "y = yaz(5)\n",
    "\n",
    "for i in y:\n",
    "    \n",
    "    print(i)\n",
    "\n",
    "# y nesnesine yaz(11) i kaydetmiş olduk "
   ]
  },
  {
   "cell_type": "code",
   "execution_count": null,
   "id": "5bb912d1",
   "metadata": {},
   "outputs": [],
   "source": []
  }
 ],
 "metadata": {
  "kernelspec": {
   "display_name": "Python 3",
   "language": "python",
   "name": "python3"
  },
  "language_info": {
   "codemirror_mode": {
    "name": "ipython",
    "version": 3
   },
   "file_extension": ".py",
   "mimetype": "text/x-python",
   "name": "python",
   "nbconvert_exporter": "python",
   "pygments_lexer": "ipython3",
   "version": "3.8.8"
  }
 },
 "nbformat": 4,
 "nbformat_minor": 5
}
