{
 "cells": [
  {
   "cell_type": "markdown",
   "id": "b5e643d1",
   "metadata": {},
   "source": [
    "Biz bu bölümde hataları üç farklı başlık altında ele alacağız:\n",
    "1. Programcı Hataları (Error)\n",
    "2. Program Kusurları (Bug)\n",
    "3. İstisnalar (Exception)\n",
    "+"
   ]
  },
  {
   "cell_type": "markdown",
   "id": "8d5ca168",
   "metadata": {},
   "source": [
    "Programcıdan kaynaklanan hatalar doğrudan doğruya programı yazan kişinin\n",
    "dikkatsizliğinden ötürü ortaya çıkan bariz hatalardır. Örneğin şu kod bir programcı hatası\n",
    "içerir:\n",
    ">>> print \"Merhaba Python!\"\n",
    "\n",
    "Bu kodu çalıştırdığınızda şöyle bir hata mesajı görürsünüz:\n",
    ">>> print \"Merhaba Python!\"\n",
    "File \"<stdin>\", line 1\n",
    "print \"Merhaba Python!\"\n",
    "^\n",
    "SyntaxError: invalid syntax"
   ]
  },
  {
   "cell_type": "markdown",
   "id": "223c172b",
   "metadata": {},
   "source": [
    "#  SyntaxError, yani Söz dizimi hatası."
   ]
  },
  {
   "cell_type": "markdown",
   "id": "54371820",
   "metadata": {},
   "source": [
    "Program kusurları, başka bir deyişle bug’lar ise çok daha karmaşıktır. Kusurlu programlar çoğu\n",
    "zaman herhangi bir hata vermeden çalışır. Ancak programın ürettiği çıktılar beklediğiniz gibi\n",
    "değildir. Örneğin yazdığınız programda bir formül hatası yapmış olabilirsiniz. Bu durumda\n",
    "programınız hiçbir şey yokmuş gibi çalışır, ancak formül hatalı olduğu için hesaplamaların\n",
    "sonuçları yanlıştır. Örneğin daha önceki derslerimizde yazdığımız şu program yukarıdaki gibi\n",
    "bir kusur içerir:\n",
    "\n",
    "sayı1 = input(\"Toplama işlemi için ilk sayıyı girin: \")\n",
    "sayı2 = input(\"Toplama işlemi için ikinci sayıyı girin: \")\n",
    "print(sayı1, \"+\", sayı2, \"=\", sayı1 + sayı2)\n",
    "\n",
    "Bu programda kullanıcı veri girdiği zaman, programımız toplama işlemi değil karakter dizisi\n",
    "birleştirme işlemi yapacaktır. Böyle bir program çalışma sırasında hata vermeyeceği için\n",
    "buradaki sorunu tespit etmek, özellikle büyük programlarda çok güçtür. Yani sizin düzgün\n",
    "çalıştığını zannettiğiniz program aslında gizliden gizliye bir bug barındırıyor olabilir."
   ]
  },
  {
   "cell_type": "code",
   "execution_count": 6,
   "id": "275625d7",
   "metadata": {},
   "outputs": [
    {
     "name": "stdout",
     "output_type": "stream",
     "text": [
      "2 + 3 = 5\n"
     ]
    }
   ],
   "source": [
    "sayı1 = 2 \n",
    "sayı2 = 3 \n",
    "print(sayı1, \"+\", sayı2, \"=\", int(sayı1)  +  int(sayı2))"
   ]
  },
  {
   "cell_type": "code",
   "execution_count": 5,
   "id": "f412ea47",
   "metadata": {},
   "outputs": [
    {
     "name": "stdout",
     "output_type": "stream",
     "text": [
      "Toplama işlemi için ilk sayıyı girin: 2\n",
      "Toplama işlemi için ikinci sayıyı girin: 3\n",
      "2 + 3 = 23\n"
     ]
    }
   ],
   "source": [
    "sayı1 = input(\"Toplama işlemi için ilk sayıyı girin: \")\n",
    "sayı2 = input(\"Toplama işlemi için ikinci sayıyı girin: \")\n",
    "print(sayı1, \"+\", sayı2, \"=\", sayı1 + sayı2)\n",
    "\n",
    "\n",
    "# hata şurada, input karakter dizisi alıyor ve biz bu sayı1-2 yi int e dönüştürmedik. \n"
   ]
  },
  {
   "cell_type": "markdown",
   "id": "9065abb3",
   "metadata": {},
   "source": [
    "Gelelim üçüncü kategori olan istisnalara (exceptions)...\n",
    "İstisnalar, adından da az çok anlaşılacağı gibi, bir programın çalışması sırasında ortaya çıkan,\n",
    "normalden farklı, istisnai durumlardır."
   ]
  },
  {
   "cell_type": "markdown",
   "id": "f46e9f13",
   "metadata": {},
   "source": [
    "ilk_sayı = input(\"ilk sayı: \")\n",
    "ikinci_sayı = input(\"ikinci sayı: \")\n",
    "\n",
    "ilk_sayı = int(ilk_sayı)\n",
    "ikinci_sayı = int(ikinci_sayı)\n",
    "\n",
    "print(ilk_sayı, \"/\", ikinci_sayı, \"=\", ilk_sayı / ikinci_sayı)\n",
    "\n",
    "\n",
    "Burada ilk sayıyı ikinci sayıya bölen bir program yazdık. Bu program her türlü bölme işlemini\n",
    "yapabilir. Ama burada hesaba katmamız gereken iki şey var:\n",
    "1. Kullanıcı sayı yerine, sayı değerli olmayan bir veri tipi girebilir. Mesela ilk sayıya karşılık\n",
    "23, ikinci sayıya karşılık ‘fdsfd’ gibi bir şey yazabilir.\n",
    "2. Kullanıcı bir sayıyı 0’a bölmeye çalışabilir. Mesela ilk sayıya karşılık 23, ikinci sayıya\n",
    "karşılık 0 yazabilir.\n",
    "\n",
    "\n",
    "\n",
    "ValueError ve ZeroDivisionError birer istisnadır"
   ]
  },
  {
   "cell_type": "markdown",
   "id": "76db3a26",
   "metadata": {},
   "source": [
    "Biliyoruz ki, bir veriyi sayıya dönüştürmek istediğimizde eğer kullanıcı sayı değerli bir\n",
    "veri yerine harf değerli bir veri girerse programımız çöker. Dolayısıyla int(ilk_sayı) ve\n",
    "int(ikinci_sayı) kodları, kullanıcının gireceği veri türüne göre hata üretme potansiyeline\n",
    "sahiptir. O yüzden, burada hata vereceğini bildiğimiz o kodları try bloğu içine aldık.\n",
    "\n",
    "\n",
    "\n",
    "çökme ihtimali olan kod bloklarını try: bloğu içine aldık \n",
    "\n"
   ]
  },
  {
   "cell_type": "code",
   "execution_count": 7,
   "id": "66789f7a",
   "metadata": {},
   "outputs": [
    {
     "name": "stdout",
     "output_type": "stream",
     "text": [
      "ilk sayı: a\n",
      "ikinci sayı: a\n",
      "lütfen sadece sayı giriniz.\n"
     ]
    }
   ],
   "source": [
    "ilk_sayı = input(\"ilk sayı: \")\n",
    "ikinci_sayı = input(\"ikinci sayı: \")\n",
    "\n",
    "\n",
    "\n",
    "try:\n",
    "    \n",
    "    sayı1 = int(ilk_sayı)\n",
    "    sayı2 = int(ikinci_sayı)\n",
    "    \n",
    "    print(sayı1, \"/\", sayı2, \"=\", sayı1 / sayı2)\n",
    "    \n",
    "except ValueError:\n",
    "    \n",
    "    print(\"lütfen sadece sayı giriniz.\")\n",
    "    \n",
    "    \n",
    "    \n",
    "    "
   ]
  },
  {
   "cell_type": "code",
   "execution_count": null,
   "id": "c66efc7d",
   "metadata": {},
   "outputs": [],
   "source": [
    "lk_sayı = input(\"ilk sayı: \")\n",
    "ikinci_sayı = input(\"ikinci sayı: \")\n",
    "\n",
    "\n",
    "\n",
    "try:\n",
    "    \n",
    "    sayı1 = int(ilk_sayı)\n",
    "    sayı2 = int(ikinci_sayı)\n",
    "    \n",
    "    print(sayı1, \"/\", sayı2, \"=\", sayı1 / sayı2)\n",
    "    \n",
    "except ZeroDivisionError:\n",
    "    \n",
    "    print(\"Bir sayıyı 0'a bölemezsiniz!\")\n",
    "    "
   ]
  },
  {
   "cell_type": "code",
   "execution_count": null,
   "id": "4173009a",
   "metadata": {},
   "outputs": [],
   "source": [
    "# eğer iki farklı çeşit hata söz konusu ise \n",
    "\n"
   ]
  },
  {
   "cell_type": "code",
   "execution_count": 11,
   "id": "e9ae616d",
   "metadata": {},
   "outputs": [
    {
     "name": "stdout",
     "output_type": "stream",
     "text": [
      "ilk sayı: 1\n",
      "ikinci sayı: 0\n",
      "Bir sayıyı 0'a bölemezsiniz!\n"
     ]
    }
   ],
   "source": [
    "ilk_sayı = input(\"ilk sayı: \")\n",
    "ikinci_sayı = input(\"ikinci sayı: \")\n",
    "\n",
    "try:\n",
    "    sayı1 = int(ilk_sayı)\n",
    "    sayı2 = int(ikinci_sayı)\n",
    "    print(sayı1, \"/\", sayı2, \"=\", sayı1 / sayı2)\n",
    "except ZeroDivisionError:\n",
    "    print(\"Bir sayıyı 0'a bölemezsiniz!\")\n",
    "except ValueError:\n",
    "    print(\"Lütfen sadece sayı girin!\")"
   ]
  },
  {
   "cell_type": "markdown",
   "id": "8e8b6946",
   "metadata": {},
   "source": [
    "ilk_sayı = input(\"ilk sayı: \")\n",
    "ikinci_sayı = input(\"ikinci sayı: \")\n",
    "try:\n",
    "    sayı1 = int(ilk_sayı)\n",
    "    sayı2 = int(ikinci_sayı)\n",
    "    print(sayı1, \"/\", sayı2, \"=\", sayı1 / sayı2)\n",
    "except (ValueError, ZeroDivisionError):\n",
    "    print(\"Bir hata oluştu!\")\n",
    "# tek hata mesajı!"
   ]
  },
  {
   "cell_type": "code",
   "execution_count": 19,
   "id": "d30abfc7",
   "metadata": {},
   "outputs": [
    {
     "name": "stdout",
     "output_type": "stream",
     "text": [
      "lütfen ilk sayıyı girin, programdan çıkmak isterseniz q ya basınq\n",
      "teşekkür ederiz.\n"
     ]
    }
   ],
   "source": [
    "while True:\n",
    "    ilk_sayı = input(\"lütfen ilk sayıyı girin, programdan çıkmak isterseniz q ya basın\")\n",
    "    \n",
    "    if ilk_sayı == \"q\":\n",
    "        print(\"teşekkür ederiz.\")\n",
    "        break \n",
    "        \n",
    "    ikinci_sayı = input(\"lütfen ikinci sayıyı girin\")\n",
    "    \n",
    "    \n",
    "    try:\n",
    "        \n",
    "        sayı1 = int(ilk_sayı)\n",
    "        sayı2 = int(ikinci_sayı)\n",
    "        \n",
    "        print(sayı1, \"/\", sayı2, \"=\", float(sayı1/sayı2))\n",
    "        \n",
    "    except (ValueError, ZeroDivisionError):\n",
    "        print(\"bir hata oluştu.\")\n",
    "        print(\"lütfen tekrar deneyin.\")          # birinci error birinci için, ikinci eror ikinci için değill :) \n",
    "        \n",
    "        "
   ]
  },
  {
   "cell_type": "code",
   "execution_count": 29,
   "id": "11829c8a",
   "metadata": {},
   "outputs": [
    {
     "name": "stdout",
     "output_type": "stream",
     "text": [
      "ilk sayı: 0\n",
      "ikinci sayı: 0\n",
      "Sadece sayı girin!\n",
      "orijinal hata mesajı:  division by zero\n"
     ]
    }
   ],
   "source": [
    "ilk_sayı = input(\"ilk sayı: \")\n",
    "ikinci_sayı = input(\"ikinci sayı: \")\n",
    "\n",
    "\n",
    "try:\n",
    "    sayı1 = int(ilk_sayı)\n",
    "    sayı2 = int(ikinci_sayı)\n",
    "    \n",
    "    print(sayı1, \"/\", sayı2, \"=\", sayı1 / sayı2)\n",
    "except (ValueError,ZeroDivisionError) as hataaaaa:                     \n",
    "        print(\"Sadece sayı girin!\")                 \n",
    "        print(\"orijinal hata mesajı: \", hataaaaa)\n",
    "        \n",
    "# hem zero error hem de value error için kullanıyorum ben orijinal hata mesajını         "
   ]
  },
  {
   "cell_type": "markdown",
   "id": "dfd8c748",
   "metadata": {},
   "source": [
    "# as, orijinal hata metnini bize iletmek için geldi ve de hata diye tanımlattık orijinal hatayı "
   ]
  },
  {
   "cell_type": "markdown",
   "id": "9db8e4d2",
   "metadata": {},
   "source": [
    "Yukarıdaki kodlar sayesinde hatalara bir\n",
    "nevi ‘teker teker gelin!’ mesajı vermiş oluyoruz. Böylelikle her blok içinde sadece almayı\n",
    "beklediğimiz hatayı karşılıyoruz. Mesela yukarıda ilk try... bloğu içindeki dönüştürme işlemi\n",
    "yalnızca ValueError hatası verebilir. else: bloğundan sonraki try... bloğunda yer alan\n",
    "işlem ise ancak ZeroDivisionError verecektir. Biz yukarıda kullandığımız yapı sayesinde her\n",
    "bir hatayı tek tek ve yeri geldiğinde karşılıyoruz. \n",
    "||\n",
    "\\/  hata örn. aşağıdadır"
   ]
  },
  {
   "cell_type": "code",
   "execution_count": 31,
   "id": "e5df0cf4",
   "metadata": {},
   "outputs": [
    {
     "name": "stdout",
     "output_type": "stream",
     "text": [
      "bölünecek sayı: 1\n",
      "bölen sayı: 0\n",
      "Bir sayıyı 0'a bölemezsiniz!\n"
     ]
    }
   ],
   "source": [
    "try:\n",
    "    bölünen = int(input(\"bölünecek sayı: \"))\n",
    "    bölen = int(input(\"bölen sayı: \"))\n",
    "    \n",
    "except ValueError:\n",
    "    print(\"Lütfen sadece sayı girin!\")\n",
    "else:\n",
    "    try:\n",
    "        print(bölünen/bölen)\n",
    "    except ZeroDivisionError:\n",
    "        print(\"Bir sayıyı 0'a bölemezsiniz!\")"
   ]
  },
  {
   "cell_type": "markdown",
   "id": "9b238f1f",
   "metadata": {},
   "source": [
    "257-264. sayfalara çalışmadım. hata türleri ayrıntıları "
   ]
  },
  {
   "cell_type": "code",
   "execution_count": null,
   "id": "e25dfefd",
   "metadata": {},
   "outputs": [],
   "source": []
  },
  {
   "cell_type": "code",
   "execution_count": null,
   "id": "a2a9029a",
   "metadata": {},
   "outputs": [],
   "source": []
  },
  {
   "cell_type": "code",
   "execution_count": null,
   "id": "3d165da7",
   "metadata": {},
   "outputs": [],
   "source": []
  },
  {
   "cell_type": "code",
   "execution_count": null,
   "id": "7038102e",
   "metadata": {},
   "outputs": [],
   "source": []
  },
  {
   "cell_type": "code",
   "execution_count": null,
   "id": "d1f30cc7",
   "metadata": {},
   "outputs": [],
   "source": []
  },
  {
   "cell_type": "markdown",
   "id": "e66bb8ca",
   "metadata": {},
   "source": [
    "# bölüm 16 KARAKTER DİZİLERİ "
   ]
  },
  {
   "cell_type": "markdown",
   "id": "e673a3e6",
   "metadata": {},
   "source": [
    "Çok kaba bir şekilde ifade etmek\n",
    "gerekirse, karakter dizileri, adından da anlaşılacağı gibi, karakterlerin bir araya gelmesiyle\n",
    "oluşan bir dizidir. Karakter dizileri; tek, çift veya üç tırnak içinde gösterilen, öteki veri\n",
    "tiplerinden de bu tırnaklar aracılığıyla ayırt edilen özel bir veri tipidir. Teknik olarak ifade etmek\n",
    "gerekirse, bir nesneyi type() fonksiyonu yardımıyla sorguladığımızda, eğer <class ‘str’> çıktısı\n",
    "alıyorsak bu nesne bir karakter dizisidir."
   ]
  },
  {
   "cell_type": "markdown",
   "id": "b5c80b12",
   "metadata": {},
   "source": [
    "nesne = \"karakter dizisi\"   #\"karakter dizisi\"  ---> işte bu karakter dizisidir. nesne --> ise onun tanımıdır ve o bir değişkendir. "
   ]
  },
  {
   "cell_type": "code",
   "execution_count": 1,
   "id": "379f9384",
   "metadata": {},
   "outputs": [],
   "source": [
    "nesne = \"karakter dizisi\"\n",
    "\n"
   ]
  },
  {
   "cell_type": "code",
   "execution_count": 4,
   "id": "96fe3aa0",
   "metadata": {},
   "outputs": [
    {
     "name": "stdout",
     "output_type": "stream",
     "text": [
      "k\n",
      "a\n",
      "r\n",
      "a\n",
      "k\n",
      "t\n",
      "e\n",
      "r\n",
      " \n",
      "d\n",
      "i\n",
      "z\n",
      "i\n",
      "s\n",
      "i\n"
     ]
    }
   ],
   "source": [
    "print(*nesne , sep = \"\\n\")   # * nesne değişkeninin içindeki her biri için bunu yap anlamında \n",
    "\n"
   ]
  },
  {
   "cell_type": "code",
   "execution_count": 6,
   "id": "10704ffe",
   "metadata": {},
   "outputs": [
    {
     "name": "stdout",
     "output_type": "stream",
     "text": [
      "11\n",
      "22\n",
      "33\n",
      "44\n",
      "55\n",
      "66\n",
      "77\n",
      "88\n",
      "99\n"
     ]
    }
   ],
   "source": [
    "nesne = \"123456789\"\n",
    "for n in nesne:\n",
    "    print(n * 2)   # int() yok \n",
    "    \n",
    "    "
   ]
  },
  {
   "cell_type": "markdown",
   "id": "5bd18c89",
   "metadata": {},
   "source": [
    "# Python’da karakter dizilerinin içindeki öğelerin bir sırası vardır! "
   ]
  },
  {
   "cell_type": "code",
   "execution_count": 20,
   "id": "2c5d2004",
   "metadata": {},
   "outputs": [
    {
     "data": {
      "text/plain": [
       "'i'"
      ]
     },
     "execution_count": 20,
     "metadata": {},
     "output_type": "execute_result"
    }
   ],
   "source": [
    "kardiz = \"istihza\"\n",
    "\n",
    "kardiz[0]\n"
   ]
  },
  {
   "cell_type": "code",
   "execution_count": 9,
   "id": "1773c6c0",
   "metadata": {},
   "outputs": [
    {
     "data": {
      "text/plain": [
       "4"
      ]
     },
     "execution_count": 9,
     "metadata": {},
     "output_type": "execute_result"
    }
   ],
   "source": [
    "nesne = \"0123456\"\n",
    "\n",
    "int(nesne[2]) * 2 "
   ]
  },
  {
   "cell_type": "code",
   "execution_count": 15,
   "id": "0e6f49ed",
   "metadata": {},
   "outputs": [
    {
     "name": "stdout",
     "output_type": "stream",
     "text": [
      "6\n",
      "n\n"
     ]
    }
   ],
   "source": [
    "print(len(kardiz))\n",
    "\n",
    "print(kardiz[5])\n",
    "\n",
    "#print(kardiz[6]) işte bunda error alıyorum. "
   ]
  },
  {
   "cell_type": "code",
   "execution_count": 16,
   "id": "f324aa94",
   "metadata": {},
   "outputs": [
    {
     "name": "stdout",
     "output_type": "stream",
     "text": [
      "n\n"
     ]
    }
   ],
   "source": [
    "print(kardiz[len(kardiz)-1])   # SON DİZİ ÖĞESİNİ VER DEMEK"
   ]
  },
  {
   "cell_type": "code",
   "execution_count": 18,
   "id": "1a6e7c98",
   "metadata": {},
   "outputs": [
    {
     "data": {
      "text/plain": [
       "('n', 'o')"
      ]
     },
     "execution_count": 18,
     "metadata": {},
     "output_type": "execute_result"
    }
   ],
   "source": [
    "kardiz[-1], kardiz[-2] "
   ]
  },
  {
   "cell_type": "code",
   "execution_count": 21,
   "id": "baaac7a2",
   "metadata": {},
   "outputs": [
    {
     "name": "stdout",
     "output_type": "stream",
     "text": [
      "i\n",
      "s\n",
      "t\n",
      "i\n",
      "h\n",
      "z\n",
      "a\n"
     ]
    }
   ],
   "source": [
    "for i in range(0,7):\n",
    "    \n",
    "    print(kardiz[i])"
   ]
  },
  {
   "cell_type": "code",
   "execution_count": 22,
   "id": "dd11464a",
   "metadata": {},
   "outputs": [
    {
     "name": "stdout",
     "output_type": "stream",
     "text": [
      "istihza\n",
      "istihza\n",
      "istihza\n",
      "istihza\n",
      "istihza\n",
      "istihza\n",
      "istihza\n"
     ]
    }
   ],
   "source": [
    "for i in range(0,7):\n",
    "    print(kardiz)    "
   ]
  },
  {
   "cell_type": "markdown",
   "id": "123aae46",
   "metadata": {},
   "source": [
    "Biz kendi tanımladığımız karakter dizisinin uzunluğunun toplam 7 karakter\n",
    "olduğunu bildiğimiz için yukarıdaki örnekte range() fonksiyonunu range(7)\n",
    "şeklinde kullanabildik. Ama başka kaynaktan gelen bir karakter dizisinin\n",
    "uzunluğunu nasıl bileceğiz?"
   ]
  },
  {
   "cell_type": "code",
   "execution_count": 23,
   "id": "6e28aa12",
   "metadata": {},
   "outputs": [
    {
     "name": "stdout",
     "output_type": "stream",
     "text": [
      "i\n",
      "s\n",
      "t\n",
      "i\n",
      "h\n",
      "z\n",
      "a\n"
     ]
    }
   ],
   "source": [
    "for i in range(len(kardiz)):\n",
    "    print(kardiz[i])"
   ]
  },
  {
   "cell_type": "code",
   "execution_count": 27,
   "id": "76d3cc67",
   "metadata": {},
   "outputs": [
    {
     "name": "stdout",
     "output_type": "stream",
     "text": [
      "isminizi yazar mısınız:gürkan\n",
      "isminizin 1. harfi g\n",
      "isminizin 2. harfi ü\n",
      "isminizin 3. harfi r\n",
      "isminizin 4. harfi k\n",
      "isminizin 5. harfi a\n",
      "isminizin 6. harfi n\n"
     ]
    }
   ],
   "source": [
    "customer = input(\"isminizi yazar mısınız:\")\n",
    "\n",
    "for i in range(len(customer)):\n",
    "    print(\"isminizin {}. harfi {}\".format(i+1, customer[i]))"
   ]
  },
  {
   "cell_type": "markdown",
   "id": "66943d2d",
   "metadata": {},
   "source": [
    "# Karakter Dizilerini Dilimlemek\n",
    "\n",
    "\n",
    "karakter_dizisi[alınacak_ilk_öğenin_sırası:alınacak_son_öğenin_sırasının_bir_\n",
    "fazlası]\n",
    "\n",
    "son öğenin sırasının bir fazlası, aynı rangedeki olay gibi \n",
    "\n",
    "\n"
   ]
  },
  {
   "cell_type": "code",
   "execution_count": 28,
   "id": "1ca806b4",
   "metadata": {},
   "outputs": [
    {
     "data": {
      "text/plain": [
       "'ist'"
      ]
     },
     "execution_count": 28,
     "metadata": {},
     "output_type": "execute_result"
    }
   ],
   "source": [
    "karakter_dizisi = \"istanbul\"\n",
    "\n",
    "karakter_dizisi[0:3]"
   ]
  },
  {
   "cell_type": "code",
   "execution_count": 29,
   "id": "24241d1c",
   "metadata": {},
   "outputs": [],
   "source": [
    "site1 = \"www.google.com\"\n",
    "site2 = \"www.istihza.com\"\n",
    "site3 = \"www.yahoo.com\"\n",
    "site4 = \"www.gnu.org\"\n"
   ]
  },
  {
   "cell_type": "markdown",
   "id": "d5a10ff0",
   "metadata": {},
   "source": [
    "isim[4:-4] yapısını kullanarak, site1,\n",
    "site2, site3, site4 adlı karakter dizilerini, ilk dört ve son dört karakterler hariç olacak şekilde\n",
    "dilimledik.  "
   ]
  },
  {
   "cell_type": "code",
   "execution_count": 31,
   "id": "12cbf4a9",
   "metadata": {},
   "outputs": [
    {
     "name": "stdout",
     "output_type": "stream",
     "text": [
      "site: google\n",
      "site: istihza\n",
      "site: yahoo\n",
      "site: gnu\n"
     ]
    }
   ],
   "source": [
    "for isim in site1, site2, site3, site4:\n",
    "    \n",
    "    print(\"site:\" , isim[4:-4]) # : den sonraki yere negatif sayı gireceğimiz zaman, -1 den başlanıyor. 0 ile başlanmıyor. \n",
    "    "
   ]
  },
  {
   "cell_type": "code",
   "execution_count": 33,
   "id": "4d6d3090",
   "metadata": {},
   "outputs": [],
   "source": [
    "ata1 = \"Akıllı bizi arayıp sormaz deli bacadan akar!\"\n",
    "ata2 = \"Ağa güçlü olunca kul suçlu olur!\"\n",
    "ata3 = \"Avcı ne kadar hile bilirse ayı da o kadar yol bilir!\"\n",
    "ata4 = \"Lafla pilav pişse deniz kadar yağ benden!\"\n",
    "ata5 = \"Zenginin gönlü oluncaya kadar fukaranın canı çıkar!\"\n",
    "\n",
    "\n",
    "# ünlemleri buradan çıkar "
   ]
  },
  {
   "cell_type": "code",
   "execution_count": 36,
   "id": "adb703d6",
   "metadata": {},
   "outputs": [
    {
     "name": "stdout",
     "output_type": "stream",
     "text": [
      "Akıllı bizi arayıp sormaz deli bacadan akar\n",
      "Ağa güçlü olunca kul suçlu olur\n",
      "Avcı ne kadar hile bilirse ayı da o kadar yol bilir\n",
      "Lafla pilav pişse deniz kadar yağ benden\n",
      "Zenginin gönlü oluncaya kadar fukaranın canı çıkar\n"
     ]
    }
   ],
   "source": [
    "for ata in ata1,ata2,ata3,ata4,ata5:\n",
    "    \n",
    "    print(ata[0:-1])"
   ]
  },
  {
   "cell_type": "code",
   "execution_count": 37,
   "id": "4d1c11f3",
   "metadata": {},
   "outputs": [
    {
     "name": "stdout",
     "output_type": "stream",
     "text": [
      "Akıllı bizi arayıp sormaz deli bacadan akar.\n",
      "Ağa güçlü olunca kul suçlu olur.\n",
      "Avcı ne kadar hile bilirse ayı da o kadar yol bilir.\n",
      "Lafla pilav pişse deniz kadar yağ benden.\n",
      "Zenginin gönlü oluncaya kadar fukaranın canı çıkar.\n"
     ]
    }
   ],
   "source": [
    "for ata in ata1,ata2,ata3,ata4,ata5:\n",
    "    \n",
    "    print(ata[0:-1] + \".\")    # "
   ]
  },
  {
   "cell_type": "code",
   "execution_count": 40,
   "id": "d360ca1b",
   "metadata": {},
   "outputs": [
    {
     "data": {
      "text/plain": [
       "'isti'"
      ]
     },
     "execution_count": 40,
     "metadata": {},
     "output_type": "execute_result"
    }
   ],
   "source": [
    "kardiz[:4]    # 0 ı yazmadık ama öyle kabul ediyoruz. \n",
    "              # aynısı orta taraftan sona gitmek için de var.   "
   ]
  },
  {
   "cell_type": "code",
   "execution_count": 42,
   "id": "8c783f3a",
   "metadata": {},
   "outputs": [
    {
     "data": {
      "text/plain": [
       "'stihza'"
      ]
     },
     "execution_count": 42,
     "metadata": {},
     "output_type": "execute_result"
    }
   ],
   "source": [
    "kardiz[1:]"
   ]
  },
  {
   "cell_type": "code",
   "execution_count": 51,
   "id": "ebaa15c4",
   "metadata": {},
   "outputs": [
    {
     "data": {
      "text/plain": [
       "'Sana'"
      ]
     },
     "execution_count": 51,
     "metadata": {},
     "output_type": "execute_result"
    }
   ],
   "source": [
    "kardiz = \"Sana Gül Bahçesi Vadetmedim\"\n",
    "\n",
    "kardiz[0:4]"
   ]
  },
  {
   "cell_type": "code",
   "execution_count": 46,
   "id": "2a2ace1a",
   "metadata": {},
   "outputs": [
    {
     "data": {
      "text/plain": [
       "'midemtedaV iseçhaB lüG anaS'"
      ]
     },
     "execution_count": 46,
     "metadata": {},
     "output_type": "execute_result"
    }
   ],
   "source": [
    "kardiz[::-1]   # kardiz değişkeni içindeki bütün karakterleri, en son karakterden ilk karaktere kadar\n",
    "               # sondan başa doğru tek tek ekrana yazdır!"
   ]
  },
  {
   "cell_type": "code",
   "execution_count": 47,
   "id": "53a3d128",
   "metadata": {},
   "outputs": [
    {
     "data": {
      "text/plain": [
       "'lüG'"
      ]
     },
     "execution_count": 47,
     "metadata": {},
     "output_type": "execute_result"
    }
   ],
   "source": [
    "kardiz[7:4:-1] \n"
   ]
  },
  {
   "cell_type": "markdown",
   "id": "ea3bcf60",
   "metadata": {},
   "source": [
    "aralığı yazmak istiyoruz evet, ama aralığı düz olacak şekilde yazıyoruz. "
   ]
  },
  {
   "cell_type": "code",
   "execution_count": 52,
   "id": "5cfb01e9",
   "metadata": {},
   "outputs": [
    {
     "data": {
      "text/plain": [
       "'anaS'"
      ]
     },
     "execution_count": 52,
     "metadata": {},
     "output_type": "execute_result"
    }
   ],
   "source": [
    "kardiz[3::-1] # şovv "
   ]
  },
  {
   "cell_type": "markdown",
   "id": "cef5cfb5",
   "metadata": {},
   "source": [
    "kardiz[ilkkarakter:sonkarakter:atlamasayısı] "
   ]
  },
  {
   "cell_type": "code",
   "execution_count": 53,
   "id": "2944a86b",
   "metadata": {},
   "outputs": [],
   "source": [
    "kardiz = \"istanbul\""
   ]
  },
  {
   "cell_type": "code",
   "execution_count": 54,
   "id": "bdbd7ae1",
   "metadata": {},
   "outputs": [
    {
     "data": {
      "text/plain": [
       "'itnu'"
      ]
     },
     "execution_count": 54,
     "metadata": {},
     "output_type": "execute_result"
    }
   ],
   "source": [
    "kardiz[::2]"
   ]
  },
  {
   "cell_type": "code",
   "execution_count": 55,
   "id": "6299de47",
   "metadata": {},
   "outputs": [
    {
     "data": {
      "text/plain": [
       "'lbas'"
      ]
     },
     "execution_count": 55,
     "metadata": {},
     "output_type": "execute_result"
    }
   ],
   "source": [
    "kardiz[::-2]"
   ]
  },
  {
   "cell_type": "code",
   "execution_count": 66,
   "id": "25b0cde4",
   "metadata": {},
   "outputs": [
    {
     "data": {
      "text/plain": [
       "<reversed at 0x1a90aba8100>"
      ]
     },
     "execution_count": 66,
     "metadata": {},
     "output_type": "execute_result"
    }
   ],
   "source": [
    "reversed(\"Sana Gül Bahçesi Vadetmedim\")\n",
    "#Gördüğünüz gibi, bu fonksiyonu düz bir şekilde kullandığımızda bize bir ‘reversed’ nesnesi\n",
    "#vermekle yetiniyor. Buna benzer bir olguyla range() fonksiyonunda da karşılaşmıştık:\n",
    "#bana istediğim sonucu vermiyor. \n"
   ]
  },
  {
   "cell_type": "code",
   "execution_count": 67,
   "id": "9d55c5f4",
   "metadata": {},
   "outputs": [
    {
     "name": "stdout",
     "output_type": "stream",
     "text": [
      "0\n",
      "1\n",
      "2\n",
      "3\n",
      "4\n",
      "5\n",
      "6\n",
      "7\n",
      "8\n",
      "9\n"
     ]
    }
   ],
   "source": [
    "for i in range(10):\n",
    "    print(i)"
   ]
  },
  {
   "cell_type": "code",
   "execution_count": 68,
   "id": "b4e21262",
   "metadata": {},
   "outputs": [
    {
     "name": "stdout",
     "output_type": "stream",
     "text": [
      "0 1 2 3 4 5 6 7 8 9\n"
     ]
    }
   ],
   "source": [
    "print(*range(10))"
   ]
  },
  {
   "cell_type": "code",
   "execution_count": 76,
   "id": "1c146836",
   "metadata": {},
   "outputs": [
    {
     "name": "stdout",
     "output_type": "stream",
     "text": [
      ".  m  i  d  e  m  t  e  d  a  v     i  s  e  ç  h  a  b     l  ü  g     a  n  a  s  "
     ]
    }
   ],
   "source": [
    "for i in reversed(\"sana gül bahçesi vadetmedim.\"):\n",
    "    print(i, end = \"  \")"
   ]
  },
  {
   "cell_type": "markdown",
   "id": "6110686c",
   "metadata": {},
   "source": [
    "end in burada kullanışlı olmasının sebebi her bir harfi biz tek tek getiriyoruz o yüzden"
   ]
  },
  {
   "cell_type": "code",
   "execution_count": null,
   "id": "e209b4f6",
   "metadata": {},
   "outputs": [],
   "source": [
    "for i in reversed(\"sana gül bahçesi vadetmedim.\"):\n",
    "    print(i, end = \"  \")"
   ]
  },
  {
   "cell_type": "code",
   "execution_count": 79,
   "id": "816c92b0",
   "metadata": {},
   "outputs": [
    {
     "name": "stdout",
     "output_type": "stream",
     "text": [
      "iseçhab lüg anas\n"
     ]
    }
   ],
   "source": [
    "print(*reversed(\"sana gül bahçesi\"), sep = \"\")"
   ]
  },
  {
   "cell_type": "code",
   "execution_count": 80,
   "id": "17812fe1",
   "metadata": {},
   "outputs": [
    {
     "name": "stdout",
     "output_type": "stream",
     "text": [
      "i s e ç h a b   l ü g   a n a s    ."
     ]
    }
   ],
   "source": [
    "print(*reversed(\"sana gül bahçesi\"), end = \"    .\")"
   ]
  },
  {
   "cell_type": "code",
   "execution_count": 83,
   "id": "fcf1cf59",
   "metadata": {},
   "outputs": [
    {
     "name": "stdout",
     "output_type": "stream",
     "text": [
      "k i t a p\n"
     ]
    }
   ],
   "source": [
    "print(*\"kitap\")     #bildiğin for i in yapıyor bu * "
   ]
  },
  {
   "cell_type": "code",
   "execution_count": 84,
   "id": "4f846ff5",
   "metadata": {},
   "outputs": [
    {
     "name": "stdout",
     "output_type": "stream",
     "text": [
      "kitap\n"
     ]
    }
   ],
   "source": [
    "print(\"kitap\")"
   ]
  },
  {
   "cell_type": "markdown",
   "id": "12cd57ba",
   "metadata": {},
   "source": [
    "alfabe sırasına dizmek de mümkündür. Bunun için sorted() adlı bir\n",
    "fonksiyondan yararlanacağız:\n"
   ]
  },
  {
   "cell_type": "code",
   "execution_count": 1,
   "id": "0aa4090d",
   "metadata": {},
   "outputs": [
    {
     "data": {
      "text/plain": [
       "['a', 'i', 'k', 'p', 't']"
      ]
     },
     "execution_count": 1,
     "metadata": {},
     "output_type": "execute_result"
    }
   ],
   "source": [
    "sorted(\"kitap\")\n",
    "# liste verdi \n",
    "# bu listedir "
   ]
  },
  {
   "cell_type": "markdown",
   "id": "ead32c83",
   "metadata": {},
   "source": [
    "\n",
    "Bu sorunu aşmak için şöyle bir yöntem deneyebilirsiniz:\n",
    ">>> import locale\n",
    ">>> locale.setlocale(locale.LC_ALL, \"Turkish_Turkey.1254\") #Windows için\n",
    ">>> locale.setlocale(locale.LC_ALL, \"tr_TR\") #GNU/Linux için\n",
    ">>> sorted(\"çiçek\", key=locale.strxfrm)\n",
    "['ç', 'ç', 'e', 'i', 'k']"
   ]
  },
  {
   "cell_type": "code",
   "execution_count": 1,
   "id": "12acbad7",
   "metadata": {},
   "outputs": [],
   "source": [
    "import locale"
   ]
  },
  {
   "cell_type": "code",
   "execution_count": 2,
   "id": "e5485037",
   "metadata": {},
   "outputs": [
    {
     "data": {
      "text/plain": [
       "'Turkish_Turkey.1254'"
      ]
     },
     "execution_count": 2,
     "metadata": {},
     "output_type": "execute_result"
    }
   ],
   "source": [
    "locale.setlocale(locale.LC_ALL, \"Turkish_Turkey.1254\")   # türkçe alfabeyi import ile aktive ettik. "
   ]
  },
  {
   "cell_type": "code",
   "execution_count": 3,
   "id": "1fba6271",
   "metadata": {},
   "outputs": [
    {
     "data": {
      "text/plain": [
       "['ç', 'ç', 'e', 'i', 'k']"
      ]
     },
     "execution_count": 3,
     "metadata": {},
     "output_type": "execute_result"
    }
   ],
   "source": [
    "sorted(\"çiçek\", key = locale.strxfrm)  "
   ]
  },
  {
   "cell_type": "markdown",
   "id": "f31e44f0",
   "metadata": {},
   "source": [
    "ı ile i nin alfabedeki öncelik yarışını yanlış bilir bu modül, ingilizce hariç bütün dillerde vardır.\n",
    "\n",
    "sorted(\"afgdhkıi\", key=locale.strxfrm)\n",
    "['a', 'd', 'f', 'g', 'h', 'i', 'ı', 'k']\n",
    "\n",
    "bu problem için biz yazarız yazılımı \n",
    "\n"
   ]
  },
  {
   "cell_type": "code",
   "execution_count": 4,
   "id": "8349aa96",
   "metadata": {},
   "outputs": [
    {
     "data": {
      "text/plain": [
       "['a', 'd', 'f', 'g', 'h', 'ı', 'i', 'k']"
      ]
     },
     "execution_count": 4,
     "metadata": {},
     "output_type": "execute_result"
    }
   ],
   "source": [
    "harfler = \"abcçdefgğhıijklmnoöprsştuüvyz\"\n",
    "\n",
    "çevrim = {i: harfler.index(i) for i in harfler}\n",
    "\n",
    "sorted(\"afgdhkıi\", key=çevrim.get)\n"
   ]
  },
  {
   "cell_type": "markdown",
   "id": "1576894d",
   "metadata": {},
   "source": [
    " Karakter Dizileri Üzerinde Değişiklik Yapmak\n",
    "    "
   ]
  },
  {
   "cell_type": "markdown",
   "id": "c2a88719",
   "metadata": {},
   "source": [
    "Bizim amacımız bu adreslerin her birinin baş tarafına http:// ifadesini eklemek. Bunun için de\n",
    "yine karakter dizisi birleştirme işlemlerinden yararlanabiliriz."
   ]
  },
  {
   "cell_type": "code",
   "execution_count": 5,
   "id": "bcade0a2",
   "metadata": {},
   "outputs": [],
   "source": [
    "site1 = \"www.google.com\"\n",
    "site2 = \"www.istihza.com\"\n",
    "site3 = \"www.yahoo.com\"\n",
    "site4 = \"www.gnu.org\"\n"
   ]
  },
  {
   "cell_type": "code",
   "execution_count": 6,
   "id": "260fb2d3",
   "metadata": {},
   "outputs": [
    {
     "name": "stdout",
     "output_type": "stream",
     "text": [
      "fhdljsaş w\n",
      "fhdljsaş w\n",
      "fhdljsaş w\n",
      "fhdljsaş .\n",
      "fhdljsaş g\n",
      "fhdljsaş o\n",
      "fhdljsaş o\n",
      "fhdljsaş g\n",
      "fhdljsaş l\n",
      "fhdljsaş e\n",
      "fhdljsaş .\n",
      "fhdljsaş c\n",
      "fhdljsaş o\n",
      "fhdljsaş m\n"
     ]
    }
   ],
   "source": [
    "for i in site1:\n",
    "    print(\"fhdljsaş\",i)"
   ]
  },
  {
   "cell_type": "code",
   "execution_count": 8,
   "id": "87f1dab2",
   "metadata": {},
   "outputs": [
    {
     "name": "stdout",
     "output_type": "stream",
     "text": [
      "http://www.google.com\n",
      "http://www.istihza.com\n",
      "http://www.yahoo.com\n",
      "http://www.gnu.org\n"
     ]
    }
   ],
   "source": [
    "for i in site1,site2,site3,site4:\n",
    "    print(\"http://\",i, sep = \"\")"
   ]
  },
  {
   "cell_type": "markdown",
   "id": "5231909c",
   "metadata": {},
   "source": [
    "kardiz = \"istihza\"\n",
    "\n",
    "\"İ\" + kardiz[1:]\n",
    "'İstihza'\n",
    "\n",
    "Dediğimiz gibi, sanki burada “istihza” karakter dizisini “İstihza” karakter dizisine çevirmişiz gibi\n",
    "duruyor. Ama aslında öyle değil:\n",
    "\n",
    "print(kardiz)\n",
    "\n",
    "istihza\n",
    "\n",
    "\n",
    "\n",
    "Gördüğünüz gibi, kardiz değişkeninin orijinalinde hiçbir değişiklik yok. Ayrıca burada \"İ\"\n",
    "+ kardiz[1:] satırı ile elde ettiğiniz sonuca tekrar ulaşmanızın imkanı yok. Bu değişiklik\n",
    "kaybolmuş durumda. Peki bunun sebebi nedir?\n"
   ]
  },
  {
   "cell_type": "markdown",
   "id": "8fc22a6d",
   "metadata": {},
   "source": [
    "# Bunun nedeni, karakter dizilerinin değiştirilemeyen (immutable) bir veri tipi olmasıdır.\n",
    "Python’da iki tür veri tipi bulunur: değiştirilemeyen veri tipleri (immutable datatypes) ve\n",
    "değiştirilebilen veri tipleri (mutable datatypes). Bizim şimdiye kadar gördüğümüz veri tipleri\n",
    "(sayılar ve karakter dizileri), değiştirilemeyen veri tipleridir"
   ]
  },
  {
   "cell_type": "code",
   "execution_count": 9,
   "id": "f42a7953",
   "metadata": {},
   "outputs": [],
   "source": [
    "kardiz = \"istihza\" "
   ]
  },
  {
   "cell_type": "code",
   "execution_count": 10,
   "id": "c9870295",
   "metadata": {},
   "outputs": [],
   "source": [
    "kardiz = \"İ\" + kardiz[1:]"
   ]
  },
  {
   "cell_type": "code",
   "execution_count": 11,
   "id": "1c125ae2",
   "metadata": {},
   "outputs": [
    {
     "data": {
      "text/plain": [
       "'İstihza'"
      ]
     },
     "execution_count": 11,
     "metadata": {},
     "output_type": "execute_result"
    }
   ],
   "source": [
    "kardiz\n"
   ]
  },
  {
   "cell_type": "markdown",
   "id": "1ced03dc",
   "metadata": {},
   "source": [
    "Diyelim ki, bir kelime içindeki sesli ve sessiz harfleri birbirinden ayırmanız gereken bir program\n",
    "yazıyorsunuz. Yani mesela amacınız ‘istanbul’ kelimesi içinde geçen ‘i’, ‘a’ ve ‘u’ harflerini bir\n",
    "yerde, ‘s’, ‘t’, ‘n’, ‘b’ ve ‘l’ harflerini ise ayrı bir yerde toplamak. Bunun için şöyle bir program\n",
    "yazabilirsiniz:"
   ]
  },
  {
   "cell_type": "code",
   "execution_count": 14,
   "id": "0c37337e",
   "metadata": {},
   "outputs": [
    {
     "name": "stdout",
     "output_type": "stream",
     "text": [
      "iau\n",
      "stnbl\n"
     ]
    }
   ],
   "source": [
    "sesli_harfler = \"aeıioöuü\"\n",
    "sessiz_harfler = \"bcçdfgğhjklmnprsştvyz\"\n",
    "sesliler = \"\"\n",
    "sessizler = \"\"\n",
    "\n",
    "kelime = \"istanbul\"\n",
    "\n",
    "\n",
    "for i in kelime:\n",
    "    if i in sesli_harfler:\n",
    "        sesliler += i\n",
    "    \n",
    "    else:\n",
    "        sessizler += i \n",
    "\n",
    "        \n",
    "print(sesliler)\n",
    "print(sessizler)    "
   ]
  },
  {
   "cell_type": "markdown",
   "id": "6063ba73",
   "metadata": {},
   "source": [
    "# dir()\n",
    "\n",
    "İlk olarak dir() adlı özel bir fonksiyondan söz edeceğiz. Bu metot bize Python’daki bir\n",
    "nesnenin özellikleri hakkında bilgi edinme imkanı verecek. Mesela karakter dizilerinin bize\n",
    "hangi METOTLARI sunduğunu görmek için bu fonksiyonu şöyle kullanabiliriz:\n",
    "\n",
    "FONKSİYONLARIN METOTLARINI BULMAYA YARIYOR\n"
   ]
  },
  {
   "cell_type": "code",
   "execution_count": 15,
   "id": "6cf8c001",
   "metadata": {},
   "outputs": [
    {
     "data": {
      "text/plain": [
       "['__add__',\n",
       " '__class__',\n",
       " '__contains__',\n",
       " '__delattr__',\n",
       " '__dir__',\n",
       " '__doc__',\n",
       " '__eq__',\n",
       " '__format__',\n",
       " '__ge__',\n",
       " '__getattribute__',\n",
       " '__getitem__',\n",
       " '__getnewargs__',\n",
       " '__gt__',\n",
       " '__hash__',\n",
       " '__init__',\n",
       " '__init_subclass__',\n",
       " '__iter__',\n",
       " '__le__',\n",
       " '__len__',\n",
       " '__lt__',\n",
       " '__mod__',\n",
       " '__mul__',\n",
       " '__ne__',\n",
       " '__new__',\n",
       " '__reduce__',\n",
       " '__reduce_ex__',\n",
       " '__repr__',\n",
       " '__rmod__',\n",
       " '__rmul__',\n",
       " '__setattr__',\n",
       " '__sizeof__',\n",
       " '__str__',\n",
       " '__subclasshook__',\n",
       " 'capitalize',\n",
       " 'casefold',\n",
       " 'center',\n",
       " 'count',\n",
       " 'encode',\n",
       " 'endswith',\n",
       " 'expandtabs',\n",
       " 'find',\n",
       " 'format',\n",
       " 'format_map',\n",
       " 'index',\n",
       " 'isalnum',\n",
       " 'isalpha',\n",
       " 'isascii',\n",
       " 'isdecimal',\n",
       " 'isdigit',\n",
       " 'isidentifier',\n",
       " 'islower',\n",
       " 'isnumeric',\n",
       " 'isprintable',\n",
       " 'isspace',\n",
       " 'istitle',\n",
       " 'isupper',\n",
       " 'join',\n",
       " 'ljust',\n",
       " 'lower',\n",
       " 'lstrip',\n",
       " 'maketrans',\n",
       " 'partition',\n",
       " 'replace',\n",
       " 'rfind',\n",
       " 'rindex',\n",
       " 'rjust',\n",
       " 'rpartition',\n",
       " 'rsplit',\n",
       " 'rstrip',\n",
       " 'split',\n",
       " 'splitlines',\n",
       " 'startswith',\n",
       " 'strip',\n",
       " 'swapcase',\n",
       " 'title',\n",
       " 'translate',\n",
       " 'upper',\n",
       " 'zfill']"
      ]
     },
     "execution_count": 15,
     "metadata": {},
     "output_type": "execute_result"
    }
   ],
   "source": [
    "dir(str)"
   ]
  },
  {
   "cell_type": "markdown",
   "id": "9cd5d8f0",
   "metadata": {},
   "source": [
    "dir() fonksiyonunu kullanabilmek için tek yöntemimiz, sorgulamak istediğimiz nesnenin\n",
    "adını kullanmak değil. Mesela karakter dizilerinin metotlarını sorgulamak için ‘str’ kelimesini\n",
    "kullanabileceğimiz gibi, herhangi bir karakter dizisini de kullanabiliriz. Yani:\n",
    "    \n",
    "    \n",
    ">>> dir(\"\")\n",
    "\n",
    "\n",
    "Burada dir() fonksiyonuna parametre olarak boş bir karakter dizisi verdik. Bu kodun\n",
    "dir(str) kodundan hiçbir farkı yoktur. Bu komut da bize karakter dizilerinin metotlarını\n",
    "listeler.\n"
   ]
  },
  {
   "cell_type": "code",
   "execution_count": 17,
   "id": "51169a66",
   "metadata": {
    "scrolled": true
   },
   "outputs": [
    {
     "data": {
      "text/plain": [
       "['__add__',\n",
       " '__class__',\n",
       " '__contains__',\n",
       " '__delattr__',\n",
       " '__dir__',\n",
       " '__doc__',\n",
       " '__eq__',\n",
       " '__format__',\n",
       " '__ge__',\n",
       " '__getattribute__',\n",
       " '__getitem__',\n",
       " '__getnewargs__',\n",
       " '__gt__',\n",
       " '__hash__',\n",
       " '__init__',\n",
       " '__init_subclass__',\n",
       " '__iter__',\n",
       " '__le__',\n",
       " '__len__',\n",
       " '__lt__',\n",
       " '__mod__',\n",
       " '__mul__',\n",
       " '__ne__',\n",
       " '__new__',\n",
       " '__reduce__',\n",
       " '__reduce_ex__',\n",
       " '__repr__',\n",
       " '__rmod__',\n",
       " '__rmul__',\n",
       " '__setattr__',\n",
       " '__sizeof__',\n",
       " '__str__',\n",
       " '__subclasshook__',\n",
       " 'capitalize',\n",
       " 'casefold',\n",
       " 'center',\n",
       " 'count',\n",
       " 'encode',\n",
       " 'endswith',\n",
       " 'expandtabs',\n",
       " 'find',\n",
       " 'format',\n",
       " 'format_map',\n",
       " 'index',\n",
       " 'isalnum',\n",
       " 'isalpha',\n",
       " 'isascii',\n",
       " 'isdecimal',\n",
       " 'isdigit',\n",
       " 'isidentifier',\n",
       " 'islower',\n",
       " 'isnumeric',\n",
       " 'isprintable',\n",
       " 'isspace',\n",
       " 'istitle',\n",
       " 'isupper',\n",
       " 'join',\n",
       " 'ljust',\n",
       " 'lower',\n",
       " 'lstrip',\n",
       " 'maketrans',\n",
       " 'partition',\n",
       " 'replace',\n",
       " 'rfind',\n",
       " 'rindex',\n",
       " 'rjust',\n",
       " 'rpartition',\n",
       " 'rsplit',\n",
       " 'rstrip',\n",
       " 'split',\n",
       " 'splitlines',\n",
       " 'startswith',\n",
       " 'strip',\n",
       " 'swapcase',\n",
       " 'title',\n",
       " 'translate',\n",
       " 'upper',\n",
       " 'zfill']"
      ]
     },
     "execution_count": 17,
     "metadata": {},
     "output_type": "execute_result"
    }
   ],
   "source": [
    "dir(\"\")"
   ]
  },
  {
   "cell_type": "code",
   "execution_count": 19,
   "id": "590479df",
   "metadata": {
    "scrolled": true
   },
   "outputs": [],
   "source": [
    "g =\"\"\n",
    "for i in dir(\"\"):\n",
    "    \n",
    "    if \"_\" not in i[0]:\n",
    "        \n",
    "        g += i \n",
    "    \n",
    "    \n",
    "    "
   ]
  },
  {
   "cell_type": "code",
   "execution_count": 23,
   "id": "d5580b0c",
   "metadata": {},
   "outputs": [
    {
     "data": {
      "text/plain": [
       "'capitalizecasefoldcentercountencodeendswithexpandtabsfindformatformat_mapindexisalnumisalphaisasciiisdecimalisdigitisidentifierislowerisnumericisprintableisspaceistitleisupperjoinljustlowerlstripmaketranspartitionreplacerfindrindexrjustrpartitionrsplitrstripsplitsplitlinesstartswithstripswapcasetitletranslateupperzfill'"
      ]
     },
     "execution_count": 23,
     "metadata": {},
     "output_type": "execute_result"
    }
   ],
   "source": [
    "g # for olayından dolayı bu oluştu "
   ]
  },
  {
   "cell_type": "code",
   "execution_count": 26,
   "id": "409e6a09",
   "metadata": {},
   "outputs": [
    {
     "name": "stdout",
     "output_type": "stream",
     "text": [
      "capitalize ,casefold ,center ,count ,encode ,endswith ,expandtabs ,find ,format ,format_map ,index ,isalnum ,isalpha ,isascii ,isdecimal ,isdigit ,isidentifier ,islower ,isnumeric ,isprintable ,isspace ,istitle ,isupper ,join ,ljust ,lower ,lstrip ,maketrans ,partition ,replace ,rfind ,rindex ,rjust ,rpartition ,rsplit ,rstrip ,split ,splitlines ,startswith ,strip ,swapcase ,title ,translate ,upper ,zfill ,"
     ]
    }
   ],
   "source": [
    "for i in dir(\"\"):\n",
    "    \n",
    "    if \"_\" not in i[0]:\n",
    "        \n",
    "        print(i, end = \" ,\", )   # end i aşağı at(\"\\n\") değil de boşluk yapınca sonuç :)  "
   ]
  },
  {
   "cell_type": "code",
   "execution_count": 27,
   "id": "2105a7a9",
   "metadata": {
    "scrolled": true
   },
   "outputs": [
    {
     "name": "stdout",
     "output_type": "stream",
     "text": [
      "capitalize\n",
      "casefold\n",
      "center\n",
      "count\n",
      "encode\n",
      "endswith\n",
      "expandtabs\n",
      "find\n",
      "format\n",
      "format_map\n",
      "index\n",
      "isalnum\n",
      "isalpha\n",
      "isascii\n",
      "isdecimal\n",
      "isdigit\n",
      "isidentifier\n",
      "islower\n",
      "isnumeric\n",
      "isprintable\n",
      "isspace\n",
      "istitle\n",
      "isupper\n",
      "join\n",
      "ljust\n",
      "lower\n",
      "lstrip\n",
      "maketrans\n",
      "partition\n",
      "replace\n",
      "rfind\n",
      "rindex\n",
      "rjust\n",
      "rpartition\n",
      "rsplit\n",
      "rstrip\n",
      "split\n",
      "splitlines\n",
      "startswith\n",
      "strip\n",
      "swapcase\n",
      "title\n",
      "translate\n",
      "upper\n",
      "zfill\n"
     ]
    }
   ],
   "source": [
    "for i in dir(\"\"):\n",
    "    \n",
    "    if \"_\" not in i[0]:\n",
    "        print(i)"
   ]
  },
  {
   "cell_type": "markdown",
   "id": "5d3a6bcd",
   "metadata": {},
   "source": [
    "# enumerate()\n",
    "Eğer yazdığınız bir programda numaralandırmaya ilişkin işlemler yapmanız gerekiyorsa\n",
    "Python’ın size sunduğu çok özel bir fonksiyondan yararlanabilirsiniz. Bu fonksiyonun adı\n",
    "enumerate().\n",
    "\n",
    "\n"
   ]
  },
  {
   "cell_type": "markdown",
   "id": "4b70d6cc",
   "metadata": {},
   "source": [
    "enumerate(\"istihza\")\n",
    "<enumerate object at 0x00E3BC88>\n",
    "Tıpkı reversed() fonksiyonunun bir ‘reversed’ nesnesi vermesi gibi, bu fonksiyonun da bize\n",
    "yalnızca bir ‘enumerate’ nesnesi verdiğini görüyorsunuz."
   ]
  },
  {
   "cell_type": "code",
   "execution_count": 30,
   "id": "aa57e8d7",
   "metadata": {},
   "outputs": [
    {
     "name": "stdout",
     "output_type": "stream",
     "text": [
      "<enumerate object at 0x0000014B816FBE00>\n"
     ]
    }
   ],
   "source": [
    "print(enumerate(\"istihza\"))"
   ]
  },
  {
   "cell_type": "code",
   "execution_count": 35,
   "id": "b4c35ca8",
   "metadata": {},
   "outputs": [
    {
     "name": "stdout",
     "output_type": "stream",
     "text": [
      "(0, 'i') ,(1, 's') ,(2, 't') ,(3, 'i') ,(4, 'h') ,(5, 'z') ,(6, 'a')\n"
     ]
    }
   ],
   "source": [
    "print(*enumerate(\"istihza\"),sep =\" ,\" )"
   ]
  },
  {
   "cell_type": "markdown",
   "id": "e92ea8bd",
   "metadata": {},
   "source": [
    "Enumerate kelimesi İngilizcede ‘numaralamak, numaralandırmak"
   ]
  },
  {
   "cell_type": "markdown",
   "id": "a9b6f7de",
   "metadata": {},
   "source": [
    "Dolayısıyla enumerate() fonksiyonu, kendisine parametre olarak verilen değer hakkında bize\n",
    "iki farklı bilgi verir: Bir öğe ve bu öğeye ait bir sıra numarası. Yukarıdaki çıktıda gördüğünüz\n",
    "şey de işte her bir öğenin kendisi ve o öğeye ait bir sıra numarasıdır"
   ]
  },
  {
   "cell_type": "code",
   "execution_count": 36,
   "id": "a98050f8",
   "metadata": {},
   "outputs": [
    {
     "name": "stdout",
     "output_type": "stream",
     "text": [
      "(0, 'i')\n",
      "(1, 's')\n",
      "(2, 't')\n",
      "(3, 'i')\n",
      "(4, 'h')\n",
      "(5, 'z')\n",
      "(6, 'a')\n"
     ]
    }
   ],
   "source": [
    "for i in enumerate(\"istihza\"):\n",
    "    print(i)\n"
   ]
  },
  {
   "cell_type": "code",
   "execution_count": 39,
   "id": "1ca4fbb8",
   "metadata": {
    "scrolled": true
   },
   "outputs": [
    {
     "name": "stdout",
     "output_type": "stream",
     "text": [
      "1.capitalize\n",
      "2.casefold\n",
      "3.center\n",
      "4.count\n",
      "5.encode\n",
      "6.endswith\n",
      "7.expandtabs\n",
      "8.find\n",
      "9.format\n",
      "10.format_map\n",
      "11.index\n",
      "12.isalnum\n",
      "13.isalpha\n",
      "14.isascii\n",
      "15.isdecimal\n",
      "16.isdigit\n",
      "17.isidentifier\n",
      "18.islower\n",
      "19.isnumeric\n",
      "20.isprintable\n",
      "21.isspace\n",
      "22.istitle\n",
      "23.isupper\n",
      "24.join\n",
      "25.ljust\n",
      "26.lower\n",
      "27.lstrip\n",
      "28.maketrans\n",
      "29.partition\n",
      "30.replace\n",
      "31.rfind\n",
      "32.rindex\n",
      "33.rjust\n",
      "34.rpartition\n",
      "35.rsplit\n",
      "36.rstrip\n",
      "37.split\n",
      "38.splitlines\n",
      "39.startswith\n",
      "40.strip\n",
      "41.swapcase\n",
      "42.title\n",
      "43.translate\n",
      "44.upper\n",
      "45.zfill\n"
     ]
    }
   ],
   "source": [
    "sayaç = 0\n",
    "\n",
    "for i in dir(\"\"):\n",
    "    if \"_\" not in i[0]:\n",
    "        sayaç += 1\n",
    "        print(sayaç,\".\", i, sep= \"\")  # bunun yerine daha hızlı bir yöntem var. enumerate()"
   ]
  },
  {
   "cell_type": "code",
   "execution_count": 46,
   "id": "b620e094",
   "metadata": {
    "scrolled": true
   },
   "outputs": [
    {
     "name": "stdout",
     "output_type": "stream",
     "text": [
      "(0, '__add__')\n",
      "(1, '__class__')\n",
      "(2, '__contains__')\n",
      "(3, '__delattr__')\n",
      "(4, '__dir__')\n",
      "(5, '__doc__')\n",
      "(6, '__eq__')\n",
      "(7, '__format__')\n",
      "(8, '__ge__')\n",
      "(9, '__getattribute__')\n",
      "(10, '__getitem__')\n",
      "(11, '__getnewargs__')\n",
      "(12, '__gt__')\n",
      "(13, '__hash__')\n",
      "(14, '__init__')\n",
      "(15, '__init_subclass__')\n",
      "(16, '__iter__')\n",
      "(17, '__le__')\n",
      "(18, '__len__')\n",
      "(19, '__lt__')\n",
      "(20, '__mod__')\n",
      "(21, '__mul__')\n",
      "(22, '__ne__')\n",
      "(23, '__new__')\n",
      "(24, '__reduce__')\n",
      "(25, '__reduce_ex__')\n",
      "(26, '__repr__')\n",
      "(27, '__rmod__')\n",
      "(28, '__rmul__')\n",
      "(29, '__setattr__')\n",
      "(30, '__sizeof__')\n",
      "(31, '__str__')\n",
      "(32, '__subclasshook__')\n",
      "(33, 'capitalize')\n",
      "(34, 'casefold')\n",
      "(35, 'center')\n",
      "(36, 'count')\n",
      "(37, 'encode')\n",
      "(38, 'endswith')\n",
      "(39, 'expandtabs')\n",
      "(40, 'find')\n",
      "(41, 'format')\n",
      "(42, 'format_map')\n",
      "(43, 'index')\n",
      "(44, 'isalnum')\n",
      "(45, 'isalpha')\n",
      "(46, 'isascii')\n",
      "(47, 'isdecimal')\n",
      "(48, 'isdigit')\n",
      "(49, 'isidentifier')\n",
      "(50, 'islower')\n",
      "(51, 'isnumeric')\n",
      "(52, 'isprintable')\n",
      "(53, 'isspace')\n",
      "(54, 'istitle')\n",
      "(55, 'isupper')\n",
      "(56, 'join')\n",
      "(57, 'ljust')\n",
      "(58, 'lower')\n",
      "(59, 'lstrip')\n",
      "(60, 'maketrans')\n",
      "(61, 'partition')\n",
      "(62, 'replace')\n",
      "(63, 'rfind')\n",
      "(64, 'rindex')\n",
      "(65, 'rjust')\n",
      "(66, 'rpartition')\n",
      "(67, 'rsplit')\n",
      "(68, 'rstrip')\n",
      "(69, 'split')\n",
      "(70, 'splitlines')\n",
      "(71, 'startswith')\n",
      "(72, 'strip')\n",
      "(73, 'swapcase')\n",
      "(74, 'title')\n",
      "(75, 'translate')\n",
      "(76, 'upper')\n",
      "(77, 'zfill')\n"
     ]
    }
   ],
   "source": [
    "for sıra in enumerate(dir(\"\")):\n",
    "    print(sıra)"
   ]
  },
  {
   "cell_type": "code",
   "execution_count": 47,
   "id": "8da4d48e",
   "metadata": {
    "scrolled": true
   },
   "outputs": [
    {
     "name": "stdout",
     "output_type": "stream",
     "text": [
      "0 __add__\n",
      "1 __class__\n",
      "2 __contains__\n",
      "3 __delattr__\n",
      "4 __dir__\n",
      "5 __doc__\n",
      "6 __eq__\n",
      "7 __format__\n",
      "8 __ge__\n",
      "9 __getattribute__\n",
      "10 __getitem__\n",
      "11 __getnewargs__\n",
      "12 __gt__\n",
      "13 __hash__\n",
      "14 __init__\n",
      "15 __init_subclass__\n",
      "16 __iter__\n",
      "17 __le__\n",
      "18 __len__\n",
      "19 __lt__\n",
      "20 __mod__\n",
      "21 __mul__\n",
      "22 __ne__\n",
      "23 __new__\n",
      "24 __reduce__\n",
      "25 __reduce_ex__\n",
      "26 __repr__\n",
      "27 __rmod__\n",
      "28 __rmul__\n",
      "29 __setattr__\n",
      "30 __sizeof__\n",
      "31 __str__\n",
      "32 __subclasshook__\n",
      "33 capitalize\n",
      "34 casefold\n",
      "35 center\n",
      "36 count\n",
      "37 encode\n",
      "38 endswith\n",
      "39 expandtabs\n",
      "40 find\n",
      "41 format\n",
      "42 format_map\n",
      "43 index\n",
      "44 isalnum\n",
      "45 isalpha\n",
      "46 isascii\n",
      "47 isdecimal\n",
      "48 isdigit\n",
      "49 isidentifier\n",
      "50 islower\n",
      "51 isnumeric\n",
      "52 isprintable\n",
      "53 isspace\n",
      "54 istitle\n",
      "55 isupper\n",
      "56 join\n",
      "57 ljust\n",
      "58 lower\n",
      "59 lstrip\n",
      "60 maketrans\n",
      "61 partition\n",
      "62 replace\n",
      "63 rfind\n",
      "64 rindex\n",
      "65 rjust\n",
      "66 rpartition\n",
      "67 rsplit\n",
      "68 rstrip\n",
      "69 split\n",
      "70 splitlines\n",
      "71 startswith\n",
      "72 strip\n",
      "73 swapcase\n",
      "74 title\n",
      "75 translate\n",
      "76 upper\n",
      "77 zfill\n"
     ]
    }
   ],
   "source": [
    "for sıra,method in enumerate(dir(\"\")):\n",
    "    print(sıra,method)"
   ]
  },
  {
   "cell_type": "code",
   "execution_count": 1,
   "id": "155628cd",
   "metadata": {
    "scrolled": true
   },
   "outputs": [
    {
     "name": "stdout",
     "output_type": "stream",
     "text": [
      "(0, '__add__')\n",
      "(1, '__class__')\n",
      "(2, '__contains__')\n",
      "(3, '__delattr__')\n",
      "(4, '__dir__')\n",
      "(5, '__doc__')\n",
      "(6, '__eq__')\n",
      "(7, '__format__')\n",
      "(8, '__ge__')\n",
      "(9, '__getattribute__')\n",
      "(10, '__getitem__')\n",
      "(11, '__getnewargs__')\n",
      "(12, '__gt__')\n",
      "(13, '__hash__')\n",
      "(14, '__init__')\n",
      "(15, '__init_subclass__')\n",
      "(16, '__iter__')\n",
      "(17, '__le__')\n",
      "(18, '__len__')\n",
      "(19, '__lt__')\n",
      "(20, '__mod__')\n",
      "(21, '__mul__')\n",
      "(22, '__ne__')\n",
      "(23, '__new__')\n",
      "(24, '__reduce__')\n",
      "(25, '__reduce_ex__')\n",
      "(26, '__repr__')\n",
      "(27, '__rmod__')\n",
      "(28, '__rmul__')\n",
      "(29, '__setattr__')\n",
      "(30, '__sizeof__')\n",
      "(31, '__str__')\n",
      "(32, '__subclasshook__')\n",
      "(33, 'capitalize')\n",
      "(34, 'casefold')\n",
      "(35, 'center')\n",
      "(36, 'count')\n",
      "(37, 'encode')\n",
      "(38, 'endswith')\n",
      "(39, 'expandtabs')\n",
      "(40, 'find')\n",
      "(41, 'format')\n",
      "(42, 'format_map')\n",
      "(43, 'index')\n",
      "(44, 'isalnum')\n",
      "(45, 'isalpha')\n",
      "(46, 'isascii')\n",
      "(47, 'isdecimal')\n",
      "(48, 'isdigit')\n",
      "(49, 'isidentifier')\n",
      "(50, 'islower')\n",
      "(51, 'isnumeric')\n",
      "(52, 'isprintable')\n",
      "(53, 'isspace')\n",
      "(54, 'istitle')\n",
      "(55, 'isupper')\n",
      "(56, 'join')\n",
      "(57, 'ljust')\n",
      "(58, 'lower')\n",
      "(59, 'lstrip')\n",
      "(60, 'maketrans')\n",
      "(61, 'partition')\n",
      "(62, 'replace')\n",
      "(63, 'rfind')\n",
      "(64, 'rindex')\n",
      "(65, 'rjust')\n",
      "(66, 'rpartition')\n",
      "(67, 'rsplit')\n",
      "(68, 'rstrip')\n",
      "(69, 'split')\n",
      "(70, 'splitlines')\n",
      "(71, 'startswith')\n",
      "(72, 'strip')\n",
      "(73, 'swapcase')\n",
      "(74, 'title')\n",
      "(75, 'translate')\n",
      "(76, 'upper')\n",
      "(77, 'zfill')\n"
     ]
    }
   ],
   "source": [
    "for i in enumerate(dir(\"\")):\n",
    "    print(i)"
   ]
  },
  {
   "cell_type": "code",
   "execution_count": 6,
   "id": "614c2059",
   "metadata": {},
   "outputs": [
    {
     "name": "stdout",
     "output_type": "stream",
     "text": [
      "şçöğüİı\n",
      "şçöğüİı\n",
      "şçöğüİı\n",
      "şçöğüİı\n",
      "şçöğüİı\n",
      "şçöğüİı\n",
      "şçöğüİı\n"
     ]
    }
   ],
   "source": [
    "tr_harfler = \"şçöğüİı\"\n",
    "a = 0 \n",
    "while a < len(tr_harfler):\n",
    "    print(tr_harfler, sep=\"\\n\")\n",
    "    a += 1"
   ]
  },
  {
   "cell_type": "code",
   "execution_count": 5,
   "id": "9e30349c",
   "metadata": {},
   "outputs": [
    {
     "ename": "NameError",
     "evalue": "name 'u' is not defined",
     "output_type": "error",
     "traceback": [
      "\u001b[1;31m---------------------------------------------------------------------------\u001b[0m",
      "\u001b[1;31mNameError\u001b[0m                                 Traceback (most recent call last)",
      "\u001b[1;32m<ipython-input-5-812c6c2d49c9>\u001b[0m in \u001b[0;36m<module>\u001b[1;34m\u001b[0m\n\u001b[1;32m----> 1\u001b[1;33m \u001b[1;32mwhile\u001b[0m \u001b[0mu\u001b[0m \u001b[1;33m<\u001b[0m \u001b[0mlen\u001b[0m\u001b[1;33m(\u001b[0m\u001b[0mtr_harfler\u001b[0m\u001b[1;33m)\u001b[0m\u001b[1;33m:\u001b[0m\u001b[1;33m\u001b[0m\u001b[1;33m\u001b[0m\u001b[0m\n\u001b[0m\u001b[0;32m      2\u001b[0m     \u001b[0mprint\u001b[0m\u001b[1;33m(\u001b[0m\u001b[0mtr_harfler\u001b[0m\u001b[1;33m[\u001b[0m\u001b[0mu\u001b[0m\u001b[1;33m]\u001b[0m\u001b[1;33m)\u001b[0m\u001b[1;33m\u001b[0m\u001b[1;33m\u001b[0m\u001b[0m\n",
      "\u001b[1;31mNameError\u001b[0m: name 'u' is not defined"
     ]
    }
   ],
   "source": [
    "while u < len(tr_harfler):\n",
    "    print(tr_harfler[u])       # u yu define etmem lazım "
   ]
  },
  {
   "cell_type": "code",
   "execution_count": 11,
   "id": "e83e2505",
   "metadata": {},
   "outputs": [
    {
     "name": "stdout",
     "output_type": "stream",
     "text": [
      "ş\n",
      "ç\n",
      "ö\n",
      "ğ\n",
      "ü\n",
      "İ\n",
      "ı\n"
     ]
    }
   ],
   "source": [
    "tr_harfler = \"şçöğüİı\"\n",
    "a = 0 \n",
    "\n",
    "while a < len(tr_harfler):\n",
    "    \n",
    "    print(tr_harfler[a])\n",
    "    a += 1 "
   ]
  },
  {
   "cell_type": "code",
   "execution_count": null,
   "id": "b1d95e47",
   "metadata": {},
   "outputs": [],
   "source": []
  }
 ],
 "metadata": {
  "kernelspec": {
   "display_name": "Python 3",
   "language": "python",
   "name": "python3"
  },
  "language_info": {
   "codemirror_mode": {
    "name": "ipython",
    "version": 3
   },
   "file_extension": ".py",
   "mimetype": "text/x-python",
   "name": "python",
   "nbconvert_exporter": "python",
   "pygments_lexer": "ipython3",
   "version": "3.8.8"
  }
 },
 "nbformat": 4,
 "nbformat_minor": 5
}
