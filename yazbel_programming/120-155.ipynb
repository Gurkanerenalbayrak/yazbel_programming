{
 "cells": [
  {
   "cell_type": "code",
   "execution_count": 1,
   "id": "668fda2a",
   "metadata": {},
   "outputs": [
    {
     "name": "stdout",
     "output_type": "stream",
     "text": [
      "isminiz nedir? gürkan\n",
      "merhaba benim adım gürkan!\n"
     ]
    }
   ],
   "source": [
    "gelen_isim = input(\"isminiz nedir? \")\n",
    "print(\"merhaba benim adım\", gelen_isim, end=(\"!\\n\") )"
   ]
  },
  {
   "cell_type": "code",
   "execution_count": 2,
   "id": "d84a0490",
   "metadata": {},
   "outputs": [
    {
     "name": "stdout",
     "output_type": "stream",
     "text": [
      "isminiz nedir? asdf\n",
      "merhaba benim adım asdf!\n"
     ]
    }
   ],
   "source": [
    "gelen_isim = input(\"isminiz nedir? \")\n",
    "print(\"merhaba benim adım\", gelen_isim, end=(\"!\\n\") )"
   ]
  },
  {
   "cell_type": "code",
   "execution_count": 3,
   "id": "3c32a5b2",
   "metadata": {},
   "outputs": [
    {
     "name": "stdout",
     "output_type": "stream",
     "text": [
      "İsminiz nedir? gürkan\n",
      "Merhaba gürkan!\n"
     ]
    }
   ],
   "source": [
    "isim = input(\"İsminiz nedir? \")\n",
    "print(\"Merhaba\", isim, end=\"!\\n\")"
   ]
  },
  {
   "cell_type": "code",
   "execution_count": 16,
   "id": "80a4016e",
   "metadata": {},
   "outputs": [
    {
     "name": "stdout",
     "output_type": "stream",
     "text": [
      "dairenin çapı:12\n",
      "yarıçap:            6.0!\n",
      "alan:            113.04!\n"
     ]
    }
   ],
   "source": [
    "çap = input(\"dairenin çapı:\")\n",
    "yarıçap = int(çap) / 2 \n",
    "print(\"yarıçap:\", yarıçap, end=\"!\\n\", sep=\"            \")\n",
    "alan = 3.14 * pow(yarıçap,2)\n",
    "print(\"alan:\", alan, end=\"!\\n\", sep= \"            \")"
   ]
  },
  {
   "cell_type": "code",
   "execution_count": 21,
   "id": "133dacaf",
   "metadata": {},
   "outputs": [
    {
     "name": "stdout",
     "output_type": "stream",
     "text": [
      "herhangi bir sayı girin:sd\n",
      "girmiş olduğunuz sayının tipi şudur: <class 'str'>\n"
     ]
    }
   ],
   "source": [
    "sayı = input(\"herhangi bir sayı girin:\")\n",
    "tip = type(sayı)\n",
    "print(\"girmiş olduğunuz sayının tipi şudur:\", tip)\n",
    "\n",
    "\n",
    "\n",
    "\n",
    "\n",
    "\n",
    "#Bu programı çalıştırdığımızda ne tür bir veri girersek girelim, girdiğimiz verinin tipi str, yani\n",
    "#karakter dizisi olacaktır. Demek ki gerçekten de, kullanıcıdan veri almak için kullandığımız\n",
    "#input() fonksiyonu bize her koşulda bir karakter dizisi veriyormuş.\n",
    "\n",
    "\n",
    "\n",
    "\n",
    "\n",
    "# gerçekten de hep str aldım "
   ]
  },
  {
   "cell_type": "code",
   "execution_count": 72,
   "id": "250948b5",
   "metadata": {},
   "outputs": [
    {
     "ename": "TypeError",
     "evalue": "'str' object is not callable",
     "output_type": "error",
     "traceback": [
      "\u001b[1;31m---------------------------------------------------------------------------\u001b[0m",
      "\u001b[1;31mTypeError\u001b[0m                                 Traceback (most recent call last)",
      "\u001b[1;32m<ipython-input-72-3b081d878a14>\u001b[0m in \u001b[0;36m<module>\u001b[1;34m\u001b[0m\n\u001b[1;32m----> 1\u001b[1;33m \u001b[0msayı1\u001b[0m \u001b[1;33m=\u001b[0m \u001b[0minput\u001b[0m\u001b[1;33m(\u001b[0m\u001b[1;34m\"Toplama işlemi için ilk sayıyı girin: \"\u001b[0m\u001b[1;33m)\u001b[0m\u001b[1;33m\u001b[0m\u001b[1;33m\u001b[0m\u001b[0m\n\u001b[0m\u001b[0;32m      2\u001b[0m \u001b[0msayı2\u001b[0m \u001b[1;33m=\u001b[0m \u001b[0minput\u001b[0m\u001b[1;33m(\u001b[0m\u001b[1;34m\"Toplama işlemi için ikinci sayıyı girin: \"\u001b[0m\u001b[1;33m)\u001b[0m\u001b[1;33m\u001b[0m\u001b[1;33m\u001b[0m\u001b[0m\n\u001b[0;32m      3\u001b[0m \u001b[0mprint\u001b[0m\u001b[1;33m(\u001b[0m\u001b[0msayı1\u001b[0m\u001b[1;33m,\u001b[0m \u001b[1;34m\"+\"\u001b[0m\u001b[1;33m,\u001b[0m \u001b[0msayı2\u001b[0m\u001b[1;33m,\u001b[0m \u001b[1;34m\"=\"\u001b[0m\u001b[1;33m,\u001b[0m \u001b[0msayı1\u001b[0m \u001b[1;33m+\u001b[0m \u001b[0msayı2\u001b[0m\u001b[1;33m)\u001b[0m \u001b[1;31m# OLAY TAMAMEN BU JFLKDŞAJFŞLD\u001b[0m\u001b[1;33m\u001b[0m\u001b[1;33m\u001b[0m\u001b[0m\n",
      "\u001b[1;31mTypeError\u001b[0m: 'str' object is not callable"
     ]
    }
   ],
   "source": [
    "sayı1 = input(\"Toplama işlemi için ilk sayıyı girin: \")\n",
    "sayı2 = input(\"Toplama işlemi için ikinci sayıyı girin: \")\n",
    "print(sayı1, \"+\", sayı2, \"=\", sayı1 + sayı2) # OLAY TAMAMEN BU JFLKDŞAJFŞLD\n"
   ]
  },
  {
   "cell_type": "code",
   "execution_count": 23,
   "id": "8861f455",
   "metadata": {},
   "outputs": [
    {
     "name": "stdout",
     "output_type": "stream",
     "text": [
      "Lütfen bir sayı girin: 12\n"
     ]
    },
    {
     "ename": "TypeError",
     "evalue": "unsupported operand type(s) for ** or pow(): 'str' and 'int'",
     "output_type": "error",
     "traceback": [
      "\u001b[1;31m---------------------------------------------------------------------------\u001b[0m",
      "\u001b[1;31mTypeError\u001b[0m                                 Traceback (most recent call last)",
      "\u001b[1;32m<ipython-input-23-b1b77a0b2620>\u001b[0m in \u001b[0;36m<module>\u001b[1;34m\u001b[0m\n\u001b[0;32m      1\u001b[0m \u001b[0msayı\u001b[0m \u001b[1;33m=\u001b[0m \u001b[0minput\u001b[0m\u001b[1;33m(\u001b[0m\u001b[1;34m\"Lütfen bir sayı girin: \"\u001b[0m\u001b[1;33m)\u001b[0m\u001b[1;33m\u001b[0m\u001b[1;33m\u001b[0m\u001b[0m\n\u001b[1;32m----> 2\u001b[1;33m \u001b[0mprint\u001b[0m\u001b[1;33m(\u001b[0m\u001b[1;34m\"Girdiğiniz sayının karesi: \"\u001b[0m\u001b[1;33m,\u001b[0m \u001b[0msayı\u001b[0m \u001b[1;33m**\u001b[0m \u001b[1;36m2\u001b[0m\u001b[1;33m)\u001b[0m\u001b[1;33m\u001b[0m\u001b[1;33m\u001b[0m\u001b[0m\n\u001b[0m",
      "\u001b[1;31mTypeError\u001b[0m: unsupported operand type(s) for ** or pow(): 'str' and 'int'"
     ]
    }
   ],
   "source": [
    "sayı = input(\"Lütfen bir sayı girin: \")\n",
    "print(\"Girdiğiniz sayının karesi: \", sayı ** 2)\n",
    "\n",
    "\n",
    "\n",
    "\n",
    "# input DAİMA GERİ YAZILAN ŞEYLERİNİ KARAKTER DİZİSİ OLARAK ALGILADIĞI İÇİN BÖYLE BİR PROBLEM OLDU(KARAKTER DİZİSİ YAZI İŞTE)\n",
    "\n",
    "\n"
   ]
  },
  {
   "cell_type": "code",
   "execution_count": 24,
   "id": "e85b6c92",
   "metadata": {},
   "outputs": [
    {
     "name": "stdout",
     "output_type": "stream",
     "text": [
      "Lütfen bir sayı girin: 12\n",
      "girdiğiniz sayının karesi: 144\n"
     ]
    }
   ],
   "source": [
    "sayı = input(\"Lütfen bir sayı girin: \")\n",
    "print(\"girdiğiniz sayının karesi:\", int(sayı) ** 2)\n",
    "\n",
    "\n",
    "\n"
   ]
  },
  {
   "cell_type": "code",
   "execution_count": 1,
   "id": "7ad77c92",
   "metadata": {},
   "outputs": [],
   "source": [
    "#Python’daki tip dönüştürücüleri elbette sadece int() fonksiyonuyla sınırlı değildir.\n",
    "#Gördüğünüz gibi, int() fonksiyonu sayı değerli verileri (mesela karakter dizilerini) tam\n",
    "#sayıya dönüştürüyor. Bunun bir de tersi mümkündür. Yani karakter dizisi olmayan verileri\n",
    "#karakter dizisine dönüştürmemiz de mümkündür."
   ]
  },
  {
   "cell_type": "code",
   "execution_count": 2,
   "id": "3d6de343",
   "metadata": {},
   "outputs": [
    {
     "ename": "TypeError",
     "evalue": "object of type 'int' has no len()",
     "output_type": "error",
     "traceback": [
      "\u001b[1;31m---------------------------------------------------------------------------\u001b[0m",
      "\u001b[1;31mTypeError\u001b[0m                                 Traceback (most recent call last)",
      "\u001b[1;32m<ipython-input-2-ff73a355637e>\u001b[0m in \u001b[0;36m<module>\u001b[1;34m\u001b[0m\n\u001b[1;32m----> 1\u001b[1;33m \u001b[0mlen\u001b[0m\u001b[1;33m(\u001b[0m\u001b[1;36m4564564654\u001b[0m\u001b[1;33m)\u001b[0m\u001b[1;33m\u001b[0m\u001b[1;33m\u001b[0m\u001b[0m\n\u001b[0m",
      "\u001b[1;31mTypeError\u001b[0m: object of type 'int' has no len()"
     ]
    }
   ],
   "source": [
    "len(4564564654)"
   ]
  },
  {
   "cell_type": "code",
   "execution_count": 6,
   "id": "aacd5ac8",
   "metadata": {},
   "outputs": [
    {
     "data": {
      "text/plain": [
       "str"
      ]
     },
     "execution_count": 6,
     "metadata": {},
     "output_type": "execute_result"
    }
   ],
   "source": [
    "# len() fonksiyonunu sayılarda kullanamıyoruz o yüzden str() yi kullanmamız lazım \n",
    "benim_sayim = 4564564564\n",
    "my_str_number = str(benim_sayim)\n",
    "type(my_str_number)"
   ]
  },
  {
   "cell_type": "code",
   "execution_count": 5,
   "id": "5f58c5e5",
   "metadata": {},
   "outputs": [
    {
     "data": {
      "text/plain": [
       "11"
      ]
     },
     "execution_count": 5,
     "metadata": {},
     "output_type": "execute_result"
    }
   ],
   "source": [
    "sayı = 12343423432\n",
    "kardiz = str(sayı)\n",
    "len(kardiz)\n"
   ]
  },
  {
   "cell_type": "code",
   "execution_count": 7,
   "id": "d335e0f4",
   "metadata": {},
   "outputs": [
    {
     "data": {
      "text/plain": [
       "11"
      ]
     },
     "execution_count": 7,
     "metadata": {},
     "output_type": "execute_result"
    }
   ],
   "source": [
    "len(str(12343423432))\n"
   ]
  },
  {
   "cell_type": "code",
   "execution_count": 8,
   "id": "51ad406f",
   "metadata": {},
   "outputs": [],
   "source": [
    "# float() fonksiyonu sayıyı mühendislik şeklinde şekillendiriyor "
   ]
  },
  {
   "cell_type": "code",
   "execution_count": 9,
   "id": "2e4bbb51",
   "metadata": {},
   "outputs": [
    {
     "name": "stdout",
     "output_type": "stream",
     "text": [
      "23.0\n"
     ]
    }
   ],
   "source": [
    "b = 23 \n",
    "print(float(b))\n"
   ]
  },
  {
   "cell_type": "code",
   "execution_count": 10,
   "id": "eabda86d",
   "metadata": {},
   "outputs": [
    {
     "data": {
      "text/plain": [
       "str"
      ]
     },
     "execution_count": 10,
     "metadata": {},
     "output_type": "execute_result"
    }
   ],
   "source": [
    "#Aynı şeyi, sayı değerli karakter dizileri üzerine uygulamak da mümkündür:\n",
    "b = \"23\"\n",
    "type(b) "
   ]
  },
  {
   "cell_type": "code",
   "execution_count": 11,
   "id": "10378606",
   "metadata": {},
   "outputs": [
    {
     "data": {
      "text/plain": [
       "23.0"
      ]
     },
     "execution_count": 11,
     "metadata": {},
     "output_type": "execute_result"
    }
   ],
   "source": [
    "float(b)"
   ]
  },
  {
   "cell_type": "code",
   "execution_count": 12,
   "id": "36057d07",
   "metadata": {},
   "outputs": [
    {
     "data": {
      "text/plain": [
       "complex"
      ]
     },
     "execution_count": 12,
     "metadata": {},
     "output_type": "execute_result"
    }
   ],
   "source": [
    "#KOMPLEX SAYILIR, YANİ KARMAŞIK SAYILAR OLARAK BİLİNİR VE BU İ J K lı VS. SAYILARDIR.\n",
    "type(12+0j)\n",
    "\n"
   ]
  },
  {
   "cell_type": "code",
   "execution_count": 13,
   "id": "4d11a409",
   "metadata": {},
   "outputs": [
    {
     "data": {
      "text/plain": [
       "56"
      ]
     },
     "execution_count": 13,
     "metadata": {},
     "output_type": "execute_result"
    }
   ],
   "source": [
    "int(56.5)\n",
    "# AHA BURDA DA TAM TERSİ YAPIYORUZ "
   ]
  },
  {
   "cell_type": "code",
   "execution_count": 14,
   "id": "ff6a5f49",
   "metadata": {},
   "outputs": [],
   "source": [
    "#>>> nesne = \"45\"\n",
    "#Yukarıdaki değeri tırnak içinde belirttiğimiz için bu değer bir karakter dizisidir. Şimdi bunu bir\n",
    "#tamsayıya çevireceğiz:\n",
    "#>>> int(nesne)\n",
    "#45\n",
    "#Dilersek, aynı karakter dizisini kayan noktalı sayıya da çevirebiliriz:\n",
    "#>>> float(nesne)\n",
    "#45.0"
   ]
  },
  {
   "cell_type": "code",
   "execution_count": 18,
   "id": "2d8fbcc2",
   "metadata": {},
   "outputs": [
    {
     "data": {
      "text/plain": [
       "543.34"
      ]
     },
     "execution_count": 18,
     "metadata": {},
     "output_type": "execute_result"
    }
   ],
   "source": [
    "x = float(\"543.34\")\n",
    "x"
   ]
  },
  {
   "cell_type": "code",
   "execution_count": 20,
   "id": "aacf659f",
   "metadata": {},
   "outputs": [
    {
     "name": "stdout",
     "output_type": "stream",
     "text": [
      "İşleminiz: 12*12\n",
      "144\n"
     ]
    }
   ],
   "source": [
    "veri = input(\"İşleminiz: \")\n",
    "Hesap = eval(veri)\n",
    "print(Hesap)\n",
    "#waaoow"
   ]
  },
  {
   "cell_type": "code",
   "execution_count": 22,
   "id": "1249d769",
   "metadata": {},
   "outputs": [
    {
     "name": "stdout",
     "output_type": "stream",
     "text": [
      "İşleminiz: abc\n"
     ]
    },
    {
     "ename": "NameError",
     "evalue": "name 'abc' is not defined",
     "output_type": "error",
     "traceback": [
      "\u001b[1;31m---------------------------------------------------------------------------\u001b[0m",
      "\u001b[1;31mNameError\u001b[0m                                 Traceback (most recent call last)",
      "\u001b[1;32m<ipython-input-22-43197b0507d8>\u001b[0m in \u001b[0;36m<module>\u001b[1;34m\u001b[0m\n\u001b[0;32m      1\u001b[0m \u001b[0mveri\u001b[0m \u001b[1;33m=\u001b[0m \u001b[0minput\u001b[0m\u001b[1;33m(\u001b[0m\u001b[1;34m\"İşleminiz: \"\u001b[0m\u001b[1;33m)\u001b[0m\u001b[1;33m\u001b[0m\u001b[1;33m\u001b[0m\u001b[0m\n\u001b[1;32m----> 2\u001b[1;33m \u001b[0mHesap\u001b[0m \u001b[1;33m=\u001b[0m \u001b[0meval\u001b[0m\u001b[1;33m(\u001b[0m\u001b[0mveri\u001b[0m\u001b[1;33m)\u001b[0m\u001b[1;33m\u001b[0m\u001b[1;33m\u001b[0m\u001b[0m\n\u001b[0m\u001b[0;32m      3\u001b[0m \u001b[0mprint\u001b[0m\u001b[1;33m(\u001b[0m\u001b[0mHesap\u001b[0m\u001b[1;33m)\u001b[0m\u001b[1;33m\u001b[0m\u001b[1;33m\u001b[0m\u001b[0m\n",
      "\u001b[1;32m<string>\u001b[0m in \u001b[0;36m<module>\u001b[1;34m\u001b[0m\n",
      "\u001b[1;31mNameError\u001b[0m: name 'abc' is not defined"
     ]
    }
   ],
   "source": [
    "veri = input(\"İşleminiz: \")\n",
    "Hesap = eval(veri)\n",
    "print(Hesap)"
   ]
  },
  {
   "cell_type": "code",
   "execution_count": 25,
   "id": "ed92b266",
   "metadata": {},
   "outputs": [
    {
     "ename": "TypeError",
     "evalue": "eval() arg 1 must be a string, bytes or code object",
     "output_type": "error",
     "traceback": [
      "\u001b[1;31m---------------------------------------------------------------------------\u001b[0m",
      "\u001b[1;31mTypeError\u001b[0m                                 Traceback (most recent call last)",
      "\u001b[1;32m<ipython-input-25-73448094f39c>\u001b[0m in \u001b[0;36m<module>\u001b[1;34m\u001b[0m\n\u001b[1;32m----> 1\u001b[1;33m \u001b[0meval\u001b[0m\u001b[1;33m(\u001b[0m\u001b[0mopen\u001b[0m\u001b[1;33m(\u001b[0m\u001b[1;34m\"deneme99.txt\"\u001b[0m\u001b[1;33m,\u001b[0m \u001b[1;34m\"w\"\u001b[0m\u001b[1;33m)\u001b[0m\u001b[1;33m)\u001b[0m\u001b[1;33m\u001b[0m\u001b[1;33m\u001b[0m\u001b[0m\n\u001b[0m",
      "\u001b[1;31mTypeError\u001b[0m: eval() arg 1 must be a string, bytes or code object"
     ]
    }
   ],
   "source": [
    "eval(open(\"deneme99.txt\", \"w\"))"
   ]
  },
  {
   "cell_type": "code",
   "execution_count": 26,
   "id": "9d59f5e8",
   "metadata": {},
   "outputs": [
    {
     "ename": "SyntaxError",
     "evalue": "invalid syntax (<string>, line 1)",
     "output_type": "error",
     "traceback": [
      "Traceback \u001b[1;36m(most recent call last)\u001b[0m:\n",
      "  File \u001b[0;32m\"C:\\ProgramData\\Anaconda3\\lib\\site-packages\\IPython\\core\\interactiveshell.py\"\u001b[0m, line \u001b[0;32m3437\u001b[0m, in \u001b[0;35mrun_code\u001b[0m\n    exec(code_obj, self.user_global_ns, self.user_ns)\n",
      "\u001b[1;36m  File \u001b[1;32m\"<ipython-input-26-c3bce6f22f50>\"\u001b[1;36m, line \u001b[1;32m7\u001b[1;36m, in \u001b[1;35m<module>\u001b[1;36m\u001b[0m\n\u001b[1;33m    eval(\"a=45\")\u001b[0m\n",
      "\u001b[1;36m  File \u001b[1;32m\"<string>\"\u001b[1;36m, line \u001b[1;32m1\u001b[0m\n\u001b[1;33m    a=45\u001b[0m\n\u001b[1;37m     ^\u001b[0m\n\u001b[1;31mSyntaxError\u001b[0m\u001b[1;31m:\u001b[0m invalid syntax\n"
     ]
    }
   ],
   "source": [
    "#Python’da eval() fonksiyonuna çok benzeyen exec() adlı başka bir fonksiyon daha bulunur.\n",
    "#eval() ile yapamadığımız bazı şeyleri exec() ile yapabiliriz. Bu fonksiyon yardımıyla, karakter\n",
    "#dizileri içindeki çok kapsamlı Python kodlarını işletebilirsiniz.\n",
    "#Örneğin eval() fonksiyonu bir karakter dizisi içindeki değişken tanımlama işlemini yerine\n",
    "#getiremez. Yani eval() ile şöyle bir şey yapamazsınız:\n",
    "\n",
    "eval(\"a=45\")"
   ]
  },
  {
   "cell_type": "code",
   "execution_count": 27,
   "id": "7d84350a",
   "metadata": {},
   "outputs": [],
   "source": [
    "exec(\"a=45\")"
   ]
  },
  {
   "cell_type": "code",
   "execution_count": 28,
   "id": "b66dc040",
   "metadata": {},
   "outputs": [
    {
     "name": "stdout",
     "output_type": "stream",
     "text": [
      "45\n"
     ]
    }
   ],
   "source": [
    "print(a)"
   ]
  },
  {
   "cell_type": "code",
   "execution_count": 39,
   "id": "851b5e51",
   "metadata": {},
   "outputs": [],
   "source": [
    "ders0 = \"\"\"fdsaf \n",
    "\n",
    "\n",
    "fdsafsad\n",
    "fdsafdsa\n",
    "fdsafsa\n",
    "fdsa\n",
    "fdsaf\n",
    "fdsaf\n",
    "dsaf\n",
    "dsafdsaffds\n",
    "afdsaf\n",
    "sadfdsfdsa\"\"\" # üç tane çift tırnakta aşağılara inebiliyoruzzzzzzzzzzzzzz istediğimiz kodu \n"
   ]
  },
  {
   "cell_type": "code",
   "execution_count": 42,
   "id": "0b3848f2",
   "metadata": {},
   "outputs": [
    {
     "name": "stdout",
     "output_type": "stream",
     "text": [
      "python kod yazmayı öğreniyoruz:\n",
      "print(\"selamünaleyküm\"), siz de deneyin şimdi:)\n",
      "\n",
      "\n",
      "print(\"hello word!\")\n",
      "hello word!\n"
     ]
    }
   ],
   "source": [
    "ders1 = \"\"\"python kod yazmayı öğreniyoruz:\n",
    "print(\"selamünaleyküm\"), siz de deneyin şimdi:)\n",
    "\n",
    "\n",
    "\"\"\"\n",
    "girdi= input(ders1) \n",
    "exec(girdi)\n",
    "#abi exec sayesinde inputumuzu çalıştırdık, hatta kod olarak çalıştırdık. "
   ]
  },
  {
   "cell_type": "code",
   "execution_count": 46,
   "id": "a0aaaf3c",
   "metadata": {},
   "outputs": [
    {
     "name": "stdout",
     "output_type": "stream",
     "text": [
      "Hata! Google Chrome''sitesini bulamadı\n"
     ]
    }
   ],
   "source": [
    "print(\"Hata! Google Chrome\" + \"'\" + \"\" + \"'\" + \"sitesini bulamadı\")\n",
    "# burada virgül yerine artı koyarsak ne olur sorusunu sordum kendime \n",
    "\n",
    "\n"
   ]
  },
  {
   "cell_type": "code",
   "execution_count": 49,
   "id": "7c8cda56",
   "metadata": {},
   "outputs": [
    {
     "name": "stdout",
     "output_type": "stream",
     "text": [
      "Lütfen ulaşmak istediğiniz sitenin adresini yazın: xyz.com\n",
      "Hata! Google Chrome xyz.com sitesini bulamadı\n"
     ]
    }
   ],
   "source": [
    "#Burada, + işaretlerini kullanarak, kullanıcının girdiği adresin sağına ve soluna birer tırnak\n",
    "#işaretini nasıl yerleştirdiğimize dikkat edin.\n",
    "#Gördüğünüz gibi bu yöntem işe yarıyor, ama ortaya çıkan karakter dizisi de oldukça karmaşık\n",
    "#görünüyor. İşte bu tür ‘karakter dizisi biçimlendirme’ işlemleri için Python bize çok faydalı bir\n",
    "#araç sunuyor. Bu aracın adı format()\n",
    "\n",
    "\n",
    "#Öncelikle kullanıcıdan bir internet adresi girmesini istiyoruz\n",
    "url = input(\"Lütfen ulaşmak istediğiniz sitenin adresini yazın: \")\n",
    "#Şimdi de bu adresin bulunamadığı konusunda kullanıcıyı bilgilendiriyoruz\n",
    "\n",
    "print(\"Hata! Google Chrome {} sitesini bulamadı\".format(url))\n"
   ]
  },
  {
   "cell_type": "code",
   "execution_count": 54,
   "id": "600b53eb",
   "metadata": {},
   "outputs": [
    {
     "name": "stdout",
     "output_type": "stream",
     "text": [
      "python ve SQL iyi program ikilisidir.\n"
     ]
    }
   ],
   "source": [
    "print(\"{} ve {} iyi program ikilisidir.\" .format(\"python\", \"SQL\"))"
   ]
  },
  {
   "cell_type": "code",
   "execution_count": 56,
   "id": "3684fa04",
   "metadata": {},
   "outputs": [
    {
     "name": "stdout",
     "output_type": "stream",
     "text": [
      "tarih: 1\n",
      "üniversite adı: 2\n",
      "fakülte adı: 3\n",
      "bölüm adı: 4\n",
      "öğrenci no. :5\n",
      "öğretim yılı: 6\n",
      "yarıyıl: 7\n",
      "öğrencinin adı: 8\n",
      "öğrencinin soyadı: 9\n",
      "TC Kimlik no. :10\n",
      "adres: 11\n",
      "telefon: 12\n",
      "ekler: 13\n",
      "\n",
      "\n",
      "                                                            tarih: 1\n",
      "T.C.\n",
      "2 ÜNİVERSİTESİ\n",
      "3 Fakültesi Dekanlığına\n",
      "Fakülteniz 4 Bölümü 5 numaralı öğrencisiyim. Ekte sunduğum belgede\n",
      "belirtilen mazeretim gereğince 6 Eğitim-Öğretim Yılı 7 .\n",
      "yarıyılında öğrenime ara izni (kayıt dondurma) istiyorum.\n",
      "Bilgilerinizi ve gereğini arz ederim.\n",
      "\n",
      "    İmza\n",
      "\n",
      "Ad : 8\n",
      "Soyad : 9\n",
      "T.C. Kimlik No. : 10\n",
      "Adres : 11\n",
      "Tel. : 12\n",
      "Ekler : 13\n",
      "\n"
     ]
    }
   ],
   "source": [
    "dilekçe = \"\"\"\n",
    "\n",
    "                                                            tarih: {}\n",
    "T.C.\n",
    "{} ÜNİVERSİTESİ\n",
    "{} Fakültesi Dekanlığına\n",
    "Fakülteniz {} Bölümü {} numaralı öğrencisiyim. Ekte sunduğum belgede\n",
    "belirtilen mazeretim gereğince {} Eğitim-Öğretim Yılı {} .\n",
    "yarıyılında öğrenime ara izni (kayıt dondurma) istiyorum.\n",
    "Bilgilerinizi ve gereğini arz ederim.\n",
    "\n",
    "    İmza\n",
    "\n",
    "Ad : {}\n",
    "Soyad : {}\n",
    "T.C. Kimlik No. : {}\n",
    "Adres : {}\n",
    "Tel. : {}\n",
    "Ekler : {}\n",
    "\"\"\"\n",
    "tarih = input(\"tarih: \")\n",
    "üniversite = input(\"üniversite adı: \")\n",
    "fakülte = input(\"fakülte adı: \")\n",
    "bölüm = input(\"bölüm adı: \")\n",
    "öğrenci_no = input(\"öğrenci no. :\")\n",
    "öğretim_yılı = input(\"öğretim yılı: \")\n",
    "yarıyıl = input(\"yarıyıl: \")\n",
    "ad = input(\"öğrencinin adı: \")\n",
    "soyad = input(\"öğrencinin soyadı: \")\n",
    "tc_kimlik_no = input(\"TC Kimlik no. :\")\n",
    "adres = input(\"adres: \")\n",
    "tel = input(\"telefon: \")\n",
    "ekler = input(\"ekler: \")\n",
    "\n",
    "\n",
    "\n",
    "\n",
    "\n",
    "print(dilekçe.format(tarih, üniversite, fakülte, bölüm,\n",
    "öğrenci_no, öğretim_yılı, yarıyıl,\n",
    "ad, soyad, tc_kimlik_no,\n",
    "adres, tel, ekler))\n",
    "\n",
    "\n",
    "\n",
    "\n"
   ]
  },
  {
   "cell_type": "code",
   "execution_count": 60,
   "id": "ff58a973",
   "metadata": {},
   "outputs": [
    {
     "ename": "TypeError",
     "evalue": "'str' object is not callable",
     "output_type": "error",
     "traceback": [
      "\u001b[1;31m---------------------------------------------------------------------------\u001b[0m",
      "\u001b[1;31mTypeError\u001b[0m                                 Traceback (most recent call last)",
      "\u001b[1;32m<ipython-input-60-c82ffc5751e8>\u001b[0m in \u001b[0;36m<module>\u001b[1;34m\u001b[0m\n\u001b[1;32m----> 1\u001b[1;33m \u001b[0murltalebi\u001b[0m \u001b[1;33m=\u001b[0m \u001b[0minput\u001b[0m\u001b[1;33m(\u001b[0m\u001b[1;34m\"lütfen girmek istediğiniz url'girin:\"\u001b[0m\u001b[1;33m)\u001b[0m\u001b[1;33m\u001b[0m\u001b[1;33m\u001b[0m\u001b[0m\n\u001b[0m\u001b[0;32m      2\u001b[0m \u001b[1;33m\u001b[0m\u001b[0m\n\u001b[0;32m      3\u001b[0m \u001b[0mhatataslakı\u001b[0m \u001b[1;33m=\u001b[0m \u001b[1;34m\"Girmiş olduğunuz {} url'si bulunamadı.\"\u001b[0m\u001b[1;33m\u001b[0m\u001b[1;33m\u001b[0m\u001b[0m\n\u001b[0;32m      4\u001b[0m \u001b[1;33m\u001b[0m\u001b[0m\n\u001b[0;32m      5\u001b[0m \u001b[0mprint\u001b[0m\u001b[1;33m(\u001b[0m\u001b[0mhatataslakı\u001b[0m\u001b[1;33m.\u001b[0m\u001b[0mformat\u001b[0m\u001b[1;33m(\u001b[0m\u001b[0murltalebi\u001b[0m\u001b[1;33m)\u001b[0m\u001b[1;33m)\u001b[0m\u001b[1;33m\u001b[0m\u001b[1;33m\u001b[0m\u001b[0m\n",
      "\u001b[1;31mTypeError\u001b[0m: 'str' object is not callable"
     ]
    }
   ],
   "source": [
    "urltalebi = input(\"lütfen girmek istediğiniz url'girin:\")\n",
    "\n",
    "hatataslakı = \"Girmiş olduğunuz {} url'si bulunamadı.\"\n",
    "\n",
    "print(hatataslakı.format(urltalebi))\n"
   ]
  },
  {
   "cell_type": "code",
   "execution_count": 69,
   "id": "c1927839",
   "metadata": {},
   "outputs": [
    {
     "ename": "TypeError",
     "evalue": "'str' object is not callable",
     "output_type": "error",
     "traceback": [
      "\u001b[1;31m---------------------------------------------------------------------------\u001b[0m",
      "\u001b[1;31mTypeError\u001b[0m                                 Traceback (most recent call last)",
      "\u001b[1;32m<ipython-input-69-d069c3525017>\u001b[0m in \u001b[0;36m<module>\u001b[1;34m\u001b[0m\n\u001b[1;32m----> 1\u001b[1;33m \u001b[0murl\u001b[0m \u001b[1;33m=\u001b[0m \u001b[0minput\u001b[0m\u001b[1;33m(\u001b[0m\u001b[1;34m\"Lütfen ulaşmak istediğiniz sitenin adresini yazın: \"\u001b[0m\u001b[1;33m)\u001b[0m\u001b[1;33m\u001b[0m\u001b[1;33m\u001b[0m\u001b[0m\n\u001b[0m\u001b[0;32m      2\u001b[0m \u001b[1;31m#Kullanıcıya gösterilecek hata için bir taslak metin oluşturuyoruz\u001b[0m\u001b[1;33m\u001b[0m\u001b[1;33m\u001b[0m\u001b[1;33m\u001b[0m\u001b[0m\n\u001b[0;32m      3\u001b[0m \u001b[0mhata_taslağı\u001b[0m \u001b[1;33m=\u001b[0m \u001b[1;34m\"Hata! Google Chrome {} sitesini bulamadı\"\u001b[0m\u001b[1;33m\u001b[0m\u001b[1;33m\u001b[0m\u001b[0m\n\u001b[0;32m      4\u001b[0m \u001b[0mprint\u001b[0m\u001b[1;33m(\u001b[0m\u001b[0mhata_taslağı\u001b[0m\u001b[1;33m.\u001b[0m\u001b[0mformat\u001b[0m\u001b[1;33m(\u001b[0m\u001b[0murl\u001b[0m\u001b[1;33m)\u001b[0m\u001b[1;33m)\u001b[0m\u001b[1;33m\u001b[0m\u001b[1;33m\u001b[0m\u001b[0m\n",
      "\u001b[1;31mTypeError\u001b[0m: 'str' object is not callable"
     ]
    }
   ],
   "source": [
    "url = input(\"Lütfen ulaşmak istediğiniz sitenin adresini yazın: \")\n",
    "#Kullanıcıya gösterilecek hata için bir taslak metin oluşturuyoruz\n",
    "hata_taslağı = \"Hata! Google Chrome {} sitesini bulamadı\"\n",
    "print(hata_taslağı.format(url))"
   ]
  },
  {
   "cell_type": "code",
   "execution_count": 71,
   "id": "31761da9",
   "metadata": {},
   "outputs": [
    {
     "ename": "TypeError",
     "evalue": "'str' object is not callable",
     "output_type": "error",
     "traceback": [
      "\u001b[1;31m---------------------------------------------------------------------------\u001b[0m",
      "\u001b[1;31mTypeError\u001b[0m                                 Traceback (most recent call last)",
      "\u001b[1;32m<ipython-input-71-66fb21988e6b>\u001b[0m in \u001b[0;36m<module>\u001b[1;34m\u001b[0m\n\u001b[1;32m----> 1\u001b[1;33m \u001b[0minput\u001b[0m\u001b[1;33m(\u001b[0m\u001b[1;36m12\u001b[0m\u001b[1;33m)\u001b[0m\u001b[1;33m\u001b[0m\u001b[1;33m\u001b[0m\u001b[0m\n\u001b[0m",
      "\u001b[1;31mTypeError\u001b[0m: 'str' object is not callable"
     ]
    }
   ],
   "source": []
  },
  {
   "cell_type": "code",
   "execution_count": null,
   "id": "8f5dcf42",
   "metadata": {},
   "outputs": [],
   "source": []
  }
 ],
 "metadata": {
  "kernelspec": {
   "display_name": "Python 3",
   "language": "python",
   "name": "python3"
  },
  "language_info": {
   "codemirror_mode": {
    "name": "ipython",
    "version": 3
   },
   "file_extension": ".py",
   "mimetype": "text/x-python",
   "name": "python",
   "nbconvert_exporter": "python",
   "pygments_lexer": "ipython3",
   "version": "3.8.8"
  }
 },
 "nbformat": 4,
 "nbformat_minor": 5
}
