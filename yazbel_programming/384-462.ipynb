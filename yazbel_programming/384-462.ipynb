{
 "cells": [
  {
   "cell_type": "markdown",
   "id": "6bf7f99b",
   "metadata": {},
   "source": [
    "# Listeler ve Demetler"
   ]
  },
  {
   "cell_type": "markdown",
   "id": "64b884b9",
   "metadata": {},
   "source": [
    "Bu bölüme gelene kadar yalnızca iki farklı veri tipi görmüştük. Bunlardan biri karakter dizileri,\n",
    "öteki ise sayılardı"
   ]
  },
  {
   "cell_type": "markdown",
   "id": "2cf6eb4a",
   "metadata": {},
   "source": [
    "başka amaçlara hizmet eden, başka veri tipleri\n",
    "de vardır. İşte biz bu bölümde iki farklı veri tipi daha öğreneceğiz.\n",
    "\n",
    "Bu bölümde ele alacağımız\n",
    "veri tiplerinin adı ‘liste’ (list) ve ‘demet’ (tuple)."
   ]
  },
  {
   "cell_type": "code",
   "execution_count": 2,
   "id": "02d6c226",
   "metadata": {},
   "outputs": [],
   "source": [
    "liste = [\"Ahmet\", \"Mehmet\", 23, 65, 3.2]"
   ]
  },
  {
   "cell_type": "code",
   "execution_count": 3,
   "id": "824243e9",
   "metadata": {},
   "outputs": [
    {
     "data": {
      "text/plain": [
       "list"
      ]
     },
     "execution_count": 3,
     "metadata": {},
     "output_type": "execute_result"
    }
   ],
   "source": [
    "type(liste)"
   ]
  },
  {
   "cell_type": "code",
   "execution_count": 4,
   "id": "33d354bd",
   "metadata": {},
   "outputs": [
    {
     "name": "stdout",
     "output_type": "stream",
     "text": [
      "['Ahmet', 'Mehmet', 23, 65, 3.2]\n"
     ]
    }
   ],
   "source": [
    "print(liste)"
   ]
  },
  {
   "cell_type": "code",
   "execution_count": 8,
   "id": "130ea2d3",
   "metadata": {},
   "outputs": [],
   "source": [
    "liste.append([\"a\",\"b\"])"
   ]
  },
  {
   "cell_type": "code",
   "execution_count": 9,
   "id": "a2bf546f",
   "metadata": {},
   "outputs": [
    {
     "data": {
      "text/plain": [
       "['Ahmet', 'Mehmet', 23, 65, 3.2, 'a', ['a', 'b']]"
      ]
     },
     "execution_count": 9,
     "metadata": {},
     "output_type": "execute_result"
    }
   ],
   "source": [
    "liste"
   ]
  },
  {
   "cell_type": "code",
   "execution_count": 10,
   "id": "7bc9e8bf",
   "metadata": {},
   "outputs": [],
   "source": [
    "liste.extend([\"a\",\"c\"])"
   ]
  },
  {
   "cell_type": "code",
   "execution_count": 11,
   "id": "62cf435a",
   "metadata": {},
   "outputs": [
    {
     "data": {
      "text/plain": [
       "['Ahmet', 'Mehmet', 23, 65, 3.2, 'a', ['a', 'b'], 'a', 'c']"
      ]
     },
     "execution_count": 11,
     "metadata": {},
     "output_type": "execute_result"
    }
   ],
   "source": [
    "liste"
   ]
  },
  {
   "cell_type": "code",
   "execution_count": 12,
   "id": "23f542d3",
   "metadata": {},
   "outputs": [],
   "source": [
    "liste = [\"Ali\", \"Veli\", [\"Ayşe\", \"Nazan\", \"Zeynep\"], 34, 65, 33, 5.6]"
   ]
  },
  {
   "cell_type": "code",
   "execution_count": 13,
   "id": "0047d595",
   "metadata": {},
   "outputs": [
    {
     "data": {
      "text/plain": [
       "list"
      ]
     },
     "execution_count": 13,
     "metadata": {},
     "output_type": "execute_result"
    }
   ],
   "source": [
    "type(liste)"
   ]
  },
  {
   "cell_type": "code",
   "execution_count": 14,
   "id": "81b99c56",
   "metadata": {},
   "outputs": [
    {
     "name": "stdout",
     "output_type": "stream",
     "text": [
      "Ali adlı ögemizin veri tipi <class 'str'>'dir.'\n",
      "Veli adlı ögemizin veri tipi <class 'str'>'dir.'\n",
      "['Ayşe', 'Nazan', 'Zeynep'] adlı ögemizin veri tipi <class 'list'>'dir.'\n",
      "34 adlı ögemizin veri tipi <class 'int'>'dir.'\n",
      "65 adlı ögemizin veri tipi <class 'int'>'dir.'\n",
      "33 adlı ögemizin veri tipi <class 'int'>'dir.'\n",
      "5.6 adlı ögemizin veri tipi <class 'float'>'dir.'\n"
     ]
    }
   ],
   "source": [
    "for öğe in liste:\n",
    "    \n",
    "    print(f\"{öğe} adlı ögemizin veri tipi {type(öğe)}'dir.'\")      #ayşe nazan zeynep listedir. \n",
    "    \n",
    "    1"
   ]
  },
  {
   "cell_type": "code",
   "execution_count": 15,
   "id": "d2e21795",
   "metadata": {},
   "outputs": [],
   "source": [
    "# split gibi bazı bölücü ve liste oluşturucu fonksiyonlar bazen yeterli olamaz "
   ]
  },
  {
   "cell_type": "code",
   "execution_count": 16,
   "id": "bf6ff189",
   "metadata": {},
   "outputs": [
    {
     "data": {
      "text/plain": [
       "range(0, 10)"
      ]
     },
     "execution_count": 16,
     "metadata": {},
     "output_type": "execute_result"
    }
   ],
   "source": [
    "range(0,10)"
   ]
  },
  {
   "cell_type": "code",
   "execution_count": 17,
   "id": "ca929093",
   "metadata": {},
   "outputs": [
    {
     "name": "stdout",
     "output_type": "stream",
     "text": [
      "0 1 2 3 4 5 6 7 8 9\n"
     ]
    }
   ],
   "source": [
    "print(*range(10))"
   ]
  },
  {
   "cell_type": "code",
   "execution_count": 19,
   "id": "60269988",
   "metadata": {
    "scrolled": true
   },
   "outputs": [
    {
     "name": "stdout",
     "output_type": "stream",
     "text": [
      "0\n",
      "1\n",
      "2\n",
      "3\n",
      "4\n",
      "5\n",
      "6\n",
      "7\n",
      "8\n",
      "9\n"
     ]
    }
   ],
   "source": [
    "for i in range(10):\n",
    "    print(i)"
   ]
  },
  {
   "cell_type": "code",
   "execution_count": 20,
   "id": "52b567a5",
   "metadata": {},
   "outputs": [
    {
     "data": {
      "text/plain": [
       "[0, 1, 2, 3, 4, 5, 6, 7, 8, 9]"
      ]
     },
     "execution_count": 20,
     "metadata": {},
     "output_type": "execute_result"
    }
   ],
   "source": [
    "list(range(10))"
   ]
  },
  {
   "cell_type": "code",
   "execution_count": 27,
   "id": "a8d6feec",
   "metadata": {},
   "outputs": [
    {
     "name": "stdout",
     "output_type": "stream",
     "text": [
      "0 . elma \n",
      "1 . armut \n",
      "2 . çilek \n",
      "3 . kiraz \n"
     ]
    }
   ],
   "source": [
    "meyveler = [\"elma\", \"armut\", \"çilek\", \"kiraz\"]\n",
    "\n",
    "\n",
    "for öğe_sırası in range(len(meyveler)):\n",
    "    \n",
    "    print(\"{} . {} \".format(öğe_sırası, meyveler[öğe_sırası]))\n",
    "    \n",
    "    "
   ]
  },
  {
   "cell_type": "code",
   "execution_count": 28,
   "id": "8e98d4fc",
   "metadata": {},
   "outputs": [
    {
     "data": {
      "text/plain": [
       "4"
      ]
     },
     "execution_count": 28,
     "metadata": {},
     "output_type": "execute_result"
    }
   ],
   "source": [
    "len(meyveler)"
   ]
  },
  {
   "cell_type": "code",
   "execution_count": 31,
   "id": "8873577a",
   "metadata": {},
   "outputs": [],
   "source": [
    "a = enumerate(meyveler,1)"
   ]
  },
  {
   "cell_type": "code",
   "execution_count": 33,
   "id": "a016cf12",
   "metadata": {},
   "outputs": [
    {
     "data": {
      "text/plain": [
       "[(1, 'elma'), (2, 'armut'), (3, 'çilek'), (4, 'kiraz')]"
      ]
     },
     "execution_count": 33,
     "metadata": {},
     "output_type": "execute_result"
    }
   ],
   "source": [
    "list(a)"
   ]
  },
  {
   "cell_type": "code",
   "execution_count": 35,
   "id": "8bdabaf8",
   "metadata": {},
   "outputs": [
    {
     "name": "stdout",
     "output_type": "stream",
     "text": [
      "1.elma\n",
      "2.armut\n",
      "3.çilek\n",
      "4.kiraz\n"
     ]
    }
   ],
   "source": [
    "for sıra, öğe in enumerate(meyveler , 1):\n",
    "    \n",
    "    print(\"{}.{}\".format(sıra,öğe))"
   ]
  },
  {
   "cell_type": "code",
   "execution_count": 36,
   "id": "f064271e",
   "metadata": {},
   "outputs": [
    {
     "data": {
      "text/plain": [
       "'Nazan'"
      ]
     },
     "execution_count": 36,
     "metadata": {},
     "output_type": "execute_result"
    }
   ],
   "source": [
    "liste = [\"Ali\", \"Veli\", [\"Ayşe\", \"Nazan\", \"Zeynep\"], 34, 65, 33, 5.6]\n",
    "\n",
    "liste [2] [1]"
   ]
  },
  {
   "cell_type": "markdown",
   "id": "7cf475e3",
   "metadata": {},
   "source": [
    "Hatırlarsanız karakter dizilerinden söz ederken bunların değiştirilemez (immutable) bir veri\n",
    "tipi olduğunu söylemiştik. Bu özellikten ötürü, bir karakter dizisi üzerinde değişiklik yapmak\n",
    "istediğimizde o karakter dizisini yeniden oluşturuyoruz.\n",
    "\n",
    "\n",
    "\n",
    "\n",
    "Listeler ise değiştirilebilen (mutable) bir veri tipidir. Dolayısıyla listeler üzerinde doğrudan\n",
    "değişiklik yapabiliriz. Bir liste üzerinde değişiklik yapabilmek için o listeyi yeniden\n",
    "tanımlamamıza gerek yok. \n",
    "\n",
    "\n",
    "\n",
    "\n",
    "\n",
    "\n",
    "\n",
    "\n",
    "\n",
    " renkler = [\"kırmızı\", \"sarı\", \"mavi\", \"yeşil\", \"beyaz\"]\n",
    ">>> print(renkler)\n",
    "['kırmızı', 'sarı', 'mavi', 'yeşil', 'beyaz']\n",
    "\n",
    "\n",
    ">>> renkler[0] = \"siyah\"\n",
    ">>> print(renkler)\n",
    "['siyah', 'sarı', 'mavi', 'yeşil', 'beyaz']"
   ]
  },
  {
   "cell_type": "code",
   "execution_count": 44,
   "id": "3a3d0327",
   "metadata": {},
   "outputs": [],
   "source": [
    "liste = [1,2,3,4]\n",
    "\n",
    "liste[0:len(liste)] = 5,6,7"
   ]
  },
  {
   "cell_type": "code",
   "execution_count": 45,
   "id": "ad5a6e18",
   "metadata": {},
   "outputs": [
    {
     "data": {
      "text/plain": [
       "[5, 6, 7]"
      ]
     },
     "execution_count": 45,
     "metadata": {},
     "output_type": "execute_result"
    }
   ],
   "source": [
    "liste\n"
   ]
  },
  {
   "cell_type": "code",
   "execution_count": 48,
   "id": "1a67d20c",
   "metadata": {},
   "outputs": [],
   "source": [
    "liste[:] = [5,6,[7,8]]"
   ]
  },
  {
   "cell_type": "code",
   "execution_count": 49,
   "id": "07eea710",
   "metadata": {},
   "outputs": [
    {
     "data": {
      "text/plain": [
       "[5, 6, [7, 8]]"
      ]
     },
     "execution_count": 49,
     "metadata": {},
     "output_type": "execute_result"
    }
   ],
   "source": [
    "liste"
   ]
  },
  {
   "cell_type": "code",
   "execution_count": 50,
   "id": "4dec5eb9",
   "metadata": {},
   "outputs": [],
   "source": [
    "derlenen_diller = [\"C\", \"C++\", \"C#\", \"Java\"]\n",
    "yorumlanan_diller = [\"Python\", \"Perl\", \"Ruby\"]"
   ]
  },
  {
   "cell_type": "code",
   "execution_count": 51,
   "id": "ba047249",
   "metadata": {},
   "outputs": [],
   "source": [
    "bütün_diller = derlenen_diller + yorumlanan_diller"
   ]
  },
  {
   "cell_type": "code",
   "execution_count": 52,
   "id": "3c08fe88",
   "metadata": {},
   "outputs": [
    {
     "data": {
      "text/plain": [
       "['C', 'C++', 'C#', 'Java', 'Python', 'Perl', 'Ruby']"
      ]
     },
     "execution_count": 52,
     "metadata": {},
     "output_type": "execute_result"
    }
   ],
   "source": [
    "bütün_diller"
   ]
  },
  {
   "cell_type": "markdown",
   "id": "86531d12",
   "metadata": {},
   "source": [
    "Bu program kullanıcının 10 adet sayı girmesine izin verip, program çıkışında, girilen sayıların\n",
    "ortalamasını verecektir.\n",
    "Peki girilen sayıların ortalaması ile birlikte, hangi sayıların girildiğini de göstermek isterseniz\n",
    "nasıl bir kod yazarsınız?\n",
    "Eğer böyle bir şeyi karakter dizileri ile yazmaya kalkışırsanız epey eziyet çekersiniz. Ama şöyle\n",
    "bir kod yardımıyla istediğiniz şeyi basit bir şekilde elde edebilirsiniz:\n"
   ]
  },
  {
   "cell_type": "code",
   "execution_count": 59,
   "id": "29d41479",
   "metadata": {},
   "outputs": [
    {
     "name": "stdout",
     "output_type": "stream",
     "text": [
      "1.notunuzu giriniz:10\n",
      "2.notunuzu giriniz:50\n",
      "3.notunuzu giriniz:20\n",
      "4.notunuzu giriniz:30\n",
      "5.notunuzu giriniz:40\n",
      "6.notunuzu giriniz:60\n",
      "7.notunuzu giriniz:70\n",
      "8.notunuzu giriniz:80\n",
      "9.notunuzu giriniz:90\n",
      "10.notunuzu giriniz:100\n",
      "girdiğiniz notlar: 10 50 20 30 40 60 70 80 90 100\n",
      "not ortalamanız:  55.0\n"
     ]
    }
   ],
   "source": [
    "sayılar = 0\n",
    "notlar = []\n",
    "\n",
    "\n",
    "for i in range(10):\n",
    "    veri = int(input(f\"{i+1}.notunuzu giriniz:\"))\n",
    "    sayılar += veri \n",
    "    notlar += [veri]\n",
    "    \n",
    "    \n",
    "print(\"girdiğiniz notlar:\",*notlar)\n",
    "print(\"not ortalamanız: \", sayılar/10)"
   ]
  },
  {
   "cell_type": "markdown",
   "id": "deb4ca13",
   "metadata": {},
   "source": [
    ">>> for i in 12345:\n",
    "... print(i)\n",
    "...\n",
    "Traceback (most recent call last):\n",
    "File \"<stdin>\", line 1, in <module>\n",
    "TypeError: 'int' object is not iterable\n",
    "    \n",
    "    \n",
    "Gördüğünüz gibi, 12345 sayısı üzerinde döngü kuramıyoruz. Aynı hata mesajını list()\n",
    "fonksiyonunda da görürsünüz:\n",
    "    \n",
    ">>> list(12345)\n",
    "Traceback (most recent call last):\n",
    "File \"<stdin>\", line 1, in <module>\n",
    "TypeError: 'int' object is not iterable\n",
    "    \n",
    "    \n",
    "Dediğimiz gibi, tıpkı for döngüsünde olduğu gibi, list() fonksiyonu da ancak, üzerinde döngü\n",
    "kurulabilen nesneler üzerinde çalışabilir. Mesela:\n",
    "    \n",
    "    \n",
    ">>> list(\"12345\")\n",
    "['1', '2', '3', '4', '5']\n",
    "Bu bilgilerin ışığında, yukarıda yazdığımız kodların şu şekilde yazılması halinde Python’ın bize\n",
    "hata mesajı göstereceğini söyleyebiliriz"
   ]
  },
  {
   "cell_type": "code",
   "execution_count": 65,
   "id": "e598e41f",
   "metadata": {},
   "outputs": [
    {
     "name": "stdout",
     "output_type": "stream",
     "text": [
      "1.notunuzu giriniz:10\n"
     ]
    },
    {
     "ename": "TypeError",
     "evalue": "'int' object is not iterable",
     "output_type": "error",
     "traceback": [
      "\u001b[1;31m---------------------------------------------------------------------------\u001b[0m",
      "\u001b[1;31mTypeError\u001b[0m                                 Traceback (most recent call last)",
      "\u001b[1;32m<ipython-input-65-866c3fdd6c88>\u001b[0m in \u001b[0;36m<module>\u001b[1;34m\u001b[0m\n\u001b[0;32m      6\u001b[0m     \u001b[0mveri\u001b[0m \u001b[1;33m=\u001b[0m \u001b[0mint\u001b[0m\u001b[1;33m(\u001b[0m\u001b[0minput\u001b[0m\u001b[1;33m(\u001b[0m\u001b[1;34mf\"{i+1}.notunuzu giriniz:\"\u001b[0m\u001b[1;33m)\u001b[0m\u001b[1;33m)\u001b[0m\u001b[1;33m\u001b[0m\u001b[1;33m\u001b[0m\u001b[0m\n\u001b[0;32m      7\u001b[0m     \u001b[0msayılar\u001b[0m \u001b[1;33m+=\u001b[0m \u001b[0mveri\u001b[0m\u001b[1;33m\u001b[0m\u001b[1;33m\u001b[0m\u001b[0m\n\u001b[1;32m----> 8\u001b[1;33m     \u001b[0ma\u001b[0m \u001b[1;33m+=\u001b[0m \u001b[0mlist\u001b[0m\u001b[1;33m(\u001b[0m\u001b[0mveri\u001b[0m\u001b[1;33m)\u001b[0m\u001b[1;33m\u001b[0m\u001b[1;33m\u001b[0m\u001b[0m\n\u001b[0m\u001b[0;32m      9\u001b[0m \u001b[1;33m\u001b[0m\u001b[0m\n\u001b[0;32m     10\u001b[0m     \u001b[1;31m#                                     LİST() İNT ALMIYOR!\u001b[0m\u001b[1;33m\u001b[0m\u001b[1;33m\u001b[0m\u001b[1;33m\u001b[0m\u001b[0m\n",
      "\u001b[1;31mTypeError\u001b[0m: 'int' object is not iterable"
     ]
    }
   ],
   "source": [
    "sayılar = 0\n",
    "#notlar = []\n",
    "a = list()\n",
    "\n",
    "for i in range(10):\n",
    "    veri = int(input(f\"{i+1}.notunuzu giriniz:\"))\n",
    "    sayılar += veri \n",
    "    a += list(veri)\n",
    "    \n",
    "    #                                     LİST() İNT ALMIYOR!\n",
    "print(\"girdiğiniz notlar:\",*notlar)\n",
    "print(\"not ortalamanız: \", sayılar/10)"
   ]
  },
  {
   "cell_type": "code",
   "execution_count": 66,
   "id": "c9e0b22a",
   "metadata": {},
   "outputs": [
    {
     "data": {
      "text/plain": [
       "['a', 'b', 'c']"
      ]
     },
     "execution_count": 66,
     "metadata": {},
     "output_type": "execute_result"
    }
   ],
   "source": [
    "list(\"abc\")"
   ]
  },
  {
   "cell_type": "code",
   "execution_count": 67,
   "id": "bc4195bc",
   "metadata": {},
   "outputs": [
    {
     "ename": "TypeError",
     "evalue": "'int' object is not iterable",
     "output_type": "error",
     "traceback": [
      "\u001b[1;31m---------------------------------------------------------------------------\u001b[0m",
      "\u001b[1;31mTypeError\u001b[0m                                 Traceback (most recent call last)",
      "\u001b[1;32m<ipython-input-67-8e20b6aa43ab>\u001b[0m in \u001b[0;36m<module>\u001b[1;34m\u001b[0m\n\u001b[1;32m----> 1\u001b[1;33m \u001b[0mlist\u001b[0m\u001b[1;33m(\u001b[0m\u001b[1;36m50\u001b[0m\u001b[1;33m)\u001b[0m\u001b[1;33m\u001b[0m\u001b[1;33m\u001b[0m\u001b[0m\n\u001b[0m",
      "\u001b[1;31mTypeError\u001b[0m: 'int' object is not iterable"
     ]
    }
   ],
   "source": [
    "list(50)"
   ]
  },
  {
   "cell_type": "code",
   "execution_count": null,
   "id": "a3470da2",
   "metadata": {},
   "outputs": [],
   "source": [
    "# List Comprehension"
   ]
  },
  {
   "cell_type": "markdown",
   "id": "ec9b28ce",
   "metadata": {},
   "source": [
    "liste = []\n",
    "for i in range(1000):\n",
    "liste += [i]              =\n",
    "                                        liste = [i for i in range(1000)]\n"
   ]
  },
  {
   "cell_type": "code",
   "execution_count": 4,
   "id": "378c6548",
   "metadata": {},
   "outputs": [],
   "source": [
    "liste = []\n",
    "for i in range(1000):            liste = [i for i in range(1000) if i % 2 == 0]\n",
    "    if i % 2 == 0:\n",
    "        liste += [i]           "
   ]
  },
  {
   "cell_type": "code",
   "execution_count": 5,
   "id": "8dfb7e61",
   "metadata": {
    "scrolled": true
   },
   "outputs": [
    {
     "data": {
      "text/plain": [
       "[0,\n",
       " 2,\n",
       " 4,\n",
       " 6,\n",
       " 8,\n",
       " 10,\n",
       " 12,\n",
       " 14,\n",
       " 16,\n",
       " 18,\n",
       " 20,\n",
       " 22,\n",
       " 24,\n",
       " 26,\n",
       " 28,\n",
       " 30,\n",
       " 32,\n",
       " 34,\n",
       " 36,\n",
       " 38,\n",
       " 40,\n",
       " 42,\n",
       " 44,\n",
       " 46,\n",
       " 48,\n",
       " 50,\n",
       " 52,\n",
       " 54,\n",
       " 56,\n",
       " 58,\n",
       " 60,\n",
       " 62,\n",
       " 64,\n",
       " 66,\n",
       " 68,\n",
       " 70,\n",
       " 72,\n",
       " 74,\n",
       " 76,\n",
       " 78,\n",
       " 80,\n",
       " 82,\n",
       " 84,\n",
       " 86,\n",
       " 88,\n",
       " 90,\n",
       " 92,\n",
       " 94,\n",
       " 96,\n",
       " 98,\n",
       " 100,\n",
       " 102,\n",
       " 104,\n",
       " 106,\n",
       " 108,\n",
       " 110,\n",
       " 112,\n",
       " 114,\n",
       " 116,\n",
       " 118,\n",
       " 120,\n",
       " 122,\n",
       " 124,\n",
       " 126,\n",
       " 128,\n",
       " 130,\n",
       " 132,\n",
       " 134,\n",
       " 136,\n",
       " 138,\n",
       " 140,\n",
       " 142,\n",
       " 144,\n",
       " 146,\n",
       " 148,\n",
       " 150,\n",
       " 152,\n",
       " 154,\n",
       " 156,\n",
       " 158,\n",
       " 160,\n",
       " 162,\n",
       " 164,\n",
       " 166,\n",
       " 168,\n",
       " 170,\n",
       " 172,\n",
       " 174,\n",
       " 176,\n",
       " 178,\n",
       " 180,\n",
       " 182,\n",
       " 184,\n",
       " 186,\n",
       " 188,\n",
       " 190,\n",
       " 192,\n",
       " 194,\n",
       " 196,\n",
       " 198,\n",
       " 200,\n",
       " 202,\n",
       " 204,\n",
       " 206,\n",
       " 208,\n",
       " 210,\n",
       " 212,\n",
       " 214,\n",
       " 216,\n",
       " 218,\n",
       " 220,\n",
       " 222,\n",
       " 224,\n",
       " 226,\n",
       " 228,\n",
       " 230,\n",
       " 232,\n",
       " 234,\n",
       " 236,\n",
       " 238,\n",
       " 240,\n",
       " 242,\n",
       " 244,\n",
       " 246,\n",
       " 248,\n",
       " 250,\n",
       " 252,\n",
       " 254,\n",
       " 256,\n",
       " 258,\n",
       " 260,\n",
       " 262,\n",
       " 264,\n",
       " 266,\n",
       " 268,\n",
       " 270,\n",
       " 272,\n",
       " 274,\n",
       " 276,\n",
       " 278,\n",
       " 280,\n",
       " 282,\n",
       " 284,\n",
       " 286,\n",
       " 288,\n",
       " 290,\n",
       " 292,\n",
       " 294,\n",
       " 296,\n",
       " 298,\n",
       " 300,\n",
       " 302,\n",
       " 304,\n",
       " 306,\n",
       " 308,\n",
       " 310,\n",
       " 312,\n",
       " 314,\n",
       " 316,\n",
       " 318,\n",
       " 320,\n",
       " 322,\n",
       " 324,\n",
       " 326,\n",
       " 328,\n",
       " 330,\n",
       " 332,\n",
       " 334,\n",
       " 336,\n",
       " 338,\n",
       " 340,\n",
       " 342,\n",
       " 344,\n",
       " 346,\n",
       " 348,\n",
       " 350,\n",
       " 352,\n",
       " 354,\n",
       " 356,\n",
       " 358,\n",
       " 360,\n",
       " 362,\n",
       " 364,\n",
       " 366,\n",
       " 368,\n",
       " 370,\n",
       " 372,\n",
       " 374,\n",
       " 376,\n",
       " 378,\n",
       " 380,\n",
       " 382,\n",
       " 384,\n",
       " 386,\n",
       " 388,\n",
       " 390,\n",
       " 392,\n",
       " 394,\n",
       " 396,\n",
       " 398,\n",
       " 400,\n",
       " 402,\n",
       " 404,\n",
       " 406,\n",
       " 408,\n",
       " 410,\n",
       " 412,\n",
       " 414,\n",
       " 416,\n",
       " 418,\n",
       " 420,\n",
       " 422,\n",
       " 424,\n",
       " 426,\n",
       " 428,\n",
       " 430,\n",
       " 432,\n",
       " 434,\n",
       " 436,\n",
       " 438,\n",
       " 440,\n",
       " 442,\n",
       " 444,\n",
       " 446,\n",
       " 448,\n",
       " 450,\n",
       " 452,\n",
       " 454,\n",
       " 456,\n",
       " 458,\n",
       " 460,\n",
       " 462,\n",
       " 464,\n",
       " 466,\n",
       " 468,\n",
       " 470,\n",
       " 472,\n",
       " 474,\n",
       " 476,\n",
       " 478,\n",
       " 480,\n",
       " 482,\n",
       " 484,\n",
       " 486,\n",
       " 488,\n",
       " 490,\n",
       " 492,\n",
       " 494,\n",
       " 496,\n",
       " 498,\n",
       " 500,\n",
       " 502,\n",
       " 504,\n",
       " 506,\n",
       " 508,\n",
       " 510,\n",
       " 512,\n",
       " 514,\n",
       " 516,\n",
       " 518,\n",
       " 520,\n",
       " 522,\n",
       " 524,\n",
       " 526,\n",
       " 528,\n",
       " 530,\n",
       " 532,\n",
       " 534,\n",
       " 536,\n",
       " 538,\n",
       " 540,\n",
       " 542,\n",
       " 544,\n",
       " 546,\n",
       " 548,\n",
       " 550,\n",
       " 552,\n",
       " 554,\n",
       " 556,\n",
       " 558,\n",
       " 560,\n",
       " 562,\n",
       " 564,\n",
       " 566,\n",
       " 568,\n",
       " 570,\n",
       " 572,\n",
       " 574,\n",
       " 576,\n",
       " 578,\n",
       " 580,\n",
       " 582,\n",
       " 584,\n",
       " 586,\n",
       " 588,\n",
       " 590,\n",
       " 592,\n",
       " 594,\n",
       " 596,\n",
       " 598,\n",
       " 600,\n",
       " 602,\n",
       " 604,\n",
       " 606,\n",
       " 608,\n",
       " 610,\n",
       " 612,\n",
       " 614,\n",
       " 616,\n",
       " 618,\n",
       " 620,\n",
       " 622,\n",
       " 624,\n",
       " 626,\n",
       " 628,\n",
       " 630,\n",
       " 632,\n",
       " 634,\n",
       " 636,\n",
       " 638,\n",
       " 640,\n",
       " 642,\n",
       " 644,\n",
       " 646,\n",
       " 648,\n",
       " 650,\n",
       " 652,\n",
       " 654,\n",
       " 656,\n",
       " 658,\n",
       " 660,\n",
       " 662,\n",
       " 664,\n",
       " 666,\n",
       " 668,\n",
       " 670,\n",
       " 672,\n",
       " 674,\n",
       " 676,\n",
       " 678,\n",
       " 680,\n",
       " 682,\n",
       " 684,\n",
       " 686,\n",
       " 688,\n",
       " 690,\n",
       " 692,\n",
       " 694,\n",
       " 696,\n",
       " 698,\n",
       " 700,\n",
       " 702,\n",
       " 704,\n",
       " 706,\n",
       " 708,\n",
       " 710,\n",
       " 712,\n",
       " 714,\n",
       " 716,\n",
       " 718,\n",
       " 720,\n",
       " 722,\n",
       " 724,\n",
       " 726,\n",
       " 728,\n",
       " 730,\n",
       " 732,\n",
       " 734,\n",
       " 736,\n",
       " 738,\n",
       " 740,\n",
       " 742,\n",
       " 744,\n",
       " 746,\n",
       " 748,\n",
       " 750,\n",
       " 752,\n",
       " 754,\n",
       " 756,\n",
       " 758,\n",
       " 760,\n",
       " 762,\n",
       " 764,\n",
       " 766,\n",
       " 768,\n",
       " 770,\n",
       " 772,\n",
       " 774,\n",
       " 776,\n",
       " 778,\n",
       " 780,\n",
       " 782,\n",
       " 784,\n",
       " 786,\n",
       " 788,\n",
       " 790,\n",
       " 792,\n",
       " 794,\n",
       " 796,\n",
       " 798,\n",
       " 800,\n",
       " 802,\n",
       " 804,\n",
       " 806,\n",
       " 808,\n",
       " 810,\n",
       " 812,\n",
       " 814,\n",
       " 816,\n",
       " 818,\n",
       " 820,\n",
       " 822,\n",
       " 824,\n",
       " 826,\n",
       " 828,\n",
       " 830,\n",
       " 832,\n",
       " 834,\n",
       " 836,\n",
       " 838,\n",
       " 840,\n",
       " 842,\n",
       " 844,\n",
       " 846,\n",
       " 848,\n",
       " 850,\n",
       " 852,\n",
       " 854,\n",
       " 856,\n",
       " 858,\n",
       " 860,\n",
       " 862,\n",
       " 864,\n",
       " 866,\n",
       " 868,\n",
       " 870,\n",
       " 872,\n",
       " 874,\n",
       " 876,\n",
       " 878,\n",
       " 880,\n",
       " 882,\n",
       " 884,\n",
       " 886,\n",
       " 888,\n",
       " 890,\n",
       " 892,\n",
       " 894,\n",
       " 896,\n",
       " 898,\n",
       " 900,\n",
       " 902,\n",
       " 904,\n",
       " 906,\n",
       " 908,\n",
       " 910,\n",
       " 912,\n",
       " 914,\n",
       " 916,\n",
       " 918,\n",
       " 920,\n",
       " 922,\n",
       " 924,\n",
       " 926,\n",
       " 928,\n",
       " 930,\n",
       " 932,\n",
       " 934,\n",
       " 936,\n",
       " 938,\n",
       " 940,\n",
       " 942,\n",
       " 944,\n",
       " 946,\n",
       " 948,\n",
       " 950,\n",
       " 952,\n",
       " 954,\n",
       " 956,\n",
       " 958,\n",
       " 960,\n",
       " 962,\n",
       " 964,\n",
       " 966,\n",
       " 968,\n",
       " 970,\n",
       " 972,\n",
       " 974,\n",
       " 976,\n",
       " 978,\n",
       " 980,\n",
       " 982,\n",
       " 984,\n",
       " 986,\n",
       " 988,\n",
       " 990,\n",
       " 992,\n",
       " 994,\n",
       " 996,\n",
       " 998]"
      ]
     },
     "execution_count": 5,
     "metadata": {},
     "output_type": "execute_result"
    }
   ],
   "source": [
    "liste"
   ]
  },
  {
   "cell_type": "code",
   "execution_count": 6,
   "id": "7ac8e512",
   "metadata": {},
   "outputs": [],
   "source": [
    "liste = [i for i in range(1000) if i % 2 == 0 ]"
   ]
  },
  {
   "cell_type": "code",
   "execution_count": 7,
   "id": "39e5a7c2",
   "metadata": {},
   "outputs": [
    {
     "data": {
      "text/plain": [
       "[0,\n",
       " 2,\n",
       " 4,\n",
       " 6,\n",
       " 8,\n",
       " 10,\n",
       " 12,\n",
       " 14,\n",
       " 16,\n",
       " 18,\n",
       " 20,\n",
       " 22,\n",
       " 24,\n",
       " 26,\n",
       " 28,\n",
       " 30,\n",
       " 32,\n",
       " 34,\n",
       " 36,\n",
       " 38,\n",
       " 40,\n",
       " 42,\n",
       " 44,\n",
       " 46,\n",
       " 48,\n",
       " 50,\n",
       " 52,\n",
       " 54,\n",
       " 56,\n",
       " 58,\n",
       " 60,\n",
       " 62,\n",
       " 64,\n",
       " 66,\n",
       " 68,\n",
       " 70,\n",
       " 72,\n",
       " 74,\n",
       " 76,\n",
       " 78,\n",
       " 80,\n",
       " 82,\n",
       " 84,\n",
       " 86,\n",
       " 88,\n",
       " 90,\n",
       " 92,\n",
       " 94,\n",
       " 96,\n",
       " 98,\n",
       " 100,\n",
       " 102,\n",
       " 104,\n",
       " 106,\n",
       " 108,\n",
       " 110,\n",
       " 112,\n",
       " 114,\n",
       " 116,\n",
       " 118,\n",
       " 120,\n",
       " 122,\n",
       " 124,\n",
       " 126,\n",
       " 128,\n",
       " 130,\n",
       " 132,\n",
       " 134,\n",
       " 136,\n",
       " 138,\n",
       " 140,\n",
       " 142,\n",
       " 144,\n",
       " 146,\n",
       " 148,\n",
       " 150,\n",
       " 152,\n",
       " 154,\n",
       " 156,\n",
       " 158,\n",
       " 160,\n",
       " 162,\n",
       " 164,\n",
       " 166,\n",
       " 168,\n",
       " 170,\n",
       " 172,\n",
       " 174,\n",
       " 176,\n",
       " 178,\n",
       " 180,\n",
       " 182,\n",
       " 184,\n",
       " 186,\n",
       " 188,\n",
       " 190,\n",
       " 192,\n",
       " 194,\n",
       " 196,\n",
       " 198,\n",
       " 200,\n",
       " 202,\n",
       " 204,\n",
       " 206,\n",
       " 208,\n",
       " 210,\n",
       " 212,\n",
       " 214,\n",
       " 216,\n",
       " 218,\n",
       " 220,\n",
       " 222,\n",
       " 224,\n",
       " 226,\n",
       " 228,\n",
       " 230,\n",
       " 232,\n",
       " 234,\n",
       " 236,\n",
       " 238,\n",
       " 240,\n",
       " 242,\n",
       " 244,\n",
       " 246,\n",
       " 248,\n",
       " 250,\n",
       " 252,\n",
       " 254,\n",
       " 256,\n",
       " 258,\n",
       " 260,\n",
       " 262,\n",
       " 264,\n",
       " 266,\n",
       " 268,\n",
       " 270,\n",
       " 272,\n",
       " 274,\n",
       " 276,\n",
       " 278,\n",
       " 280,\n",
       " 282,\n",
       " 284,\n",
       " 286,\n",
       " 288,\n",
       " 290,\n",
       " 292,\n",
       " 294,\n",
       " 296,\n",
       " 298,\n",
       " 300,\n",
       " 302,\n",
       " 304,\n",
       " 306,\n",
       " 308,\n",
       " 310,\n",
       " 312,\n",
       " 314,\n",
       " 316,\n",
       " 318,\n",
       " 320,\n",
       " 322,\n",
       " 324,\n",
       " 326,\n",
       " 328,\n",
       " 330,\n",
       " 332,\n",
       " 334,\n",
       " 336,\n",
       " 338,\n",
       " 340,\n",
       " 342,\n",
       " 344,\n",
       " 346,\n",
       " 348,\n",
       " 350,\n",
       " 352,\n",
       " 354,\n",
       " 356,\n",
       " 358,\n",
       " 360,\n",
       " 362,\n",
       " 364,\n",
       " 366,\n",
       " 368,\n",
       " 370,\n",
       " 372,\n",
       " 374,\n",
       " 376,\n",
       " 378,\n",
       " 380,\n",
       " 382,\n",
       " 384,\n",
       " 386,\n",
       " 388,\n",
       " 390,\n",
       " 392,\n",
       " 394,\n",
       " 396,\n",
       " 398,\n",
       " 400,\n",
       " 402,\n",
       " 404,\n",
       " 406,\n",
       " 408,\n",
       " 410,\n",
       " 412,\n",
       " 414,\n",
       " 416,\n",
       " 418,\n",
       " 420,\n",
       " 422,\n",
       " 424,\n",
       " 426,\n",
       " 428,\n",
       " 430,\n",
       " 432,\n",
       " 434,\n",
       " 436,\n",
       " 438,\n",
       " 440,\n",
       " 442,\n",
       " 444,\n",
       " 446,\n",
       " 448,\n",
       " 450,\n",
       " 452,\n",
       " 454,\n",
       " 456,\n",
       " 458,\n",
       " 460,\n",
       " 462,\n",
       " 464,\n",
       " 466,\n",
       " 468,\n",
       " 470,\n",
       " 472,\n",
       " 474,\n",
       " 476,\n",
       " 478,\n",
       " 480,\n",
       " 482,\n",
       " 484,\n",
       " 486,\n",
       " 488,\n",
       " 490,\n",
       " 492,\n",
       " 494,\n",
       " 496,\n",
       " 498,\n",
       " 500,\n",
       " 502,\n",
       " 504,\n",
       " 506,\n",
       " 508,\n",
       " 510,\n",
       " 512,\n",
       " 514,\n",
       " 516,\n",
       " 518,\n",
       " 520,\n",
       " 522,\n",
       " 524,\n",
       " 526,\n",
       " 528,\n",
       " 530,\n",
       " 532,\n",
       " 534,\n",
       " 536,\n",
       " 538,\n",
       " 540,\n",
       " 542,\n",
       " 544,\n",
       " 546,\n",
       " 548,\n",
       " 550,\n",
       " 552,\n",
       " 554,\n",
       " 556,\n",
       " 558,\n",
       " 560,\n",
       " 562,\n",
       " 564,\n",
       " 566,\n",
       " 568,\n",
       " 570,\n",
       " 572,\n",
       " 574,\n",
       " 576,\n",
       " 578,\n",
       " 580,\n",
       " 582,\n",
       " 584,\n",
       " 586,\n",
       " 588,\n",
       " 590,\n",
       " 592,\n",
       " 594,\n",
       " 596,\n",
       " 598,\n",
       " 600,\n",
       " 602,\n",
       " 604,\n",
       " 606,\n",
       " 608,\n",
       " 610,\n",
       " 612,\n",
       " 614,\n",
       " 616,\n",
       " 618,\n",
       " 620,\n",
       " 622,\n",
       " 624,\n",
       " 626,\n",
       " 628,\n",
       " 630,\n",
       " 632,\n",
       " 634,\n",
       " 636,\n",
       " 638,\n",
       " 640,\n",
       " 642,\n",
       " 644,\n",
       " 646,\n",
       " 648,\n",
       " 650,\n",
       " 652,\n",
       " 654,\n",
       " 656,\n",
       " 658,\n",
       " 660,\n",
       " 662,\n",
       " 664,\n",
       " 666,\n",
       " 668,\n",
       " 670,\n",
       " 672,\n",
       " 674,\n",
       " 676,\n",
       " 678,\n",
       " 680,\n",
       " 682,\n",
       " 684,\n",
       " 686,\n",
       " 688,\n",
       " 690,\n",
       " 692,\n",
       " 694,\n",
       " 696,\n",
       " 698,\n",
       " 700,\n",
       " 702,\n",
       " 704,\n",
       " 706,\n",
       " 708,\n",
       " 710,\n",
       " 712,\n",
       " 714,\n",
       " 716,\n",
       " 718,\n",
       " 720,\n",
       " 722,\n",
       " 724,\n",
       " 726,\n",
       " 728,\n",
       " 730,\n",
       " 732,\n",
       " 734,\n",
       " 736,\n",
       " 738,\n",
       " 740,\n",
       " 742,\n",
       " 744,\n",
       " 746,\n",
       " 748,\n",
       " 750,\n",
       " 752,\n",
       " 754,\n",
       " 756,\n",
       " 758,\n",
       " 760,\n",
       " 762,\n",
       " 764,\n",
       " 766,\n",
       " 768,\n",
       " 770,\n",
       " 772,\n",
       " 774,\n",
       " 776,\n",
       " 778,\n",
       " 780,\n",
       " 782,\n",
       " 784,\n",
       " 786,\n",
       " 788,\n",
       " 790,\n",
       " 792,\n",
       " 794,\n",
       " 796,\n",
       " 798,\n",
       " 800,\n",
       " 802,\n",
       " 804,\n",
       " 806,\n",
       " 808,\n",
       " 810,\n",
       " 812,\n",
       " 814,\n",
       " 816,\n",
       " 818,\n",
       " 820,\n",
       " 822,\n",
       " 824,\n",
       " 826,\n",
       " 828,\n",
       " 830,\n",
       " 832,\n",
       " 834,\n",
       " 836,\n",
       " 838,\n",
       " 840,\n",
       " 842,\n",
       " 844,\n",
       " 846,\n",
       " 848,\n",
       " 850,\n",
       " 852,\n",
       " 854,\n",
       " 856,\n",
       " 858,\n",
       " 860,\n",
       " 862,\n",
       " 864,\n",
       " 866,\n",
       " 868,\n",
       " 870,\n",
       " 872,\n",
       " 874,\n",
       " 876,\n",
       " 878,\n",
       " 880,\n",
       " 882,\n",
       " 884,\n",
       " 886,\n",
       " 888,\n",
       " 890,\n",
       " 892,\n",
       " 894,\n",
       " 896,\n",
       " 898,\n",
       " 900,\n",
       " 902,\n",
       " 904,\n",
       " 906,\n",
       " 908,\n",
       " 910,\n",
       " 912,\n",
       " 914,\n",
       " 916,\n",
       " 918,\n",
       " 920,\n",
       " 922,\n",
       " 924,\n",
       " 926,\n",
       " 928,\n",
       " 930,\n",
       " 932,\n",
       " 934,\n",
       " 936,\n",
       " 938,\n",
       " 940,\n",
       " 942,\n",
       " 944,\n",
       " 946,\n",
       " 948,\n",
       " 950,\n",
       " 952,\n",
       " 954,\n",
       " 956,\n",
       " 958,\n",
       " 960,\n",
       " 962,\n",
       " 964,\n",
       " 966,\n",
       " 968,\n",
       " 970,\n",
       " 972,\n",
       " 974,\n",
       " 976,\n",
       " 978,\n",
       " 980,\n",
       " 982,\n",
       " 984,\n",
       " 986,\n",
       " 988,\n",
       " 990,\n",
       " 992,\n",
       " 994,\n",
       " 996,\n",
       " 998]"
      ]
     },
     "execution_count": 7,
     "metadata": {},
     "output_type": "execute_result"
    }
   ],
   "source": [
    "liste"
   ]
  },
  {
   "cell_type": "code",
   "execution_count": 9,
   "id": "9e17eaa8",
   "metadata": {},
   "outputs": [],
   "source": [
    "liste = [[1, 2, 3],\n",
    "[4, 5, 6],\n",
    "[7, 8, 9],\n",
    "[10, 11, 12]]\n",
    "\n",
    "tümü = []\n",
    "for i in liste:\n",
    "    for z in i:\n",
    "        tümü += [z]"
   ]
  },
  {
   "cell_type": "code",
   "execution_count": 10,
   "id": "ee7f0b64",
   "metadata": {},
   "outputs": [
    {
     "data": {
      "text/plain": [
       "[1, 2, 3, 4, 5, 6, 7, 8, 9, 10, 11, 12]"
      ]
     },
     "execution_count": 10,
     "metadata": {},
     "output_type": "execute_result"
    }
   ],
   "source": [
    "tümü"
   ]
  },
  {
   "cell_type": "markdown",
   "id": "82f01ad4",
   "metadata": {},
   "source": [
    "Demet tanımlamanın birkaç farklı yolu vardır. Nasıl karakter dizilerinin ayırt edici özelliği\n",
    "tırnak işaretleri, listelerin ayırt edici özelliği ise köşeli parantez işaretleri ise, demetlerin ayırt\n",
    "edici özelliği de normal parantez işaretleridir. Dolayısıyla bir demet tanımlamak için normal\n",
    "parantez işaretlerinden yararlanacağız:\n"
   ]
  },
  {
   "cell_type": "code",
   "execution_count": 30,
   "id": "26087010",
   "metadata": {},
   "outputs": [],
   "source": [
    "demet = \"ali\", 1"
   ]
  },
  {
   "cell_type": "code",
   "execution_count": 31,
   "id": "7325199f",
   "metadata": {},
   "outputs": [
    {
     "data": {
      "text/plain": [
       "('ali', 1)"
      ]
     },
     "execution_count": 31,
     "metadata": {},
     "output_type": "execute_result"
    }
   ],
   "source": [
    "demet"
   ]
  },
  {
   "cell_type": "code",
   "execution_count": 32,
   "id": "318b97cf",
   "metadata": {},
   "outputs": [],
   "source": [
    "g = (\"gürkan\")"
   ]
  },
  {
   "cell_type": "code",
   "execution_count": 33,
   "id": "2ea2479f",
   "metadata": {},
   "outputs": [
    {
     "data": {
      "text/plain": [
       "str"
      ]
     },
     "execution_count": 33,
     "metadata": {},
     "output_type": "execute_result"
    }
   ],
   "source": [
    "type(g)"
   ]
  },
  {
   "cell_type": "code",
   "execution_count": 34,
   "id": "01f9db42",
   "metadata": {},
   "outputs": [],
   "source": [
    "a1 = (\"ahmet\")\n",
    "a2 = (\"ahmet\", \"mehmet\")"
   ]
  },
  {
   "cell_type": "code",
   "execution_count": 35,
   "id": "ed55774f",
   "metadata": {},
   "outputs": [
    {
     "data": {
      "text/plain": [
       "str"
      ]
     },
     "execution_count": 35,
     "metadata": {},
     "output_type": "execute_result"
    }
   ],
   "source": [
    "type(a1)\n"
   ]
  },
  {
   "cell_type": "code",
   "execution_count": 36,
   "id": "886dfddb",
   "metadata": {},
   "outputs": [
    {
     "data": {
      "text/plain": [
       "tuple"
      ]
     },
     "execution_count": 36,
     "metadata": {},
     "output_type": "execute_result"
    }
   ],
   "source": [
    "type(a2)\n"
   ]
  },
  {
   "cell_type": "code",
   "execution_count": 37,
   "id": "3e0cb263",
   "metadata": {},
   "outputs": [],
   "source": [
    "parantezsizdeolurdemet = \"ali\", 2, \"mehmet\""
   ]
  },
  {
   "cell_type": "code",
   "execution_count": 38,
   "id": "ceb4a02e",
   "metadata": {},
   "outputs": [
    {
     "data": {
      "text/plain": [
       "tuple"
      ]
     },
     "execution_count": 38,
     "metadata": {},
     "output_type": "execute_result"
    }
   ],
   "source": [
    "type(parantezsizdeolurdemet)"
   ]
  },
  {
   "cell_type": "code",
   "execution_count": 40,
   "id": "4f65cbc8",
   "metadata": {},
   "outputs": [
    {
     "data": {
      "text/plain": [
       "tuple"
      ]
     },
     "execution_count": 40,
     "metadata": {},
     "output_type": "execute_result"
    }
   ],
   "source": [
    "C,\"a\"\n",
    "type(nesne)"
   ]
  },
  {
   "cell_type": "code",
   "execution_count": 41,
   "id": "e8765a80",
   "metadata": {},
   "outputs": [
    {
     "data": {
      "text/plain": [
       "str"
      ]
     },
     "execution_count": 41,
     "metadata": {},
     "output_type": "execute_result"
    }
   ],
   "source": [
    "nesne2 = \"123456789\"\n",
    "type(nesne2)"
   ]
  },
  {
   "cell_type": "markdown",
   "id": "1dee67b3",
   "metadata": {},
   "source": [
    "Demet oluşturmak için tuple() adlı bir fonksiyondan da yararlanabilirsiniz. Bu fonksiyon, liste\n",
    "oluşturan list() fonksiyonuna çok benzer:\n",
    ">>> tuple('abcdefg')\n",
    "('a', 'b', 'c', 'd', 'e', 'f', 'g')\n"
   ]
  },
  {
   "cell_type": "markdown",
   "id": "e54a43db",
   "metadata": {},
   "source": [
    "Bu fonksiyonu kullanarak başka veri tiplerini demete dönüştürebilirsiniz:\n",
    ">>> tuple([\"ahmet\", \"mehmet\", 34, 45])\n",
    "('ahmet', 'mehmet', 34, 45)\n"
   ]
  },
  {
   "cell_type": "markdown",
   "id": "92149c28",
   "metadata": {},
   "source": [
    "22.2.2 Tek Öğeli bir Demet Tanımlamak\n",
    "\n",
    "Tek öğeli bir karakter dizisi oluşturabilmek için şu yolu izliyorduk hatırlarsanız:\n",
    ">>> kardiz = 'A'\n",
    "Bu tek öğeli bir karakter dizisidir. Bir de tek öğeli bir liste tanımlayalım:\n",
    "    \n",
    ">>> liste = ['ahmet']\n",
    "Bu da tek öğeli bir listedir. Gelin bir de tek öğeli bir demet oluşturmaya çalışalım:\n",
    "    \n",
    ">>> demet = ('ahmet')\n",
    "Bu şekilde tek öğeli bir demet oluşturduğunuzu zannediyorsunuz, ama aslında\n",
    "oluşturduğunuz şey basit bir karakter dizisinden ibaret! Gelin kontrol edelim:\n",
    ">>> type(demet)\n",
    "<class 'str'>\n",
    "\n",
    "Python programlama dilinde tek öğeli bir demet oluşturma işlemi biraz ‘tuhaf’tır. Eğer tek\n",
    "öğeye sahip bir demet oluşturacaksak şöyle bir şey yazmalıyız:\n",
    ">>> demet = ('ahmet',)\n",
    "veya:\n",
    ">>> demet = 'ahmet',"
   ]
  },
  {
   "cell_type": "markdown",
   "id": "e51324a9",
   "metadata": {},
   "source": [
    "birbirine çok benzer. Ama demetlerle\n",
    "listelerin birbirinden çok önemli bazı farkları da vardır. Bu iki veri tipi arasındaki en önemli fark\n",
    "şudur; listeler değiştirilebilir (mutable) bir veri tipi iken, demetler değiştirilemez (immutable)\n",
    "bir veri tipidir. Yani tıpkı karakter dizileri gibi, demetler de bir kez tanımlandıktan sonra\n",
    "bunların üzerinde değişiklik yapmak mümkün değildir:\n"
   ]
  },
  {
   "cell_type": "code",
   "execution_count": 42,
   "id": "6f59c352",
   "metadata": {},
   "outputs": [],
   "source": [
    "demet = ('ahmet','mehmet')"
   ]
  },
  {
   "cell_type": "code",
   "execution_count": 43,
   "id": "15ee8915",
   "metadata": {},
   "outputs": [
    {
     "data": {
      "text/plain": [
       "tuple"
      ]
     },
     "execution_count": 43,
     "metadata": {},
     "output_type": "execute_result"
    }
   ],
   "source": [
    "type(demet)"
   ]
  },
  {
   "cell_type": "code",
   "execution_count": 44,
   "id": "949096b2",
   "metadata": {},
   "outputs": [
    {
     "ename": "TypeError",
     "evalue": "can only concatenate tuple (not \"str\") to tuple",
     "output_type": "error",
     "traceback": [
      "\u001b[1;31m---------------------------------------------------------------------------\u001b[0m",
      "\u001b[1;31mTypeError\u001b[0m                                 Traceback (most recent call last)",
      "\u001b[1;32m<ipython-input-44-11396fd7d71f>\u001b[0m in \u001b[0;36m<module>\u001b[1;34m\u001b[0m\n\u001b[1;32m----> 1\u001b[1;33m \u001b[0mdemet\u001b[0m \u001b[1;33m=\u001b[0m \u001b[0mdemet\u001b[0m \u001b[1;33m+\u001b[0m \u001b[1;34m\"ahmet\"\u001b[0m\u001b[1;33m\u001b[0m\u001b[1;33m\u001b[0m\u001b[0m\n\u001b[0m",
      "\u001b[1;31mTypeError\u001b[0m: can only concatenate tuple (not \"str\") to tuple"
     ]
    }
   ],
   "source": [
    "demet = demet + \"ahmet\"   #ahmet bir string dir. olmazz"
   ]
  },
  {
   "cell_type": "code",
   "execution_count": 45,
   "id": "4da33e03",
   "metadata": {},
   "outputs": [],
   "source": [
    "demet = demet + ('ahmet',)"
   ]
  },
  {
   "cell_type": "code",
   "execution_count": 46,
   "id": "5055ef3c",
   "metadata": {},
   "outputs": [
    {
     "data": {
      "text/plain": [
       "('ahmet', 'mehmet', 'ahmet')"
      ]
     },
     "execution_count": 46,
     "metadata": {},
     "output_type": "execute_result"
    }
   ],
   "source": [
    "demet"
   ]
  },
  {
   "cell_type": "markdown",
   "id": "1a60afab",
   "metadata": {},
   "source": [
    "LİSTE METHODLARI"
   ]
  },
  {
   "cell_type": "markdown",
   "id": "244158f4",
   "metadata": {},
   "source": [
    "append() ve extend()"
   ]
  },
  {
   "cell_type": "markdown",
   "id": "07cc539d",
   "metadata": {},
   "source": [
    "Bildiğiniz gibi, + işleci, append() ve extend() metotları öğeleri listenin sonuna ekliyor. Peki biz\n",
    "bir öğeyi listenin sonuna değil de, liste içinde başka bir konuma eklemek istersek ne yapacağız?\n",
    "İşte bunun için insert() adlı başka bir metottan yararlanacağız.\n"
   ]
  },
  {
   "cell_type": "code",
   "execution_count": 1,
   "id": "fea250cd",
   "metadata": {},
   "outputs": [],
   "source": [
    "liste = [\"elma\", \"armut\", \"çilek\"]"
   ]
  },
  {
   "cell_type": "code",
   "execution_count": 2,
   "id": "de38b531",
   "metadata": {},
   "outputs": [],
   "source": [
    "liste.insert(0, \"erik\")"
   ]
  },
  {
   "cell_type": "code",
   "execution_count": 3,
   "id": "df5b2d4a",
   "metadata": {},
   "outputs": [
    {
     "data": {
      "text/plain": [
       "['erik', 'elma', 'armut', 'çilek']"
      ]
     },
     "execution_count": 3,
     "metadata": {},
     "output_type": "execute_result"
    }
   ],
   "source": [
    "liste"
   ]
  },
  {
   "cell_type": "code",
   "execution_count": 16,
   "id": "705d0994",
   "metadata": {},
   "outputs": [],
   "source": [
    "f = open(\"deneme.txt\" , \"r\")"
   ]
  },
  {
   "cell_type": "code",
   "execution_count": 17,
   "id": "365c69e1",
   "metadata": {},
   "outputs": [],
   "source": [
    "içerik = f.readlines()   #Bu satır sayesinde dosya içeriğini bir liste halinde alabildik. E"
   ]
  },
  {
   "cell_type": "code",
   "execution_count": 18,
   "id": "49d2ccb2",
   "metadata": {},
   "outputs": [
    {
     "name": "stdout",
     "output_type": "stream",
     "text": [
      "['Ahmet Ã–zkoparan\\n', 'Ferhat Yaz\\n', 'Mehmet Veli\\n', 'Serdar GÃ¼zel\\n', 'Zeynep GÃ¼z']\n"
     ]
    }
   ],
   "source": [
    "print(içerik)"
   ]
  },
  {
   "cell_type": "code",
   "execution_count": 19,
   "id": "e4cb12cc",
   "metadata": {},
   "outputs": [],
   "source": [
    "içerik.insert(1, \"Ferhat Yaz\\n\")"
   ]
  },
  {
   "cell_type": "code",
   "execution_count": 20,
   "id": "27f2e812",
   "metadata": {},
   "outputs": [],
   "source": [
    "g= open(\"deneme.txt\" , \"w\")"
   ]
  },
  {
   "cell_type": "code",
   "execution_count": 21,
   "id": "98b6b005",
   "metadata": {},
   "outputs": [],
   "source": [
    "g.writelines(içerik)"
   ]
  },
  {
   "cell_type": "code",
   "execution_count": 22,
   "id": "99546dce",
   "metadata": {},
   "outputs": [],
   "source": [
    "f.close()\n",
    "g.close()   # deneme.txt dosyasına manuel olarak bakarsan fatihin w= yani yazıldığını görürsün."
   ]
  },
  {
   "cell_type": "code",
   "execution_count": 23,
   "id": "661b13eb",
   "metadata": {},
   "outputs": [],
   "source": [
    "meyveler = [\"elma\", \"armut\", \"çilek\", \"kiraz\"]"
   ]
  },
  {
   "cell_type": "code",
   "execution_count": 34,
   "id": "8dcff9ce",
   "metadata": {},
   "outputs": [],
   "source": [
    "meyveler.reverse() # bu fonksiyon değil, method"
   ]
  },
  {
   "cell_type": "code",
   "execution_count": 26,
   "id": "e90ddaf6",
   "metadata": {},
   "outputs": [
    {
     "data": {
      "text/plain": [
       "['kiraz', 'çilek', 'armut', 'elma']"
      ]
     },
     "execution_count": 26,
     "metadata": {},
     "output_type": "execute_result"
    }
   ],
   "source": [
    "meyveler"
   ]
  },
  {
   "cell_type": "code",
   "execution_count": 27,
   "id": "a5d28946",
   "metadata": {},
   "outputs": [],
   "source": [
    "elmalar = [\"elma1\",\"elma2\", \"elma3\"]"
   ]
  },
  {
   "cell_type": "code",
   "execution_count": 28,
   "id": "db059a39",
   "metadata": {},
   "outputs": [
    {
     "data": {
      "text/plain": [
       "<list_reverseiterator at 0x24059781910>"
      ]
     },
     "execution_count": 28,
     "metadata": {},
     "output_type": "execute_result"
    }
   ],
   "source": [
    "reversed(elmalar)"
   ]
  },
  {
   "cell_type": "code",
   "execution_count": 30,
   "id": "be3d7075",
   "metadata": {},
   "outputs": [
    {
     "name": "stdout",
     "output_type": "stream",
     "text": [
      "kiraz çilek armut elma\n"
     ]
    }
   ],
   "source": [
    "print(*reversed(meyveler))"
   ]
  },
  {
   "cell_type": "code",
   "execution_count": 32,
   "id": "ad2f69b4",
   "metadata": {},
   "outputs": [
    {
     "name": "stdout",
     "output_type": "stream",
     "text": [
      "kiraz\n",
      "çilek\n",
      "armut\n",
      "elma\n"
     ]
    }
   ],
   "source": [
    "for i in reversed(meyveler):\n",
    "    \n",
    "    print(i)"
   ]
  },
  {
   "cell_type": "code",
   "execution_count": 33,
   "id": "04d341e6",
   "metadata": {},
   "outputs": [
    {
     "name": "stdout",
     "output_type": "stream",
     "text": [
      "['kiraz', 'çilek', 'armut', 'elma']\n"
     ]
    }
   ],
   "source": [
    "print(list(reversed(meyveler)))"
   ]
  },
  {
   "cell_type": "markdown",
   "id": "140e5d15",
   "metadata": {},
   "source": [
    "Ancak bu metot, remove() metodundan biraz farklı davranır. pop() metodunu kullanarak\n",
    "bir liste öğesini sildiğimizde, silinen öğe ekrana basılacaktır. Bu metot parametresiz olarak\n",
    "kullanıldığında listenin son öğesini listeden atar. Alternatif olarak, bu metodu bir parametre\n",
    "ile birlikte de kullanabilirsini"
   ]
  },
  {
   "cell_type": "code",
   "execution_count": 35,
   "id": "aab86e1c",
   "metadata": {},
   "outputs": [
    {
     "data": {
      "text/plain": [
       "'çilek'"
      ]
     },
     "execution_count": 35,
     "metadata": {},
     "output_type": "execute_result"
    }
   ],
   "source": [
    "liste.pop() #silinen öğe göründü outda "
   ]
  },
  {
   "cell_type": "code",
   "execution_count": 36,
   "id": "5aedc33c",
   "metadata": {},
   "outputs": [],
   "source": [
    "üyeler = ['Ahmet', 'Mehmet', 'Ceylan', 'Seyhan', 'Mahmut', 'Zeynep',\n",
    "'Abdullah', 'Kadir', 'Kemal', 'Kamil', 'Selin', 'Senem',\n",
    "'Sinem', 'Tayfun', 'Tuna', 'Tolga']"
   ]
  },
  {
   "cell_type": "code",
   "execution_count": 37,
   "id": "5e75d3bb",
   "metadata": {},
   "outputs": [],
   "source": [
    "üyeler.sort()"
   ]
  },
  {
   "cell_type": "code",
   "execution_count": 39,
   "id": "c9fbc90c",
   "metadata": {},
   "outputs": [
    {
     "data": {
      "text/plain": [
       "['Abdullah',\n",
       " 'Ahmet',\n",
       " 'Ceylan',\n",
       " 'Kadir',\n",
       " 'Kamil',\n",
       " 'Kemal',\n",
       " 'Mahmut',\n",
       " 'Mehmet',\n",
       " 'Selin',\n",
       " 'Senem',\n",
       " 'Seyhan',\n",
       " 'Sinem',\n",
       " 'Tayfun',\n",
       " 'Tolga',\n",
       " 'Tuna',\n",
       " 'Zeynep']"
      ]
     },
     "execution_count": 39,
     "metadata": {},
     "output_type": "execute_result"
    }
   ],
   "source": [
    "üyeler       # alfabeye göre sıralandı, sayıların küçükten büyüğe doğru sıralanması da olur. \n"
   ]
  },
  {
   "cell_type": "code",
   "execution_count": null,
   "id": "47510f3a",
   "metadata": {},
   "outputs": [],
   "source": [
    "Gördüğünüz gibi, sort() metodu öğeleri artan sıralamaya tabi tutuyor. Yani öğeler ‘a, b, c’\n",
    "veya 1, 2, 3 şeklinde sıralanıyor. Bunun tersini yapmak da mümkündür. Yani istersek Python’ın\n",
    "sıralama işlemini ‘c, b, a’ şeklinde yapmasını da sağlayabiliriz. Bunun için sort() metodunun\n",
    "reverse parametresini kullanacağız:\n"
   ]
  },
  {
   "cell_type": "code",
   "execution_count": 42,
   "id": "998bf22c",
   "metadata": {},
   "outputs": [],
   "source": [
    "üyeler.sort(reverse=True)   # tam tersi oluyor. "
   ]
  },
  {
   "cell_type": "code",
   "execution_count": 43,
   "id": "0cd55ed8",
   "metadata": {},
   "outputs": [
    {
     "data": {
      "text/plain": [
       "['Zeynep',\n",
       " 'Tuna',\n",
       " 'Tolga',\n",
       " 'Tayfun',\n",
       " 'Sinem',\n",
       " 'Seyhan',\n",
       " 'Senem',\n",
       " 'Selin',\n",
       " 'Mehmet',\n",
       " 'Mahmut',\n",
       " 'Kemal',\n",
       " 'Kamil',\n",
       " 'Kadir',\n",
       " 'Ceylan',\n",
       " 'Ahmet',\n",
       " 'Abdullah']"
      ]
     },
     "execution_count": 43,
     "metadata": {},
     "output_type": "execute_result"
    }
   ],
   "source": [
    "üyeler"
   ]
  },
  {
   "cell_type": "code",
   "execution_count": 46,
   "id": "b738e2f9",
   "metadata": {},
   "outputs": [],
   "source": [
    "liste1 = [\"ahmet\", \"mehmet\", \"özlem\"]\n",
    "\n"
   ]
  },
  {
   "cell_type": "code",
   "execution_count": 47,
   "id": "f6cadb19",
   "metadata": {},
   "outputs": [],
   "source": [
    "liste2 = liste1"
   ]
  },
  {
   "cell_type": "code",
   "execution_count": 48,
   "id": "b57844ab",
   "metadata": {},
   "outputs": [
    {
     "data": {
      "text/plain": [
       "['ahmet', 'mehmet', 'özlem']"
      ]
     },
     "execution_count": 48,
     "metadata": {},
     "output_type": "execute_result"
    }
   ],
   "source": [
    "liste2"
   ]
  },
  {
   "cell_type": "code",
   "execution_count": 58,
   "id": "222d36af",
   "metadata": {},
   "outputs": [],
   "source": [
    "k = [\"a\",\"b\",\"c\"]\n",
    "k3 = k[:]"
   ]
  },
  {
   "cell_type": "code",
   "execution_count": 59,
   "id": "6ac44bf6",
   "metadata": {},
   "outputs": [
    {
     "data": {
      "text/plain": [
       "['a', 'b', 'c']"
      ]
     },
     "execution_count": 59,
     "metadata": {},
     "output_type": "execute_result"
    }
   ],
   "source": [
    "k3\n"
   ]
  },
  {
   "cell_type": "markdown",
   "id": "d163791f",
   "metadata": {},
   "source": [
    "# tuplenin metotoları"
   ]
  },
  {
   "cell_type": "code",
   "execution_count": 60,
   "id": "6a7f2ba3",
   "metadata": {
    "scrolled": true
   },
   "outputs": [
    {
     "data": {
      "text/plain": [
       "['__add__',\n",
       " '__class__',\n",
       " '__contains__',\n",
       " '__delattr__',\n",
       " '__dir__',\n",
       " '__doc__',\n",
       " '__eq__',\n",
       " '__format__',\n",
       " '__ge__',\n",
       " '__getattribute__',\n",
       " '__getitem__',\n",
       " '__getnewargs__',\n",
       " '__gt__',\n",
       " '__hash__',\n",
       " '__init__',\n",
       " '__init_subclass__',\n",
       " '__iter__',\n",
       " '__le__',\n",
       " '__len__',\n",
       " '__lt__',\n",
       " '__mul__',\n",
       " '__ne__',\n",
       " '__new__',\n",
       " '__reduce__',\n",
       " '__reduce_ex__',\n",
       " '__repr__',\n",
       " '__rmul__',\n",
       " '__setattr__',\n",
       " '__sizeof__',\n",
       " '__str__',\n",
       " '__subclasshook__',\n",
       " 'count',\n",
       " 'index']"
      ]
     },
     "execution_count": 60,
     "metadata": {},
     "output_type": "execute_result"
    }
   ],
   "source": [
    "dir(tuple)"
   ]
  },
  {
   "cell_type": "code",
   "execution_count": 61,
   "id": "25f74aa5",
   "metadata": {},
   "outputs": [
    {
     "data": {
      "text/plain": [
       "0"
      ]
     },
     "execution_count": 61,
     "metadata": {},
     "output_type": "execute_result"
    }
   ],
   "source": [
    "demet = (\"elma\", \"armut\", \"çilek\")\n",
    "demet.index(\"elma\")"
   ]
  },
  {
   "cell_type": "code",
   "execution_count": 77,
   "id": "8ff55582",
   "metadata": {},
   "outputs": [
    {
     "name": "stdout",
     "output_type": "stream",
     "text": [
      "   onlu    \n"
     ]
    }
   ],
   "source": [
    "sayı_sistemleri = [\"onlu\"]\n",
    "print((\"{:^10} \"*len(sayı_sistemleri)).format(*sayı_sistemleri))\n"
   ]
  },
  {
   "cell_type": "code",
   "execution_count": null,
   "id": "4e1f46b4",
   "metadata": {},
   "outputs": [],
   "source": [
    "   onlu     sekizli   \n"
   ]
  },
  {
   "cell_type": "code",
   "execution_count": 1,
   "id": "0daa644f",
   "metadata": {},
   "outputs": [
    {
     "name": "stdout",
     "output_type": "stream",
     "text": [
      "conjugate\n",
      "imag\n",
      "real\n"
     ]
    }
   ],
   "source": [
    "for i in dir(complex):\n",
    "    if not i.startswith(\"_\"):\n",
    "        print(i)"
   ]
  },
  {
   "cell_type": "code",
   "execution_count": 3,
   "id": "d16cb981",
   "metadata": {},
   "outputs": [
    {
     "data": {
      "text/plain": [
       "['conjugate', 'imag', 'real']"
      ]
     },
     "execution_count": 3,
     "metadata": {},
     "output_type": "execute_result"
    }
   ],
   "source": [
    "[i for i in dir(complex) if not i.startswith(\"_\")]#liste yapmak istediğimiz ve liste yapmazsak çalışmayacak olan bir kod yazdık "
   ]
  },
  {
   "cell_type": "markdown",
   "id": "af2af6bb",
   "metadata": {},
   "source": [
    "i yi koy, for i in leri koy ve if... leri koy, en aşağıya i yi print ettirmen gerekirdi ama en başa i yi koydun \n"
   ]
  },
  {
   "cell_type": "code",
   "execution_count": 2,
   "id": "c85e76d7",
   "metadata": {},
   "outputs": [
    {
     "ename": "SyntaxError",
     "evalue": "invalid syntax (<ipython-input-2-7a9b67553405>, line 1)",
     "output_type": "error",
     "traceback": [
      "\u001b[1;36m  File \u001b[1;32m\"<ipython-input-2-7a9b67553405>\"\u001b[1;36m, line \u001b[1;32m1\u001b[0m\n\u001b[1;33m    i for i in dir(complex) if not i.startswith(\"_\")\u001b[0m\n\u001b[1;37m      ^\u001b[0m\n\u001b[1;31mSyntaxError\u001b[0m\u001b[1;31m:\u001b[0m invalid syntax\n"
     ]
    }
   ],
   "source": [
    "i for i in dir(complex) if not i.startswith(\"_\")"
   ]
  },
  {
   "cell_type": "code",
   "execution_count": null,
   "id": "fabf4c7c",
   "metadata": {},
   "outputs": [],
   "source": [
    "max()"
   ]
  },
  {
   "cell_type": "code",
   "execution_count": null,
   "id": "9c72c33d",
   "metadata": {},
   "outputs": [],
   "source": []
  },
  {
   "cell_type": "code",
   "execution_count": null,
   "id": "f8e56039",
   "metadata": {},
   "outputs": [],
   "source": []
  },
  {
   "cell_type": "code",
   "execution_count": null,
   "id": "223bbc62",
   "metadata": {},
   "outputs": [],
   "source": []
  },
  {
   "cell_type": "code",
   "execution_count": null,
   "id": "b2a6651f",
   "metadata": {},
   "outputs": [],
   "source": []
  },
  {
   "cell_type": "code",
   "execution_count": null,
   "id": "a11dcb15",
   "metadata": {},
   "outputs": [],
   "source": []
  }
 ],
 "metadata": {
  "kernelspec": {
   "display_name": "Python 3",
   "language": "python",
   "name": "python3"
  },
  "language_info": {
   "codemirror_mode": {
    "name": "ipython",
    "version": 3
   },
   "file_extension": ".py",
   "mimetype": "text/x-python",
   "name": "python",
   "nbconvert_exporter": "python",
   "pygments_lexer": "ipython3",
   "version": "3.8.8"
  }
 },
 "nbformat": 4,
 "nbformat_minor": 5
}
