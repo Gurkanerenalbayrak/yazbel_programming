{
 "cells": [
  {
   "cell_type": "code",
   "execution_count": 1,
   "id": "10df9c41",
   "metadata": {},
   "outputs": [],
   "source": [
    "f = open(\"kişisel_bilgiler.txt\", \"w\")"
   ]
  },
  {
   "cell_type": "code",
   "execution_count": 4,
   "id": "53c4a7ca",
   "metadata": {},
   "outputs": [],
   "source": [
    "print(\"fırat özgül\", file = f ) # şuan baksak txt dosyasının içi boş olucaktır. Python bizim bu dosyaya eklemek istediğimiz \n",
    "#satırı tampona kaydetti."
   ]
  },
  {
   "cell_type": "code",
   "execution_count": 5,
   "id": "8317304b",
   "metadata": {},
   "outputs": [],
   "source": [
    "f.close()"
   ]
  },
  {
   "cell_type": "code",
   "execution_count": 6,
   "id": "dc0e8dbb",
   "metadata": {},
   "outputs": [
    {
     "name": "stdout",
     "output_type": "stream",
     "text": [
      "\n"
     ]
    }
   ],
   "source": [
    "print() # flush normalde false oluyor: ) "
   ]
  },
  {
   "cell_type": "code",
   "execution_count": 7,
   "id": "7749b1f9",
   "metadata": {},
   "outputs": [],
   "source": [
    "#Gördüğünüz gibi, burada flush adlı yeni bir parametre kullandık. Bu parametreye verdiğimiz\n",
    "#değer True. Şimdi dosyaya çift tıklayarak dosyayı açın. Gördüğünüz gibi, henüz dosyayı\n",
    "#kapatmadığımız halde bilgiler dosyaya yazıldı. Bu durum, tahmin edebileceğiniz gibi, flush\n",
    "#parametresine True değeri vermemiz sayesindedir."
   ]
  },
  {
   "cell_type": "code",
   "execution_count": 8,
   "id": "f6e606fb",
   "metadata": {},
   "outputs": [
    {
     "name": "stdout",
     "output_type": "stream",
     "text": [
      "G a l a t a s a r a y\n"
     ]
    }
   ],
   "source": [
    "print(*\"Galatasaray\")"
   ]
  },
  {
   "cell_type": "code",
   "execution_count": 9,
   "id": "44a3d5be",
   "metadata": {},
   "outputs": [],
   "source": [
    "#Son örnekte de gördüğünüz\n",
    "#gibi, “Galatasaray” karakter dizisinin başına eklediğimiz yıldız işareti; “Galatasaray” karakter\n",
    "#dizisinin her bir öğesini parçalarına ayırarak, bunları tek tek print() fonksiyonuna yolluyor.\n",
    "#Yani sanki print() fonksiyonunu şöyle yazmışız gibi oluyor:\n",
    "#>>> print(\"G\", \"a\", \"l\", \"a\", \"t\", \"a\", \"s\", \"a\", \"r\", \"a\", \"y\")"
   ]
  },
  {
   "cell_type": "code",
   "execution_count": 10,
   "id": "6d52da4f",
   "metadata": {},
   "outputs": [
    {
     "name": "stdout",
     "output_type": "stream",
     "text": [
      "b.a.k.ş.i.m.d.i.k.e.l.i.m.e.l.e.r.i.a.y.ı.r.ı.y.o.r.u.m.v.e.a.r.a.l.a.r.ı.n.a.n.o.k.t.a.k.o.y.u.y.o.r.u.m\n"
     ]
    }
   ],
   "source": [
    "print(*\"bakşimdikelimeleriayırıyorumvearalarınanoktakoyuyorum\", sep=\".\")"
   ]
  },
  {
   "cell_type": "code",
   "execution_count": 13,
   "id": "44f6d963",
   "metadata": {},
   "outputs": [
    {
     "name": "stdout",
     "output_type": "stream",
     "text": [
      "araba.uçak.tren\n"
     ]
    }
   ],
   "source": [
    "print(*(\"araba\",\"uçak\",\"tren\"), sep=\".\")"
   ]
  },
  {
   "cell_type": "code",
   "execution_count": 14,
   "id": "13659047",
   "metadata": {},
   "outputs": [
    {
     "name": "stdout",
     "output_type": "stream",
     "text": [
      "a.r.a.b.a.uçak.tren\n"
     ]
    }
   ],
   "source": [
    "print(*\"araba\",\"uçak\",\"tren\", sep=\".\")"
   ]
  },
  {
   "cell_type": "code",
   "execution_count": 42,
   "id": "c40e67af",
   "metadata": {},
   "outputs": [],
   "source": [
    "print(*\"araba\",*\"uçak\",*\"tren\", sep=\".\")"
   ]
  },
  {
   "cell_type": "code",
   "execution_count": 41,
   "id": "3a61c09c",
   "metadata": {},
   "outputs": [],
   "source": [
    "#Yıldızlı parametrelerle ilgili tek kısıtlama, bunların sayılarla birlikte kullanılamayacak\n",
    "#olmasıdır:"
   ]
  },
  {
   "cell_type": "code",
   "execution_count": 43,
   "id": "c934425f",
   "metadata": {},
   "outputs": [],
   "source": [
    "f, sys.stdout = sys.stdout, f"
   ]
  },
  {
   "cell_type": "code",
   "execution_count": 44,
   "id": "1a8ed75e",
   "metadata": {},
   "outputs": [],
   "source": [
    "print(*\"araba\",*\"uçak\",*\"tren\", sep=\".\")"
   ]
  },
  {
   "cell_type": "code",
   "execution_count": 1,
   "id": "40736582",
   "metadata": {},
   "outputs": [
    {
     "name": "stdout",
     "output_type": "stream",
     "text": [
      "zalim dünya\n"
     ]
    }
   ],
   "source": [
    "print(\"zalim dünya\")"
   ]
  },
  {
   "cell_type": "code",
   "execution_count": 2,
   "id": "61563a1f",
   "metadata": {},
   "outputs": [],
   "source": [
    "f= open(\"kişisel_bilgiler2.txt\",\"w\")"
   ]
  },
  {
   "cell_type": "code",
   "execution_count": 3,
   "id": "af9f038f",
   "metadata": {},
   "outputs": [
    {
     "name": "stdout",
     "output_type": "stream",
     "text": [
      "gürkan albayrak 3.02.23\n"
     ]
    }
   ],
   "source": [
    "print(\"gürkan albayrak 3.02.23\")"
   ]
  },
  {
   "cell_type": "code",
   "execution_count": null,
   "id": "ba1941f9",
   "metadata": {},
   "outputs": [],
   "source": [
    "print(\"gürkan albayrak 3.02.23\", file=f)\n"
   ]
  },
  {
   "cell_type": "code",
   "execution_count": 6,
   "id": "4e7c1a21",
   "metadata": {},
   "outputs": [],
   "source": [
    "f.close() #BUNU yazdıktan sonra kişisel bilgiler 2 ye istediğimizi yazdırabildik "
   ]
  },
  {
   "cell_type": "code",
   "execution_count": 16,
   "id": "c45cdc85",
   "metadata": {},
   "outputs": [],
   "source": [
    "g = open(\"kişisel_bilgiler3.txt\", \"w\")"
   ]
  },
  {
   "cell_type": "code",
   "execution_count": 20,
   "id": "e4c71be4",
   "metadata": {},
   "outputs": [],
   "source": [
    "print(\"gürkan albayrak2 3.02.23\", file=g, flush=True)"
   ]
  },
  {
   "cell_type": "code",
   "execution_count": 22,
   "id": "11603499",
   "metadata": {},
   "outputs": [],
   "source": [
    "isim = \"Fırat\"\n",
    "soyisim = \"Özgül\"\n",
    "işsis = \"Ubuntu\"\n",
    "şehir = \"İstanbul\""
   ]
  },
  {
   "cell_type": "code",
   "execution_count": 24,
   "id": "24e19cdd",
   "metadata": {},
   "outputs": [
    {
     "name": "stdout",
     "output_type": "stream",
     "text": [
      "isim :  Fırat \n",
      " soyisim :  Özgül \n",
      " işletim sistemi:  Ubuntu \n",
      " şehir :  İstanbul \n",
      "\n"
     ]
    }
   ],
   "source": [
    "print(\"isim : \", isim, \"\\n\",\n",
    "\"soyisim : \", soyisim, \"\\n\",\n",
    "\"işletim sistemi: \", işsis, \"\\n\",\n",
    "\"şehir : \", şehir, \"\\n\",\n",
    "sep=\" \")"
   ]
  },
  {
   "cell_type": "code",
   "execution_count": null,
   "id": "03b8a79c",
   "metadata": {},
   "outputs": [],
   "source": [
    "#şu sep var ya hani sepp , virgüllerden sonraki boşluk miktarını ayarlıyor. yani iki veri arasındaki boşluk miktarını ayarlıyor. "
   ]
  },
  {
   "cell_type": "code",
   "execution_count": null,
   "id": "8a2ac5c9",
   "metadata": {},
   "outputs": [],
   "source": []
  },
  {
   "cell_type": "code",
   "execution_count": null,
   "id": "4bbb8d38",
   "metadata": {},
   "outputs": [],
   "source": []
  },
  {
   "cell_type": "code",
   "execution_count": null,
   "id": "e40c0b7b",
   "metadata": {},
   "outputs": [],
   "source": []
  }
 ],
 "metadata": {
  "kernelspec": {
   "display_name": "Python 3",
   "language": "python",
   "name": "python3"
  },
  "language_info": {
   "codemirror_mode": {
    "name": "ipython",
    "version": 3
   },
   "file_extension": ".py",
   "mimetype": "text/x-python",
   "name": "python",
   "nbconvert_exporter": "python",
   "pygments_lexer": "ipython3",
   "version": "3.8.8"
  }
 },
 "nbformat": 4,
 "nbformat_minor": 5
}
