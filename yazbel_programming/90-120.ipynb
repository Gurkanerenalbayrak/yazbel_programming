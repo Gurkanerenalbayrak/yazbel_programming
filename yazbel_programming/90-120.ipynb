{
 "cells": [
  {
   "cell_type": "code",
   "execution_count": 1,
   "id": "33592d4a",
   "metadata": {},
   "outputs": [
    {
     "name": "stdout",
     "output_type": "stream",
     "text": [
      "1\n"
     ]
    }
   ],
   "source": [
    "print(1)"
   ]
  },
  {
   "cell_type": "code",
   "execution_count": 2,
   "id": "cc986aec",
   "metadata": {},
   "outputs": [],
   "source": [
    "#ohh "
   ]
  },
  {
   "cell_type": "code",
   "execution_count": 3,
   "id": "471b1fcc",
   "metadata": {},
   "outputs": [],
   "source": [
    "#KAÇIŞ DİZELERİ "
   ]
  },
  {
   "cell_type": "code",
   "execution_count": 6,
   "id": "69e74e6d",
   "metadata": {},
   "outputs": [
    {
     "name": "stdout",
     "output_type": "stream",
     "text": [
      "Yarın Adana\"ya gidiyorum.\n"
     ]
    }
   ],
   "source": [
    "print('Yarın Adana\\\"ya gidiyorum.') #tırnaklar için birebir bir kaçış aracı "
   ]
  },
  {
   "cell_type": "code",
   "execution_count": 7,
   "id": "ba15ddd8",
   "metadata": {},
   "outputs": [
    {
     "name": "stdout",
     "output_type": "stream",
     "text": [
      "\"book\" kelimesi Türkçede \"kitap\" anlamına gelir.\n"
     ]
    }
   ],
   "source": [
    "print(\"\\\"book\\\" kelimesi Türkçede \\\"kitap\\\" anlamına gelir.\") # dikkat et önce taksim ardından tırnağımızı yazıyoruz "
   ]
  },
  {
   "cell_type": "code",
   "execution_count": 8,
   "id": "be966904",
   "metadata": {},
   "outputs": [
    {
     "ename": "SyntaxError",
     "evalue": "invalid syntax (<ipython-input-8-a59b792092e2>, line 1)",
     "output_type": "error",
     "traceback": [
      "\u001b[1;36m  File \u001b[1;32m\"<ipython-input-8-a59b792092e2>\"\u001b[1;36m, line \u001b[1;32m1\u001b[0m\n\u001b[1;33m    print('İstanbul'un 5 günlük hava durumu tahmini')\u001b[0m\n\u001b[1;37m                    ^\u001b[0m\n\u001b[1;31mSyntaxError\u001b[0m\u001b[1;31m:\u001b[0m invalid syntax\n"
     ]
    }
   ],
   "source": [
    "print('İstanbul'un 5 günlük hava durumu tahmini')"
   ]
  },
  {
   "cell_type": "code",
   "execution_count": 10,
   "id": "cd1d03b8",
   "metadata": {},
   "outputs": [
    {
     "name": "stdout",
     "output_type": "stream",
     "text": [
      "'İstanbul'un 5 günlük hava durumu tahmini'\n"
     ]
    }
   ],
   "source": [
    "print(\"'İstanbul'un 5 günlük hava durumu tahmini'\")\n"
   ]
  },
  {
   "cell_type": "code",
   "execution_count": 16,
   "id": "d52c516f",
   "metadata": {},
   "outputs": [
    {
     "name": "stdout",
     "output_type": "stream",
     "text": [
      "Python 1fdsafsafdsfasfas fdksalfjşlsaifsa\n"
     ]
    }
   ],
   "source": [
    "print(\"Python 1fdsafsafdsfasfas \\\n",
    "fdksalfjşlsaifsa\")\n",
    "#sol a taksimm "
   ]
  },
  {
   "cell_type": "code",
   "execution_count": 19,
   "id": "7633da53",
   "metadata": {},
   "outputs": [
    {
     "name": "stdout",
     "output_type": "stream",
     "text": [
      "birinci satır\n",
      "ikinci satır\n",
      "üçüncü satır\n"
     ]
    }
   ],
   "source": [
    "print(\"birinci satır\\nikinci satır\\nüçüncü satır\")  #yapışık sol taksim n "
   ]
  },
  {
   "cell_type": "code",
   "execution_count": 20,
   "id": "b0a0d585",
   "metadata": {},
   "outputs": [],
   "source": [
    "başlık = \"alışveriş merkezi\""
   ]
  },
  {
   "cell_type": "code",
   "execution_count": 24,
   "id": "1a4affb1",
   "metadata": {},
   "outputs": [
    {
     "name": "stdout",
     "output_type": "stream",
     "text": [
      "alışveriş merkezi\n",
      "\n",
      "\n",
      "-----------------\n"
     ]
    }
   ],
   "source": [
    "print(başlık, \"\\n\" , \"-\"*len(başlık), sep=\"\\n\")"
   ]
  },
  {
   "cell_type": "code",
   "execution_count": 27,
   "id": "91d40452",
   "metadata": {},
   "outputs": [
    {
     "name": "stdout",
     "output_type": "stream",
     "text": [
      "alışveriş merkezi\n",
      "-----------------\n"
     ]
    }
   ],
   "source": [
    "print(başlık, \"\\n\" , \"-\"*len(başlık), sep=\"\") "
   ]
  },
  {
   "cell_type": "code",
   "execution_count": 28,
   "id": "2ffa96a2",
   "metadata": {},
   "outputs": [
    {
     "name": "stdout",
     "output_type": "stream",
     "text": [
      "alışveriş merkezi \n",
      " -----------------\n"
     ]
    }
   ],
   "source": [
    "print(başlık, \"\\n\" , \"-\"*len(başlık), sep=\" \") #şu 3 örnekte şunu anladım, yazılan sol slash n yazısı printte olan başlık ve \n",
    "# \"-\"*len(başlık) gibi değil çünkü sep arkadaşımız onu düşünerek hareket etmedi etseydi boşluk olurdu"
   ]
  },
  {
   "cell_type": "code",
   "execution_count": 29,
   "id": "282c23ef",
   "metadata": {},
   "outputs": [],
   "source": [
    "# open(\"C:\\\\nisan\\masraflar\")\n",
    "# burdaki çift slash in sebebi \\n olarak anlatmamak istediğimizden kaynaklanıyor "
   ]
  },
  {
   "cell_type": "code",
   "execution_count": 33,
   "id": "ed002cb4",
   "metadata": {},
   "outputs": [
    {
     "name": "stdout",
     "output_type": "stream",
     "text": [
      "bir\tiki\tüç\n"
     ]
    }
   ],
   "source": [
    "print(\"bir\", \"iki\", \"üç\", sep=\"\\t\")\n",
    "# arkadaşımızın görevi tab kadar uzatması imiş "
   ]
  },
  {
   "cell_type": "code",
   "execution_count": 34,
   "id": "c1e95a98",
   "metadata": {},
   "outputs": [],
   "source": [
    "#print(\"C:\\\\nisan\\\\masraflar\\\\toplam_masraf.txt\") şu çift slash olayı t de de var knk "
   ]
  },
  {
   "cell_type": "code",
   "execution_count": 39,
   "id": "8ed49049",
   "metadata": {},
   "outputs": [
    {
     "name": "stdout",
     "output_type": "stream",
     "text": [
      "Merhaba\r",
      "Ddünya\n"
     ]
    }
   ],
   "source": [
    "print(\"Merhaba\\rDdünya\") #sağ taraftaki harf kadar yok ediyor kalanınını sağa ekliyor. "
   ]
  },
  {
   "cell_type": "code",
   "execution_count": 42,
   "id": "ae355ed2",
   "metadata": {},
   "outputs": [
    {
     "name": "stdout",
     "output_type": "stream",
     "text": [
      "yahoo.com  .uk\n"
     ]
    }
   ],
   "source": [
    "print(\"yahoo.com  .uk\")\n"
   ]
  },
  {
   "cell_type": "code",
   "execution_count": 49,
   "id": "3fc5030d",
   "metadata": {},
   "outputs": [
    {
     "name": "stdout",
     "output_type": "stream",
     "text": [
      "yahoo.comm\b.uk\n"
     ]
    }
   ],
   "source": [
    "print(\"yahoo.comm\\b.uk\") # en iyi örnek bu \n"
   ]
  },
  {
   "cell_type": "code",
   "execution_count": 50,
   "id": "e398f243",
   "metadata": {},
   "outputs": [
    {
     "name": "stdout",
     "output_type": "stream",
     "text": [
      "yahoo.com\b.uk\n"
     ]
    }
   ],
   "source": [
    "print(\"yahoo.com\\b.uk\")\n",
    "#solunu siliyor ve sağını bir adım yakınlaştırıyor sola doğru "
   ]
  },
  {
   "cell_type": "code",
   "execution_count": 3,
   "id": "001ae1fb",
   "metadata": {},
   "outputs": [
    {
     "data": {
      "text/plain": [
       "'merhaba zalim dünya'"
      ]
     },
     "execution_count": 3,
     "metadata": {},
     "output_type": "execute_result"
    }
   ],
   "source": [
    "\"merhaba zalim dünya\""
   ]
  },
  {
   "cell_type": "code",
   "execution_count": 5,
   "id": "4c2438df",
   "metadata": {},
   "outputs": [
    {
     "name": "stdout",
     "output_type": "stream",
     "text": [
      "gürkan \n"
     ]
    },
    {
     "data": {
      "text/plain": [
       "'gürkan '"
      ]
     },
     "execution_count": 5,
     "metadata": {},
     "output_type": "execute_result"
    }
   ],
   "source": [
    "input()"
   ]
  },
  {
   "cell_type": "code",
   "execution_count": null,
   "id": "05741551",
   "metadata": {},
   "outputs": [],
   "source": []
  }
 ],
 "metadata": {
  "kernelspec": {
   "display_name": "Python 3",
   "language": "python",
   "name": "python3"
  },
  "language_info": {
   "codemirror_mode": {
    "name": "ipython",
    "version": 3
   },
   "file_extension": ".py",
   "mimetype": "text/x-python",
   "name": "python",
   "nbconvert_exporter": "python",
   "pygments_lexer": "ipython3",
   "version": "3.8.8"
  }
 },
 "nbformat": 4,
 "nbformat_minor": 5
}
