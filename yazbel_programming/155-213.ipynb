{
 "cells": [
  {
   "cell_type": "code",
   "execution_count": 1,
   "id": "eeebccc4",
   "metadata": {},
   "outputs": [],
   "source": [
    "# IF ELSE \n",
    "#İşleç Anlamı\n",
    "# > büyüktür\n",
    "# < küçüktür\n",
    "# >= büyük eşittir\n",
    "# <= küçük eşittir\n",
    "# == eşittir\n",
    "# != eşit değildir\n",
    "\n",
    "\n",
    "\n",
    "#  == işaretini ise iki adet değerin birbirine eşit olup olmadığını denetlemek için kullanıyoruz "
   ]
  },
  {
   "cell_type": "code",
   "execution_count": 2,
   "id": "3fe9b23b",
   "metadata": {},
   "outputs": [
    {
     "data": {
      "text/plain": [
       "True"
      ]
     },
     "execution_count": 2,
     "metadata": {},
     "output_type": "execute_result"
    }
   ],
   "source": [
    "a = 26 \n",
    "\n",
    "\n",
    "# a yirmi altıya eşit midir. \n",
    "\n",
    "a==26\n"
   ]
  },
  {
   "cell_type": "code",
   "execution_count": 4,
   "id": "208cf00e",
   "metadata": {},
   "outputs": [
    {
     "name": "stdout",
     "output_type": "stream",
     "text": [
      "n 10 dan büyüktür.\n"
     ]
    }
   ],
   "source": [
    "n=30\n",
    "if n > 10: \n",
    "    print(\"n 10 dan büyüktür.\")"
   ]
  },
  {
   "cell_type": "code",
   "execution_count": 6,
   "id": "75197187",
   "metadata": {},
   "outputs": [],
   "source": [
    "#sayı = input(\"Bir sayı giriniz: \")\n",
    "#sayı = int(sayı)\n",
    "# int ile verilen değeri sayıya dönüştürüyoruz "
   ]
  },
  {
   "cell_type": "code",
   "execution_count": 8,
   "id": "e50d9e48",
   "metadata": {},
   "outputs": [
    {
     "name": "stdout",
     "output_type": "stream",
     "text": [
      "Bir sayı giriniz: 1\n"
     ]
    }
   ],
   "source": [
    "sayı = input(\"Bir sayı giriniz: \")\n",
    "sayı = int(sayı)"
   ]
  },
  {
   "cell_type": "code",
   "execution_count": 10,
   "id": "7f746687",
   "metadata": {},
   "outputs": [
    {
     "name": "stdout",
     "output_type": "stream",
     "text": [
      "Bir sayı giriniz: a\n"
     ]
    },
    {
     "ename": "ValueError",
     "evalue": "invalid literal for int() with base 10: 'a'",
     "output_type": "error",
     "traceback": [
      "\u001b[1;31m---------------------------------------------------------------------------\u001b[0m",
      "\u001b[1;31mValueError\u001b[0m                                Traceback (most recent call last)",
      "\u001b[1;32m<ipython-input-10-ca4613958191>\u001b[0m in \u001b[0;36m<module>\u001b[1;34m\u001b[0m\n\u001b[0;32m      1\u001b[0m \u001b[0msayı\u001b[0m \u001b[1;33m=\u001b[0m \u001b[0minput\u001b[0m\u001b[1;33m(\u001b[0m\u001b[1;34m\"Bir sayı giriniz: \"\u001b[0m\u001b[1;33m)\u001b[0m\u001b[1;33m\u001b[0m\u001b[1;33m\u001b[0m\u001b[0m\n\u001b[1;32m----> 2\u001b[1;33m \u001b[0msayı\u001b[0m \u001b[1;33m=\u001b[0m \u001b[0mint\u001b[0m\u001b[1;33m(\u001b[0m\u001b[0msayı\u001b[0m\u001b[1;33m)\u001b[0m \u001b[1;31m# işte böyle bir durumda sistem çöküyor. kontrol mekanizmamız şimdilik bu kfdlşs\u001b[0m\u001b[1;33m\u001b[0m\u001b[1;33m\u001b[0m\u001b[0m\n\u001b[0m",
      "\u001b[1;31mValueError\u001b[0m: invalid literal for int() with base 10: 'a'"
     ]
    }
   ],
   "source": [
    "sayı = input(\"Bir sayı giriniz: \")\n",
    "sayı = int(sayı) # işte böyle bir durumda sistem çöküyor. kontrol mekanizmamız şimdilik bu kfdlşs"
   ]
  },
  {
   "cell_type": "code",
   "execution_count": 11,
   "id": "6d840bf6",
   "metadata": {},
   "outputs": [
    {
     "name": "stdout",
     "output_type": "stream",
     "text": [
      "\n",
      "fdsalfas\n",
      "jfdsmai\n"
     ]
    }
   ],
   "source": [
    "print(\"\"\"\n",
    "fdsalfas\n",
    "jfdsmai\"\"\") #şu olay çok hoşuma gidiyor"
   ]
  },
  {
   "cell_type": "markdown",
   "id": "6aac2203",
   "metadata": {},
   "source": [
    "yaş = int(input(\"Yaşınız: \")) \n",
    "if yaş == 18:\n",
    "print(\"18 iyidir!\")\n",
    "elif yaş < 0:\n",
    "print(\"Yok canım, daha neler!...\")\n",
    "elif yaş < 18:\n",
    "print(\"Genç bir kardeşimizsin!\")\n",
    "elif yaş > 18:\n",
    "print(\"Eh, artık yaş yavaş yavaş kemale eriyor!\")\n"
   ]
  },
  {
   "cell_type": "code",
   "execution_count": null,
   "id": "be625799",
   "metadata": {},
   "outputs": [],
   "source": [
    "#elif yerine ikinci üçüncü kez if yazdığımızda;  Bu iki programın da aynı işlevi gördüğünü düşünebilirsiniz. Ancak ilk bakışta pek belli olmasa\n",
    "# da, aslında yukarıdaki iki program birbirinden farklı davranacaktır. Örneğin ikinci programda\n",
    "# eğer kullanıcı eksi değerli bir sayı girerse hem if yaş < 0 bloğu, hem de if yaş < 18 bloğu\n",
    "# çalışacaktır."
   ]
  },
  {
   "cell_type": "code",
   "execution_count": null,
   "id": "e02f8e98",
   "metadata": {},
   "outputs": [],
   "source": [
    "# Bu durum if ile elif arasındaki çok önemli bir farktan kaynaklanır. Buna göre if bize olası\n",
    "#bütün sonuçları listeler, elif ise sadece doğru olan ilk sonucu verir."
   ]
  },
  {
   "cell_type": "code",
   "execution_count": null,
   "id": "cf7ae1b3",
   "metadata": {},
   "outputs": [],
   "source": [
    "#Gördüğünüz gibi, elif deyimlerini kullandığımız zaman, ekrana yalnızca doğru olan ilk sonuç veriliyor."
   ]
  },
  {
   "cell_type": "code",
   "execution_count": 13,
   "id": "8c005e0c",
   "metadata": {},
   "outputs": [
    {
     "name": "stdout",
     "output_type": "stream",
     "text": [
      "lütfen bir sayı değeri giriniz:49\n",
      "girdiğiniz sayı 100 den küçüktür.\n"
     ]
    }
   ],
   "source": [
    "a= int(input(\"lütfen bir sayı değeri giriniz:\"))\n",
    "\n",
    "if a < 100:\n",
    "    print(\"girdiğiniz sayı 100 den küçüktür.\")\n",
    "    \n",
    "elif a < 50:\n",
    "    print(\"girdiğiniz sayı 50 den küçüktür.\")\n",
    "    \n",
    "    "
   ]
  },
  {
   "cell_type": "code",
   "execution_count": 15,
   "id": "225f94a8",
   "metadata": {},
   "outputs": [
    {
     "name": "stdout",
     "output_type": "stream",
     "text": [
      "Bir meyve adı söyleyin bana:armut\n",
      "evet, armut bir meyvedir...\n"
     ]
    }
   ],
   "source": [
    "soru = input(\"Bir meyve adı söyleyin bana:\")\n",
    "\n",
    "if soru == \"elma\":\n",
    "    print(\"evet, elma bir meyvedir...\")\n",
    "if soru == \"karpuz\":\n",
    "    print(\"evet, karpuz bir meyvedir...\")\n",
    "if soru == \"armut\":\n",
    "    print(\"evet, armut bir meyvedir...\")\n",
    "else:\n",
    "    print(soru, \"gerçekten bir meyve midir?\")\n",
    "\n"
   ]
  },
  {
   "cell_type": "code",
   "execution_count": 16,
   "id": "1f68b2c4",
   "metadata": {},
   "outputs": [
    {
     "name": "stdout",
     "output_type": "stream",
     "text": [
      "Bir meyve adı söyleyin bana:elma\n",
      "evet, elma bir meyvedir...\n",
      "elma gerçekten bir meyve midir?\n"
     ]
    }
   ],
   "source": [
    "soru = input(\"Bir meyve adı söyleyin bana:\")\n",
    "\n",
    "if soru == \"elma\":\n",
    "    print(\"evet, elma bir meyvedir...\")\n",
    "if soru == \"karpuz\":\n",
    "    print(\"evet, karpuz bir meyvedir...\")\n",
    "if soru == \"armut\":\n",
    "    print(\"evet, armut bir meyvedir...\")\n",
    "else:\n",
    "    print(soru, \"gerçekten bir meyve midir?\")\n",
    "\n"
   ]
  },
  {
   "cell_type": "code",
   "execution_count": 17,
   "id": "31ab17d2",
   "metadata": {},
   "outputs": [],
   "source": [
    "# şu iki örnek arasındaki fark inanılmazz, else, Yukarıda verdiğimiz örnekteki gibi art arda if deyimlerinin\n",
    "#sıralanıp en sona else deyiminin\n",
    "#yerleştirildiği durumlarda else deyimi sadece bir önceki if deyimini dikkate alarak işlem yapar\n",
    "\n",
    "\n",
    "\n",
    "\n",
    "\n",
    "# armut a başka bir cevap verdi \n"
   ]
  },
  {
   "cell_type": "markdown",
   "id": "fa2998c3",
   "metadata": {},
   "source": [
    "Dolayısıyla, eğer programınızda bir else bloğuna yer verecekseniz, ondan önce gelen koşullu\n",
    "durumların ilkini if ile sonrakileri ise elif ile bağlayın. Yani:\n",
    "if koşul_1:\n",
    "sonuç_1\n",
    "elif koşul_2:\n",
    "sonuç_2\n",
    "elif koşul_3:\n",
    "sonuç_3\n",
    "else:\n",
    "sonuç_4\n",
    "Ama eğer else bloğundan önce sadece tek bir koşul bloğu yer alacaksa bunu if ile bağlayın.\n",
    "Yani:\n",
    "if koşul_1:\n",
    "sonuç_1\n",
    "else:\n",
    "sonuç_2\n"
   ]
  },
  {
   "cell_type": "code",
   "execution_count": 19,
   "id": "d83b6cfc",
   "metadata": {},
   "outputs": [
    {
     "name": "stdout",
     "output_type": "stream",
     "text": [
      "lütfen boyunuzu giriniz:169\n",
      "boyunuz kısa\n"
     ]
    }
   ],
   "source": [
    "boy = int(input(\"lütfen boyunuzu giriniz:\"))\n",
    "\n",
    "if boy < 170:\n",
    "    print(\"boyunuz kısa\")\n",
    "elif boy < 180:\n",
    "    print(\"boyunuz fena değil\")\n",
    "\n",
    "else:\n",
    "    print(\"boyunuz baya iyi maşallah.\")\n",
    "\n",
    "# ben elifi daha ayrıntılı merak ettiğim şeyler için kullanmayı tercih edeceğim. \n"
   ]
  },
  {
   "cell_type": "markdown",
   "id": "1b477b01",
   "metadata": {},
   "source": [
    "Yukarıda yedi satırla hallettiğimiz işi sadece if deyimleriyle yapmaya çalışırsanız bunun ne\n",
    "kadar zor olduğunu göreceksiniz. Diyelim ki kullanıcı ‘165’ cevabını verdi. Python bu 165\n",
    "sayısının 170’ten küçük olduğunu görünce boyunuz kısa cevabını verecek, öteki satırları\n",
    "değerlendirmeyecektir. 165 sayısı, elif ile gösterdiğimiz koşullu duruma da uygun olduğu\n",
    "halde (165 < 180), koşul ilk blokta karşılandığı için ikinci blok değerlendirmeye alınmayacaktır.\n",
    "Kullanıcının ‘175’ cevabını verdiğini varsayalım: Python 175 sayısını görünce önce ilk koşula\n",
    "bakacak, verilen 175 sayısının ilk koşulu karşılamadığını görecektir (175 > 170). Bunun üzerine\n",
    "Python kodları incelemeye devam edecek ve elif bloğunu değerlendirmeye alacaktır. 175\n",
    "sayısının 180’den küçük olduğunu görünce de çıktı olarak boyunuz normal cevabını verecektir.\n"
   ]
  },
  {
   "cell_type": "code",
   "execution_count": 20,
   "id": "4d937601",
   "metadata": {},
   "outputs": [
    {
     "name": "stdout",
     "output_type": "stream",
     "text": [
      "lütfen kullanıcı adı girin:nexus\n",
      "lütfen şifre girin:1234\n",
      "kullanıcı adı + şifre toplam karakter sayısı:\t9 \n",
      "hoşgeldiniz\n"
     ]
    }
   ],
   "source": [
    "kullanıcı_adı = input(\"lütfen kullanıcı adı girin:\")\n",
    "şifre = input(\"lütfen şifre girin:\")\n",
    "\n",
    "toplam_uzunluk = len(kullanıcı_adı) + len(şifre)\n",
    "\n",
    "admine_mesaj = \"kullanıcı adı + şifre toplam karakter sayısı:\\t{} \"\n",
    "\n",
    "print(admine_mesaj.format(toplam_uzunluk))\n",
    "\n",
    "if toplam_uzunluk > 40:\n",
    "    print(\"lütfen uzunluğu 40'ı geçirmeyin.\")\n",
    "    \n",
    "\n",
    "else: \n",
    "    print(\"hoşgeldiniz\")\n"
   ]
  },
  {
   "cell_type": "code",
   "execution_count": 21,
   "id": "9c8af67e",
   "metadata": {},
   "outputs": [
    {
     "name": "stdout",
     "output_type": "stream",
     "text": [
      "lütfen kullanıcı adı girin:nfdsafdsajfdsafdfhjdfhjdhfjdhfjhdjfhdjfhdjfhd\n",
      "lütfen şifre girin:fdsfsfdsffdsfafdasfdasfsaf5sa5f6sa5fd6sa6f5saf56safsa56fas\n",
      "kullanıcı adı + şifre toplam karakter sayısı:\t103 \n",
      "lütfen uzunluğu 40'ı geçirmeyin.\n"
     ]
    }
   ],
   "source": [
    "kullanıcı_adı = input(\"lütfen kullanıcı adı girin:\")\n",
    "şifre = input(\"lütfen şifre girin:\")\n",
    "\n",
    "toplam_uzunluk = len(kullanıcı_adı) + len(şifre)\n",
    "\n",
    "admine_mesaj = \"kullanıcı adı + şifre toplam karakter sayısı:\\t{} \"\n",
    "\n",
    "print(admine_mesaj.format(toplam_uzunluk))\n",
    "\n",
    "if toplam_uzunluk > 40:\n",
    "    print(\"lütfen uzunluğu 40'ı geçirmeyin.\")\n",
    "    \n",
    "\n",
    "else: \n",
    "    print(\"hoşgeldiniz\")\n"
   ]
  },
  {
   "cell_type": "markdown",
   "id": "f73f8928",
   "metadata": {},
   "source": [
    "% modülüs\n",
    "// taban bölme"
   ]
  },
  {
   "cell_type": "code",
   "execution_count": 22,
   "id": "20b7c8be",
   "metadata": {},
   "outputs": [
    {
     "data": {
      "text/plain": [
       "2"
      ]
     },
     "execution_count": 22,
     "metadata": {},
     "output_type": "execute_result"
    }
   ],
   "source": [
    "30 % 4"
   ]
  },
  {
   "cell_type": "code",
   "execution_count": 23,
   "id": "7557fecf",
   "metadata": {},
   "outputs": [
    {
     "data": {
      "text/plain": [
       "1"
      ]
     },
     "execution_count": 23,
     "metadata": {},
     "output_type": "execute_result"
    }
   ],
   "source": [
    "10//7 #tabanını söylüyor, kesirini söylemiyor. int(10/7) aynı anlama geliyor "
   ]
  },
  {
   "cell_type": "markdown",
   "id": "a1923852",
   "metadata": {},
   "source": [
    ">>> a = 5 / 2\n",
    ">>> type(a)\n",
    "<class 'float'>"
   ]
  },
  {
   "cell_type": "code",
   "execution_count": 24,
   "id": "19171ad4",
   "metadata": {},
   "outputs": [],
   "source": [
    "# float virgüllü değeri verir. 2.0 da bir float değerdir. \n",
    "\n"
   ]
  },
  {
   "cell_type": "markdown",
   "id": "0bbf9fde",
   "metadata": {},
   "source": [
    "round()\n",
    "Bu arada yeri gelmişken round() adlı bir gömülü fonksiyondan bahsetmeden geçmeyelim.\n",
    "Eğer bir sayının değerini yuvarlamanız gerekirse round() fonksiyonundan yararlanabilirsiniz.\n",
    "Bu fonksiyon şöyle kullanılır:"
   ]
  },
  {
   "cell_type": "code",
   "execution_count": 25,
   "id": "459825d0",
   "metadata": {},
   "outputs": [
    {
     "data": {
      "text/plain": [
       "4.51"
      ]
     },
     "execution_count": 25,
     "metadata": {},
     "output_type": "execute_result"
    }
   ],
   "source": [
    "round(4.51, 2)"
   ]
  },
  {
   "cell_type": "code",
   "execution_count": 27,
   "id": "c5d1bbdf",
   "metadata": {},
   "outputs": [
    {
     "data": {
      "text/plain": [
       "4.5"
      ]
     },
     "execution_count": 27,
     "metadata": {},
     "output_type": "execute_result"
    }
   ],
   "source": [
    "round(4.51, 1)    #virgülden sonraki hassasiyeti ölçüyor ,1 ,2 ,3 ,4 ,5 ,6 ,7 \n",
    "\n"
   ]
  },
  {
   "cell_type": "markdown",
   "id": "88007b91",
   "metadata": {},
   "source": [
    "** üs görevi "
   ]
  },
  {
   "cell_type": "markdown",
   "id": "d20080fb",
   "metadata": {},
   "source": [
    "pow(25, 2, 5) gibi bir komut verdiğimizde, 25 sayısının 2. kuvvetini alıp, elde ettiğimiz\n",
    "sayının 5’e bölünmesinden kalan sayıyı hesaplamış oluyoruz."
   ]
  },
  {
   "cell_type": "code",
   "execution_count": 31,
   "id": "d4fb7c07",
   "metadata": {},
   "outputs": [
    {
     "data": {
      "text/plain": [
       "0"
      ]
     },
     "execution_count": 31,
     "metadata": {},
     "output_type": "execute_result"
    }
   ],
   "source": [
    "pow(2,7,1)"
   ]
  },
  {
   "cell_type": "code",
   "execution_count": 32,
   "id": "c29d579a",
   "metadata": {},
   "outputs": [
    {
     "data": {
      "text/plain": [
       "128"
      ]
     },
     "execution_count": 32,
     "metadata": {},
     "output_type": "execute_result"
    }
   ],
   "source": [
    "pow(2,7)"
   ]
  },
  {
   "cell_type": "code",
   "execution_count": 33,
   "id": "c27904bb",
   "metadata": {},
   "outputs": [
    {
     "data": {
      "text/plain": [
       "True"
      ]
     },
     "execution_count": 33,
     "metadata": {},
     "output_type": "execute_result"
    }
   ],
   "source": [
    "a = 1 \n",
    "\n",
    "a == 1 "
   ]
  },
  {
   "cell_type": "code",
   "execution_count": 34,
   "id": "eb8f056d",
   "metadata": {},
   "outputs": [
    {
     "data": {
      "text/plain": [
       "False"
      ]
     },
     "execution_count": 34,
     "metadata": {},
     "output_type": "execute_result"
    }
   ],
   "source": [
    "a == 2"
   ]
  },
  {
   "cell_type": "markdown",
   "id": "83f629ff",
   "metadata": {},
   "source": [
    "Gördüğünüz gibi, bool işleçleri herhangi bir ifadenin doğruluğunu veya yanlışlığını sorgulamak\n",
    "için kullanılabiliyor.\n"
   ]
  },
  {
   "cell_type": "markdown",
   "id": "a06355a2",
   "metadata": {},
   "source": [
    "Bool işleçleri sadece yukarıda verdiğimiz örneklerdeki gibi, salt bir doğruluk-yanlışlık\n",
    "sorgulamaya yarayan araçlar değildir. Bilgisayar biliminde her şeyin bir bool değeri vardır.\n",
    "Bununla ilgili genel kuralımız şu: 0 değeri ve boş veri tipleri False’tur. Bunlar dışında kalan her\n",
    "şey ise True’dur.\n"
   ]
  },
  {
   "cell_type": "code",
   "execution_count": 35,
   "id": "e0711da6",
   "metadata": {},
   "outputs": [
    {
     "data": {
      "text/plain": [
       "True"
      ]
     },
     "execution_count": 35,
     "metadata": {},
     "output_type": "execute_result"
    }
   ],
   "source": [
    "bool(3)\n"
   ]
  },
  {
   "cell_type": "code",
   "execution_count": 36,
   "id": "8357380c",
   "metadata": {},
   "outputs": [
    {
     "data": {
      "text/plain": [
       "True"
      ]
     },
     "execution_count": 36,
     "metadata": {},
     "output_type": "execute_result"
    }
   ],
   "source": [
    "bool(\"elma\")"
   ]
  },
  {
   "cell_type": "code",
   "execution_count": 37,
   "id": "ea008647",
   "metadata": {},
   "outputs": [
    {
     "data": {
      "text/plain": [
       "True"
      ]
     },
     "execution_count": 37,
     "metadata": {},
     "output_type": "execute_result"
    }
   ],
   "source": [
    "bool(\" \")"
   ]
  },
  {
   "cell_type": "code",
   "execution_count": 38,
   "id": "c21325c5",
   "metadata": {},
   "outputs": [
    {
     "data": {
      "text/plain": [
       "False"
      ]
     },
     "execution_count": 38,
     "metadata": {},
     "output_type": "execute_result"
    }
   ],
   "source": [
    "bool(\"\")"
   ]
  },
  {
   "cell_type": "code",
   "execution_count": 39,
   "id": "51504f84",
   "metadata": {},
   "outputs": [
    {
     "name": "stdout",
     "output_type": "stream",
     "text": [
      "Kullanıcı adınız: \n",
      "Kullanıcı adı alanı boş bırakılamaz!\n"
     ]
    }
   ],
   "source": [
    "kullanıcı = input(\"Kullanıcı adınız: \")\n",
    "if bool(kullanıcı) == True:\n",
    "    print(\"Teşekkürler!\")\n",
    "else:\n",
    "    print(\"Kullanıcı adı alanı boş bırakılamaz!\")"
   ]
  },
  {
   "cell_type": "code",
   "execution_count": 47,
   "id": "ccf47770",
   "metadata": {},
   "outputs": [
    {
     "name": "stdout",
     "output_type": "stream",
     "text": [
      "kullanıcı adınız:a\n",
      "teşekkürler\n"
     ]
    }
   ],
   "source": [
    "if bool(input(\"kullanıcı adınız:\")) == True:\n",
    "    print(\"teşekkürler\")\n",
    "else:\n",
    "    print(\"boş kullanıcı adı mı olurmuş!\")"
   ]
  },
  {
   "cell_type": "code",
   "execution_count": 49,
   "id": "5e25f04b",
   "metadata": {},
   "outputs": [
    {
     "name": "stdout",
     "output_type": "stream",
     "text": [
      "kullanıcı adınız:gurkan\n",
      "tenks\n"
     ]
    }
   ],
   "source": [
    "kullanıcı = input(\"kullanıcı adınız:\")\n",
    "\n",
    "if bool(kullanıcı) == True:\n",
    "    print(\"tenks\")\n",
    "    \n",
    "else:\n",
    "    print(\"boş bırakma burayı\")"
   ]
  },
  {
   "cell_type": "markdown",
   "id": "06980efd",
   "metadata": {},
   "source": [
    "Gördüğünüz gibi, if bool(kullanıcı) == True: kodunu if kullanıcı: şeklinde\n",
    "kısaltabiliyoruz. Bu ikisi tamamen aynı anlama gelir. Yani ikisi de ‘kullanıcı değişkeninin\n",
    "bool değeri True ise... ’ demektir"
   ]
  },
  {
   "cell_type": "code",
   "execution_count": 51,
   "id": "7d456f91",
   "metadata": {
    "scrolled": false
   },
   "outputs": [
    {
     "name": "stdout",
     "output_type": "stream",
     "text": [
      "Kullanıcı adınız: a\n",
      "Teşekkürler!\n"
     ]
    }
   ],
   "source": [
    "kullanıcı = input(\"Kullanıcı adınız: \")\n",
    "if kullanıcı:\n",
    "    print(\"Teşekkürler!\")"
   ]
  },
  {
   "cell_type": "markdown",
   "id": "61ed8ade",
   "metadata": {},
   "source": [
    "and ve bağlacı "
   ]
  },
  {
   "cell_type": "code",
   "execution_count": 52,
   "id": "4adfb71a",
   "metadata": {
    "scrolled": true
   },
   "outputs": [
    {
     "name": "stdout",
     "output_type": "stream",
     "text": [
      "Kullanıcı adınız: a\n",
      "Parolanız: \n",
      "Yanlış kullanıcı adı veya parola!\n"
     ]
    }
   ],
   "source": [
    "kullanıcı_adı = input(\"Kullanıcı adınız: \")\n",
    "parola = input(\"Parolanız: \")\n",
    "if kullanıcı_adı == \"aliveli\" and parola == \"12345678\":\n",
    "    print(\"Programa hoşgeldiniz\")\n",
    "else:\n",
    "    print(\"Yanlış kullanıcı adı veya parola!\")\n"
   ]
  },
  {
   "cell_type": "code",
   "execution_count": 53,
   "id": "ab765738",
   "metadata": {},
   "outputs": [
    {
     "data": {
      "text/plain": [
       "True"
      ]
     },
     "execution_count": 53,
     "metadata": {},
     "output_type": "execute_result"
    }
   ],
   "source": [
    "a = 13 \n",
    "b = 15\n",
    "\n",
    "a == 13 and b == 15  "
   ]
  },
  {
   "cell_type": "code",
   "execution_count": 54,
   "id": "59f8e97a",
   "metadata": {},
   "outputs": [
    {
     "data": {
      "text/plain": [
       "False"
      ]
     },
     "execution_count": 54,
     "metadata": {},
     "output_type": "execute_result"
    }
   ],
   "source": [
    "a == 13 and b == 19  "
   ]
  },
  {
   "cell_type": "code",
   "execution_count": 55,
   "id": "43f32f18",
   "metadata": {},
   "outputs": [
    {
     "data": {
      "text/plain": [
       "True"
      ]
     },
     "execution_count": 55,
     "metadata": {},
     "output_type": "execute_result"
    }
   ],
   "source": [
    "a == 999 or b == 15"
   ]
  },
  {
   "cell_type": "code",
   "execution_count": 58,
   "id": "f14e7d09",
   "metadata": {},
   "outputs": [
    {
     "name": "stdout",
     "output_type": "stream",
     "text": [
      "Notunuz: 1\n",
      "F aldınız.\n"
     ]
    }
   ],
   "source": [
    "x = int(input(\"Notunuz: \"))\n",
    "\n",
    "\n",
    "if x > 100 or x < 0:\n",
    "    print(\"Böyle bir not yok\")\n",
    "    \n",
    "elif x >= 90 and x <= 100:\n",
    "    print(\"A aldınız.\")\n",
    "elif x >= 80 and x <= 89:\n",
    "    print(\"B aldınız.\")\n",
    "elif x >= 70 and x <= 79:\n",
    "    print(\"C aldınız.\")\n",
    "elif x >= 60 and x <= 69:\n",
    "    print(\"D aldınız.\")\n",
    "elif x >= 0 and x <= 59:\n",
    "    print(\"F aldınız.\")"
   ]
  },
  {
   "cell_type": "code",
   "execution_count": null,
   "id": "3a259059",
   "metadata": {},
   "outputs": [],
   "source": [
    "x = int(input(\"Notunuz: \"))\n",
    "\n",
    "if x <= 100:\n",
    " "
   ]
  },
  {
   "cell_type": "markdown",
   "id": "971a616c",
   "metadata": {},
   "source": [
    "Son bool işlecimiz not. Bu kelimenin İngilizce’deki anlamı ‘değil’dir. Bu işleci şöyle kullanıyoruz:\n",
    ">>> a = 23\n",
    ">>> not a\n",
    "False\n",
    "\n",
    "\n",
    ">>> a = \"\"\n",
    ">>> not a\n",
    "True"
   ]
  },
  {
   "cell_type": "code",
   "execution_count": 59,
   "id": "b610fcdd",
   "metadata": {},
   "outputs": [
    {
     "name": "stdout",
     "output_type": "stream",
     "text": [
      "parola girin\n",
      "lütfen parola girin\n"
     ]
    }
   ],
   "source": [
    "parola = input(\"parola girin\")\n",
    "\n",
    "if not parola:\n",
    "    print(\"lütfen parola girin\")"
   ]
  },
  {
   "cell_type": "code",
   "execution_count": 60,
   "id": "f2495e15",
   "metadata": {},
   "outputs": [
    {
     "name": "stdout",
     "output_type": "stream",
     "text": [
      "parola girin\n",
      "lütfen parola girin\n"
     ]
    }
   ],
   "source": [
    "parola = input(\"parola girin\")\n",
    "\n",
    "if not parola == True:\n",
    "    print(\"lütfen parola girin\")"
   ]
  },
  {
   "cell_type": "markdown",
   "id": "41c5eb12",
   "metadata": {},
   "source": [
    "+= işleci     ve   -= işleci     /= işleci   *= işleci "
   ]
  },
  {
   "cell_type": "code",
   "execution_count": 61,
   "id": "a310e4a3",
   "metadata": {},
   "outputs": [],
   "source": [
    "a = 23 "
   ]
  },
  {
   "cell_type": "code",
   "execution_count": 62,
   "id": "4fbcb9a5",
   "metadata": {},
   "outputs": [],
   "source": [
    "a = a + 5 "
   ]
  },
  {
   "cell_type": "code",
   "execution_count": 63,
   "id": "d629a4c8",
   "metadata": {},
   "outputs": [
    {
     "data": {
      "text/plain": [
       "28"
      ]
     },
     "execution_count": 63,
     "metadata": {},
     "output_type": "execute_result"
    }
   ],
   "source": [
    "a"
   ]
  },
  {
   "cell_type": "code",
   "execution_count": 64,
   "id": "a461bede",
   "metadata": {},
   "outputs": [],
   "source": [
    "a += 5 "
   ]
  },
  {
   "cell_type": "code",
   "execution_count": 65,
   "id": "1a9f1a2c",
   "metadata": {},
   "outputs": [
    {
     "data": {
      "text/plain": [
       "33"
      ]
     },
     "execution_count": 65,
     "metadata": {},
     "output_type": "execute_result"
    }
   ],
   "source": [
    "a "
   ]
  },
  {
   "cell_type": "markdown",
   "id": "86ed8094",
   "metadata": {},
   "source": [
    "%= işleci\n",
    "Bu işlecimiz ise bölme işleminden kalan sayıyı aynı değişkene atar:"
   ]
  },
  {
   "cell_type": "markdown",
   "id": "59fad8f1",
   "metadata": {},
   "source": [
    "**= işleci\n",
    "Bu işlecin ne yaptığını tahmin etmek zor değil. Bu işlecimiz, bir sayının kuvvetini hesapladıktan\n",
    "sonra çıkan değeri aynı değişkene atıyor:\n"
   ]
  },
  {
   "cell_type": "markdown",
   "id": "e102506d",
   "metadata": {},
   "source": [
    "//= işleci\n",
    "Değer atama işleçlerinin sonuncusu olan //= işlecinin görevi ise taban bölme işleminin\n",
    "sonucunu aynı değişkene atamaktır:"
   ]
  },
  {
   "cell_type": "markdown",
   "id": "37eb7aae",
   "metadata": {},
   "source": [
    "Aitlik işleçleri, bir karakter dizisi ya da sayının, herhangi bir veri tipi içinde bulunup\n",
    "bulunmadığını sorgulamamızı sağlayan işleçlerdir.\n",
    "Python’da bir tane aitlik işleci bulunur. Bu işleç de in işlecidir."
   ]
  },
  {
   "cell_type": "code",
   "execution_count": 1,
   "id": "a4c2c516",
   "metadata": {},
   "outputs": [
    {
     "data": {
      "text/plain": [
       "True"
      ]
     },
     "execution_count": 1,
     "metadata": {},
     "output_type": "execute_result"
    }
   ],
   "source": [
    "a = \"abcd\"\n",
    "\"a\" in a "
   ]
  },
  {
   "cell_type": "code",
   "execution_count": 2,
   "id": "0c738324",
   "metadata": {},
   "outputs": [
    {
     "data": {
      "text/plain": [
       "False"
      ]
     },
     "execution_count": 2,
     "metadata": {},
     "output_type": "execute_result"
    }
   ],
   "source": [
    "\"f\" in a "
   ]
  },
  {
   "cell_type": "markdown",
   "id": "7c72e36a",
   "metadata": {},
   "source": [
    "Python’da her şeyin (ya da başka bir deyişle her nesnenin) bir kimlik numarası (identity) vardır.\n",
    "Kabaca söylemek gerekirse, bu kimlik numarası denen şey esasında o nesnenin bellekteki\n",
    "adresini gösterir.\n",
    "\n",
    "\n",
    "\n",
    "Python’da bu işi yapmamızı sağlayacak id() adlı bir fonksiyon bulunur (İngilizcedeki identity\n",
    "(kimlik) kelimesinin kısaltması). Şimdi bir örnek üzerinde bu id() fonksiyonunu nasıl\n",
    "kullanacağımıza bakalım:"
   ]
  },
  {
   "cell_type": "code",
   "execution_count": 2,
   "id": "60d52404",
   "metadata": {},
   "outputs": [
    {
     "data": {
      "text/plain": [
       "2953592422576"
      ]
     },
     "execution_count": 2,
     "metadata": {},
     "output_type": "execute_result"
    }
   ],
   "source": [
    "a = 1000\n",
    "id(a)\n"
   ]
  },
  {
   "cell_type": "code",
   "execution_count": 3,
   "id": "1319c47f",
   "metadata": {},
   "outputs": [],
   "source": [
    "b = 1000"
   ]
  },
  {
   "cell_type": "code",
   "execution_count": 4,
   "id": "3c6b37c2",
   "metadata": {},
   "outputs": [
    {
     "data": {
      "text/plain": [
       "2953592423888"
      ]
     },
     "execution_count": 4,
     "metadata": {},
     "output_type": "execute_result"
    }
   ],
   "source": [
    "id(b)"
   ]
  },
  {
   "cell_type": "code",
   "execution_count": 5,
   "id": "3e8ac8a3",
   "metadata": {},
   "outputs": [
    {
     "data": {
      "text/plain": [
       "2953592424080"
      ]
     },
     "execution_count": 5,
     "metadata": {},
     "output_type": "execute_result"
    }
   ],
   "source": [
    "id(1000)"
   ]
  },
  {
   "cell_type": "markdown",
   "id": "cc0c0101",
   "metadata": {},
   "source": [
    "Ancak Python’da is işlecini kullanarak iki nesne arasında karşılaştırma yapmak güvenli değildir.\n",
    "Yani is ve == işleçleri birbirleriyle aynı işlevi görmez. Bu iki işleç nesnelerin farklı yönlerini\n",
    "sorgular: is işleci nesnelerin kimliklerine bakıp o nesnelerin aynı nesneler olup olmadığını\n",
    "kontrol ederken, == işleci nesnelerin içeriğine bakarak o nesnelerin aynı değere sahip olup\n",
    "olmadıklarını sorgular. Bu iki tanım arasındaki ince farka dikkat edin."
   ]
  },
  {
   "cell_type": "code",
   "execution_count": 6,
   "id": "400c05e5",
   "metadata": {},
   "outputs": [
    {
     "name": "stderr",
     "output_type": "stream",
     "text": [
      "<>:1: SyntaxWarning: \"is\" with a literal. Did you mean \"==\"?\n",
      "<>:1: SyntaxWarning: \"is\" with a literal. Did you mean \"==\"?\n",
      "<ipython-input-6-15605e3902fa>:1: SyntaxWarning: \"is\" with a literal. Did you mean \"==\"?\n",
      "  a is 1000\n"
     ]
    },
    {
     "data": {
      "text/plain": [
       "False"
      ]
     },
     "execution_count": 6,
     "metadata": {},
     "output_type": "execute_result"
    }
   ],
   "source": [
    "a is 1000\n"
   ]
  },
  {
   "cell_type": "markdown",
   "id": "4b97f146",
   "metadata": {},
   "source": [
    "#                                            Döngüler (Loops)\n"
   ]
  },
  {
   "cell_type": "markdown",
   "id": "18b428b0",
   "metadata": {},
   "source": [
    "Yalnız o hesap makinesinde farkettiyseniz çok önemli bir eksiklik vardı.\n",
    "Hesap makinemizle hesap yaptıktan sonra programımız kapanıyor, yeni hesap yapabilmek\n",
    "için programı yeniden başlatmamız gerekiyordu."
   ]
  },
  {
   "cell_type": "markdown",
   "id": "dc010e76",
   "metadata": {},
   "source": [
    "while döngüsü \n",
    "a değişkeninin değeri 1 olduğu sürece..."
   ]
  },
  {
   "cell_type": "markdown",
   "id": "9c369d8e",
   "metadata": {},
   "source": [
    "a = 1 \n",
    "\n",
    "while a == 1:\n",
    "    print(\"bilgisayar çıldırdı.\")\n",
    "    \n",
    "eğer bu kodları çalıştırırsanız, sonsuza kadar o yazı üretilmeye devam eder. \n",
    "\n",
    "infinite loop"
   ]
  },
  {
   "cell_type": "code",
   "execution_count": null,
   "id": "ead179d2",
   "metadata": {},
   "outputs": [],
   "source": []
  },
  {
   "cell_type": "code",
   "execution_count": null,
   "id": "40889984",
   "metadata": {},
   "outputs": [],
   "source": []
  },
  {
   "cell_type": "code",
   "execution_count": null,
   "id": "711eaa27",
   "metadata": {},
   "outputs": [],
   "source": []
  },
  {
   "cell_type": "code",
   "execution_count": null,
   "id": "46f046f3",
   "metadata": {},
   "outputs": [],
   "source": []
  },
  {
   "cell_type": "code",
   "execution_count": null,
   "id": "2bd03cbf",
   "metadata": {},
   "outputs": [],
   "source": []
  },
  {
   "cell_type": "code",
   "execution_count": null,
   "id": "67e2e208",
   "metadata": {},
   "outputs": [],
   "source": []
  },
  {
   "cell_type": "code",
   "execution_count": null,
   "id": "52b6f12b",
   "metadata": {},
   "outputs": [],
   "source": []
  },
  {
   "cell_type": "code",
   "execution_count": null,
   "id": "85798cc5",
   "metadata": {},
   "outputs": [],
   "source": []
  },
  {
   "cell_type": "code",
   "execution_count": null,
   "id": "09d8b1a7",
   "metadata": {},
   "outputs": [],
   "source": []
  },
  {
   "cell_type": "code",
   "execution_count": null,
   "id": "60c63637",
   "metadata": {},
   "outputs": [],
   "source": []
  }
 ],
 "metadata": {
  "kernelspec": {
   "display_name": "Python 3",
   "language": "python",
   "name": "python3"
  },
  "language_info": {
   "codemirror_mode": {
    "name": "ipython",
    "version": 3
   },
   "file_extension": ".py",
   "mimetype": "text/x-python",
   "name": "python",
   "nbconvert_exporter": "python",
   "pygments_lexer": "ipython3",
   "version": "3.8.8"
  }
 },
 "nbformat": 4,
 "nbformat_minor": 5
}
