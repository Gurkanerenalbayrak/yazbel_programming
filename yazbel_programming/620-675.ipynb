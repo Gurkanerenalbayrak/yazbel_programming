{
 "cells": [
  {
   "cell_type": "code",
   "execution_count": 8,
   "id": "cab14a06",
   "metadata": {},
   "outputs": [
    {
     "data": {
      "text/plain": [
       "3.146"
      ]
     },
     "execution_count": 8,
     "metadata": {},
     "output_type": "execute_result"
    }
   ],
   "source": [
    "round(3.145566565656,3)"
   ]
  },
  {
   "cell_type": "code",
   "execution_count": 9,
   "id": "9121e8db",
   "metadata": {},
   "outputs": [],
   "source": [
    "liste = [1,2,3,4] #0 ve \"\" hariç bütün değerler bool tarafından True kabul edilir. "
   ]
  },
  {
   "cell_type": "code",
   "execution_count": 10,
   "id": "3b16c3d7",
   "metadata": {},
   "outputs": [
    {
     "data": {
      "text/plain": [
       "True"
      ]
     },
     "execution_count": 10,
     "metadata": {},
     "output_type": "execute_result"
    }
   ],
   "source": [
    "all(liste)"
   ]
  },
  {
   "cell_type": "code",
   "execution_count": 14,
   "id": "e833bf73",
   "metadata": {},
   "outputs": [
    {
     "data": {
      "text/plain": [
       "False"
      ]
     },
     "execution_count": 14,
     "metadata": {},
     "output_type": "execute_result"
    }
   ],
   "source": [
    "liste2 = [0,1,2,3]\n",
    "\n",
    "all(liste2)\n"
   ]
  },
  {
   "cell_type": "code",
   "execution_count": 15,
   "id": "05e60b14",
   "metadata": {},
   "outputs": [
    {
     "data": {
      "text/plain": [
       "False"
      ]
     },
     "execution_count": 15,
     "metadata": {},
     "output_type": "execute_result"
    }
   ],
   "source": [
    "liste3 = [\"ahmet\", \"mehmet\", \"\"]\n",
    "\n",
    "all(liste3)"
   ]
  },
  {
   "cell_type": "markdown",
   "id": "ec72b7b2",
   "metadata": {},
   "source": [
    "Any kelimesi İngilizcede ‘herhangi bir’ anlamına gelir. İşte any() fonksiyonunun görevi de, bir\n",
    "dizi içindeki bütün değerlerden en az biri True ise True çıktısı vermektir.\n"
   ]
  },
  {
   "cell_type": "code",
   "execution_count": 18,
   "id": "3e8158d1",
   "metadata": {},
   "outputs": [
    {
     "data": {
      "text/plain": [
       "True"
      ]
     },
     "execution_count": 18,
     "metadata": {},
     "output_type": "execute_result"
    }
   ],
   "source": [
    "any(liste3)"
   ]
  },
  {
   "cell_type": "code",
   "execution_count": 20,
   "id": "9661b1a3",
   "metadata": {},
   "outputs": [
    {
     "data": {
      "text/plain": [
       "False"
      ]
     },
     "execution_count": 20,
     "metadata": {},
     "output_type": "execute_result"
    }
   ],
   "source": [
    "l = ['', 0, [], (), set(), dict()]\n",
    "\n",
    "\n",
    "any(l) # bir tane de olsa True var mı "
   ]
  },
  {
   "cell_type": "code",
   "execution_count": 22,
   "id": "8158d2ab",
   "metadata": {},
   "outputs": [],
   "source": [
    " s = {'elma': 44, 'armut': 10, 'erik': 100}"
   ]
  },
  {
   "cell_type": "code",
   "execution_count": 23,
   "id": "f6305a9c",
   "metadata": {},
   "outputs": [
    {
     "data": {
      "text/plain": [
       "['elma', 'armut', 'erik']"
      ]
     },
     "execution_count": 23,
     "metadata": {},
     "output_type": "execute_result"
    }
   ],
   "source": [
    "list(s)"
   ]
  },
  {
   "cell_type": "code",
   "execution_count": 24,
   "id": "185b3f12",
   "metadata": {},
   "outputs": [
    {
     "data": {
      "text/plain": [
       "[44, 10, 100]"
      ]
     },
     "execution_count": 24,
     "metadata": {},
     "output_type": "execute_result"
    }
   ],
   "source": [
    "list(s.values()) #values fonksiyonu ile değerleri aldık \n"
   ]
  },
  {
   "cell_type": "code",
   "execution_count": 27,
   "id": "781ea574",
   "metadata": {},
   "outputs": [
    {
     "data": {
      "text/plain": [
       "{' ', 'a', 'h', 'i', 's', 't', 'z'}"
      ]
     },
     "execution_count": 27,
     "metadata": {},
     "output_type": "execute_result"
    }
   ],
   "source": [
    "k = set()\n",
    "\n",
    "i =\" istihza\"\n",
    "\n",
    "set(i)\n"
   ]
  },
  {
   "cell_type": "code",
   "execution_count": 28,
   "id": "aa93650b",
   "metadata": {},
   "outputs": [
    {
     "data": {
      "text/plain": [
       "('a',)"
      ]
     },
     "execution_count": 28,
     "metadata": {},
     "output_type": "execute_result"
    }
   ],
   "source": [
    "tuple(\"a\") "
   ]
  },
  {
   "cell_type": "code",
   "execution_count": 29,
   "id": "bd1fff9e",
   "metadata": {},
   "outputs": [
    {
     "data": {
      "text/plain": [
       "'12'"
      ]
     },
     "execution_count": 29,
     "metadata": {},
     "output_type": "execute_result"
    }
   ],
   "source": [
    "str(12)"
   ]
  },
  {
   "cell_type": "code",
   "execution_count": 32,
   "id": "a634012e",
   "metadata": {},
   "outputs": [
    {
     "data": {
      "text/plain": [
       "{'a': 1, 'b': 2, 'c': 3}"
      ]
     },
     "execution_count": 32,
     "metadata": {},
     "output_type": "execute_result"
    }
   ],
   "source": [
    "s = dict(a=1, b=2, c=3) \n",
    "\n",
    "s"
   ]
  },
  {
   "cell_type": "code",
   "execution_count": null,
   "id": "ee93cd0e",
   "metadata": {},
   "outputs": [],
   "source": []
  },
  {
   "cell_type": "code",
   "execution_count": null,
   "id": "79ce2137",
   "metadata": {},
   "outputs": [],
   "source": []
  },
  {
   "cell_type": "markdown",
   "id": "f0d0b626",
   "metadata": {},
   "source": [
    "İngilizcede expression denen ‘ifadeler’, bir değer üretmek için kullanılan kod parçalarıdır.\n",
    "Karakter dizileri, sayılar, işleçler, öteki veri tipleri, liste üreteçleri, sözlük üreteçleri, küme\n",
    "üreteçleri, fonksiyonlar hep birer ifadedir.\n",
    "\n",
    "İngilizcede statement olarak adlandırılan ‘deyimler’ ise ifadeleri de kapsayan daha geniş bir\n",
    "kavramdır. Buna göre bütün ifadeler aynı zamanda birer deyimdir. Daha doğrusu, ifadelerin\n",
    "bir araya gelmesi ile deyimler oluşturulabilir."
   ]
  },
  {
   "cell_type": "markdown",
   "id": "bf100769",
   "metadata": {},
   "source": [
    "Python programlama dilinde deyimlerle ifadeleri ayırt etmenin kolay bir yolu da eval()\n",
    "fonksiyonundan yararlanmaktır. Eğer deyim mi yoksa ifade mi olduğundan emin olamadığınız\n",
    "bir şeyi eval() fonksiyonuna parametre olarak verdiğinizde hata almıyorsanız o parametre\n",
    "bir ifadedir. Eğer hata alıyorsanız o parametre bir deyimdir. Çünkü eval() fonksiyonuna\n",
    "parametre olarak yalnızca ifadeler verilebilir."
   ]
  },
  {
   "cell_type": "code",
   "execution_count": 3,
   "id": "deb1378a",
   "metadata": {},
   "outputs": [
    {
     "name": "stdout",
     "output_type": "stream",
     "text": [
      "    Thanks to CWI, CNRI, BeOpen.com, Zope Corporation and a cast of thousands\n",
      "    for supporting Python development.  See www.python.org for more information.\n"
     ]
    }
   ],
   "source": [
    "credits()"
   ]
  },
  {
   "cell_type": "code",
   "execution_count": 5,
   "id": "02d8c0f0",
   "metadata": {},
   "outputs": [
    {
     "data": {
      "text/plain": [
       "['In',\n",
       " 'Out',\n",
       " '_',\n",
       " '_1',\n",
       " '_2',\n",
       " '__',\n",
       " '___',\n",
       " '__builtin__',\n",
       " '__builtins__',\n",
       " '__doc__',\n",
       " '__loader__',\n",
       " '__name__',\n",
       " '__package__',\n",
       " '__spec__',\n",
       " '_dh',\n",
       " '_i',\n",
       " '_i1',\n",
       " '_i2',\n",
       " '_i3',\n",
       " '_i4',\n",
       " '_i5',\n",
       " '_ih',\n",
       " '_ii',\n",
       " '_iii',\n",
       " '_oh',\n",
       " 'a',\n",
       " 'exit',\n",
       " 'get_ipython',\n",
       " 'quit']"
      ]
     },
     "execution_count": 5,
     "metadata": {},
     "output_type": "execute_result"
    }
   ],
   "source": [
    "dir()"
   ]
  },
  {
   "cell_type": "code",
   "execution_count": 1,
   "id": "9c79e914",
   "metadata": {},
   "outputs": [],
   "source": [
    "l = [400, 176, 64, 175, 355, 13, 207, 298, 397, 386, 31, 120, 120, 236, 241, 123, 249, 364, 292, 153]"
   ]
  },
  {
   "cell_type": "code",
   "execution_count": 3,
   "id": "5940d910",
   "metadata": {},
   "outputs": [
    {
     "name": "stdout",
     "output_type": "stream",
     "text": [
      "175\n",
      "355\n",
      "13\n",
      "207\n",
      "397\n",
      "31\n",
      "241\n",
      "123\n",
      "249\n",
      "153\n"
     ]
    }
   ],
   "source": [
    "for i in l:\n",
    "    \n",
    "    if i % 2 == 1:\n",
    "        \n",
    "        print(i)\n",
    "        "
   ]
  },
  {
   "cell_type": "code",
   "execution_count": 4,
   "id": "f0f9e93c",
   "metadata": {},
   "outputs": [
    {
     "data": {
      "text/plain": [
       "[175, 355, 13, 207, 397, 31, 241, 123, 249, 153]"
      ]
     },
     "execution_count": 4,
     "metadata": {},
     "output_type": "execute_result"
    }
   ],
   "source": [
    "[i for i in l if i % 2 == 1]"
   ]
  },
  {
   "cell_type": "code",
   "execution_count": 6,
   "id": "bd17f43b",
   "metadata": {},
   "outputs": [
    {
     "name": "stdout",
     "output_type": "stream",
     "text": [
      "175 355 13 207 397 31 241 123 249 153\n"
     ]
    }
   ],
   "source": [
    "def tek_sayı(sayı):\n",
    "    \n",
    "    return sayı % 2 == 1\n",
    "\n",
    "print(*filter(tek_sayı,l))    \n",
    "    \n",
    "    \n",
    "#filter() fonksiyonu toplam iki parametre alır. Bu parametrelerden ilki ölçütü belirleyen\n",
    "#fonksiyon, ikincisi ise bu ölçütün uygulanacağı öğedir    "
   ]
  },
  {
   "cell_type": "code",
   "execution_count": 7,
   "id": "19abf5a9",
   "metadata": {},
   "outputs": [
    {
     "name": "stdout",
     "output_type": "stream",
     "text": [
      "False\n"
     ]
    }
   ],
   "source": [
    "print(tek_sayı(12))"
   ]
  },
  {
   "cell_type": "code",
   "execution_count": 13,
   "id": "e48a1284",
   "metadata": {},
   "outputs": [
    {
     "data": {
      "text/plain": [
       "'C'"
      ]
     },
     "execution_count": 13,
     "metadata": {},
     "output_type": "execute_result"
    }
   ],
   "source": [
    "notlar = {'Ahmet' : 60,\n",
    "'Sinan' : 50,\n",
    "'Mehmet' : 45,\n",
    "'Ceren' : 87,\n",
    "'Selen' : 99,\n",
    "'Cem' : 98,\n",
    "'Can' : 51,\n",
    "'Kezban' : 100,\n",
    "'Hakan' : 66,\n",
    "'Mahmut' : 80}\n",
    "\n",
    "\n",
    "\n",
    "\n",
    "def not_durumu(n):\n",
    "    \n",
    "    \n",
    "    if n in range(0,50): return \"F\"\n",
    "    if n in range(50,70): return \"D\"\n",
    "    if n in range(70, 80): return 'C'\n",
    "    if n in range(80, 90): return 'B'\n",
    "    if n in range(90, 101): return 'A'\n",
    "\n",
    "    \n",
    "not_durumu(75)"
   ]
  },
  {
   "cell_type": "code",
   "execution_count": 14,
   "id": "d40ace67",
   "metadata": {},
   "outputs": [
    {
     "data": {
      "text/plain": [
       "'A'"
      ]
     },
     "execution_count": 14,
     "metadata": {},
     "output_type": "execute_result"
    }
   ],
   "source": [
    "not_durumu(99)"
   ]
  },
  {
   "cell_type": "code",
   "execution_count": 23,
   "id": "01df0614",
   "metadata": {},
   "outputs": [
    {
     "name": "stdout",
     "output_type": "stream",
     "text": [
      "tutmadı\n",
      "TEBRİKLER kaldın, notun: 50\n",
      "TEBRİKLER kaldın, notun: 45\n",
      "tutmadı\n",
      "tutmadı\n",
      "tutmadı\n",
      "tutmadı\n",
      "tutmadı\n",
      "tutmadı\n",
      "tutmadı\n"
     ]
    }
   ],
   "source": [
    "# not durumunu listelemek için \n",
    "\n",
    "\n",
    "for i in notlar.values():\n",
    "    if i <= 50:\n",
    "        \n",
    "        print(\"TEBRİKLER kaldın, notun: {}\".format(i))\n",
    "              \n",
    "              \n",
    "    else:\n",
    "        print(\"tutmadı\")"
   ]
  },
  {
   "cell_type": "code",
   "execution_count": 37,
   "id": "1131c212",
   "metadata": {},
   "outputs": [
    {
     "name": "stdout",
     "output_type": "stream",
     "text": [
      "400 176 175 355 207 298 397 386 120 120 236 241 123 249 364 292 153\n"
     ]
    }
   ],
   "source": [
    "def süz(n):\n",
    "    return n >= 70\n",
    "\n",
    "\n",
    "a = print(*filter(süz,l))"
   ]
  },
  {
   "cell_type": "code",
   "execution_count": 41,
   "id": "53bb12c9",
   "metadata": {
    "scrolled": false
   },
   "outputs": [
    {
     "name": "stdout",
     "output_type": "stream",
     "text": [
      "True\n",
      "True\n"
     ]
    }
   ],
   "source": [
    "#isinstance()\n",
    "\n",
    "a = isinstance(\"istihza\",str)\n",
    "b = isinstance(1, int)\n",
    "\n",
    "\n",
    "print(a)\n",
    "print(b)"
   ]
  },
  {
   "cell_type": "code",
   "execution_count": null,
   "id": "6597ad31",
   "metadata": {},
   "outputs": [],
   "source": [
    "# map() karesini hesaplamaya yarar. \n",
    "\n",
    "map\n"
   ]
  },
  {
   "cell_type": "code",
   "execution_count": 44,
   "id": "570c3f07",
   "metadata": {},
   "outputs": [
    {
     "data": {
      "text/plain": [
       "[7, 28, 35, 28, 14, 63, 70]"
      ]
     },
     "execution_count": 44,
     "metadata": {},
     "output_type": "execute_result"
    }
   ],
   "source": [
    "l = [1, 4, 5, 4, 2, 9, 10]\n",
    "\n",
    "\n",
    "def karesi(n):\n",
    "    \n",
    "    return n * 7\n",
    "\n",
    "list(map(karesi,l))"
   ]
  },
  {
   "cell_type": "code",
   "execution_count": 45,
   "id": "ee729465",
   "metadata": {},
   "outputs": [
    {
     "data": {
      "text/plain": [
       "tuple"
      ]
     },
     "execution_count": 45,
     "metadata": {},
     "output_type": "execute_result"
    }
   ],
   "source": [
    "c = (1,2,3)\n",
    "type(c)"
   ]
  },
  {
   "cell_type": "code",
   "execution_count": 48,
   "id": "0d9b0635",
   "metadata": {},
   "outputs": [
    {
     "data": {
      "text/plain": [
       "'abdullah'"
      ]
     },
     "execution_count": 48,
     "metadata": {},
     "output_type": "execute_result"
    }
   ],
   "source": [
    "#max()\n",
    "\n",
    "isimler = ['ahmet', 'can', 'mehmet', 'selin', 'abdullah', 'kezban']\n",
    "max(isimler, key=len)\n",
    "\n",
    "#max() fonksiyonu yukarıda gösterildiği gibi birtakım isimsiz parametrelerle birlikte key adlı\n",
    "#isimli bir parametre de alır. Bu parametre yardımıyla max() fonksiyonunun ‘en büyük’\n",
    "#kavramını hangi ölçüte göre seçeceğini belirleyebiliriz.\n"
   ]
  },
  {
   "cell_type": "code",
   "execution_count": 53,
   "id": "940f1c9f",
   "metadata": {},
   "outputs": [],
   "source": [
    "askerler = {'ahmet' : 'onbaşı',\n",
    "'mehmet' : 'teğmen',\n",
    "'ali' : 'yüzbaşı',\n",
    "'cevat' : 'albay',\n",
    "'berkay' : 'üsteğmen',\n",
    "'mahmut' : 'binbaşı'}"
   ]
  },
  {
   "cell_type": "code",
   "execution_count": 61,
   "id": "0f162f6f",
   "metadata": {},
   "outputs": [
    {
     "name": "stdout",
     "output_type": "stream",
     "text": [
      "albay\n"
     ]
    }
   ],
   "source": [
    "def rütbe_değeri(rütbe):\n",
    "    \n",
    "    rütbeler = {'er' : 0,\n",
    "        'onbaşı' : 1,\n",
    "        'çavuş' : 2,\n",
    "        'asteğmen' : 3,\n",
    "        'teğmen' : 4,\n",
    "        'üsteğmen' : 5,\n",
    "        'yüzbaşı' : 6,\n",
    "        'binbaşı' : 7,\n",
    "        'yarbay' : 8,\n",
    "        'albay' : 9}\n",
    "    \n",
    "    return rütbeler[rütbe]\n",
    "\n",
    "# rütbe_değeri(\"er\")  \n",
    "   \n",
    "\n",
    "\n",
    "print(max(askerler.values(), key = rütbe_değeri))\n",
    "        \n",
    "\n",
    "askerler = {'ahmet' : 'onbaşı',\n",
    "'mehmet' : 'teğmen',\n",
    "'ali' : 'yüzbaşı',\n",
    "'cevat' : 'albay',\n",
    "'berkay' : 'üsteğmen',\n",
    "'mahmut' : 'binbaşı'}\n",
    "\n",
    "#sözlüklerde askerler[ahmet de mehmet de önemli değil, ama yeterki bir tane parametre ver]"
   ]
  },
  {
   "cell_type": "code",
   "execution_count": 64,
   "id": "f053a72a",
   "metadata": {},
   "outputs": [
    {
     "name": "stdout",
     "output_type": "stream",
     "text": [
      "cevat albay\n"
     ]
    }
   ],
   "source": [
    "for k,v in askerler.items():\n",
    "    \n",
    "    if askerler[k] in max(askerler.values(), key = rütbe_değeri):\n",
    "        \n",
    "        print(k,v)"
   ]
  },
  {
   "cell_type": "code",
   "execution_count": 94,
   "id": "d4e78af0",
   "metadata": {},
   "outputs": [
    {
     "name": "stdout",
     "output_type": "stream",
     "text": [
      "cevat albay\n"
     ]
    }
   ],
   "source": [
    "for k,v  in askerler.items():\n",
    "    \n",
    "    if askerler[k] == max(askerler.values(), key = rütbe_değeri):\n",
    "        \n",
    "        print(k,v)\n",
    "    \n",
    "    \n",
    "    "
   ]
  },
  {
   "cell_type": "code",
   "execution_count": 95,
   "id": "3e5deb9c",
   "metadata": {},
   "outputs": [
    {
     "data": {
      "text/plain": [
       "{'ahmet': 'onbaşı',\n",
       " 'mehmet': 'teğmen',\n",
       " 'ali': 'yüzbaşı',\n",
       " 'cevat': 'albay',\n",
       " 'berkay': 'üsteğmen',\n",
       " 'mahmut': 'binbaşı'}"
      ]
     },
     "execution_count": 95,
     "metadata": {},
     "output_type": "execute_result"
    }
   ],
   "source": [
    "askerler"
   ]
  },
  {
   "cell_type": "code",
   "execution_count": 96,
   "id": "7a3f0a0a",
   "metadata": {},
   "outputs": [
    {
     "data": {
      "text/plain": [
       "dict_items([('ahmet', 'onbaşı'), ('mehmet', 'teğmen'), ('ali', 'yüzbaşı'), ('cevat', 'albay'), ('berkay', 'üsteğmen'), ('mahmut', 'binbaşı')])"
      ]
     },
     "execution_count": 96,
     "metadata": {},
     "output_type": "execute_result"
    }
   ],
   "source": [
    "askerler.items()"
   ]
  },
  {
   "cell_type": "markdown",
   "id": "35af0582",
   "metadata": {},
   "source": [
    "Yukarıdaki kodlar problemimizi çözüyor. Peki ama ya biz rütbe ile birlikte bu rütbeyi taşıyan\n",
    "askerin adını da öğrenmek istersek nasıl bir kod yazacağız?\n",
    "\n",
    "\n"
   ]
  },
  {
   "cell_type": "code",
   "execution_count": null,
   "id": "7beb9ff3",
   "metadata": {},
   "outputs": [],
   "source": [
    "# şu listede şu key parametresine bakarak haraket et\n",
    "for k, v in askerler.items():\n",
    "    if askerler[k] in max(askerler.values(), key= rütbe_değeri):\n",
    "        print(k,v)\n",
    "        \n",
    "        \n",
    "        \n",
    "    "
   ]
  },
  {
   "cell_type": "markdown",
   "id": "73618366",
   "metadata": {},
   "source": [
    "# open()"
   ]
  },
  {
   "cell_type": "markdown",
   "id": "22f49497",
   "metadata": {},
   "source": [
    "1-----\n",
    "\n",
    "ilk parametresi dosyaadı dır. \n",
    "Elbette eğer açmak istediğiniz dosya, o anda içinde bulunduğunuz dizinde değilse dosya adı\n",
    "olarak, o dosyanın tam adresini yazmanız gerekir.\n",
    "\n",
    "open('/home/istihza/desktop/dosya.txt')\n",
    "\n",
    "\n",
    "eğer \\ bunu kullanıcaksak, kaçış dizisini kullanmamız lazım ki bu durum işimizi oldukça kolaylaştıracak\n",
    "\n",
    "f = open(r'test\\desktop\\nisan.txt')\n",
    "\n",
    "\n"
   ]
  },
  {
   "cell_type": "markdown",
   "id": "26afcab1",
   "metadata": {},
   "source": [
    "Eğer dosyaya işlenecek verilerin tampona alınmadan doğrudan dosyaya işlenmesini isterseniz\n",
    "buffering değerini 0 olarak belirlersiniz.\n",
    "\n",
    "\n"
   ]
  },
  {
   "cell_type": "markdown",
   "id": "e78a3d9f",
   "metadata": {},
   "source": [
    "sorted() fonksiyonuna hangi türde bir veri tipi verirseniz verin, aldığınız çıktı her zaman bir\n",
    "liste olacaktır. Bunu unutmayın."
   ]
  },
  {
   "cell_type": "code",
   "execution_count": 1,
   "id": "72006ecc",
   "metadata": {},
   "outputs": [],
   "source": [
    "# sorted()"
   ]
  },
  {
   "cell_type": "code",
   "execution_count": 5,
   "id": "92c4c66a",
   "metadata": {},
   "outputs": [],
   "source": [
    "import locale"
   ]
  },
  {
   "cell_type": "code",
   "execution_count": 7,
   "id": "f494c331",
   "metadata": {},
   "outputs": [
    {
     "data": {
      "text/plain": [
       "'Turkish_Turkey.1254'"
      ]
     },
     "execution_count": 7,
     "metadata": {},
     "output_type": "execute_result"
    }
   ],
   "source": [
    "locale.setlocale(locale.LC_ALL, 'Turkish_Turkey.1254')  #bu arkadaşın tek problemi i ı dan önce geliyor. \n",
    "\n",
    "\n"
   ]
  },
  {
   "cell_type": "code",
   "execution_count": 8,
   "id": "be664c16",
   "metadata": {},
   "outputs": [],
   "source": [
    "isimler = ['ahmet', 'çiğdem', 'ışık', 'şebnem', 'zeynep', 'selin']"
   ]
  },
  {
   "cell_type": "code",
   "execution_count": 11,
   "id": "d45fae50",
   "metadata": {},
   "outputs": [
    {
     "data": {
      "text/plain": [
       "['ahmet', 'çiğdem', 'ışık', 'selin', 'şebnem', 'zeynep']"
      ]
     },
     "execution_count": 11,
     "metadata": {},
     "output_type": "execute_result"
    }
   ],
   "source": [
    "sorted(isimler, key=locale.strxfrm) "
   ]
  },
  {
   "cell_type": "code",
   "execution_count": 12,
   "id": "31386ca9",
   "metadata": {},
   "outputs": [],
   "source": [
    "harfler = \"abcçdefgğhıijklmnoöprsştuüvyz\" #kendi sıralamamızı icat edeceğiz"
   ]
  },
  {
   "cell_type": "code",
   "execution_count": null,
   "id": "fd02ba21",
   "metadata": {},
   "outputs": [],
   "source": [
    "\n",
    "\n",
    "\n",
    "> çevrim = {'a': 0, 'b': 1, 'c': 2, 'ç': 3, 'd': 4,\n",
    "            'e': 5, 'f': 6, 'g': 7, 'ğ': 8, 'h': 9,\n",
    "            'ı': 10, 'i': 11, 'j': 12, 'k': 13,\n",
    "            'l': 14, 'm': 15, 'n': 16, 'o': 17,\n",
    "            'ö': 18, 'p': 19, 'r': 20, 's': 21,\n",
    "            'ş': 22, 't': 23, 'u': 24, 'ü': 25,\n",
    "            'v': 26, 'y': 27, 'z': 28}\n",
    "\n",
    "\n"
   ]
  },
  {
   "cell_type": "code",
   "execution_count": 20,
   "id": "c1ec633a",
   "metadata": {},
   "outputs": [
    {
     "data": {
      "text/plain": [
       "['ahmet', 'can', 'çiğdem', 'ışık', 'ismail', 'şule']"
      ]
     },
     "execution_count": 20,
     "metadata": {},
     "output_type": "execute_result"
    }
   ],
   "source": [
    "çevrim = {i: harfler.index(i) for i in harfler}\n",
    "\n",
    "isimler = [\"ahmet\", \"ışık\", \"ismail\", \"çiğdem\", \"can\", \"şule\"]\n",
    "\n",
    "sorted(isimler, key=lambda x: çevrim.get(x[0]))\n",
    "\n",
    "\n",
    "# sadece ilk harflere bakıyor bu kod!\n",
    "\n"
   ]
  },
  {
   "cell_type": "code",
   "execution_count": 24,
   "id": "a50cd07e",
   "metadata": {},
   "outputs": [],
   "source": [
    "harfler = \"abcçdefgğhıijklmnoöprsştuüvyz\"\n",
    "\n",
    "çevrim = {i: harfler.index(i) for i in harfler}\n",
    "\n",
    "def sırala(kelime):\n",
    "    \n",
    "    return([çevrim.get])"
   ]
  },
  {
   "cell_type": "code",
   "execution_count": 42,
   "id": "29a7774b",
   "metadata": {},
   "outputs": [
    {
     "data": {
      "text/plain": [
       "[0, 14, 11]"
      ]
     },
     "execution_count": 42,
     "metadata": {},
     "output_type": "execute_result"
    }
   ],
   "source": [
    "def sırala(kelime):\n",
    "    \n",
    "    return ([çevrim.get(kelime[i]) for i in range(len(kelime))])\n",
    "\n",
    "\n",
    "sırala(\"ali\")"
   ]
  },
  {
   "cell_type": "code",
   "execution_count": null,
   "id": "fa958486",
   "metadata": {},
   "outputs": [],
   "source": []
  },
  {
   "cell_type": "code",
   "execution_count": null,
   "id": "d4e256c8",
   "metadata": {},
   "outputs": [],
   "source": []
  },
  {
   "cell_type": "code",
   "execution_count": null,
   "id": "8cac5059",
   "metadata": {},
   "outputs": [],
   "source": []
  },
  {
   "cell_type": "code",
   "execution_count": null,
   "id": "c7ece35c",
   "metadata": {},
   "outputs": [],
   "source": []
  },
  {
   "cell_type": "code",
   "execution_count": null,
   "id": "f0662fa8",
   "metadata": {},
   "outputs": [],
   "source": []
  },
  {
   "cell_type": "code",
   "execution_count": null,
   "id": "242500f1",
   "metadata": {},
   "outputs": [],
   "source": []
  },
  {
   "cell_type": "code",
   "execution_count": null,
   "id": "96e7e53e",
   "metadata": {},
   "outputs": [],
   "source": []
  },
  {
   "cell_type": "code",
   "execution_count": null,
   "id": "f9b42823",
   "metadata": {},
   "outputs": [],
   "source": []
  },
  {
   "cell_type": "code",
   "execution_count": null,
   "id": "09cad0a9",
   "metadata": {},
   "outputs": [],
   "source": []
  },
  {
   "cell_type": "code",
   "execution_count": null,
   "id": "4f2e1f18",
   "metadata": {},
   "outputs": [],
   "source": []
  },
  {
   "cell_type": "code",
   "execution_count": null,
   "id": "dd6b5d98",
   "metadata": {},
   "outputs": [],
   "source": []
  },
  {
   "cell_type": "code",
   "execution_count": null,
   "id": "31f69ce1",
   "metadata": {},
   "outputs": [],
   "source": []
  },
  {
   "cell_type": "code",
   "execution_count": null,
   "id": "c2056d4d",
   "metadata": {},
   "outputs": [],
   "source": []
  },
  {
   "cell_type": "code",
   "execution_count": null,
   "id": "bfe26215",
   "metadata": {},
   "outputs": [],
   "source": []
  },
  {
   "cell_type": "code",
   "execution_count": 16,
   "id": "c755c4c4",
   "metadata": {
    "scrolled": true
   },
   "outputs": [
    {
     "name": "stdout",
     "output_type": "stream",
     "text": [
      "{'a': 0}\n",
      "{'b': 1}\n",
      "{'c': 2}\n",
      "{'ç': 3}\n",
      "{'d': 4}\n",
      "{'e': 5}\n",
      "{'f': 6}\n",
      "{'g': 7}\n",
      "{'ğ': 8}\n",
      "{'h': 9}\n",
      "{'ı': 10}\n",
      "{'i': 11}\n",
      "{'j': 12}\n",
      "{'k': 13}\n",
      "{'l': 14}\n",
      "{'m': 15}\n",
      "{'n': 16}\n",
      "{'o': 17}\n",
      "{'ö': 18}\n",
      "{'p': 19}\n",
      "{'r': 20}\n",
      "{'s': 21}\n",
      "{'ş': 22}\n",
      "{'t': 23}\n",
      "{'u': 24}\n",
      "{'ü': 25}\n",
      "{'v': 26}\n",
      "{'y': 27}\n",
      "{'z': 28}\n"
     ]
    }
   ],
   "source": [
    "for i in harfler:\n",
    "    \n",
    "    \n",
    "    print({i:harfler.index(i)})\n",
    "    \n"
   ]
  },
  {
   "cell_type": "code",
   "execution_count": null,
   "id": "d423b276",
   "metadata": {},
   "outputs": [],
   "source": []
  },
  {
   "cell_type": "code",
   "execution_count": null,
   "id": "068a82eb",
   "metadata": {},
   "outputs": [],
   "source": []
  },
  {
   "cell_type": "code",
   "execution_count": null,
   "id": "22b0e479",
   "metadata": {},
   "outputs": [],
   "source": []
  },
  {
   "cell_type": "code",
   "execution_count": null,
   "id": "1ae6e91d",
   "metadata": {},
   "outputs": [],
   "source": []
  },
  {
   "cell_type": "code",
   "execution_count": null,
   "id": "559a8e76",
   "metadata": {},
   "outputs": [],
   "source": []
  },
  {
   "cell_type": "code",
   "execution_count": null,
   "id": "c9c08084",
   "metadata": {},
   "outputs": [],
   "source": []
  },
  {
   "cell_type": "code",
   "execution_count": null,
   "id": "826f75be",
   "metadata": {},
   "outputs": [],
   "source": []
  }
 ],
 "metadata": {
  "kernelspec": {
   "display_name": "Python 3",
   "language": "python",
   "name": "python3"
  },
  "language_info": {
   "codemirror_mode": {
    "name": "ipython",
    "version": 3
   },
   "file_extension": ".py",
   "mimetype": "text/x-python",
   "name": "python",
   "nbconvert_exporter": "python",
   "pygments_lexer": "ipython3",
   "version": "3.8.8"
  }
 },
 "nbformat": 4,
 "nbformat_minor": 5
}
