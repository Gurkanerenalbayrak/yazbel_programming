{
 "cells": [
  {
   "cell_type": "markdown",
   "id": "6de0a6c8",
   "metadata": {},
   "source": [
    "# Fonksiyonlar \n"
   ]
  },
  {
   "cell_type": "code",
   "execution_count": 1,
   "id": "37d7a996",
   "metadata": {},
   "outputs": [],
   "source": [
    "def selam_ver():\n",
    "    print(\"selamunaleyküm\")\n",
    "    \n",
    "    "
   ]
  },
  {
   "cell_type": "code",
   "execution_count": 4,
   "id": "5cd3c620",
   "metadata": {},
   "outputs": [
    {
     "name": "stdout",
     "output_type": "stream",
     "text": [
      "selamunaleyküm\n"
     ]
    }
   ],
   "source": [
    "selam_ver()"
   ]
  },
  {
   "cell_type": "code",
   "execution_count": 11,
   "id": "10b87ca4",
   "metadata": {},
   "outputs": [
    {
     "name": "stdout",
     "output_type": "stream",
     "text": [
      "\n",
      "sistemde kurulu pythonun;\n",
      "\tana sürüm numarası: 3\n",
      "\talt sürüm numarası: 8\n",
      "\tmini sürüm numarası: 8\n",
      "kullanılan işletim sisteminin adı: win32\n"
     ]
    }
   ],
   "source": [
    "def sistem_bilgisini_göster():\n",
    "    import sys\n",
    "    \n",
    "    print(\"\\nsistemde kurulu pythonun;\")\n",
    "    print(\"\\tana sürüm numarası:\", sys.version_info.major)\n",
    "    print(\"\\talt sürüm numarası:\", sys.version_info.minor)\n",
    "    print(\"\\tmini sürüm numarası:\", sys.version_info.micro)\n",
    "    \n",
    "    print(\"kullanılan işletim sisteminin adı:\", sys.platform)\n",
    "    \n",
    "    \n",
    "sistem_bilgisini_göster()"
   ]
  },
  {
   "cell_type": "code",
   "execution_count": 14,
   "id": "c13a21cf",
   "metadata": {},
   "outputs": [
    {
     "name": "stdout",
     "output_type": "stream",
     "text": [
      "7\n"
     ]
    }
   ],
   "source": [
    "a = 0 \n",
    "\n",
    "for i in \"istihza\":\n",
    "    a += 1 \n",
    "    \n",
    "print(a)                    # len() fonksiyonunun uzun hali \n",
    "\n",
    "\n"
   ]
  },
  {
   "cell_type": "code",
   "execution_count": 15,
   "id": "89e21a24",
   "metadata": {},
   "outputs": [],
   "source": [
    "def uzunluk(öğe):\n",
    "    c = 0\n",
    "    for s in öğe:\n",
    "        c += 1\n",
    "    print(c)\n"
   ]
  },
  {
   "cell_type": "code",
   "execution_count": 16,
   "id": "ba858390",
   "metadata": {},
   "outputs": [
    {
     "name": "stdout",
     "output_type": "stream",
     "text": [
      "3\n"
     ]
    }
   ],
   "source": [
    "liste = [\"ahmet\", \"mehmet\", \"veli\"]\n",
    "uzunluk(liste)"
   ]
  },
  {
   "cell_type": "code",
   "execution_count": 1,
   "id": "3f75646b",
   "metadata": {},
   "outputs": [],
   "source": [
    "def kur(kurulum_dizini=''):\n",
    "    if not kurulum_dizini:\n",
    "        print(\"Lütfen programı hangi dizine kurmak istediğinizi belirtin!\")\n",
    "    else:\n",
    "        print(\"Program {} dizinine kuruldu!\".format(kurulum_dizini))\n"
   ]
  },
  {
   "cell_type": "code",
   "execution_count": 2,
   "id": "1ce1552a",
   "metadata": {},
   "outputs": [
    {
     "name": "stdout",
     "output_type": "stream",
     "text": [
      "Lütfen programı hangi dizine kurmak istediğinizi belirtin!\n"
     ]
    }
   ],
   "source": [
    "kur()"
   ]
  },
  {
   "cell_type": "code",
   "execution_count": 3,
   "id": "a401edfd",
   "metadata": {},
   "outputs": [
    {
     "name": "stdout",
     "output_type": "stream",
     "text": [
      "(1, 2, 3, 4)\n"
     ]
    }
   ],
   "source": [
    "def fonksiyon(*parametreler):           # * işareti sayesinde fonksiyonumuzun pratik olarak sınırsız sayıda parametre kabul etmesini sağlayabiliyoruz\n",
    "    \n",
    "    print(parametreler)\n",
    "    \n",
    "fonksiyon(1,2,3,4)"
   ]
  },
  {
   "cell_type": "markdown",
   "id": "d1e8f770",
   "metadata": {},
   "source": [
    "Yukarıdaki kodların verdiği çıktının bir demet olduğuna dikkatinizi çekmek isterim. Bu bilgiye\n",
    "sahip olduktan sonra, bu tür fonksiyonları demet işleme kurallarına göre istediğiniz şekilde\n",
    "manipüle edebilirsiniz"
   ]
  },
  {
   "cell_type": "code",
   "execution_count": 14,
   "id": "add47535",
   "metadata": {},
   "outputs": [],
   "source": [
    "def çarp(*değerler):\n",
    "    sonuç = 1 \n",
    "    \n",
    "    for i in değerler:\n",
    "        sonuç *= i \n",
    "        \n",
    "    print(sonuç)\n"
   ]
  },
  {
   "cell_type": "code",
   "execution_count": 15,
   "id": "c8e3f02c",
   "metadata": {},
   "outputs": [
    {
     "name": "stdout",
     "output_type": "stream",
     "text": [
      "6\n"
     ]
    }
   ],
   "source": [
    "çarp(2,3)"
   ]
  },
  {
   "cell_type": "markdown",
   "id": "c20c94d3",
   "metadata": {},
   "source": [
    "print(*'TBMM', sep='.')\n",
    "T.B.M.M\n",
    "\n",
    "Burada * işareti, eklendiği parametreyi öğelerine ayırıyor. sep parametresi ise * işaretinin\n",
    "birbirinden ayırdığı öğelerin arasına birer ‘.’ karakteri ekliyor."
   ]
  },
  {
   "cell_type": "code",
   "execution_count": 16,
   "id": "fa10d8cc",
   "metadata": {},
   "outputs": [
    {
     "name": "stdout",
     "output_type": "stream",
     "text": [
      "['a', 'b', 'c']\n"
     ]
    }
   ],
   "source": [
    "#   * işareti ayırıyor.\n",
    "\n",
    "\n",
    "liste = [\"a\", \"b\", \"c\"]\n",
    "\n",
    "print(liste)"
   ]
  },
  {
   "cell_type": "code",
   "execution_count": 19,
   "id": "de5f180d",
   "metadata": {},
   "outputs": [
    {
     "name": "stdout",
     "output_type": "stream",
     "text": [
      "a, b, c\n"
     ]
    }
   ],
   "source": [
    "print(*liste, sep = \", \")"
   ]
  },
  {
   "cell_type": "code",
   "execution_count": 32,
   "id": "b4a4224a",
   "metadata": {},
   "outputs": [
    {
     "name": "stdout",
     "output_type": "stream",
     "text": [
      "------------------------------\n",
      "                                      ad : Fırat \n",
      "                                   soyad : Özgül \n",
      "                                   şehir : İstanbul \n",
      "                                     tel : 05333213232 \n",
      "------------------------------\n"
     ]
    }
   ],
   "source": [
    "def kayıt_oluştur(**bilgiler):\n",
    "    \n",
    "    print(\"-\"*30)\n",
    "    \n",
    "    for anahtar, değer in bilgiler.items():\n",
    "        \n",
    "        print(\"{:>40} : {} \".format(anahtar, değer))\n",
    "        \n",
    "    print(\"-\"*30)\n",
    "    \n",
    "kayıt_oluştur(ad=\"Fırat\", soyad=\"Özgül\", şehir=\"İstanbul\", tel=\"05333213232\")\n",
    "    \n",
    "    "
   ]
  },
  {
   "cell_type": "markdown",
   "id": "2287549c",
   "metadata": {},
   "source": [
    "Tıpkı * işaretlerinin betimlediği parametrenin geleneksel olarak ‘args’ şeklinde adlandırılması\n",
    "gibi, ** işaretlerinin betimlediği parametre de geleneksel olarak ‘kwargs’ şeklinde adlandırılır.\n",
    "Dolayısıyla yukarıdaki gibi bir fonksiyonu Python programcıları şöyle tanımlar:\n",
    "def kayıt_oluştur(**kwargs):"
   ]
  },
  {
   "cell_type": "code",
   "execution_count": 33,
   "id": "d2eecdfc",
   "metadata": {},
   "outputs": [
    {
     "name": "stdout",
     "output_type": "stream",
     "text": [
      "kitap = book\n",
      "bilgisayar = computer\n",
      "programlama = programming\n",
      "fonksiyon kelimesi sözlükte yok.\n"
     ]
    }
   ],
   "source": [
    "def karşılık_bul(*args,**kwargs):\n",
    "    \n",
    "    for sözcük in args:\n",
    "        \n",
    "        if sözcük in kwargs:\n",
    "            \n",
    "            print(\"{} = {}\".format(sözcük,kwargs[sözcük]))\n",
    "            \n",
    "        else:\n",
    "            \n",
    "            print(f\"{sözcük} kelimesi sözlükte yok.\")\n",
    "\n",
    "sözlük = {\"kitap\" : \"book\",\n",
    "          \"bilgisayar\" : \"computer\",\n",
    "          \"programlama\": \"programming\"}  \n",
    "\n",
    "\n",
    "karşılık_bul(\"kitap\", \"bilgisayar\", \"programlama\", \"fonksiyon\", **sözlük)\n"
   ]
  },
  {
   "cell_type": "code",
   "execution_count": 44,
   "id": "3d2f153b",
   "metadata": {},
   "outputs": [
    {
     "name": "stdout",
     "output_type": "stream",
     "text": [
      "#.öğe1\n",
      "#.öğe2\n",
      "#.öğe3\n",
      "#.öğe4\n"
     ]
    }
   ],
   "source": [
    "def bas(*args , start = \"\", **kwargs):\n",
    "    \n",
    "    for öğe in args:\n",
    "        print(start+öğe, **kwargs)     # !\n",
    "        \n",
    "bas(\"öğe1\", \"öğe2\", \"öğe3\", \"öğe4\", start = \"#.\")"
   ]
  },
  {
   "cell_type": "code",
   "execution_count": 45,
   "id": "bb98e6f2",
   "metadata": {},
   "outputs": [
    {
     "name": "stdout",
     "output_type": "stream",
     "text": [
      "ismin ne:gürkan\n"
     ]
    }
   ],
   "source": [
    "isim = input(\"ismin ne:\")"
   ]
  },
  {
   "cell_type": "code",
   "execution_count": 46,
   "id": "f20f1b06",
   "metadata": {},
   "outputs": [
    {
     "data": {
      "text/plain": [
       "'gürkan'"
      ]
     },
     "execution_count": 46,
     "metadata": {},
     "output_type": "execute_result"
    }
   ],
   "source": [
    "isim"
   ]
  },
  {
   "cell_type": "code",
   "execution_count": 47,
   "id": "ce8b4ca8",
   "metadata": {},
   "outputs": [
    {
     "data": {
      "text/plain": [
       "'gürkan'"
      ]
     },
     "execution_count": 47,
     "metadata": {},
     "output_type": "execute_result"
    }
   ],
   "source": [
    "isim"
   ]
  },
  {
   "cell_type": "code",
   "execution_count": 64,
   "id": "b5a87f80",
   "metadata": {},
   "outputs": [
    {
     "name": "stdout",
     "output_type": "stream",
     "text": [
      "gürkan\n"
     ]
    }
   ],
   "source": [
    "def ismin_ne():\n",
    "    isim = input(\"ismin ne? \")\n",
    "print(isim)\n"
   ]
  },
  {
   "cell_type": "code",
   "execution_count": 65,
   "id": "9aaf37f8",
   "metadata": {},
   "outputs": [
    {
     "name": "stdout",
     "output_type": "stream",
     "text": [
      "ismin ne? a\n",
      "None\n"
     ]
    }
   ],
   "source": [
    "print(ismin_ne())"
   ]
  },
  {
   "cell_type": "code",
   "execution_count": 53,
   "id": "a673e2d0",
   "metadata": {},
   "outputs": [
    {
     "name": "stdout",
     "output_type": "stream",
     "text": [
      "ismin ne? gürkan\n",
      "Merhaba None . Nasılsın?\n"
     ]
    }
   ],
   "source": [
    "print(\"Merhaba {} . Nasılsın?\".format(ismin_ne()))"
   ]
  },
  {
   "cell_type": "code",
   "execution_count": 54,
   "id": "0957798c",
   "metadata": {},
   "outputs": [
    {
     "name": "stdout",
     "output_type": "stream",
     "text": [
      "Merhaba gürkan . Nasılsın?\n"
     ]
    }
   ],
   "source": [
    "print(\"Merhaba {} . Nasılsın?\".format(isim))  #!!!!!"
   ]
  },
  {
   "cell_type": "code",
   "execution_count": 61,
   "id": "6faa8665",
   "metadata": {},
   "outputs": [],
   "source": [
    "def ismin_ne():\n",
    "    isim = input(\"ismin ne? \")\n",
    "    return isim              # yanıt yok \n"
   ]
  },
  {
   "cell_type": "code",
   "execution_count": 62,
   "id": "9046813d",
   "metadata": {},
   "outputs": [
    {
     "name": "stdout",
     "output_type": "stream",
     "text": [
      "ismin ne? a\n"
     ]
    },
    {
     "data": {
      "text/plain": [
       "'a'"
      ]
     },
     "execution_count": 62,
     "metadata": {},
     "output_type": "execute_result"
    }
   ],
   "source": [
    "ismin_ne()"
   ]
  },
  {
   "cell_type": "code",
   "execution_count": 63,
   "id": "f95aa26c",
   "metadata": {},
   "outputs": [
    {
     "name": "stdout",
     "output_type": "stream",
     "text": [
      "ismin ne? a\n",
      "a\n"
     ]
    }
   ],
   "source": [
    "print(ismin_ne())"
   ]
  },
  {
   "cell_type": "markdown",
   "id": "00408163",
   "metadata": {},
   "source": [
    "# Örnek uygulama"
   ]
  },
  {
   "cell_type": "markdown",
   "id": "a36ff4cc",
   "metadata": {},
   "source": [
    "fonksiyonumuzun adı sayı_üret. Bu fonksiyon toplam üç farklı parametre alıyor. Bunlar\n",
    "başlangıç, bitiş ve adet. Dikkat ederseniz bu parametrelerin her birinin bir varsayılan değeri\n",
    "var. Dolayısıyla sayı_üret() fonksiyonu parametresiz olarak çağrıldığında bu üç parametre\n",
    "öntanımlı değerlerine sahip olacaktır.\n"
   ]
  },
  {
   "cell_type": "code",
   "execution_count": 13,
   "id": "02141786",
   "metadata": {},
   "outputs": [],
   "source": [
    "import random \n",
    "\n",
    "def sayı_üret(başlangıç = 0 , bitiş = 500, adet = 6):  # içeride kayıtlı olan parametreler\n",
    "    \n",
    "    sayılar = set()\n",
    "    \n",
    "    while len(sayılar) < adet:\n",
    "        \n",
    "        sayılar.add(random.randrange(başlangıç,bitiş))\n",
    "        \n",
    "    return sayılar #Bu kod yardımıyla, belirtilen miktardaki sayıları tutan sayılar adlı değişkeni fonksiyondandöndürüyoruz."
   ]
  },
  {
   "cell_type": "code",
   "execution_count": 14,
   "id": "94c065cb",
   "metadata": {},
   "outputs": [
    {
     "data": {
      "text/plain": [
       "{0, 16}"
      ]
     },
     "execution_count": 14,
     "metadata": {},
     "output_type": "execute_result"
    }
   ],
   "source": [
    "sayı_üret(0,20,2) #parametreleri değiştirebildim. \n"
   ]
  },
  {
   "cell_type": "code",
   "execution_count": 15,
   "id": "76fc672d",
   "metadata": {},
   "outputs": [
    {
     "name": "stdout",
     "output_type": "stream",
     "text": [
      "{69, 74, 17, 50, 51}\n"
     ]
    }
   ],
   "source": [
    "print(sayı_üret(0,100,5))"
   ]
  },
  {
   "cell_type": "code",
   "execution_count": 16,
   "id": "ff36e46f",
   "metadata": {},
   "outputs": [
    {
     "name": "stdout",
     "output_type": "stream",
     "text": [
      "96-3-37-83-52-23-58-30\n"
     ]
    }
   ],
   "source": [
    "print(*sayı_üret(0,100,8), sep = \"-\") #Eğer çıktının küme parantezleri arasında görünmesini istemiyorsanız elbette çıktıyı keyfinize göre biçimlendirebilirsiniz:"
   ]
  },
  {
   "cell_type": "code",
   "execution_count": 19,
   "id": "44bf4838",
   "metadata": {},
   "outputs": [],
   "source": [
    "x = 0 \n",
    "\n",
    "def fonk():\n",
    "    \n",
    "    x = 1 \n",
    "    return x \n"
   ]
  },
  {
   "cell_type": "markdown",
   "id": "a737487e",
   "metadata": {},
   "source": [
    "Gördüğünüz gibi fonksiyon içindeki ve fonksiyon dışındaki aynı adlı değişkenler birbirine\n",
    "karışmıyor. Bunun sebebi, Python’daki ‘isim alanı’ (namespace) adlı bir kavramdır.\n",
    "\n",
    "Örneğin yukarıdaki kodlarda fonksiyon dışındaki\n",
    "x değişkeni ana isim alanında yer alan ‘global’ bir değişkendir. Fonksiyon içindeki x değişkeni\n",
    "ise fonk() değişkeninin isim alanı içinde yer alan ‘lokal’ bir değişkendir. Bu iki değişken, adları\n",
    "aynı da olsa, birbirlerinden farklı iki nesnedir.\n",
    "\n"
   ]
  },
  {
   "cell_type": "code",
   "execution_count": 18,
   "id": "21e920cd",
   "metadata": {},
   "outputs": [
    {
     "name": "stdout",
     "output_type": "stream",
     "text": [
      "0\n"
     ]
    },
    {
     "data": {
      "text/plain": [
       "1"
      ]
     },
     "execution_count": 18,
     "metadata": {},
     "output_type": "execute_result"
    }
   ],
   "source": [
    "print(x)\n",
    "\n",
    "fonk()   "
   ]
  },
  {
   "cell_type": "code",
   "execution_count": null,
   "id": "0647f285",
   "metadata": {},
   "outputs": [],
   "source": [
    "x = []\n",
    "print('x\\'in ilk hali:', x)\n",
    "\n",
    "def değiştir():\n",
    "    print('x\\'i değiştiriyoruz...')\n",
    "    x.append(1)\n",
    "    return x\n",
    "\n",
    "\n",
    "değiştir()\n",
    "print('x\\'in son hali: ', x)\n",
    "\n",
    "\n",
    "\n",
    "\n",
    "#Python herhangi bir nesneye göndermede bulunduğumuzda, yani o nesnenin değerini talep\n",
    "#ettiğimizde aradığımız nesneyi ilk önce mevcut isim alanı içinde arar. Eğer aranan nesneyi\n",
    "#mevcut isim alanı içinde bulamazsa yukarıya doğru bütün isim alanlarını tek tek kontrol eder."
   ]
  },
  {
   "cell_type": "markdown",
   "id": "c4f5799d",
   "metadata": {},
   "source": [
    "def in içine x değişkeni koymadık. bu da globale gitmesine, değeri almasına sebep oldu. \n",
    "\n"
   ]
  },
  {
   "cell_type": "code",
   "execution_count": 20,
   "id": "abdd06a0",
   "metadata": {},
   "outputs": [
    {
     "name": "stdout",
     "output_type": "stream",
     "text": [
      "10\n",
      "0\n"
     ]
    }
   ],
   "source": [
    "x = 0\n",
    "def fonk():\n",
    "    x = 10\n",
    "    print(x)\n",
    "fonk()\n",
    "print(x)\n"
   ]
  },
  {
   "cell_type": "code",
   "execution_count": 21,
   "id": "4245b595",
   "metadata": {},
   "outputs": [
    {
     "name": "stdout",
     "output_type": "stream",
     "text": [
      "{10}\n"
     ]
    }
   ],
   "source": [
    "x = set()\n",
    "\n",
    "\n",
    "def fonksi():\n",
    "    \n",
    "    x.add(10)\n",
    "    \n",
    "    return x \n",
    "\n",
    "print(fonksi())"
   ]
  },
  {
   "cell_type": "code",
   "execution_count": 24,
   "id": "196492bc",
   "metadata": {},
   "outputs": [
    {
     "data": {
      "text/plain": [
       "{10}"
      ]
     },
     "execution_count": 24,
     "metadata": {},
     "output_type": "execute_result"
    }
   ],
   "source": [
    "x  # Eğer bir nesne değiştirilebilir bir nesne ise, o nesnenin değerini, lokal isim alanlarından değiştirebilirsiniz:\n",
    "\n",
    "\n",
    "\n",
    "# değiştirebilir bir arkadaşımızdır set(). o sebeple local alandan istediğimiz gibi işlem yaptık. "
   ]
  },
  {
   "cell_type": "markdown",
   "id": "da62a2b3",
   "metadata": {},
   "source": [
    "# İşte karakter dizileri gibi değiştirilemeyen nesneleri, lokal isim alanlarında değiştiremeyeceğiniz gibi, yeniden tanımlayamazsınız da...\n"
   ]
  },
  {
   "cell_type": "code",
   "execution_count": 23,
   "id": "c6d2c2e6",
   "metadata": {},
   "outputs": [
    {
     "ename": "UnboundLocalError",
     "evalue": "local variable 'isim' referenced before assignment",
     "output_type": "error",
     "traceback": [
      "\u001b[1;31m---------------------------------------------------------------------------\u001b[0m",
      "\u001b[1;31mUnboundLocalError\u001b[0m                         Traceback (most recent call last)",
      "\u001b[1;32m<ipython-input-23-205c1981bf7d>\u001b[0m in \u001b[0;36m<module>\u001b[1;34m\u001b[0m\n\u001b[0;32m     11\u001b[0m \u001b[1;33m\u001b[0m\u001b[0m\n\u001b[0;32m     12\u001b[0m \u001b[1;33m\u001b[0m\u001b[0m\n\u001b[1;32m---> 13\u001b[1;33m \u001b[0mprint\u001b[0m\u001b[1;33m(\u001b[0m\u001b[0mfonk\u001b[0m\u001b[1;33m(\u001b[0m\u001b[1;33m)\u001b[0m\u001b[1;33m)\u001b[0m\u001b[1;33m\u001b[0m\u001b[1;33m\u001b[0m\u001b[0m\n\u001b[0m\u001b[0;32m     14\u001b[0m \u001b[1;33m\u001b[0m\u001b[0m\n",
      "\u001b[1;32m<ipython-input-23-205c1981bf7d>\u001b[0m in \u001b[0;36mfonk\u001b[1;34m()\u001b[0m\n\u001b[0;32m      5\u001b[0m \u001b[1;32mdef\u001b[0m \u001b[0mfonk\u001b[0m\u001b[1;33m(\u001b[0m\u001b[1;33m)\u001b[0m\u001b[1;33m:\u001b[0m\u001b[1;33m\u001b[0m\u001b[1;33m\u001b[0m\u001b[0m\n\u001b[0;32m      6\u001b[0m \u001b[1;33m\u001b[0m\u001b[0m\n\u001b[1;32m----> 7\u001b[1;33m     \u001b[0misim\u001b[0m \u001b[1;33m+=\u001b[0m \u001b[1;34m\" özgül\"\u001b[0m\u001b[1;33m\u001b[0m\u001b[1;33m\u001b[0m\u001b[0m\n\u001b[0m\u001b[0;32m      8\u001b[0m \u001b[1;33m\u001b[0m\u001b[0m\n\u001b[0;32m      9\u001b[0m     \u001b[1;32mreturn\u001b[0m \u001b[0misim\u001b[0m\u001b[1;33m\u001b[0m\u001b[1;33m\u001b[0m\u001b[0m\n",
      "\u001b[1;31mUnboundLocalError\u001b[0m: local variable 'isim' referenced before assignment"
     ]
    }
   ],
   "source": [
    "isim = \"fırat\"\n",
    "\n",
    "\n",
    "\n",
    "def fonk():\n",
    "    \n",
    "    isim += \" özgül\"\n",
    "    \n",
    "    return isim \n",
    "\n",
    "\n",
    "\n",
    "print(fonk())\n",
    "\n"
   ]
  },
  {
   "cell_type": "markdown",
   "id": "d921265b",
   "metadata": {},
   "source": [
    "bu durum listeler için de geçerlidir. yanii\n",
    "\n",
    "\n",
    "\n",
    "değiştirilebilir veri tipi olan listeleri fonksiyon içinde \n",
    "yeniden tanımlayamazsınnn\n",
    "\n",
    "ancak local(fonks) içinde içeriğini değiştirebilirsin. \n",
    "\n",
    "\n",
    "\n",
    "\n"
   ]
  },
  {
   "cell_type": "code",
   "execution_count": 29,
   "id": "8dc8cfa9",
   "metadata": {},
   "outputs": [
    {
     "name": "stdout",
     "output_type": "stream",
     "text": [
      "['Fırat Özgül', 'Orçun Kunek']\n"
     ]
    }
   ],
   "source": [
    "isim_listesi = []\n",
    "\n",
    "\n",
    "def fonk():\n",
    "    \n",
    "    isim_listesi.extend(['Fırat Özgül', 'Orçun Kunek'])\n",
    "    \n",
    "    \n",
    "    return isim_listesi\n",
    "\n",
    "\n",
    "print(fonk())"
   ]
  },
  {
   "cell_type": "code",
   "execution_count": 30,
   "id": "88269acb",
   "metadata": {},
   "outputs": [
    {
     "data": {
      "text/plain": [
       "['Fırat Özgül', 'Orçun Kunek']"
      ]
     },
     "execution_count": 30,
     "metadata": {},
     "output_type": "execute_result"
    }
   ],
   "source": [
    "isim_listesi"
   ]
  },
  {
   "cell_type": "markdown",
   "id": "0f0a9b31",
   "metadata": {},
   "source": [
    "# global\n",
    "\n",
    "işte bu satır, isim adlı değişkenin global alana taşınmasını sağlıyor. Böylece global alanda\n",
    "bulunan isim adlı değişkeni değişikliğe uğratabiliyoruz. "
   ]
  },
  {
   "cell_type": "code",
   "execution_count": 31,
   "id": "8f18d3ed",
   "metadata": {},
   "outputs": [
    {
     "name": "stdout",
     "output_type": "stream",
     "text": [
      "Fırat Özgül\n"
     ]
    }
   ],
   "source": [
    "isim = 'Fırat'\n",
    "\n",
    "def fonk():\n",
    "    global isim         # global: agacım globaldeki isim kalsın burada \n",
    "                        # biz onu istiyoruz burada. \n",
    "    isim += ' Özgül'\n",
    "    return isim\n",
    "print(fonk())         "
   ]
  },
  {
   "cell_type": "code",
   "execution_count": 32,
   "id": "5d4212e3",
   "metadata": {},
   "outputs": [
    {
     "data": {
      "text/plain": [
       "'Fırat Özgül'"
      ]
     },
     "execution_count": 32,
     "metadata": {},
     "output_type": "execute_result"
    }
   ],
   "source": [
    "isim"
   ]
  },
  {
   "cell_type": "code",
   "execution_count": null,
   "id": "9bbf1d19",
   "metadata": {},
   "outputs": [],
   "source": []
  },
  {
   "cell_type": "code",
   "execution_count": null,
   "id": "a257dcf0",
   "metadata": {},
   "outputs": [],
   "source": []
  },
  {
   "cell_type": "code",
   "execution_count": null,
   "id": "a4cfbedf",
   "metadata": {},
   "outputs": [],
   "source": []
  },
  {
   "cell_type": "code",
   "execution_count": null,
   "id": "314bf401",
   "metadata": {},
   "outputs": [],
   "source": []
  },
  {
   "cell_type": "code",
   "execution_count": null,
   "id": "2da471c4",
   "metadata": {},
   "outputs": [],
   "source": []
  },
  {
   "cell_type": "code",
   "execution_count": null,
   "id": "3fd0ff91",
   "metadata": {},
   "outputs": [],
   "source": []
  }
 ],
 "metadata": {
  "kernelspec": {
   "display_name": "Python 3",
   "language": "python",
   "name": "python3"
  },
  "language_info": {
   "codemirror_mode": {
    "name": "ipython",
    "version": 3
   },
   "file_extension": ".py",
   "mimetype": "text/x-python",
   "name": "python",
   "nbconvert_exporter": "python",
   "pygments_lexer": "ipython3",
   "version": "3.8.8"
  }
 },
 "nbformat": 4,
 "nbformat_minor": 5
}
