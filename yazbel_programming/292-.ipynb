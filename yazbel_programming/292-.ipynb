{
 "cells": [
  {
   "cell_type": "markdown",
   "id": "2022802a",
   "metadata": {},
   "source": [
    "# Karakter Dizilerinin Methodları"
   ]
  },
  {
   "cell_type": "markdown",
   "id": "8deb2724",
   "metadata": {},
   "source": [
    "Orada da kabaca tarif ettiğimiz gibi, metotlar Python’da nesnelerin niteliklerini değiştirmemizi,\n",
    "sorgulamamızı veya bu nesnelere yeni özellikler katmamızı sağlayan araçlardır. Metotlar\n",
    "sayesinde karakter dizilerini istediğimiz gibi eğip bükebileceğiz."
   ]
  },
  {
   "cell_type": "markdown",
   "id": "0d57bfe3",
   "metadata": {},
   "source": [
    "bir karakter dizisinin hangi methodlara sahip olduğunu bulmamızı sağlayan fonksiyon: dir(\"\")"
   ]
  },
  {
   "cell_type": "markdown",
   "id": "5f5986c1",
   "metadata": {},
   "source": [
    "# replace()\n",
    "\n",
    "Türkçede ‘değiştirmek, yerine koymak’ gibi anlamlar taşır. İşte bu metodun yerine\n",
    "getirdiği görev de tam olarak budur. Yani bu metodu kullanarak bir karakter dizisi içindeki\n",
    "karakterleri başka karakterlerle değiştirebileceğiz."
   ]
  },
  {
   "cell_type": "code",
   "execution_count": 3,
   "id": "3c902e48",
   "metadata": {},
   "outputs": [],
   "source": [
    "kardiz = \"elmaee\"\n",
    "\n"
   ]
  },
  {
   "cell_type": "code",
   "execution_count": 11,
   "id": "669069e7",
   "metadata": {},
   "outputs": [
    {
     "data": {
      "text/plain": [
       "'ElmaEE'"
      ]
     },
     "execution_count": 11,
     "metadata": {},
     "output_type": "execute_result"
    }
   ],
   "source": [
    "kardiz.replace(\"e\", \"E\", -1)     # -1 ==== hepsini değiştir demek "
   ]
  },
  {
   "cell_type": "markdown",
   "id": "4c7097e5",
   "metadata": {},
   "source": [
    "\n",
    "# METOT UN NASIL KULLANILMASI GEREKTİĞİ \n",
    "\n",
    "karakter_dizisi.metot(parametre)"
   ]
  },
  {
   "cell_type": "code",
   "execution_count": 15,
   "id": "e4ed0af5",
   "metadata": {},
   "outputs": [
    {
     "name": "stdout",
     "output_type": "stream",
     "text": [
      "ElmEeea\n"
     ]
    }
   ],
   "source": [
    "meyve = \"elmeeea\"\n",
    "\n",
    "meyve = meyve.replace(\"e\",\"E\", 2)\n",
    "\n",
    "print(meyve)"
   ]
  },
  {
   "cell_type": "markdown",
   "id": "d6d24adb",
   "metadata": {},
   "source": [
    "# split(), rsplit(), splitlines()\n"
   ]
  },
  {
   "cell_type": "markdown",
   "id": "2da43e95",
   "metadata": {},
   "source": [
    "Şimdi size şöyle bir soru sorduğumu düşünün: Acaba aşağıdaki karakter dizisinde yer alan\n",
    "bütün kelimelerin ilk harfini nasıl alırız?\n",
    "\n",
    "kardiz = \"İstanbul Büyükşehir Belediyesi\"\n",
    "\n",
    "Yani diyorum ki burada “İBB” gibi bir çıktıyı nasıl elde ederiz?\n",
    "\n",
    "Sadece bu karakter dizisi söz konusu ise, elbette karakter dizilerinin dilimlenme özelliğinden\n",
    "yararlanarak, kardiz değişkeni içindeki “İ”, “B”, ve “B” harflerini tek tek alabiliriz:\n",
    "    \n",
    "print(kardiz[0], kardiz[9], kardiz[20], sep=\"\")\n",
    "İBB\n",
    "\n",
    "Ancak bu yöntemin ne kadar kullanışsız olduğu ortada. Çünkü bu metot yalnızca “İstanbul\n",
    "Büyükşehir Belediyesi” adlı karakter dizisi için geçerlidir. Eğer karakter dizisi değişirse bu\n",
    "yöntem de çöpe gider. Bu soruna genel bir çözüm üretebilsek ne güzel olurdu, değil mi?"
   ]
  },
  {
   "cell_type": "markdown",
   "id": "75b0552c",
   "metadata": {},
   "source": [
    " Bu metodun görevi karakter dizilerini belli noktalardan bölmektir. Zaten split kelimesi Türkçede ‘bölmek, ayırmak’ gibi anlamlara gelir. İşte bu metot, üzerine uygulandığı karakter dizilerini parçalarına ayırır"
   ]
  },
  {
   "cell_type": "code",
   "execution_count": 17,
   "id": "269c67d3",
   "metadata": {},
   "outputs": [
    {
     "data": {
      "text/plain": [
       "['İstanbul', 'Büyükşehir', 'Belediyesi']"
      ]
     },
     "execution_count": 17,
     "metadata": {},
     "output_type": "execute_result"
    }
   ],
   "source": [
    "kardiz = \"İstanbul Büyükşehir Belediyesi\"\n",
    "\n",
    "\n",
    "\n",
    "kardiz.split()  # listeye dönüştürdü\n"
   ]
  },
  {
   "cell_type": "code",
   "execution_count": 20,
   "id": "7ddf3982",
   "metadata": {},
   "outputs": [
    {
     "name": "stdout",
     "output_type": "stream",
     "text": [
      "İstanbul Büyükşehir Belediyesi"
     ]
    }
   ],
   "source": [
    "for i in kardiz:\n",
    "    print(i[0], end=\"\")\n"
   ]
  },
  {
   "cell_type": "code",
   "execution_count": 21,
   "id": "ccb08320",
   "metadata": {},
   "outputs": [
    {
     "name": "stdout",
     "output_type": "stream",
     "text": [
      "a\n",
      "d\n",
      "x\n"
     ]
    }
   ],
   "source": [
    "for i in (\"abc\",\"def\",\"xyz\"):\n",
    "    print(i[0])"
   ]
  },
  {
   "cell_type": "code",
   "execution_count": null,
   "id": "81920e12",
   "metadata": {},
   "outputs": [],
   "source": [
    "input(fdsafasf)"
   ]
  },
  {
   "cell_type": "code",
   "execution_count": 30,
   "id": "86b87657",
   "metadata": {},
   "outputs": [
    {
     "name": "stdout",
     "output_type": "stream",
     "text": [
      "kısaltmasını merak ettiğiniz kurumu yazın ii bb bb \n",
      "i\n",
      "b\n",
      "b\n"
     ]
    }
   ],
   "source": [
    "kardiz = input(\"kısaltmasını merak ettiğiniz kurumu yazın \")\n",
    "\n",
    "for i in kardiz.split():\n",
    "    print( i[0], end = \"\")\n",
    "    # end i değiştirince işler de değişti  ---> ibb oldu cevap "
   ]
  },
  {
   "cell_type": "code",
   "execution_count": 26,
   "id": "84dbe5d7",
   "metadata": {},
   "outputs": [],
   "source": [
    "x = (\"abc def yz\")"
   ]
  },
  {
   "cell_type": "code",
   "execution_count": 27,
   "id": "9ee88f28",
   "metadata": {},
   "outputs": [
    {
     "data": {
      "text/plain": [
       "['abc', 'def', 'yz']"
      ]
     },
     "execution_count": 27,
     "metadata": {},
     "output_type": "execute_result"
    }
   ],
   "source": [
    "x.split() # tupleyi ayırdı, virgüllerler ile beraber diziye dönüştürdü. \n"
   ]
  },
  {
   "cell_type": "markdown",
   "id": "fc6d09ce",
   "metadata": {},
   "source": [
    "Gördüğünüz gibi split() metodu parametresiz olarak kullanıldığında\n",
    "karakter dizisini boşluklardan bölüyor. Ama yukarıdaki örnekte karakter dizisini boşluklardan\n",
    "değil de virgüllerden bölsek çok daha anlamlı bir çıktı elde edebiliriz"
   ]
  },
  {
   "cell_type": "code",
   "execution_count": 32,
   "id": "3222ed70",
   "metadata": {},
   "outputs": [
    {
     "name": "stdout",
     "output_type": "stream",
     "text": [
      "['Bolvadin,', 'Kilis,', 'Siverek,', 'İskenderun,', 'İstanbul']\n"
     ]
    }
   ],
   "source": [
    "kardiz = \"Bolvadin, Kilis, Siverek, İskenderun, İstanbul\"\n",
    "kardiz = kardiz.split()\n",
    "print(kardiz)"
   ]
  },
  {
   "cell_type": "code",
   "execution_count": 33,
   "id": "05cb8690",
   "metadata": {},
   "outputs": [
    {
     "name": "stdout",
     "output_type": "stream",
     "text": [
      "['Bolvadin', ' Kilis', ' Siverek', ' İskenderun', ' İstanbul']\n"
     ]
    }
   ],
   "source": [
    "kardiz = \"Bolvadin, Kilis, Siverek, İskenderun, İstanbul\"\n",
    "kardiz = kardiz.split(\",\")\n",
    "print(kardiz)                      # eğer \",\" değil de \"l\" koyarsak parametreye, \"l\" den ayırmaya başlayacak!"
   ]
  },
  {
   "cell_type": "code",
   "execution_count": 35,
   "id": "111548eb",
   "metadata": {},
   "outputs": [
    {
     "name": "stdout",
     "output_type": "stream",
     "text": [
      "Bolvadin\n",
      " Kilis\n",
      " Siverek\n",
      " İskenderun\n",
      " İstanbul\n"
     ]
    }
   ],
   "source": [
    "for i in kardiz:\n",
    "    print(i)   "
   ]
  },
  {
   "cell_type": "code",
   "execution_count": 36,
   "id": "11ce47b3",
   "metadata": {},
   "outputs": [
    {
     "ename": "ValueError",
     "evalue": "empty separator",
     "output_type": "error",
     "traceback": [
      "\u001b[1;31m---------------------------------------------------------------------------\u001b[0m",
      "\u001b[1;31mValueError\u001b[0m                                Traceback (most recent call last)",
      "\u001b[1;32m<ipython-input-36-263a9af62c58>\u001b[0m in \u001b[0;36m<module>\u001b[1;34m\u001b[0m\n\u001b[0;32m      1\u001b[0m \u001b[0mkardiz\u001b[0m \u001b[1;33m=\u001b[0m \u001b[1;34m\"Ankara Büyükşehir Belediyesi\"\u001b[0m\u001b[1;33m\u001b[0m\u001b[1;33m\u001b[0m\u001b[0m\n\u001b[0;32m      2\u001b[0m \u001b[1;33m\u001b[0m\u001b[0m\n\u001b[1;32m----> 3\u001b[1;33m \u001b[0mkardiz\u001b[0m\u001b[1;33m.\u001b[0m\u001b[0msplit\u001b[0m\u001b[1;33m(\u001b[0m\u001b[1;34m\"\"\u001b[0m\u001b[1;33m)\u001b[0m\u001b[1;33m\u001b[0m\u001b[1;33m\u001b[0m\u001b[0m\n\u001b[0m",
      "\u001b[1;31mValueError\u001b[0m: empty separator"
     ]
    }
   ],
   "source": [
    "kardiz = \"Ankara Büyükşehir Belediyesi\"\n",
    "\n",
    "kardiz.split(\"\")     # parametremde boşluk bile olmayınca bana empty seperator uyarısı verdi "
   ]
  },
  {
   "cell_type": "code",
   "execution_count": 37,
   "id": "adb23103",
   "metadata": {},
   "outputs": [
    {
     "data": {
      "text/plain": [
       "['Ankara', 'Büyükşehir Belediyesi']"
      ]
     },
     "execution_count": 37,
     "metadata": {},
     "output_type": "execute_result"
    }
   ],
   "source": [
    "kardiz = \"Ankara Büyükşehir Belediyesi\"\n",
    "\n",
    "kardiz.split(\" \", 1)  # 2. parametre kaça bölmek istediğini gösteriyor. "
   ]
  },
  {
   "cell_type": "code",
   "execution_count": 38,
   "id": "2be5096d",
   "metadata": {},
   "outputs": [],
   "source": [
    "import sys"
   ]
  },
  {
   "cell_type": "code",
   "execution_count": 39,
   "id": "1f4dac0c",
   "metadata": {},
   "outputs": [],
   "source": [
    "sürüm = sys.version"
   ]
  },
  {
   "cell_type": "code",
   "execution_count": 40,
   "id": "6a510e84",
   "metadata": {},
   "outputs": [
    {
     "data": {
      "text/plain": [
       "'3.8.8 (default, Apr 13 2021, 15:08:03) [MSC v.1916 64 bit (AMD64)]'"
      ]
     },
     "execution_count": 40,
     "metadata": {},
     "output_type": "execute_result"
    }
   ],
   "source": [
    "sürüm"
   ]
  },
  {
   "cell_type": "code",
   "execution_count": 41,
   "id": "a25ceebf",
   "metadata": {},
   "outputs": [
    {
     "name": "stdout",
     "output_type": "stream",
     "text": [
      "3.8.8\n"
     ]
    }
   ],
   "source": [
    "print(sürüm[:5])   "
   ]
  },
  {
   "cell_type": "code",
   "execution_count": 45,
   "id": "0702a434",
   "metadata": {},
   "outputs": [
    {
     "name": "stdout",
     "output_type": "stream",
     "text": [
      "3.8.8\n"
     ]
    }
   ],
   "source": [
    "print(sürüm.split()[0])"
   ]
  },
  {
   "cell_type": "markdown",
   "id": "7715a657",
   "metadata": {},
   "source": [
    "# rsplit() \n",
    "rsplit() metodu her yönüyle split() metoduna benzer. split() ile rsplit() arasındaki tek\n",
    "fark, split() metodunun karakter dizisini soldan sağa, rsplit() metodunun ise sağdan sola\n",
    "doğru okumasıdır."
   ]
  },
  {
   "cell_type": "code",
   "execution_count": null,
   "id": "3440579a",
   "metadata": {},
   "outputs": [],
   "source": [
    "# bölme işlemini sağdan yaparak başlar"
   ]
  },
  {
   "cell_type": "code",
   "execution_count": 46,
   "id": "6687bd7d",
   "metadata": {},
   "outputs": [
    {
     "data": {
      "text/plain": [
       "['Ankara Büyükşehir', 'Belediyesi']"
      ]
     },
     "execution_count": 46,
     "metadata": {},
     "output_type": "execute_result"
    }
   ],
   "source": [
    "kardiz.rsplit(\" \", 1)"
   ]
  },
  {
   "cell_type": "markdown",
   "id": "6d0edecf",
   "metadata": {},
   "source": [
    "Bildiğiniz gibi, split() metodunu bir karakter dizisini kelime kelime ayırabilmek için kullanabiliyoruz.\n",
    "# splitlines() metodunu ise bir karakter dizisini satır satır ayırmak için\n",
    "kullanabiliriz. Mesela elinizde uzun bir metin olduğunu ve amacınızın bu metin içindeki\n",
    "herbir satırı ayrı ayrı almak olduğunu düşünün. İşte splitlines() metoduyla bu amacınızı\n",
    "gerçekleştirebilirsiniz."
   ]
  },
  {
   "cell_type": "code",
   "execution_count": 47,
   "id": "f2a99c98",
   "metadata": {},
   "outputs": [
    {
     "data": {
      "text/plain": [
       "['Python programlama dili Guido Van Rossum adlı Hollandalı bir␣',\n",
       " '˓→programcı',\n",
       " \"tarafından 90'lı yılların başında geliştirilmeye başlanmıştır. Çoğu insan,␣\",\n",
       " '˓→isminin Python olmasına bakarak, bu programlama dilinin, adını piton yılanından aldığını',\n",
       " 'düşünür. Ancak zannedildiğinin aksine bu programlama dilinin adı piton␣',\n",
       " '˓→yılanından',\n",
       " 'gelmez. Guido Van Rossum bu programlama dilini, The Monty Python adlı bir␣',\n",
       " '˓→İngiliz',\n",
       " \"komedi grubunun, Monty Python's Flying Circus adlı gösterisinden esinlenerek\",\n",
       " 'adlandırmıştır. Ancak her ne kadar gerçek böyle olsa da, Python programlama',\n",
       " 'dilinin pek çok yerde bir yılan figürü ile temsil edilmesi neredeyse bir gelenek',\n",
       " 'halini almıştır diyebiliriz.']"
      ]
     },
     "execution_count": 47,
     "metadata": {},
     "output_type": "execute_result"
    }
   ],
   "source": [
    "metin = \"\"\"Python programlama dili Guido Van Rossum adlı Hollandalı bir␣\n",
    "˓→programcı\n",
    "tarafından 90'lı yılların başında geliştirilmeye başlanmıştır. Çoğu insan,␣\n",
    "˓→isminin Python olmasına bakarak, bu programlama dilinin, adını piton yılanından aldığını\n",
    "düşünür. Ancak zannedildiğinin aksine bu programlama dilinin adı piton␣\n",
    "˓→yılanından\n",
    "gelmez. Guido Van Rossum bu programlama dilini, The Monty Python adlı bir␣\n",
    "˓→İngiliz\n",
    "komedi grubunun, Monty Python's Flying Circus adlı gösterisinden esinlenerek\n",
    "adlandırmıştır. Ancak her ne kadar gerçek böyle olsa da, Python programlama\n",
    "dilinin pek çok yerde bir yılan figürü ile temsil edilmesi neredeyse bir gelenek\n",
    "halini almıştır diyebiliriz.\"\"\"\n",
    "\n",
    "\n",
    "metin.splitlines()"
   ]
  },
  {
   "cell_type": "code",
   "execution_count": 48,
   "id": "ba1c440b",
   "metadata": {},
   "outputs": [
    {
     "data": {
      "text/plain": [
       "['Python programlama dili Guido Van Rossum adlı Hollandalı bir␣\\n',\n",
       " '˓→programcı\\n',\n",
       " \"tarafından 90'lı yılların başında geliştirilmeye başlanmıştır. Çoğu insan,␣\\n\",\n",
       " '˓→isminin Python olmasına bakarak, bu programlama dilinin, adını piton yılanından aldığını\\n',\n",
       " 'düşünür. Ancak zannedildiğinin aksine bu programlama dilinin adı piton␣\\n',\n",
       " '˓→yılanından\\n',\n",
       " 'gelmez. Guido Van Rossum bu programlama dilini, The Monty Python adlı bir␣\\n',\n",
       " '˓→İngiliz\\n',\n",
       " \"komedi grubunun, Monty Python's Flying Circus adlı gösterisinden esinlenerek\\n\",\n",
       " 'adlandırmıştır. Ancak her ne kadar gerçek böyle olsa da, Python programlama\\n',\n",
       " 'dilinin pek çok yerde bir yılan figürü ile temsil edilmesi neredeyse bir gelenek\\n',\n",
       " 'halini almıştır diyebiliriz.']"
      ]
     },
     "execution_count": 48,
     "metadata": {},
     "output_type": "execute_result"
    }
   ],
   "source": [
    "metin.splitlines(True)"
   ]
  },
  {
   "cell_type": "markdown",
   "id": "3a4958e5",
   "metadata": {},
   "source": [
    "Gördüğünüz gibi, parametresiz kullanımda, program çıktısında satır başı karakterleri (\\n)\n",
    "görünmüyor. Ama eğer splitlines() metoduna parametre olarak True verirsek program\n",
    "çıktısında satır başı karakterleri de görünüyor. Yazdığınız programlarda ihtiyacınıza göre\n",
    "splitlines() metodunu parametreli olarak veya parametresiz bir şekilde kullanabilirsiniz.\n"
   ]
  },
  {
   "cell_type": "markdown",
   "id": "fe46bae7",
   "metadata": {},
   "source": [
    "# lower() METHODU, \n",
    "YAZININ BÜYÜK MÜ KÜÇÜK MÜ OLDUĞUNU ÖNEMSİZLEŞTİRİR. Mesela Google’da yapılan\n",
    "aramalar bu mantık üzerine çalışır. Örneğin ‘kitap’ kelimesini Google’da aratıyorsanız, bu\n",
    "kelimeyi büyük harfle de yazsanız, küçük harfle de yazsanız Google size aynı sonuçları\n",
    "gösterecektir. Google açısından, aradığınız kelimeyi büyük ya da küçük harfle yazmanızın bir\n",
    "önemi yoktur "
   ]
  },
  {
   "cell_type": "code",
   "execution_count": 52,
   "id": "507e0ccc",
   "metadata": {},
   "outputs": [
    {
     "name": "stdout",
     "output_type": "stream",
     "text": [
      "Aradığınız kişinin adı ve soyadı: ahmet öz\n",
      "Aradığınız kişi veritabanında yok!\n"
     ]
    }
   ],
   "source": [
    "kişi = input(\"Aradığınız kişinin adı ve soyadı: \")\n",
    "\n",
    "if kişi == \"Ahmet Öz\":\n",
    "    print(\"email: aoz@hmail.com\")\n",
    "    print(\"tel : 02121231212\")\n",
    "    print(\"şehir: istanbul\")\n",
    "elif kişi == \"Mehmet Söz\":\n",
    "    print(\"email: msoz@zmail.com\")\n",
    "    print(\"tel : 03121231212\")\n",
    "    print(\"şehir: ankara\")\n",
    "elif kişi == \"Mahmut Göz\":\n",
    "    print(\"email: mgoz@jmail.com\")\n",
    "    print(\"tel : 02161231212\")\n",
    "    print(\"şehir: istanbul\")\n",
    "else:\n",
    "    print(\"Aradığınız kişi veritabanında yok!\")\n",
    "# ahmet öz' ü bulamadı :) "
   ]
  },
  {
   "cell_type": "code",
   "execution_count": 57,
   "id": "a8489885",
   "metadata": {},
   "outputs": [
    {
     "name": "stdout",
     "output_type": "stream",
     "text": [
      "Aradığınız kişinin adı ve soyadı: AHMET ÖZ\n",
      "email: aoz@hmail.com\n",
      "tel : 02121231212\n",
      "şehir: istanbul\n"
     ]
    }
   ],
   "source": [
    "kişi = input(\"Aradığınız kişinin adı ve soyadı: \")\n",
    "kişi = kişi.lower()\n",
    "if kişi == \"ahmet öz\":\n",
    "    print(\"email: aoz@hmail.com\")\n",
    "    print(\"tel : 02121231212\")\n",
    "    print(\"şehir: istanbul\")\n",
    "elif kişi == \"mehmet söz\":\n",
    "    print(\"email: msoz@zmail.com\")\n",
    "    print(\"tel : 03121231212\")\n",
    "    print(\"şehir: ankara\")\n",
    "elif kişi == \"mahmut göz\":\n",
    "    print(\"email: mgoz@jmail.com\")\n",
    "    print(\"tel : 02161231212\")\n",
    "    print(\"şehir: istanbul\")\n",
    "else:\n",
    "    print(\"Aradığınız kişi veritabanında yok!\")\n",
    "# ahmet öz' ü bulamadı :) "
   ]
  },
  {
   "cell_type": "code",
   "execution_count": 55,
   "id": "e384e345",
   "metadata": {},
   "outputs": [],
   "source": [
    "x = \"Gürkan\""
   ]
  },
  {
   "cell_type": "code",
   "execution_count": 56,
   "id": "64dd419b",
   "metadata": {},
   "outputs": [
    {
     "data": {
      "text/plain": [
       "'gürkan'"
      ]
     },
     "execution_count": 56,
     "metadata": {},
     "output_type": "execute_result"
    }
   ],
   "source": [
    "x.lower()"
   ]
  },
  {
   "cell_type": "code",
   "execution_count": null,
   "id": "4a415d91",
   "metadata": {},
   "outputs": [],
   "source": []
  },
  {
   "cell_type": "code",
   "execution_count": null,
   "id": "f56170ff",
   "metadata": {},
   "outputs": [],
   "source": []
  },
  {
   "cell_type": "code",
   "execution_count": null,
   "id": "7a0640ff",
   "metadata": {},
   "outputs": [],
   "source": []
  },
  {
   "cell_type": "code",
   "execution_count": null,
   "id": "0a3c3315",
   "metadata": {},
   "outputs": [],
   "source": []
  },
  {
   "cell_type": "code",
   "execution_count": null,
   "id": "0d787869",
   "metadata": {},
   "outputs": [],
   "source": []
  },
  {
   "cell_type": "code",
   "execution_count": null,
   "id": "f789664d",
   "metadata": {},
   "outputs": [],
   "source": []
  },
  {
   "cell_type": "code",
   "execution_count": null,
   "id": "f4f4b385",
   "metadata": {},
   "outputs": [],
   "source": []
  },
  {
   "cell_type": "code",
   "execution_count": null,
   "id": "7460df4d",
   "metadata": {},
   "outputs": [],
   "source": []
  },
  {
   "cell_type": "code",
   "execution_count": null,
   "id": "5732190f",
   "metadata": {},
   "outputs": [],
   "source": []
  },
  {
   "cell_type": "code",
   "execution_count": null,
   "id": "d09012cd",
   "metadata": {},
   "outputs": [],
   "source": []
  },
  {
   "cell_type": "code",
   "execution_count": null,
   "id": "4c662ce6",
   "metadata": {},
   "outputs": [],
   "source": []
  },
  {
   "cell_type": "code",
   "execution_count": null,
   "id": "0f6134f0",
   "metadata": {},
   "outputs": [],
   "source": []
  },
  {
   "cell_type": "code",
   "execution_count": null,
   "id": "b2c7b0a0",
   "metadata": {},
   "outputs": [],
   "source": []
  },
  {
   "cell_type": "code",
   "execution_count": null,
   "id": "f7d011e7",
   "metadata": {},
   "outputs": [],
   "source": []
  },
  {
   "cell_type": "code",
   "execution_count": null,
   "id": "a62fd6cf",
   "metadata": {},
   "outputs": [],
   "source": []
  },
  {
   "cell_type": "code",
   "execution_count": null,
   "id": "7ed2cb07",
   "metadata": {},
   "outputs": [],
   "source": []
  },
  {
   "cell_type": "code",
   "execution_count": null,
   "id": "e5caa2a0",
   "metadata": {},
   "outputs": [],
   "source": []
  },
  {
   "cell_type": "code",
   "execution_count": null,
   "id": "cc0e2a01",
   "metadata": {},
   "outputs": [],
   "source": []
  },
  {
   "cell_type": "code",
   "execution_count": null,
   "id": "4abad821",
   "metadata": {},
   "outputs": [],
   "source": []
  },
  {
   "cell_type": "code",
   "execution_count": null,
   "id": "ab9899fb",
   "metadata": {},
   "outputs": [],
   "source": []
  },
  {
   "cell_type": "code",
   "execution_count": null,
   "id": "19a09747",
   "metadata": {},
   "outputs": [],
   "source": []
  },
  {
   "cell_type": "code",
   "execution_count": null,
   "id": "bdab2d73",
   "metadata": {},
   "outputs": [],
   "source": []
  },
  {
   "cell_type": "code",
   "execution_count": null,
   "id": "28876a1b",
   "metadata": {},
   "outputs": [],
   "source": []
  },
  {
   "cell_type": "code",
   "execution_count": null,
   "id": "97043be4",
   "metadata": {},
   "outputs": [],
   "source": []
  },
  {
   "cell_type": "code",
   "execution_count": null,
   "id": "53d28a4f",
   "metadata": {},
   "outputs": [],
   "source": []
  },
  {
   "cell_type": "code",
   "execution_count": null,
   "id": "336c5855",
   "metadata": {},
   "outputs": [],
   "source": []
  },
  {
   "cell_type": "code",
   "execution_count": null,
   "id": "d4efecad",
   "metadata": {},
   "outputs": [],
   "source": []
  },
  {
   "cell_type": "code",
   "execution_count": null,
   "id": "4617fc38",
   "metadata": {},
   "outputs": [],
   "source": []
  },
  {
   "cell_type": "code",
   "execution_count": null,
   "id": "5ef2de36",
   "metadata": {},
   "outputs": [],
   "source": []
  },
  {
   "cell_type": "code",
   "execution_count": null,
   "id": "b2aa3d10",
   "metadata": {},
   "outputs": [],
   "source": []
  },
  {
   "cell_type": "code",
   "execution_count": null,
   "id": "3f456958",
   "metadata": {},
   "outputs": [],
   "source": []
  },
  {
   "cell_type": "code",
   "execution_count": null,
   "id": "962a54d2",
   "metadata": {},
   "outputs": [],
   "source": []
  },
  {
   "cell_type": "code",
   "execution_count": null,
   "id": "96bf53a6",
   "metadata": {},
   "outputs": [],
   "source": []
  },
  {
   "cell_type": "code",
   "execution_count": null,
   "id": "b835b7ce",
   "metadata": {},
   "outputs": [],
   "source": []
  },
  {
   "cell_type": "code",
   "execution_count": null,
   "id": "614424e5",
   "metadata": {},
   "outputs": [],
   "source": []
  },
  {
   "cell_type": "code",
   "execution_count": null,
   "id": "2baf57cf",
   "metadata": {},
   "outputs": [],
   "source": []
  },
  {
   "cell_type": "code",
   "execution_count": null,
   "id": "1853f818",
   "metadata": {},
   "outputs": [],
   "source": []
  },
  {
   "cell_type": "code",
   "execution_count": null,
   "id": "3937cb10",
   "metadata": {},
   "outputs": [],
   "source": []
  },
  {
   "cell_type": "code",
   "execution_count": null,
   "id": "c4059b24",
   "metadata": {},
   "outputs": [],
   "source": []
  },
  {
   "cell_type": "code",
   "execution_count": null,
   "id": "091fa182",
   "metadata": {},
   "outputs": [],
   "source": []
  },
  {
   "cell_type": "code",
   "execution_count": null,
   "id": "cfb851a8",
   "metadata": {},
   "outputs": [],
   "source": []
  },
  {
   "cell_type": "code",
   "execution_count": null,
   "id": "43fce39a",
   "metadata": {},
   "outputs": [],
   "source": [
    "\n"
   ]
  }
 ],
 "metadata": {
  "kernelspec": {
   "display_name": "Python 3",
   "language": "python",
   "name": "python3"
  },
  "language_info": {
   "codemirror_mode": {
    "name": "ipython",
    "version": 3
   },
   "file_extension": ".py",
   "mimetype": "text/x-python",
   "name": "python",
   "nbconvert_exporter": "python",
   "pygments_lexer": "ipython3",
   "version": "3.8.8"
  }
 },
 "nbformat": 4,
 "nbformat_minor": 5
}
