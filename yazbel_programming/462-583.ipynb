{
 "cells": [
  {
   "cell_type": "markdown",
   "id": "ff2dc430",
   "metadata": {},
   "source": [
    "# Temel Dosya İşlemleri"
   ]
  },
  {
   "cell_type": "markdown",
   "id": "ce50b906",
   "metadata": {},
   "source": [
    "f = open(dosya_adı, kip) #bu iki parametre dışında başka parametreler de alır. \n"
   ]
  },
  {
   "cell_type": "markdown",
   "id": "4f0a9397",
   "metadata": {},
   "source": [
    "Mesela “tahsilat.txt” adlı bir dosyayı yazma kipinde açmak için şöyle bir komut kullanıyoruz:\n"
   ]
  },
  {
   "cell_type": "code",
   "execution_count": 1,
   "id": "3468fbb2",
   "metadata": {},
   "outputs": [],
   "source": [
    "tahsilat_dosyası = open(\"tahsilat_dosyası.txt\", \"w\")\n",
    "\n",
    "# dosyayı oluşturduk. yazma kipinde oluştu. "
   ]
  },
  {
   "cell_type": "markdown",
   "id": "3d847d3e",
   "metadata": {},
   "source": [
    "Bu arada, dosya adını yazarken, dosya adı ile birlikte o dosyanın hangi dizin altında\n",
    "oluşturulacağını da belirleyebilirsiniz. Örneğin:\n",
    "\n",
    "\n",
    "\n",
    "# dosya = open(\"/dosyayı/oluşturmak/istediğimiz/dizin/dosya_adı\", \"w\")\n"
   ]
  },
  {
   "cell_type": "markdown",
   "id": "7bcce7cf",
   "metadata": {},
   "source": [
    "Ayrıca dosyayı barındıran dizin adlarını yazarken, dizinleri ayırmak için ters taksim (\\) yerine\n",
    "düz taksim (/) kullanmaya dikkat edin. \n",
    "\n",
    "\n",
    "Aksi halde, dizin adı oluşturmaya çalışırken yanlışlıkla\n",
    "kaçış dizileri oluşturabilirsiniz. Esasında siz bu olguya hiç yabancı değilsiniz. Zira kaçış dizilerini\n",
    "anlatırken şöyle bir örnek verdiğimizi hatırlıyor olmalısınız:\n",
    "\n",
    "print(\"C:\\aylar\\nisan\\toplam masraf\")\n"
   ]
  },
  {
   "cell_type": "markdown",
   "id": "3a9fca81",
   "metadata": {},
   "source": [
    "... veya ters taksim işaretlerini çiftleyebilirsiniz:\n",
    ">>> open(\"C:\\\\aylar\\\\nisan\\\\toplam masraf\\\\masraf.txt\", \"w\")\n"
   ]
  },
  {
   "cell_type": "markdown",
   "id": "da2450eb",
   "metadata": {},
   "source": [
    "Python programlama dilinde, open() fonksiyonu ile yazma kipinde açtığımız bir dosyaya bir\n",
    "veri yazabilmek için dosyaların write() adlı metodundan yararlanacağız."
   ]
  },
  {
   "cell_type": "code",
   "execution_count": null,
   "id": "c01a361a",
   "metadata": {},
   "outputs": [],
   "source": [
    "dosya.write(yazılacak_şeyler) ------> genel kod görünümü"
   ]
  },
  {
   "cell_type": "code",
   "execution_count": 2,
   "id": "208c3904",
   "metadata": {},
   "outputs": [
    {
     "data": {
      "text/plain": [
       "27"
      ]
     },
     "execution_count": 2,
     "metadata": {},
     "output_type": "execute_result"
    }
   ],
   "source": [
    "tahsilat_dosyası.write(\"halil pazarlama: 120.000 TL\")"
   ]
  },
  {
   "cell_type": "code",
   "execution_count": 28,
   "id": "ed342cc3",
   "metadata": {},
   "outputs": [],
   "source": [
    "tahsilat_dosyası.close()  #kendi deneyimim: oluşturdum, yazdım, baktım yazılmamış, close() ile kapadım, dosyayı da mause ile kapadım, sonra tekrar açtım mause ile, sonuç: yazılmıştı halil pazarlama. \n"
   ]
  },
  {
   "cell_type": "markdown",
   "id": "9faf1995",
   "metadata": {},
   "source": [
    "Bu arada, bu söylediklerimizden, eğer yazdığınız bilgiler zaten dosyaya işlenmişse dosyayı\n",
    "kapatmanıza gerek olmadığı anlamını çıkarmayın. Herhangi bir şekilde açtığınız dosyaları\n",
    "kapatmanız, özellikle dosyanın açılmasıyla birlikte kullanılmaya başlayan ve arka planda\n",
    "çalışan kaynakların serbest bırakılması açısından büyük önem taşıyor. O yüzden açtığımız\n",
    "dosyaların tamamını programın işleyişi sona erdiğinde kapatmayı unutmuyoruz. Yani\n",
    "yukarıdaki programı tam olarak şöyle yazıyoruz:\n",
    "\n",
    "\n",
    "tahsilat_dosyası = open(\"tahsilat_dosyası.txt\", \"w\")\n",
    "tahsilat_dosyası.write(\"Halil Pazarlama: 120.000 TL\"),\n",
    "tahsilat_dosyası.close()"
   ]
  },
  {
   "cell_type": "markdown",
   "id": "9efe83b3",
   "metadata": {},
   "source": [
    "Bu arada, bu başlığı kapatmadan önce önemli bir bilgi daha verelim. Python’da bir dosyayı\n",
    "“w” kipinde açtığımızda, eğer o adda bir dosya ilgili dizin içinde zaten varsa, Python bu\n",
    "dosyayı sorgusuz sualsiz silip, yerine aynı adda başka bir boş dosya oluşturacaktır. Yani\n",
    "mesela yukarıda tahsilat_dosyası.txt adlı dosyayı oluşturup içine bir şeyler yazdıktan sonra bu\n",
    "dosyayı yine “w” kipinde açmaya çalışırsanız, Python bu dosyanın bütün içeriğini silip, yine\n",
    "tahsilat_dosyası.txt adını taşıyan başka bir dosya oluşturacaktır. O yüzden dosya işlemleri\n",
    "sırasında bu “w” kipini kullanırken dikkat ediyoruz ve disk üzerinde var olan dosyalarımızı\n",
    "yanlışlıkla silmiyoruz.\n"
   ]
  },
  {
   "cell_type": "markdown",
   "id": "d752572f",
   "metadata": {},
   "source": [
    "\n",
    "DOSYA OKUMA\n",
    "Python’da bir dosyayı okumak için yukarıda anlattığımız yazma yöntemine benzer bir yöntem\n",
    "kullanacağız. Bildiğiniz gibi, bir dosyayı yazma kipinde açmak için “w” harfini kullanıyoruz. Bir\n",
    "dosyayı okuma kipinde açmak için ise “r” harfini kullanacağız.\n"
   ]
  },
  {
   "cell_type": "markdown",
   "id": "448b2111",
   "metadata": {},
   "source": [
    "Bir dosyayı open() fonksiyonu yardımıyla açarken kip parametresi için “r” harfini kullanırsak,\n",
    "Python o dosyayı okuma yetkisiyle açacaktır. Yalnız burada şöyle bir özellik var: Eğer bir\n",
    "dosyayı okuma kipinde açacaksanız, bu “r” harfini hiç belirtmeseniz de olur. Yani şu komut\n",
    "bilgisayarımızdaki fihrist.txt adlı dosyayı okuma kipinde açacaktır:"
   ]
  },
  {
   "cell_type": "code",
   "execution_count": 19,
   "id": "49bb48bf",
   "metadata": {},
   "outputs": [
    {
     "name": "stdout",
     "output_type": "stream",
     "text": [
      "Ahmet Ã–zbudak : 0533 123 23 34\n",
      "Mehmet SÃ¼lÃ¼n : 0532 212 22 22\n",
      "Sami Sam : 0542 333 34 34\n"
     ]
    }
   ],
   "source": [
    "fihrist = open(\"fihrist.txt\" , \"r\")\n",
    "print(fihrist.read())\n"
   ]
  },
  {
   "cell_type": "code",
   "execution_count": 20,
   "id": "75dbb94f",
   "metadata": {},
   "outputs": [
    {
     "name": "stdout",
     "output_type": "stream",
     "text": [
      "<class 'str'>\n"
     ]
    }
   ],
   "source": [
    "print(type(fihrist.read()))"
   ]
  },
  {
   "cell_type": "code",
   "execution_count": 24,
   "id": "128b0bc1",
   "metadata": {},
   "outputs": [
    {
     "data": {
      "text/plain": [
       "''"
      ]
     },
     "execution_count": 24,
     "metadata": {},
     "output_type": "execute_result"
    }
   ],
   "source": [
    "fihrist.readline()  # Bir dosyanın tamamı okunduktan sonra otomatik olarak başa sarılmaması özelliği\n",
    "#sadece readline() metodu için değil, öteki bütün dosya okuma metotları için de geçerlidir.\n",
    "#Yani bir dosyayı read(), readline() veya readlines() metotlarından herhangi biri ile\n",
    "#okuduğunuzda imleç başa dönmez.\n",
    "\n",
    "\n",
    "\n",
    "\n",
    "#okunacak bir şey kalmadığı için boşluk verdi\n",
    "#okudukça aşağıya iniyor ve en sonunda okunacaklar bitiyor. \n"
   ]
  },
  {
   "cell_type": "code",
   "execution_count": null,
   "id": "a3f1b16a",
   "metadata": {},
   "outputs": [],
   "source": [
    "read()  tamamını önümüze getiriyor   karakter dizisi. \n",
    "\n",
    "readline() satır satır önümüze getiriyor. karkater dizisi \n",
    "\n",
    "readlines()  bize bir liste çıkartıyor. bu önemli bir fark"
   ]
  },
  {
   "cell_type": "code",
   "execution_count": 26,
   "id": "efe13452",
   "metadata": {},
   "outputs": [
    {
     "name": "stdout",
     "output_type": "stream",
     "text": [
      "['Ahmet Ã–zbudak : 0533 123 23 34\\n', 'Mehmet SÃ¼lÃ¼n : 0532 212 22 22\\n', 'Sami Sam : 0542 333 34 34']\n"
     ]
    }
   ],
   "source": [
    "fihrist = open(\"fihrist.txt\")\n",
    "print(fihrist.readlines())"
   ]
  },
  {
   "cell_type": "code",
   "execution_count": 27,
   "id": "5b21417a",
   "metadata": {},
   "outputs": [],
   "source": [
    "fihrist.close()"
   ]
  },
  {
   "cell_type": "markdown",
   "id": "313fa8be",
   "metadata": {},
   "source": [
    "Gördüğünüz gibi, bu defa karakter dizisi yerine bir liste ile karşılaşıyoruz. Demek ki read() ve\n",
    "readline() metotları çıktı olarak bize bir karakter dizisi verirken, readlines() metodu liste\n",
    "veriyormuş. Bunun neden önemli bir bilgi olduğunu artık gayet iyi biliyor olmanız lazım. Zira\n",
    "bir verinin tipi, o veriyle neler yapıp neler yapamayacağımızı doğrudan etkiler..."
   ]
  },
  {
   "cell_type": "markdown",
   "id": "1bdd79e0",
   "metadata": {},
   "source": [
    "try:\n",
    "    dosya = open(\"dosyaadı\", \"r\")\n",
    "#...burada dosyayla bazı işlemler yapıyoruz...\n",
    "#...ve ansızın bir hata oluşuyor...\n",
    "except IOError:\n",
    "    print(\"bir hata oluştu!\")\n",
    "finally:\n",
    "    dosya.close()\n",
    "\n",
    "------------------------------------------------------\n",
    "with open(\"dosyaadı\", \"r\") as dosya:\n",
    "    print(dosya.read())\n",
    "\n",
    "bu with çok değerli bir kod. \n",
    "Dosyalarımızı bu şekilde açıp üzerlerinde işlemlerimizi yaptığımızda Python dosyayı bizim için\n",
    "kendisi kapatacaktır. Bu şekilde bizim ayrıca bir close() satırı yazmamıza gerek yok. with\n",
    "deyimini kullanmamız yeterli. \n",
    "\n"
   ]
  },
  {
   "cell_type": "code",
   "execution_count": 31,
   "id": "cc34bfe3",
   "metadata": {},
   "outputs": [
    {
     "data": {
      "text/plain": [
       "'Bu programlama dili Guido Van Rossum adlÄ± HollandalÄ± bir\\nprogramcÄ±\\\\ntarafÄ±ndan 90â€™lÄ± yÄ±llarÄ±n baÅŸÄ±nda geliÅŸtirilmeye baÅŸlanmÄ±ÅŸtÄ±r.\\nÃ‡oÄŸu insan,\\\\nisminin Python olmasÄ±na aldanarak, bu programlama dilinin,\\nadÄ±nÄ± piton\\\\nyÄ±lanÄ±ndan aldÄ±ÄŸÄ±nÄ± dÃ¼ÅŸÃ¼nÃ¼r. Ancak zannedildiÄŸinin aksine bu\\nprogramlama dilinin\\\\nadÄ± piton yÄ±lanÄ±ndan gelmez. Guido Van Rossum bu\\nprogramlama dilini, The Monty\\\\nPython adlÄ± bir Ä°ngiliz komedi grubunun,\\nMonty Pythonâ€™s Flying Circus adlÄ±\\\\ngÃ¶sterisinden esinlenerek adlandÄ±rmÄ±ÅŸtÄ±r.\\nAncak her ne kadar gerÃ§ek bÃ¶yle olsa\\\\nda, Python programlama dilinin pek Ã§ok\\nyerde bir yÄ±lan figÃ¼rÃ¼ ile temsil\\\\nedilmesi neredeyse bir gelenek halini\\nalmÄ±ÅŸtÄ±r.'"
      ]
     },
     "execution_count": 31,
     "metadata": {},
     "output_type": "execute_result"
    }
   ],
   "source": [
    "f = open(\"python.txt\")\n",
    "\n",
    "f.read()\n",
    "\n"
   ]
  },
  {
   "cell_type": "code",
   "execution_count": 32,
   "id": "f3a8608c",
   "metadata": {},
   "outputs": [
    {
     "data": {
      "text/plain": [
       "''"
      ]
     },
     "execution_count": 32,
     "metadata": {},
     "output_type": "execute_result"
    }
   ],
   "source": [
    "f.read()  # ikinci kere okutunca doğru olarak out[32] bize boşluk veriyor. \n"
   ]
  },
  {
   "cell_type": "markdown",
   "id": "a55ef8fd",
   "metadata": {},
   "source": [
    "Çünkü dosya bir kez tamamen okunduktan sonra imleç otomatik olarak başa dönmüyor.\n",
    "Dosyayı tekrar okumak istiyorsak, bunu başa bizim sarmamız lazım. İşte bunun için seek()\n",
    "metodunu kullanacağız:"
   ]
  },
  {
   "cell_type": "code",
   "execution_count": 33,
   "id": "ca07eb75",
   "metadata": {},
   "outputs": [
    {
     "data": {
      "text/plain": [
       "0"
      ]
     },
     "execution_count": 33,
     "metadata": {},
     "output_type": "execute_result"
    }
   ],
   "source": [
    "f.seek(0) #en başına dönmüş olduk. Artık dosyayı tekrar okuyabiliriz:"
   ]
  },
  {
   "cell_type": "code",
   "execution_count": 34,
   "id": "dcbe7229",
   "metadata": {},
   "outputs": [
    {
     "data": {
      "text/plain": [
       "'Bu programlama dili Guido Van Rossum adlÄ± HollandalÄ± bir\\nprogramcÄ±\\\\ntarafÄ±ndan 90â€™lÄ± yÄ±llarÄ±n baÅŸÄ±nda geliÅŸtirilmeye baÅŸlanmÄ±ÅŸtÄ±r.\\nÃ‡oÄŸu insan,\\\\nisminin Python olmasÄ±na aldanarak, bu programlama dilinin,\\nadÄ±nÄ± piton\\\\nyÄ±lanÄ±ndan aldÄ±ÄŸÄ±nÄ± dÃ¼ÅŸÃ¼nÃ¼r. Ancak zannedildiÄŸinin aksine bu\\nprogramlama dilinin\\\\nadÄ± piton yÄ±lanÄ±ndan gelmez. Guido Van Rossum bu\\nprogramlama dilini, The Monty\\\\nPython adlÄ± bir Ä°ngiliz komedi grubunun,\\nMonty Pythonâ€™s Flying Circus adlÄ±\\\\ngÃ¶sterisinden esinlenerek adlandÄ±rmÄ±ÅŸtÄ±r.\\nAncak her ne kadar gerÃ§ek bÃ¶yle olsa\\\\nda, Python programlama dilinin pek Ã§ok\\nyerde bir yÄ±lan figÃ¼rÃ¼ ile temsil\\\\nedilmesi neredeyse bir gelenek halini\\nalmÄ±ÅŸtÄ±r.'"
      ]
     },
     "execution_count": 34,
     "metadata": {},
     "output_type": "execute_result"
    }
   ],
   "source": [
    "f.read()"
   ]
  },
  {
   "cell_type": "code",
   "execution_count": 35,
   "id": "f45283e5",
   "metadata": {},
   "outputs": [
    {
     "data": {
      "text/plain": [
       "718"
      ]
     },
     "execution_count": 35,
     "metadata": {},
     "output_type": "execute_result"
    }
   ],
   "source": [
    "f.tell() #şuan 718. baytdayız\n",
    "\n"
   ]
  },
  {
   "cell_type": "markdown",
   "id": "ad038ebe",
   "metadata": {},
   "source": [
    "# Dosyalarda Değişiklik Yapmak"
   ]
  },
  {
   "cell_type": "code",
   "execution_count": null,
   "id": "103af9ad",
   "metadata": {},
   "outputs": [],
   "source": [
    "Eğer bir dosyayı tamamen silmeden, o dosyaya ekleme yapmak veya o dosyada herhangi\n",
    "bir değişiklik yapmak istiyorsak, dosyamızı buraya kadar öğrendiğimiz iki kipten daha farklı\n",
    "bir kiple açmamız gerekiyor. Şimdi öğreneceğimiz bu yeni kipin adı “a”. Yani Python’da içi boş\n",
    "olmayan bir dosyada değişiklik yapabilmek için “a” adlı bir kipten yararlanacağız:"
   ]
  },
  {
   "cell_type": "code",
   "execution_count": 1,
   "id": "384b7f57",
   "metadata": {},
   "outputs": [],
   "source": [
    "with open(\"fihrist.txt\", \"a\") as f:\n",
    "    \n",
    "    f.write(\"\\nSelin Özden\\t: 0212 222 22 22\")\n",
    "    \n",
    "    \n",
    "f.close()"
   ]
  },
  {
   "cell_type": "markdown",
   "id": "08a345eb",
   "metadata": {},
   "source": [
    "Burada “r+” adlı yeni bir kip kullandığımıza dikkat edin. “+” işareti bir dosyayı hem okuma\n",
    "hem de yazma kipinde açmamıza yardımcı olur. İşte bu işareti “r” kipiyle birlikte “r+” şeklinde\n",
    "kullanarak dosyamızı hem okuma hem de yazma kipinde açmayı başardık. Artık ilgili dosya\n",
    "üzerinde hem okuma hem de yazma işlemlerini aynı anda gerçekleştirebiliriz.\n",
    "\n",
    "\n",
    "                           |\n",
    "                           |\n",
    "                          \\ /"
   ]
  },
  {
   "cell_type": "code",
   "execution_count": null,
   "id": "0d8476cb",
   "metadata": {},
   "outputs": [],
   "source": [
    "with open(\"fihrist.txt\" , \"r+\") as f:\n",
    "    \n",
    "    veri = f.read()\n",
    "    f.seek(0)\n",
    "    f.write(\"Sedat Köz\\t: 0322 234 45 45\\n\" + veri )         #veri değişkenini yazmazsam eski veriler çööp oluyor.         "
   ]
  },
  {
   "cell_type": "markdown",
   "id": "4da80e93",
   "metadata": {},
   "source": [
    "veri = f.read()\n",
    "Böylece dosyanın bütün içeriğini veri adlı bir değişkene atamış olduk. Peki bu işlemi\n",
    "yapmazsak ne olur?"
   ]
  },
  {
   "cell_type": "markdown",
   "id": "69a39695",
   "metadata": {},
   "source": [
    "Bu şekilde ‘Sedat Köz\\t: 0322 234 45 45\\n’ satırı, dosyadaki ilk satırı silip onun yerine\n",
    "geçecektir. Çünkü f.seek(0) ile dosyanın başına dönüp o noktaya, yani dosyanın ilk satırına\n",
    "bir veri ekledikten sonra Python öbür satırları otomatik olarak bir alt satıra kaydırmaz. Bunun\n",
    "yerine ilk satırdaki verileri silip onun yerine, yeni eklenen satırı getirir. Eğer yapmak istediğiniz\n",
    "şey buysa ne âlâ. Bu kodları kullanabilirsiniz"
   ]
  },
  {
   "cell_type": "markdown",
   "id": "b335db27",
   "metadata": {},
   "source": [
    "with open(\"fihrist.txt\" , \"r+\") as f:\n",
    "    \n",
    "    \n",
    "    veri = f.read()\n",
    "    \n",
    "    f.seek(0)\n",
    "    \n",
    "    f.write(\"sedat köz\\t: 0322 234 45 45\\n\" + veri)  # bu kodları böyle yazmamızın sebebi de read() methodunun değiştirilemeyen \n",
    "    \n",
    "    veri dizisi olmasından kaynaklanıyor. yani karakter dizisi \n",
    "    \n",
    "    \n",
    "    \n",
    "    \n",
    "    \n",
    "    "
   ]
  },
  {
   "cell_type": "markdown",
   "id": "0bace0f8",
   "metadata": {},
   "source": [
    "Dosyaların Ortasında Değişiklik Yapmak\n",
    "\n",
    "with open(\"fihrist.txt\", \"r+\") as f: \n",
    "veri = f.readlines()                             liste olarak aldık bilgileri ve veri adlı değişkene eşitledik \n",
    "veri.insert(2, \"Sedat Köz\\t: 0322 234 45 45\\n\")   veri adlı değişkenimizin içine istediğimiz konuma, insert() methoduyla ekledik\n",
    "f.seek(0)                                         f' i en başa aldık \n",
    "f.writelines(veri)                                sonra veri adlı değişkenimizin içindeki bilgileri aldık ve f in içine yazdıkk.\n",
    "\n",
    "\n"
   ]
  },
  {
   "cell_type": "markdown",
   "id": "39d55f28",
   "metadata": {},
   "source": [
    "# Dosyaların Metot ve Nitelikleri\n",
    "Dosyalara ilişkin olarak bir önceki bölümde anlattığımız şeylerin kafanıza yatması açısından\n",
    "size şu bilgiyi de verelim: Dosyalar da, tıpkı karakter dizileri ve listeler gibi, Python\n",
    "programlama dilindeki veri tiplerinden biridir. Dolayısıyla tıpkı karakter dizileri ve listeler gibi,\n",
    "dosya (file) adlı bu veri tipinin de bazı metotları ve nitelikleri vardır. Gelin isterseniz bu metot\n",
    "ve niteliklerin neler olduğunu şöyle bir listeleyelim:\n",
    "\n",
    "\n"
   ]
  },
  {
   "cell_type": "markdown",
   "id": "ce6fa3b4",
   "metadata": {},
   "source": [
    "dosya = open(\"falanca_dosya.txt\" , \"w\")\n",
    "\n",
    "\n",
    "print(*[metot for metot in dir(dosya) if not metot.startswith(\"_\")] , sep = \"\\n\")"
   ]
  },
  {
   "cell_type": "markdown",
   "id": "a570cfe8",
   "metadata": {},
   "source": [
    "closed Niteliği\n",
    "Bu nitelik, bir dosyanın kapalı olup olmadığını sorgulamamızı sağlar. Dosya adının f olduğunu\n",
    "varsayarsak, bu niteliği şöyle kullanıyoruz:\n",
    "f.closed\n",
    "Eğer f adlı bu dosya kapalıysa True çıktısı, açıksa False çıktısı verilecektir.\n"
   ]
  },
  {
   "cell_type": "markdown",
   "id": "f3f06e2e",
   "metadata": {},
   "source": [
    "İngilizcede truncate kelimesi ‘budamak, kırpmak’ gibi anlamlara gelir. Bu metodun yaptığı iş\n",
    "de bu anlamıyla uyumludur. Bu metodu temel olarak şöyle kullanıyoruz:\n",
    "\n",
    ">>> with open(\"falanca.txt\", \"r+\") as f:\n",
    "... f.truncate()\n",
    "\n",
    "Bu komutu bu şekilde kullandığımızda dosyanın bütün içeriği silinecektir. Yani bu kodlar, sanki\n",
    "dosyayı “w” kipiyle açmışsınız gibi bir etki ortaya çıkaracaktır.\n",
    "\n",
    "truncate() metodu yukarıda gördüğünüz şekilde parametresiz olarak kullanılabileceği gibi,\n",
    "parametreli olarak da kullanılabilir. Bu metodun parantezleri arasına, dosyanın kaç baytlık bir\n",
    "boyuta sahip olmasını istediğinizi yazabilirsiniz. Örneğin:\n",
    "\n",
    ">>> with open(\"falanca.txt\", \"r+\") as f:\n",
    "... f.truncate(10)\n",
    "\n",
    "Bu kodlar, falanca.txt adlı dosyanın ilk 10 baytı dışındaki bütün verileri siler. Yani dosyayı\n",
    "yalnızca 10 baytlık bir boyuta sahip olacak şekilde kırpar."
   ]
  },
  {
   "cell_type": "markdown",
   "id": "a7372c25",
   "metadata": {},
   "source": [
    "Sözlük "
   ]
  },
  {
   "cell_type": "code",
   "execution_count": null,
   "id": "716ce884",
   "metadata": {},
   "outputs": [],
   "source": [
    "sözlük = {}\n",
    "\n"
   ]
  },
  {
   "cell_type": "code",
   "execution_count": null,
   "id": "f0a4a90a",
   "metadata": {},
   "outputs": [],
   "source": [
    "sözlük = {\"kitap\" : \"book\",\n",
    "          \"bilgisayar\" : \"computer\",\n",
    "          \"programlama\": \"programming\",\n",
    "          \"dil\" : \"language\",\n",
    "          \"defter\" : \"notebook\"}"
   ]
  },
  {
   "cell_type": "code",
   "execution_count": null,
   "id": "10e8e7b2",
   "metadata": {},
   "outputs": [],
   "source": [
    "sözlük[\"kitap\"]  # yöntem bu \n"
   ]
  },
  {
   "cell_type": "code",
   "execution_count": null,
   "id": "bf62ad3b",
   "metadata": {},
   "outputs": [],
   "source": [
    "telefon_defteri = {\"ahmet öz\" : \"0532 532 32 32\",\n",
    "                   \"mehmet su\": \"0543 543 42 42\",\n",
    "                   \"seda naz\" : \"0533 533 33 33\",\n",
    "                    \"eda ala\" : \"0212 212 12 12\"}\n",
    "\n"
   ]
  },
  {
   "cell_type": "code",
   "execution_count": 2,
   "id": "796f7ad6",
   "metadata": {},
   "outputs": [],
   "source": [
    "bilgi = {\"işletim sistemi\": \"GNU\", \"sistem çekirdeği\": \"Linux\", \"dağıtım\": \"Ubuntu GNU/Linux\"}\n",
    "\n",
    "#kümeler set \n"
   ]
  },
  {
   "cell_type": "code",
   "execution_count": 3,
   "id": "2c66750c",
   "metadata": {},
   "outputs": [
    {
     "data": {
      "text/plain": [
       "{('dağıtım', 'Ubuntu GNU/Linux'),\n",
       " ('işletim sistemi', 'GNU'),\n",
       " ('sistem çekirdeği', 'Linux')}"
      ]
     },
     "execution_count": 3,
     "metadata": {},
     "output_type": "execute_result"
    }
   ],
   "source": [
    "liste =[(anahtar, değer) for anahtar, değer in bilgi.items()]\n",
    "\n",
    "küme = set(liste)\n",
    "\n",
    "küme       #sözlükten aldığımız bilgiyi liste aracılığı ile kümelere dönüştürüyoruz\n",
    "\n",
    "\n",
    "\n",
    "\n"
   ]
  },
  {
   "cell_type": "code",
   "execution_count": 4,
   "id": "c8910210",
   "metadata": {},
   "outputs": [
    {
     "name": "stdout",
     "output_type": "stream",
     "text": [
      "elma listede 3 kere geçiyor.\n",
      "kebap listede 1 kere geçiyor.\n",
      "kiraz listede 2 kere geçiyor.\n",
      "çilek listede 1 kere geçiyor.\n",
      "armut listede 1 kere geçiyor.\n"
     ]
    }
   ],
   "source": [
    "liste = [\"elma\", \"armut\", \"elma\", \"kiraz\", \"çilek\", \"kiraz\", \"elma\", \"kebap\"]\n",
    "\n",
    "\n",
    "for i in set(liste):\n",
    "    \n",
    "    print(\"{} listede {} kere geçiyor.\".format(i, liste.count(i)))\n",
    "    \n",
    "    \n",
    "    #kümelerde ayrıca sıra çok da önemli değil \n",
    "    \n",
    "    "
   ]
  },
  {
   "cell_type": "code",
   "execution_count": 11,
   "id": "5d747743",
   "metadata": {},
   "outputs": [
    {
     "name": "stdout",
     "output_type": "stream",
     "text": [
      "add\n",
      "clear\n",
      "copy\n",
      "difference\n",
      "difference_update\n",
      "discard\n",
      "intersection\n",
      "intersection_update\n",
      "isdisjoint\n",
      "issubset\n",
      "issuperset\n",
      "pop\n",
      "remove\n",
      "symmetric_difference\n",
      "symmetric_difference_update\n",
      "union\n",
      "update\n"
     ]
    }
   ],
   "source": [
    "for i in dir(set):\n",
    "    \n",
    "    if not \"__\" in i:         #ikili alt çizgi bu, tekli isteseydi üçlü isteseydi farklı işler olurdu. \n",
    "        \n",
    "        print(i)"
   ]
  },
  {
   "cell_type": "code",
   "execution_count": 12,
   "id": "7b22f0d8",
   "metadata": {},
   "outputs": [
    {
     "data": {
      "text/plain": [
       "{'a', 'd', 'n'}"
      ]
     },
     "execution_count": 12,
     "metadata": {},
     "output_type": "execute_result"
    }
   ],
   "source": [
    "# kümeler de değiştirilebilir bir veri tipidir. \n",
    "km = set(\"adana\")\n",
    "km"
   ]
  },
  {
   "cell_type": "code",
   "execution_count": 13,
   "id": "01f1135c",
   "metadata": {},
   "outputs": [],
   "source": [
    "km.clear()"
   ]
  },
  {
   "cell_type": "code",
   "execution_count": 14,
   "id": "f7fbe6f8",
   "metadata": {},
   "outputs": [
    {
     "data": {
      "text/plain": [
       "set()"
      ]
     },
     "execution_count": 14,
     "metadata": {},
     "output_type": "execute_result"
    }
   ],
   "source": [
    "km"
   ]
  },
  {
   "cell_type": "code",
   "execution_count": 15,
   "id": "35458f73",
   "metadata": {},
   "outputs": [
    {
     "name": "stdout",
     "output_type": "stream",
     "text": [
      "n\n",
      "d\n",
      "a\n"
     ]
    }
   ],
   "source": [
    "kmm = set(\"adana\")\n",
    "\n",
    "for i in kmm:\n",
    "    \n",
    "    print(i)"
   ]
  },
  {
   "cell_type": "code",
   "execution_count": null,
   "id": "a23a8476",
   "metadata": {},
   "outputs": [],
   "source": [
    "# liste sözlük küme, aynı seviyedeler, değişebilirler, "
   ]
  },
  {
   "cell_type": "code",
   "execution_count": null,
   "id": "033c7557",
   "metadata": {},
   "outputs": [],
   "source": []
  },
  {
   "cell_type": "code",
   "execution_count": null,
   "id": "303a36e8",
   "metadata": {},
   "outputs": [],
   "source": []
  },
  {
   "cell_type": "code",
   "execution_count": null,
   "id": "ac47930d",
   "metadata": {},
   "outputs": [],
   "source": []
  },
  {
   "cell_type": "code",
   "execution_count": null,
   "id": "dbf835eb",
   "metadata": {},
   "outputs": [],
   "source": []
  },
  {
   "cell_type": "code",
   "execution_count": null,
   "id": "5d9be02e",
   "metadata": {},
   "outputs": [],
   "source": []
  },
  {
   "cell_type": "code",
   "execution_count": null,
   "id": "172017b3",
   "metadata": {},
   "outputs": [],
   "source": []
  },
  {
   "cell_type": "code",
   "execution_count": null,
   "id": "a776f0eb",
   "metadata": {},
   "outputs": [],
   "source": []
  }
 ],
 "metadata": {
  "kernelspec": {
   "display_name": "Python 3",
   "language": "python",
   "name": "python3"
  },
  "language_info": {
   "codemirror_mode": {
    "name": "ipython",
    "version": 3
   },
   "file_extension": ".py",
   "mimetype": "text/x-python",
   "name": "python",
   "nbconvert_exporter": "python",
   "pygments_lexer": "ipython3",
   "version": "3.8.8"
  }
 },
 "nbformat": 4,
 "nbformat_minor": 5
}
