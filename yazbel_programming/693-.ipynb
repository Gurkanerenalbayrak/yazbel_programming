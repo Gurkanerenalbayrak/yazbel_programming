{
 "cells": [
  {
   "cell_type": "markdown",
   "id": "7d593745",
   "metadata": {},
   "source": [
    "# İç İçe (Nested) Fonksiyonlar"
   ]
  },
  {
   "cell_type": "code",
   "execution_count": 2,
   "id": "aae87782",
   "metadata": {},
   "outputs": [],
   "source": [
    "def yazıcı():\n",
    "    \n",
    "    def yaz(mesaj):\n",
    "        print(mesaj)\n",
    "    return yaz "
   ]
  },
  {
   "cell_type": "code",
   "execution_count": 3,
   "id": "36398ebb",
   "metadata": {},
   "outputs": [
    {
     "name": "stdout",
     "output_type": "stream",
     "text": [
      "merhaba\n"
     ]
    }
   ],
   "source": [
    "y = yazıcı()\n",
    "\n",
    "y(\"merhaba\")"
   ]
  },
  {
   "cell_type": "code",
   "execution_count": 4,
   "id": "b1ffe362",
   "metadata": {},
   "outputs": [
    {
     "data": {
      "text/plain": [
       "function"
      ]
     },
     "execution_count": 4,
     "metadata": {},
     "output_type": "execute_result"
    }
   ],
   "source": [
    "type(y)"
   ]
  },
  {
   "cell_type": "code",
   "execution_count": 6,
   "id": "bd598be9",
   "metadata": {},
   "outputs": [
    {
     "data": {
      "text/plain": [
       "<function __main__.yazıcı.<locals>.yaz(mesaj)>"
      ]
     },
     "execution_count": 6,
     "metadata": {},
     "output_type": "execute_result"
    }
   ],
   "source": [
    "y \n",
    "\n",
    "#Şimdi şunu söyleyebiliriz ki\n",
    "#yazıcı fonksiyonumuzu her çağırdımızda yaz sınıfı en baştan tanımlanır. Bu da yazıcı\n",
    "#fonksiyonumuzu her çağırışımızda yeni tanımlanan yaz fonksiyonunun farklı ve tek olduğu\n",
    "#anlamına gelir. Yani kapsayıcı olan yazıcı fonksiyonu sadece bir tane iken döndürdüğü yaz\n",
    "#fonksiyonu birden fazla ve farklı oluyor. Yani yazıcı fonksiyonumuzu her çağırdığımızda\n",
    "#sadece o çağırışımıza özel bir yaz fonksiyonu elde ediyoruz. İşte bu <locals> kelimesi buradan\n",
    "#geliyor"
   ]
  },
  {
   "cell_type": "markdown",
   "id": "05114d0d",
   "metadata": {},
   "source": [
    "içteki ikinci olan fonksiyonum local olduğu için ve aynı global terimi gibi, değeri her yerde aynı istediğim zaman, nonlocal terimini kullanırım. "
   ]
  },
  {
   "cell_type": "code",
   "execution_count": 23,
   "id": "d9526803",
   "metadata": {},
   "outputs": [
    {
     "name": "stdout",
     "output_type": "stream",
     "text": [
      "2\n"
     ]
    },
    {
     "data": {
      "text/plain": [
       "2"
      ]
     },
     "execution_count": 23,
     "metadata": {},
     "output_type": "execute_result"
    }
   ],
   "source": [
    "def kapsayıcı_fonk():\n",
    "    non_local_değişken = 1 # bu değeri bana vermedi. \n",
    "    \n",
    "    def iç_fonk():\n",
    "        nonlocal non_local_değişken\n",
    "        non_local_değişken = 2 # aşağıya indi \n",
    "        print(non_local_değişken)\n",
    "    return iç_fonk\n",
    "\n",
    "dönüş_fonksiyonu = kapsayıcı_fonk()\n",
    "dönüş_fonksiyonu()\n",
    "\n",
    "non_local_değişken"
   ]
  },
  {
   "cell_type": "code",
   "execution_count": 36,
   "id": "d2ef78dd",
   "metadata": {
    "scrolled": true
   },
   "outputs": [
    {
     "name": "stdout",
     "output_type": "stream",
     "text": [
      "2\n"
     ]
    }
   ],
   "source": [
    "def kapsayıcı_fonk():\n",
    "    non_local_değişken = 1\n",
    "    def iç_fonk():\n",
    "        nonlocal non_local_değişken  #yanına eklediği değişkene, localde kalma gel bana global olalım diyor.\n",
    "        non_local_değişken += 1\n",
    "        print(non_local_değişken)\n",
    "    return iç_fonk\n",
    "\n",
    "\n",
    "\n",
    "\n",
    "dönüş_fonksiyonu = kapsayıcı_fonk()\n",
    "dönüş_fonksiyonu()\n",
    "\n"
   ]
  },
  {
   "cell_type": "markdown",
   "id": "58962be9",
   "metadata": {},
   "source": [
    "def kapsayıcı_fonk():\n",
    "    non_local_değişken = 1\n",
    "    def iç_fonk():\n",
    "        nonlocal non_local_değişken\n",
    "        non_local_değişken += 1\n",
    "        print(non_local_değişken)\n",
    "    return iç_fonk\n",
    "\n",
    "\n",
    "\n",
    "\n",
    ">>> dönüş_fonksiyonu = kapsayıcı_fonk()\n",
    ">>> dönüş_fonksiyonu()\n",
    "2\n",
    "\n",
    "\n",
    "Gördüğünüz gibi nonlocal ifadesi iç içe fonksiyonlar ile çalışırken iç fonksiyonda, kapsayıcı\n",
    "fonksiyonunun değişkenlerini değiştirmemizi sağlıyor.\n",
    "\n",
    "\n"
   ]
  },
  {
   "cell_type": "code",
   "execution_count": 7,
   "id": "7e526941",
   "metadata": {},
   "outputs": [],
   "source": [
    "def yazıcı(mesaj):\n",
    "    def yaz():\n",
    "        \n",
    "        nonlocal mesaj\n",
    "        mesaj += \" Dünya\"\n",
    "        print(mesaj)\n",
    "        \n",
    "    return yaz\n",
    "\n"
   ]
  },
  {
   "cell_type": "code",
   "execution_count": 37,
   "id": "9bec72b9",
   "metadata": {},
   "outputs": [],
   "source": [
    "def işlem_yapıcı(*eklenenler):\n",
    "    \n",
    "    ekle = 0 \n",
    "    for i in eklenenler:\n",
    "        \n",
    "        ekle += i \n",
    "        \n",
    "    def esas_işlem(sayı, bölen):\n",
    "        \n",
    "        return (sayı / bölen) + ekle\n",
    "    \n",
    "    return esas_işlem\n",
    "\n",
    "#önce eklenenler ile 3 arkadaşı ekledik, ardından 2 arkadaşı daha ekledik \n",
    "\n"
   ]
  },
  {
   "cell_type": "code",
   "execution_count": 38,
   "id": "1c091642",
   "metadata": {},
   "outputs": [
    {
     "data": {
      "text/plain": [
       "15.0"
      ]
     },
     "execution_count": 38,
     "metadata": {},
     "output_type": "execute_result"
    }
   ],
   "source": [
    "işlem1 = işlem_yapıcı(1,4,5)\n",
    "\n",
    "işlem1(20,4)"
   ]
  },
  {
   "cell_type": "code",
   "execution_count": 46,
   "id": "b79c15e5",
   "metadata": {},
   "outputs": [],
   "source": [
    "def işlem_yapıcı(*eklenenler):\n",
    "    \n",
    "    ekle = 0 \n",
    "    for i in eklenenler:\n",
    "        \n",
    "        ekle += i \n",
    "        \n",
    "    def esas_işlem(sayı, bölen):\n",
    "        \n",
    "        return (sayı / bölen) + ekle\n",
    "    \n",
    "    return esas_işlem\n",
    "\n",
    "#önce eklenenler ile 3 arkadaşı ekledik ve ayrıca istediğimiz kadar da eklenen ekleyebilirdik , ardından 2 arkadaşı daha ekledik \n",
    "\n",
    "\n"
   ]
  },
  {
   "cell_type": "markdown",
   "id": "698801ce",
   "metadata": {},
   "source": [
    "Artık gerekli işlemi yapacak fonksiyonu sadece bir defa oluşturuyoruz ve sürekli onu\n",
    "kullanıyoruz. Bu da aynı parametrelerin sürekli fonksiyona parametre olarak yollanmasını\n",
    "engelliyor ve gerekli işlemlerin sadece bir defa yapılmasını sağlıyor."
   ]
  },
  {
   "cell_type": "code",
   "execution_count": 45,
   "id": "6e3e0898",
   "metadata": {},
   "outputs": [
    {
     "data": {
      "text/plain": [
       "161.0"
      ]
     },
     "execution_count": 45,
     "metadata": {},
     "output_type": "execute_result"
    }
   ],
   "source": [
    "işlem = işlem_yapıcı(1,4,5,20,4,4,7,8,7,8,9,79)\n",
    "işlem(20,4)\n",
    "                    "
   ]
  },
  {
   "cell_type": "markdown",
   "id": "bb28e000",
   "metadata": {},
   "source": [
    "# üreteç tanımlanması \n",
    "\n",
    "\n",
    "yield deyimi ve next fonksiyonu \n",
    "\n",
    "Bir fonksiyonun içinde return deyimine ulaşıldığında fonksiyon sonlanır ve fonksiyona ait yerel değişkenler\n",
    "silinir. yield deyiminde böyle bir şey söz konusu değildir. Aynı iç içe fonksiyonlarda iç\n",
    "fonksiyonunun dış fonksiyondaki değişkeni kullanması gibi üreteçlerin de yerel değişkenleri\n",
    "Python tarafından saklanır. Ancak üreteçlerde belli değişkenler değil, yerel değişkenlerin\n",
    "tamamı saklanır."
   ]
  },
  {
   "cell_type": "code",
   "execution_count": 3,
   "id": "1e882d21",
   "metadata": {},
   "outputs": [],
   "source": [
    "def üreteç():\n",
    "    \n",
    "    yield \"Merhaba\"\n",
    "    yield \"Dünya\"\n",
    "    \n",
    "\n"
   ]
  },
  {
   "cell_type": "code",
   "execution_count": 6,
   "id": "daf5c123",
   "metadata": {},
   "outputs": [
    {
     "data": {
      "text/plain": [
       "'Merhaba'"
      ]
     },
     "execution_count": 6,
     "metadata": {},
     "output_type": "execute_result"
    }
   ],
   "source": [
    "g = üreteç()\n",
    "\n",
    "next(g)"
   ]
  },
  {
   "cell_type": "code",
   "execution_count": 7,
   "id": "06f9b7af",
   "metadata": {},
   "outputs": [
    {
     "data": {
      "text/plain": [
       "'Dünya'"
      ]
     },
     "execution_count": 7,
     "metadata": {},
     "output_type": "execute_result"
    }
   ],
   "source": [
    "next(g)"
   ]
  },
  {
   "cell_type": "code",
   "execution_count": 8,
   "id": "a9d570a3",
   "metadata": {},
   "outputs": [
    {
     "ename": "StopIteration",
     "evalue": "",
     "output_type": "error",
     "traceback": [
      "\u001b[1;31m---------------------------------------------------------------------------\u001b[0m",
      "\u001b[1;31mStopIteration\u001b[0m                             Traceback (most recent call last)",
      "\u001b[1;32m<ipython-input-8-e734f8aca5ac>\u001b[0m in \u001b[0;36m<module>\u001b[1;34m\u001b[0m\n\u001b[1;32m----> 1\u001b[1;33m \u001b[0mnext\u001b[0m\u001b[1;33m(\u001b[0m\u001b[0mg\u001b[0m\u001b[1;33m)\u001b[0m\u001b[1;33m\u001b[0m\u001b[1;33m\u001b[0m\u001b[0m\n\u001b[0m",
      "\u001b[1;31mStopIteration\u001b[0m: "
     ]
    }
   ],
   "source": [
    "next(g)\n",
    "\n",
    "\n",
    "Çıktımızı incelersek next fonksiyonunun, kendisine verilen üretecin kodunu bir yield\n",
    "deyimine rastlayana kadar çalıştırdığını, yield deyimine rastladığında ise deyimin\n",
    "sağındaki değişkeni döndürdüğünü görebiliriz. Unutmayalım ki bu döndürme işlemini\n",
    "yapan next fonksiyonudur. Üretecimizin içinde herhangi bir yönerge kalmadığında ise next\n",
    "fonksiyonumuz StopIteration hatası yükseltmektedir."
   ]
  },
  {
   "cell_type": "markdown",
   "id": "e21d7eb7",
   "metadata": {},
   "source": [
    "yield kendi değerlerini saklıyor içinde, bunu biz for i in fibonnacci() vs gibi olaylar ve döngüler ile kullanıyoruz. "
   ]
  },
  {
   "cell_type": "code",
   "execution_count": 11,
   "id": "50009c4a",
   "metadata": {},
   "outputs": [],
   "source": [
    "def fibannacci():\n",
    "    \n",
    "    x = 1\n",
    "    y = 0\n",
    "    z = 0\n",
    "    \n",
    "    while True:\n",
    "        \n",
    "        z = y \n",
    "        y = x \n",
    "        x = y + z \n",
    "        \n",
    "        yield x \n",
    "        \n",
    "        if x > 100:\n",
    "            \n",
    "            return x \n",
    "\n",
    "        \n",
    "        \n",
    "# şuan local deposunda değerleri(olabilecek senaryoları saklıyor.)\n",
    "# aşağıdaki yorum # ları kaldırırsam değerleri yazdırmaya başlayacak \n",
    "\n",
    "\n",
    "\n",
    "#for i in fibannacci():\n",
    "    \n",
    "#    print(i)"
   ]
  },
  {
   "cell_type": "code",
   "execution_count": 15,
   "id": "815cec0e",
   "metadata": {},
   "outputs": [
    {
     "name": "stdout",
     "output_type": "stream",
     "text": [
      "None\n",
      "None\n",
      "None\n",
      "None\n",
      "None\n",
      "None\n",
      "None\n",
      "None\n",
      "None\n",
      "None\n",
      "None\n"
     ]
    }
   ],
   "source": [
    "def fibannacci():\n",
    "    \n",
    "    x = 1\n",
    "    y = 0\n",
    "    z = 0\n",
    "    \n",
    "    while True:\n",
    "        \n",
    "        z = y \n",
    "        y = x \n",
    "        x = y + z \n",
    "        \n",
    "        yield  #boşluk \n",
    "        \n",
    "        if x > 100:\n",
    "            \n",
    "            return x \n",
    "\n",
    "for i in fibannacci():\n",
    "    \n",
    "    print(i)"
   ]
  },
  {
   "cell_type": "code",
   "execution_count": 26,
   "id": "776a6f82",
   "metadata": {},
   "outputs": [
    {
     "name": "stdout",
     "output_type": "stream",
     "text": [
      "Merhaba Dünyaaaaaaaaaaaaaa\n",
      "None\n",
      "Merhaba Dünyaaaaaaaaaaaaaa\n",
      "None\n",
      "Merhaba Dünyaaaaaaaaaaaaaa\n",
      "None\n",
      "Merhaba Dünyaaaaaaaaaaaaaa\n",
      "None\n"
     ]
    }
   ],
   "source": [
    "def yaz(sayı):\n",
    "    \n",
    "    for i in range(sayı):\n",
    "        \n",
    "        print(\"Merhaba Dünyaaaaaaaaaaaaaa\")\n",
    "        yield\n",
    "        \n",
    "        \n",
    "y = yaz(4)\n",
    "\n",
    "for i in y:\n",
    "    \n",
    "    print(i)\n",
    "\n",
    "# y nesnesine yaz(11) i kaydetmiş olduk "
   ]
  },
  {
   "cell_type": "markdown",
   "id": "62941d1d",
   "metadata": {},
   "source": [
    "‘yield from’ Deyimi\n",
    "yield from deyimi bir üretecin içinde, başka bir üretecin yield ile döndüreceği değerleri\n",
    "tekrar yield etmek istediğimizde kullanılabilir. Şöyle bir örnek verelim:"
   ]
  },
  {
   "cell_type": "code",
   "execution_count": 27,
   "id": "07dd4496",
   "metadata": {},
   "outputs": [
    {
     "name": "stdout",
     "output_type": "stream",
     "text": [
      "üreteç2 başladı\n",
      "üreteç1 başladı\n",
      "üreteç2 bitti\n",
      "üreteç2 bitti\n"
     ]
    }
   ],
   "source": [
    "def üreteç1():\n",
    "    \n",
    "    yield \"üreteç1 başladı\"\n",
    "    yield \"üreteç2 bitti\"\n",
    "    \n",
    "def üreteç2():\n",
    "    \n",
    "    yield \"üreteç2 başladı\"\n",
    "    \n",
    "    yield from üreteç1()\n",
    "    yield \"üreteç2 bitti\"\n",
    "    \n",
    "for i in üreteç2():\n",
    "    \n",
    "    print(i)"
   ]
  },
  {
   "cell_type": "code",
   "execution_count": null,
   "id": "b4406219",
   "metadata": {},
   "outputs": [],
   "source": [
    " "
   ]
  },
  {
   "cell_type": "code",
   "execution_count": null,
   "id": "0edb3bc2",
   "metadata": {},
   "outputs": [],
   "source": []
  },
  {
   "cell_type": "code",
   "execution_count": null,
   "id": "32bdf62b",
   "metadata": {},
   "outputs": [],
   "source": []
  },
  {
   "cell_type": "code",
   "execution_count": null,
   "id": "ffad9d7d",
   "metadata": {},
   "outputs": [],
   "source": []
  },
  {
   "cell_type": "code",
   "execution_count": null,
   "id": "8e48b492",
   "metadata": {},
   "outputs": [],
   "source": []
  },
  {
   "cell_type": "code",
   "execution_count": null,
   "id": "a4f58f91",
   "metadata": {},
   "outputs": [],
   "source": []
  },
  {
   "cell_type": "code",
   "execution_count": null,
   "id": "2a6cb9c2",
   "metadata": {},
   "outputs": [],
   "source": []
  },
  {
   "cell_type": "code",
   "execution_count": null,
   "id": "024c6fef",
   "metadata": {},
   "outputs": [],
   "source": []
  },
  {
   "cell_type": "code",
   "execution_count": null,
   "id": "f3636cd8",
   "metadata": {},
   "outputs": [],
   "source": []
  },
  {
   "cell_type": "code",
   "execution_count": null,
   "id": "99ce1931",
   "metadata": {},
   "outputs": [],
   "source": []
  },
  {
   "cell_type": "code",
   "execution_count": null,
   "id": "d759f30e",
   "metadata": {},
   "outputs": [],
   "source": []
  },
  {
   "cell_type": "code",
   "execution_count": null,
   "id": "c212c028",
   "metadata": {},
   "outputs": [],
   "source": []
  },
  {
   "cell_type": "code",
   "execution_count": null,
   "id": "01be0977",
   "metadata": {},
   "outputs": [],
   "source": []
  },
  {
   "cell_type": "code",
   "execution_count": null,
   "id": "4c4df6e7",
   "metadata": {},
   "outputs": [],
   "source": []
  },
  {
   "cell_type": "code",
   "execution_count": null,
   "id": "49b8ef76",
   "metadata": {},
   "outputs": [],
   "source": []
  },
  {
   "cell_type": "code",
   "execution_count": null,
   "id": "e086def2",
   "metadata": {},
   "outputs": [],
   "source": []
  },
  {
   "cell_type": "code",
   "execution_count": null,
   "id": "4de828e3",
   "metadata": {},
   "outputs": [],
   "source": []
  }
 ],
 "metadata": {
  "kernelspec": {
   "display_name": "Python 3",
   "language": "python",
   "name": "python3"
  },
  "language_info": {
   "codemirror_mode": {
    "name": "ipython",
    "version": 3
   },
   "file_extension": ".py",
   "mimetype": "text/x-python",
   "name": "python",
   "nbconvert_exporter": "python",
   "pygments_lexer": "ipython3",
   "version": "3.8.8"
  }
 },
 "nbformat": 4,
 "nbformat_minor": 5
}
