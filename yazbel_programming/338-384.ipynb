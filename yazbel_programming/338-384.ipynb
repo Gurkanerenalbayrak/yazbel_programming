{
 "cells": [
  {
   "cell_type": "code",
   "execution_count": 1,
   "id": "521cc7ff",
   "metadata": {},
   "outputs": [
    {
     "data": {
      "text/plain": [
       "'a'"
      ]
     },
     "execution_count": 1,
     "metadata": {},
     "output_type": "execute_result"
    }
   ],
   "source": [
    "chr(97)"
   ]
  },
  {
   "cell_type": "markdown",
   "id": "54e24c15",
   "metadata": {},
   "source": [
    "Dediğim gibi, yukarıda çeviri_tablosu adıyla gösterdiğimiz şey bir sözlüktür. Bu sözlüğün nasıl\n",
    "çalıştığını görmek için şöyle bir kod yazalım:\n",
    "çeviri_tablosu = {\"Ö\": \"O\",\n",
    "\"ç\": \"c\",\n",
    "\"Ü\": \"U\",\n",
    "\"Ç\": \"C\",\n",
    "\"İ\": \"I\",\n",
    "\"ı\": \"i\",\n",
    "\"Ğ\": \"G\",\n",
    "\"ö\": \"o\",\n",
    "\"ş\": \"s\",\n",
    "\"ü\": \"u\",\n",
    "\"Ş\": \"S\",\n",
    "\"ğ\": \"g\"}\n",
    "print(çeviri_tablosu[\"Ö\"])"
   ]
  },
  {
   "cell_type": "code",
   "execution_count": 4,
   "id": "9ec19137",
   "metadata": {},
   "outputs": [
    {
     "name": "stdout",
     "output_type": "stream",
     "text": [
      "Öakalım bu metin doğru şekilde çevrilecek mi?\n"
     ]
    }
   ],
   "source": [
    "metin = \"Öfjflrk öa kdhsı yteua idjslyd bdcusldvdj ks?\"\n",
    "\n",
    "kaynak= \"qwertyuıopğüasdfghjklşi,zxcvbnmöç.\"\n",
    "hedef = \"fgğıodrnhpqwuieaütkmlyşxjövcçzsb.,\"\n",
    "\n",
    "\n",
    "cevir = str.maketrans(kaynak,hedef)\n",
    "\n",
    "soncevir = metin.translate(cevir)\n",
    "\n",
    "print(soncevir)"
   ]
  },
  {
   "cell_type": "code",
   "execution_count": 5,
   "id": "0a528a93",
   "metadata": {},
   "outputs": [
    {
     "name": "stdout",
     "output_type": "stream",
     "text": [
      "Öakalım bu metin doğru şekilde çevrilecek mi?\n"
     ]
    }
   ],
   "source": [
    "q_klavye_düzeni = \"qwertyuıopğüasdfghjklşi,zxcvbnmöç.\"\n",
    "f_klavye_düzeni = \"fgğıodrnhpqwuieaütkmlyşxjövcçzsb.,\"\n",
    "\n",
    "ceviri_tablosu = str.maketrans(q_klavye_düzeni,f_klavye_düzeni)\n",
    "\n",
    "print(metin.translate(ceviri_tablosu))"
   ]
  },
  {
   "cell_type": "markdown",
   "id": "9449b36f",
   "metadata": {},
   "source": [
    "Eğer isterseniz, sözlüğü str.maketrans() metoduna oluşturtmak yerine, kendiniz de bir\n",
    "sözlük oluşturarak str.maketrans() metoduna parametre olarak atayabilirsiniz. Örneğin:\n",
    "\n",
    "\n",
    "\n",
    "\n",
    "\n",
    "\n",
    "metin = \"Bfjflrk öa kdhsı yteua idjslyd bdcusldvdj ks?\"\n",
    "sözlük = {\"q\": \"f\",\n",
    "\"w\": \"g\",\n",
    "\"e\": \"ğ\",\n",
    "\"r\": \"ı\",\n",
    "\"t\": \"o\",\n",
    "\"y\": \"d\",\n",
    "\"u\": \"r\",\n",
    "\"ı\": \"n\",\n",
    "\"o\": \"h\",\n",
    "\"p\": \"p\",\n",
    "\"ğ\": \"q\",\n",
    "\"ü\": \"w\",\n",
    "\"a\": \"u\",\n",
    "\"s\": \"i\",\n",
    "\"d\": \"e\",\n",
    "\"f\": \"a\",\n",
    "\"g\": \"ü\",\n",
    "\"h\": \"t\",\n",
    "\"j\": \"k\",\n",
    "\"k\": \"m\",\n",
    "\"l\": \"l\",\n",
    "\"ş\": \"y\",\n",
    "\"i\": \"ş\",\n",
    "\",\": \"x\",\n",
    "\"z\": \"j\",\n",
    "\"x\": \"ö\",\n",
    "\"c\": \"v\",\n",
    "\"v\": \"c\",\n",
    "\"b\": \"ç\",\n",
    "\"n\": \"z\",\n",
    "\"m\": \"s\",\n",
    "\"ö\": \"b\",\n",
    "\"ç\": \".\",\n",
    "\".\": \",\"}\n",
    "\n",
    "\n",
    "çeviri_tablosu = str.maketrans(sözlük)\n",
    "print(metin.translate(çeviri_tablosu))\n",
    "\n",
    "\n",
    "\n",
    "\n",
    "Burada birbiriyle eşleşecek karakterleri kendimiz yazıp bir sözlük oluşturduk ve bunu\n",
    "parametre olarak doğrudan str.maketrans() metoduna verdik. Bu kodlarda kaynak ve\n",
    "hedef diye iki ayrı karakter dizisi tanımlamak yerine tek bir sözlük oluşturduğumuz için,\n",
    "str.maketrans() metodunu iki parametreyle değil, tek parametreyle kullandığımıza dikkat\n",
    "edin. Ayrıca sözlüğü nasıl oluşturduğumuzu da dikkatlice inceleyin.\n"
   ]
  },
  {
   "cell_type": "code",
   "execution_count": null,
   "id": "c4844a96",
   "metadata": {},
   "outputs": [],
   "source": [
    "Şimdi size bir soru sormama izin verin. Acaba aşağıdaki metin içinde geçen bütün sesli harfleri\n",
    "silin desem, nasıl bir kod yazarsınız?"
   ]
  },
  {
   "cell_type": "code",
   "execution_count": 6,
   "id": "217e2e36",
   "metadata": {},
   "outputs": [],
   "source": [
    "seslileri_sil_sözlük = {\"a\":\"\",\n",
    "\"e\":\"\",\n",
    "\"ı\":\"\",\n",
    "\"i\":\"\",\n",
    "\"o\":\"\",\n",
    "\"ö\":\"\",\n",
    "\"u\":\"\",\n",
    "\"ü\":\"\"}"
   ]
  },
  {
   "cell_type": "code",
   "execution_count": 7,
   "id": "97385c60",
   "metadata": {},
   "outputs": [],
   "source": [
    "metin = \"\"\"Bu programlama dili Guido Van Rossum adlı Hollandalı bir programcı tarafından\n",
    "90’lı yılların başında geliştirilmeye başlanmıştır. Çoğu insan, isminin Python\n",
    "olmasına bakarak, bu programlama dilinin, adını piton yılanından aldığını\n",
    "düşünür. Ancak zannedildiğinin aksine bu programlama dilinin adı piton\n",
    "yılanından gelmez. Guido Van Rossum bu programlama dilini, The Monty Python adlı bir İngiliz\n",
    "komedi grubunun, Monty Python’s Flying Circus adlı gösterisinden\n",
    "esinlenerek adlandırmıştır. Ancak her ne kadar gerçek böyle olsa da, Python\n",
    "programlama dilinin pek çok yerde bir yılan figürü ile temsil edilmesi neredeyse\n",
    "bir gelenek halini almıştır diyebiliriz.\"\"\"\n",
    "\n"
   ]
  },
  {
   "cell_type": "code",
   "execution_count": 8,
   "id": "35d83384",
   "metadata": {},
   "outputs": [],
   "source": [
    "cevir = str.maketrans(seslileri_sil_sözlük,,)\n"
   ]
  },
  {
   "cell_type": "code",
   "execution_count": 9,
   "id": "da894872",
   "metadata": {},
   "outputs": [
    {
     "name": "stdout",
     "output_type": "stream",
     "text": [
      "B prgrmlm dl Gd Vn Rssm dl Hllndl br prgrmc trfndn\n",
      "90’l yllrn bşnd glştrlmy bşlnmştr. Çğ nsn, smnn Pythn\n",
      "lmsn bkrk, b prgrmlm dlnn, dn ptn ylnndn ldğn\n",
      "dşnr. Anck znndldğnn ksn b prgrmlm dlnn d ptn\n",
      "ylnndn glmz. Gd Vn Rssm b prgrmlm dln, Th Mnty Pythn dl br İnglz\n",
      "kmd grbnn, Mnty Pythn’s Flyng Crcs dl gstrsndn\n",
      "snlnrk dlndrmştr. Anck hr n kdr grçk byl ls d, Pythn\n",
      "prgrmlm dlnn pk çk yrd br yln fgr l tmsl dlms nrdys\n",
      "br glnk hln lmştr dyblrz.\n"
     ]
    }
   ],
   "source": [
    "print(metin.translate(cevir))"
   ]
  },
  {
   "cell_type": "code",
   "execution_count": 10,
   "id": "7d42999e",
   "metadata": {},
   "outputs": [],
   "source": [
    "metin = \"Cem Yılmaz\"\n"
   ]
  },
  {
   "cell_type": "code",
   "execution_count": 11,
   "id": "99823b2d",
   "metadata": {},
   "outputs": [
    {
     "name": "stdout",
     "output_type": "stream",
     "text": [
      "cm ylmz\n"
     ]
    }
   ],
   "source": [
    "kaynak = \"CY\"\n",
    "hedef = \"cy\"\n",
    "\n",
    "silinecek = \"eıa\"\n",
    "\n",
    "ceviri_tablosu = str.maketrans(kaynak,hedef,silinecek)\n",
    "\n",
    "\n",
    "print(metin.translate(ceviri_tablosu)) "
   ]
  },
  {
   "cell_type": "markdown",
   "id": "81ab596f",
   "metadata": {},
   "source": [
    "# yukarıdaki kod her şeyi özetliyor. üç parametre var, ilk ikisi değişim yapıyor, üçüncüsü de siliyor. "
   ]
  },
  {
   "cell_type": "code",
   "execution_count": 14,
   "id": "2e3c087c",
   "metadata": {},
   "outputs": [
    {
     "name": "stdout",
     "output_type": "stream",
     "text": [
      "birinci satır\n",
      "ikinci satır\n",
      "a\ta\n"
     ]
    }
   ],
   "source": [
    "print(\"birinci satır\\nikinci satır\\na\\ta\")"
   ]
  },
  {
   "cell_type": "markdown",
   "id": "b1c1beb7",
   "metadata": {},
   "source": [
    "# Bölüm 20 \n",
    "Karakter Dizilerini Biçimlendirmek"
   ]
  },
  {
   "cell_type": "code",
   "execution_count": 16,
   "id": "66e1ef5b",
   "metadata": {},
   "outputs": [
    {
     "name": "stdout",
     "output_type": "stream",
     "text": [
      "isminiz: ahmetemin\n",
      "ahmet...\n"
     ]
    }
   ],
   "source": [
    "isim = input(\"isminiz: \")\n",
    "\n",
    "if len(isim) <= 5:\n",
    "    \n",
    "    print(isim[:5])\n",
    "\n",
    "else:\n",
    "    print(isim[:5], \"...\",sep = \"\")        # sep yerine, isim[:5]+\"...\" yapsaydık aynı sonucu alırdık \n",
    "\n",
    "    \n",
    "    \n",
    "    "
   ]
  },
  {
   "cell_type": "markdown",
   "id": "61b44447",
   "metadata": {},
   "source": [
    "‘karakter dizisi biçimlendirme’\n"
   ]
  },
  {
   "cell_type": "markdown",
   "id": "29b06329",
   "metadata": {},
   "source": [
    "1. % işareti ile biçimlendirme\n",
    "2. format() metodu ile biçimlendirme"
   ]
  },
  {
   "cell_type": "markdown",
   "id": "bde4f665",
   "metadata": {},
   "source": [
    "# format()"
   ]
  },
  {
   "cell_type": "code",
   "execution_count": 1,
   "id": "9a97ce53",
   "metadata": {},
   "outputs": [
    {
     "name": "stdout",
     "output_type": "stream",
     "text": [
      "Django ve Python iyi bir ikilidir!\n"
     ]
    }
   ],
   "source": [
    "print(\"{} ve {} iyi bir ikilidir!\".format(\"Django\", \"Python\"))\n"
   ]
  },
  {
   "cell_type": "markdown",
   "id": "a9fa971b",
   "metadata": {},
   "source": [
    "Küme parantezlerini, yukarıdaki örneklerde görüldüğü şekilde içi boş olarak kullanabilirsiniz.\n",
    "Böyle bir durumda Python, karakter dizisi içindeki küme parantezleriyle, karakter dizisi\n",
    "dışındaki değerleri teker teker ve sırasıyla eşleştirecektir. Ama isterseniz küme parantezleri\n",
    "içine birer sayı yazarak, karakter dizisi dışındaki değerlerin hangi sırayla kullanılacağını\n",
    "belirleyebilirsiniz. Örneğin:\n",
    "    \n",
    "    \n",
    ">>> \"{0} {1} \".format(\"Fırat\", \"Özgül\")\n",
    "'Fırat Özgül'"
   ]
  },
  {
   "cell_type": "code",
   "execution_count": 2,
   "id": "e6b073c6",
   "metadata": {},
   "outputs": [
    {
     "data": {
      "text/plain": [
       "'özgül fırat '"
      ]
     },
     "execution_count": 2,
     "metadata": {},
     "output_type": "execute_result"
    }
   ],
   "source": [
    "\"{1} {0} \".format(\"fırat\", \"özgül\")"
   ]
  },
  {
   "cell_type": "markdown",
   "id": "8395438b",
   "metadata": {},
   "source": [
    "kodlama = \"utf-8\"\n",
    "site_adı = \"Python Programlama Dili\"\n",
    "dosya = open(\"deneme.html\", \"w\", encoding=kodlama)\n",
    "içerik = \"\"\"\n",
    "<html>\n",
    "<head>\n",
    "<meta http-equiv=\"Content-Type\" content=\"text/html; charset={0} \" />\n",
    "<title>{1} </title>\n",
    "</head>\n",
    "<body>\n",
    "<h1>istihza.com web sitesine hoş geldiniz!</h1>\n",
    "<p><b>{1} </b> için bir Türkçe belgelendirme projesi...</p>\n",
    "</body>\n",
    "</html>\n",
    "\"\"\"\n",
    "print(içerik.format(kodlama, site_adı), file=dosya)\n",
    "dosya.close()\n",
    "Gördüğünüz gibi, öğelerin sıra numarasını belirtmemiz sayesinde, karakter dizisi içinde iki kez\n",
    "ihtiyaç duyduğumuz site_adı adlı değişkeni format() metodu içinde iki kez yazmak zorunda\n",
    "kalmadık"
   ]
  },
  {
   "cell_type": "markdown",
   "id": "f3d83ef4",
   "metadata": {},
   "source": [
    "# print(\"{dil} dersleri\".format(dil=\"python\"))"
   ]
  },
  {
   "cell_type": "code",
   "execution_count": 3,
   "id": "3cde3161",
   "metadata": {},
   "outputs": [
    {
     "name": "stdout",
     "output_type": "stream",
     "text": [
      "python dersleri\n"
     ]
    }
   ],
   "source": [
    "print(\"{dil} dersleri\".format(dil=\"python\"))"
   ]
  },
  {
   "cell_type": "code",
   "execution_count": 7,
   "id": "cfa915fe",
   "metadata": {},
   "outputs": [
    {
     "data": {
      "text/plain": [
       "'konu, bir çok yerde kullanılabilir. formatın içine bir kere yazarak konu fazla fazla kullanabiliriz.'"
      ]
     },
     "execution_count": 7,
     "metadata": {},
     "output_type": "execute_result"
    }
   ],
   "source": [
    "\"{}, bir çok yerde kullanılabilir. formatın içine bir kere yazarak {} fazla fazla kullanabiliriz.\".format(\"konu\",\"konu\")"
   ]
  },
  {
   "cell_type": "markdown",
   "id": "5b8867dc",
   "metadata": {},
   "source": [
    "\"{}, bir çok yerde kullanılabilir. formatın içine bir kere yazarak {} fazla fazla kullanabiliriz.\".format(\"konu\")\n",
    "\n",
    "\n",
    "şu durumda, hata veriyor. nedeni süslüye bilgi vermeden formatın içine bir adet şey yazdım \n",
    "\n",
    "\n",
    "\n"
   ]
  },
  {
   "cell_type": "code",
   "execution_count": 8,
   "id": "7ca95e61",
   "metadata": {},
   "outputs": [
    {
     "data": {
      "text/plain": [
       "'konu, bir çok yerde kullanılabilir. formatın içine bir kere yazarak konu fazla fazla kullanabiliriz.'"
      ]
     },
     "execution_count": 8,
     "metadata": {},
     "output_type": "execute_result"
    }
   ],
   "source": [
    "\"{0}, bir çok yerde kullanılabilir. formatın içine bir kere yazarak {0} fazla fazla kullanabiliriz.\".format(\"konu\")"
   ]
  },
  {
   "cell_type": "code",
   "execution_count": 9,
   "id": "5d835296",
   "metadata": {},
   "outputs": [
    {
     "data": {
      "text/plain": [
       "'konu, bir çok yerde kullanılabilir. formatın içine bir kere yazarak konu fazla fazla kullanabiliriz.'"
      ]
     },
     "execution_count": 9,
     "metadata": {},
     "output_type": "execute_result"
    }
   ],
   "source": [
    "\"{benimkonum}, bir çok yerde kullanılabilir. formatın içine bir kere yazarak {benimkonum} fazla fazla kullanabiliriz.\".format(benimkonum = \"konu\")"
   ]
  },
  {
   "cell_type": "markdown",
   "id": "e5d01e04",
   "metadata": {},
   "source": [
    ": işareti, bir biçimlendirme işlemi yapacağımızı gösteriyor. > işareti ise bu biçimlendirmenin\n",
    "bir hizalama işlemi olacağını haber veriyor. En sondaki 15 sayısı ise bu hizalama işleminin 15\n",
    "karakterlik bir alan ile ilgili olduğunu söylüyor. Bu şekilde karakter dizisini 15 karakterlik bir\n",
    "alan içine yerleştirip karakter dizisini sağa yasladık. Yukarıdaki çıktıyı daha iyi anlayabilmek\n",
    "için kodları şöyle de yazabilirsiniz:\n",
    "\n",
    "\n",
    "\n"
   ]
  },
  {
   "cell_type": "code",
   "execution_count": 14,
   "id": "4ec75079",
   "metadata": {},
   "outputs": [
    {
     "name": "stdout",
     "output_type": "stream",
     "text": [
      "|        istihza| sağ kenara yerleş ve 15 karakter ol toplam\n"
     ]
    }
   ],
   "source": [
    "print(\"|{:>15}| sağ kenara yerleş ve 15 karakter ol toplam\".format(\"istihza\")) #| çubuklar normal bir karakterden başka bir şey değil \n"
   ]
  },
  {
   "cell_type": "code",
   "execution_count": 15,
   "id": "c04e8d73",
   "metadata": {},
   "outputs": [
    {
     "name": "stdout",
     "output_type": "stream",
     "text": [
      "|istihza         |\n"
     ]
    }
   ],
   "source": [
    " print(\"|{:<15} |\".format(\"istihza\"))"
   ]
  },
  {
   "cell_type": "code",
   "execution_count": 16,
   "id": "8d7f9d92",
   "metadata": {},
   "outputs": [
    {
     "name": "stdout",
     "output_type": "stream",
     "text": [
      "|    istihza     |\n"
     ]
    }
   ],
   "source": [
    "print(\"|{:^15} |\".format(\"istihza\"))"
   ]
  },
  {
   "cell_type": "code",
   "execution_count": 26,
   "id": "143c0478",
   "metadata": {},
   "outputs": [
    {
     "name": "stdout",
     "output_type": "stream",
     "text": [
      "|        istihza |\n"
     ]
    }
   ],
   "source": [
    "print(\"|{:>15} |\".format(\"istihza\"))"
   ]
  },
  {
   "cell_type": "code",
   "execution_count": 28,
   "id": "4a24b173",
   "metadata": {},
   "outputs": [
    {
     "name": "stdout",
     "output_type": "stream",
     "text": [
      "|istihza         |\n"
     ]
    }
   ],
   "source": [
    "print(\"|{:15} |\".format(\"istihza\"))."
   ]
  },
  {
   "cell_type": "code",
   "execution_count": 7,
   "id": "cb1b9153",
   "metadata": {},
   "outputs": [
    {
     "name": "stdout",
     "output_type": "stream",
     "text": [
      "\n",
      "\n",
      "|             __add__|\n",
      "|           __class__|\n",
      "|        __contains__|\n",
      "\n",
      "\n",
      "|         __delattr__|\n",
      "|             __dir__|\n",
      "|             __doc__|\n",
      "\n",
      "\n",
      "|              __eq__|\n",
      "|          __format__|\n",
      "|              __ge__|\n",
      "\n",
      "\n",
      "|    __getattribute__|\n",
      "|         __getitem__|\n",
      "|      __getnewargs__|\n",
      "\n",
      "\n",
      "|              __gt__|\n",
      "|            __hash__|\n",
      "|            __init__|\n",
      "\n",
      "\n",
      "|   __init_subclass__|\n",
      "|            __iter__|\n",
      "|              __le__|\n",
      "\n",
      "\n",
      "|             __len__|\n",
      "|              __lt__|\n",
      "|             __mod__|\n",
      "\n",
      "\n",
      "|             __mul__|\n",
      "|              __ne__|\n",
      "|             __new__|\n",
      "\n",
      "\n",
      "|          __reduce__|\n",
      "|       __reduce_ex__|\n",
      "|            __repr__|\n",
      "\n",
      "\n",
      "|            __rmod__|\n",
      "|            __rmul__|\n",
      "|         __setattr__|\n",
      "\n",
      "\n",
      "|          __sizeof__|\n",
      "|             __str__|\n",
      "|    __subclasshook__|\n",
      "\n",
      "\n",
      "|          capitalize|\n",
      "|            casefold|\n",
      "|              center|\n",
      "\n",
      "\n",
      "|               count|\n",
      "|              encode|\n",
      "|            endswith|\n",
      "\n",
      "\n",
      "|          expandtabs|\n",
      "|                find|\n",
      "|              format|\n",
      "\n",
      "\n",
      "|          format_map|\n",
      "|               index|\n",
      "|             isalnum|\n",
      "\n",
      "\n",
      "|             isalpha|\n",
      "|             isascii|\n",
      "|           isdecimal|\n",
      "\n",
      "\n",
      "|             isdigit|\n",
      "|        isidentifier|\n",
      "|             islower|\n",
      "\n",
      "\n",
      "|           isnumeric|\n",
      "|         isprintable|\n",
      "|             isspace|\n",
      "\n",
      "\n",
      "|             istitle|\n",
      "|             isupper|\n",
      "|                join|\n",
      "\n",
      "\n",
      "|               ljust|\n",
      "|               lower|\n",
      "|              lstrip|\n",
      "\n",
      "\n",
      "|           maketrans|\n",
      "|           partition|\n",
      "|             replace|\n",
      "\n",
      "\n",
      "|               rfind|\n",
      "|              rindex|\n",
      "|               rjust|\n",
      "\n",
      "\n",
      "|          rpartition|\n",
      "|              rsplit|\n",
      "|              rstrip|\n",
      "\n",
      "\n",
      "|               split|\n",
      "|          splitlines|\n",
      "|          startswith|\n",
      "\n",
      "\n",
      "|               strip|\n",
      "|            swapcase|\n",
      "|               title|\n",
      "\n",
      "\n",
      "|           translate|\n",
      "|               upper|\n",
      "|               zfill|\n"
     ]
    }
   ],
   "source": [
    "for sıra, karakter in enumerate(dir(\"\")):\n",
    "    if sıra % 3 == 0:\n",
    "        print(\"\\n\\n\", end = \"\")\n",
    "    print(\"|{:>20}|\".format(karakter))"
   ]
  },
  {
   "cell_type": "code",
   "execution_count": 5,
   "id": "efad573c",
   "metadata": {},
   "outputs": [
    {
     "name": "stdout",
     "output_type": "stream",
     "text": [
      "ab"
     ]
    }
   ],
   "source": [
    "print(\"a\",end= \"b\")"
   ]
  },
  {
   "cell_type": "markdown",
   "id": "f1c63573",
   "metadata": {},
   "source": [
    "format() metodu ile birlikte şu harfleri kullanabiliyoruz:\n",
    "s\n",
    "Bu harf karakter dizilerini temsil eder.\n",
    "\n",
    ">>> print(\"{:s} \".format(\"karakter dizisi\"))\n",
    "karakter dizisi\n",
    "\n",
    "print(\"{:s} ve {:s} iyi bir ikilidir!\".format(\"Python\", \"Django\"))"
   ]
  },
  {
   "cell_type": "markdown",
   "id": "42970c13",
   "metadata": {},
   "source": [
    "Yalnız, s harfi karakter dizilerini temsil ettiği için, {} işaretleri arasında bu harfi kullandığımızda,\n",
    "format() metodunun alabileceği parametreyi karakter dizisiyle sınırlandırmış oluruz.\n",
    "Dolayısıyla bu harfi kullandıktan sonra format() metodu içinde sadece karakter dizilerini\n",
    "kullanabiliriz.\n",
    "\n",
    "print(\"{:s} \".format(12))\n",
    "Traceback (most recent call last):\n",
    "File \"<stdin>\", line 1, in <module>\n",
    "ValueError: Unknown format code 's' for object of type 'int'\n",
    "\n",
    "\n",
    "\n",
    "\n"
   ]
  },
  {
   "cell_type": "markdown",
   "id": "859cfabc",
   "metadata": {},
   "source": [
    "c\n",
    "Bu harf 0 ile 256 arası sayıların ASCII tablosundaki karşılıklarını temsil eder:\n",
    ">>> print(\"{:c} \".format(65))\n",
    "\n",
    "A"
   ]
  },
  {
   "cell_type": "markdown",
   "id": "6869a818",
   "metadata": {},
   "source": [
    "d\n",
    "Bu harf sayıları temsil eder:\n",
    ">>> print(\"{:d} \".format(65))\n",
    "65"
   ]
  },
  {
   "cell_type": "markdown",
   "id": "a5b1b2fb",
   "metadata": {},
   "source": [
    "Eğer sayı dışında bir değer kullanırsanız Python size bir hata mesajı gösterir:\n",
    "    \n",
    "    \n",
    ">>> print(\"{:d} \".format(\"65\"))\n",
    "\n",
    "Traceback (most recent call last):\n",
    "File \"<stdin>\", line 1, in <module>\n",
    "ValueError: Unknown format code 'd' for object of type 'str'"
   ]
  },
  {
   "cell_type": "code",
   "execution_count": 13,
   "id": "748e298d",
   "metadata": {},
   "outputs": [
    {
     "name": "stdout",
     "output_type": "stream",
     "text": [
      "0          0\n",
      "1          1\n",
      "2          2\n",
      "3          3\n",
      "4          4\n",
      "5          5\n",
      "6          6\n",
      "7          7\n",
      "8          8\n",
      "9          9\n",
      "a          A\n",
      "b          B\n",
      "c          C\n",
      "d          D\n",
      "e          E\n",
      "f          F\n",
      "10         10\n",
      "11         11\n",
      "12         12\n",
      "13         13\n"
     ]
    }
   ],
   "source": [
    "for i in range(20):\n",
    "    \n",
    "    print(\"{:x} {:10X}\".format(i,i))"
   ]
  },
  {
   "cell_type": "markdown",
   "id": "e1b4b680",
   "metadata": {},
   "source": [
    ": işaretini , işareti (basamak ayracı) ile birlikte kullanarak, sayıları basamaklarına ayırabilirsiniz:\n",
    "        \n",
    ">>> \"{:,} \".format(1234567890)\n",
    "\n",
    "'1,234,567,890'"
   ]
  },
  {
   "cell_type": "markdown",
   "id": "cd6cd1d5",
   "metadata": {},
   "source": [
    "# f string"
   ]
  },
  {
   "cell_type": "code",
   "execution_count": 14,
   "id": "ad329416",
   "metadata": {},
   "outputs": [
    {
     "name": "stdout",
     "output_type": "stream",
     "text": [
      "Selam Buğra !\n"
     ]
    }
   ],
   "source": [
    "isim = 'Buğra'\n",
    "print('Selam {kime} !'.format(kime=isim))\n"
   ]
  },
  {
   "cell_type": "markdown",
   "id": "682ea37d",
   "metadata": {},
   "source": [
    "String nedir hepimiz biliyoruz, Türkçeye karakter dizisi olarak çeviriyoruz. Bu yapıya da f-string\n",
    "diyoruz çünkü bu yapıyı kullanmak istediğimiz stringin (karakter dizisinin) başına f veya F\n",
    "ekliyoruz. Yani bir ön ek ekleyerek Python’a artık onun normal, sıradan bir karakter dizisi\n",
    "olmadığını ve bir ön işlemden geçmesi gerektiğini belirtiyoruz.:"
   ]
  },
  {
   "cell_type": "code",
   "execution_count": 16,
   "id": "0e09531b",
   "metadata": {},
   "outputs": [
    {
     "name": "stdout",
     "output_type": "stream",
     "text": [
      "onun adı buğra ve 18 yaşında\n",
      "onun adı buğra ve 18 yaşında.\n"
     ]
    }
   ],
   "source": [
    "isim = \"buğra\"\n",
    "yaş = \"18\"\n",
    "\n",
    "print(\"onun adı {} ve {} yaşında\".format(isim, yaş))\n",
    "\n",
    "\n",
    "\n",
    "print(f\"onun adı {isim} ve {yaş} yaşında.\")"
   ]
  },
  {
   "cell_type": "code",
   "execution_count": null,
   "id": "ddd5d26d",
   "metadata": {},
   "outputs": [],
   "source": []
  },
  {
   "cell_type": "code",
   "execution_count": null,
   "id": "ae714a31",
   "metadata": {},
   "outputs": [],
   "source": []
  },
  {
   "cell_type": "code",
   "execution_count": null,
   "id": "7e5209e6",
   "metadata": {},
   "outputs": [],
   "source": []
  },
  {
   "cell_type": "code",
   "execution_count": null,
   "id": "1d0c7d9c",
   "metadata": {},
   "outputs": [],
   "source": []
  },
  {
   "cell_type": "code",
   "execution_count": null,
   "id": "1eb1b465",
   "metadata": {},
   "outputs": [],
   "source": []
  },
  {
   "cell_type": "code",
   "execution_count": null,
   "id": "a2859f69",
   "metadata": {},
   "outputs": [],
   "source": []
  },
  {
   "cell_type": "code",
   "execution_count": null,
   "id": "3b8cea2d",
   "metadata": {},
   "outputs": [],
   "source": []
  },
  {
   "cell_type": "code",
   "execution_count": null,
   "id": "51744f04",
   "metadata": {},
   "outputs": [],
   "source": []
  },
  {
   "cell_type": "code",
   "execution_count": null,
   "id": "770f5adb",
   "metadata": {},
   "outputs": [],
   "source": []
  },
  {
   "cell_type": "code",
   "execution_count": null,
   "id": "9f8602df",
   "metadata": {},
   "outputs": [],
   "source": []
  },
  {
   "cell_type": "code",
   "execution_count": null,
   "id": "9b30376d",
   "metadata": {},
   "outputs": [],
   "source": []
  },
  {
   "cell_type": "code",
   "execution_count": null,
   "id": "79c3e42f",
   "metadata": {},
   "outputs": [],
   "source": []
  },
  {
   "cell_type": "code",
   "execution_count": null,
   "id": "c980254d",
   "metadata": {},
   "outputs": [],
   "source": []
  },
  {
   "cell_type": "code",
   "execution_count": null,
   "id": "393f7fef",
   "metadata": {},
   "outputs": [],
   "source": []
  }
 ],
 "metadata": {
  "kernelspec": {
   "display_name": "Python 3",
   "language": "python",
   "name": "python3"
  },
  "language_info": {
   "codemirror_mode": {
    "name": "ipython",
    "version": 3
   },
   "file_extension": ".py",
   "mimetype": "text/x-python",
   "name": "python",
   "nbconvert_exporter": "python",
   "pygments_lexer": "ipython3",
   "version": "3.8.8"
  }
 },
 "nbformat": 4,
 "nbformat_minor": 5
}
